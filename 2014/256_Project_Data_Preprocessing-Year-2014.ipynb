{
 "cells": [
  {
   "cell_type": "code",
   "execution_count": 1,
   "metadata": {},
   "outputs": [],
   "source": [
    "# from pyspark import SparkContext \n",
    "# from pyspark.sql import SQLContext \n",
    "import pandas as pd\n",
    "import numpy as np\n",
    "# from pandas import DataFrame\n",
    "# sc = SparkContext.getOrCreate()\n",
    "# sqlc=SQLContext(sc)\n",
    "\n",
    "import math\n",
    "import matplotlib.pyplot as plt\n",
    "from scipy.stats import norm, entropy \n",
    "from scipy.stats import probplot\n",
    "import matplotlib.pyplot as plt\n",
    "from scipy.stats import logistic\n",
    "from sklearn.model_selection import train_test_split\n",
    "from sklearn.linear_model import LogisticRegression\n",
    "from sklearn import metrics\n",
    "from sklearn.utils import resample\n",
    "from sklearn import svm\n",
    "from sklearn.tree import DecisionTreeClassifier\n",
    "from sklearn.metrics import classification_report, confusion_matrix, roc_curve\n",
    "from scipy.spatial.distance import cosine, correlation\n",
    "import seaborn as sns\n",
    "from sklearn.decomposition import PCA\n",
    "from sklearn.preprocessing import StandardScaler\n",
    "from sklearn.decomposition import TruncatedSVD\n",
    "from sklearn.linear_model import Perceptron"
   ]
  },
  {
   "cell_type": "code",
   "execution_count": 2,
   "metadata": {},
   "outputs": [],
   "source": [
    "#reading csv file data in a dataframe\n",
    "#[1]https://stackoverflow.com/questions/46311133/creating-dynamic-data-frames-in-python?rq=1\n",
    "df_names=['df07','df08','df09','df10','df11','df12','df13','df14','df15','df16','df17','df18']\n",
    "years=['2007','2008','2009','2010','2011','2012','2013','2014','2015','2016','2017','2018']\n",
    "d = {}\n",
    "for name,i in zip(df_names,years):\n",
    "    d[name] = pd.DataFrame()\n",
    "    d[name]=pd.read_csv('data-csv/chs'+str(i)+'_public.csv')    \n"
   ]
  },
  {
   "cell_type": "code",
   "execution_count": 3,
   "metadata": {},
   "outputs": [
    {
     "data": {
      "text/html": [
       "<div>\n",
       "<style scoped>\n",
       "    .dataframe tbody tr th:only-of-type {\n",
       "        vertical-align: middle;\n",
       "    }\n",
       "\n",
       "    .dataframe tbody tr th {\n",
       "        vertical-align: top;\n",
       "    }\n",
       "\n",
       "    .dataframe thead th {\n",
       "        text-align: right;\n",
       "    }\n",
       "</style>\n",
       "<table border=\"1\" class=\"dataframe\">\n",
       "  <thead>\n",
       "    <tr style=\"text-align: right;\">\n",
       "      <th></th>\n",
       "      <th>mood9</th>\n",
       "      <th>mood8</th>\n",
       "      <th>mood11</th>\n",
       "      <th>demog17</th>\n",
       "      <th>nutrition1</th>\n",
       "      <th>newrace</th>\n",
       "      <th>cid</th>\n",
       "      <th>survey</th>\n",
       "      <th>neighpovgroup4_0913</th>\n",
       "      <th>STRATA</th>\n",
       "      <th>...</th>\n",
       "      <th>maxdrinks14</th>\n",
       "      <th>maxdrinkscat_all</th>\n",
       "      <th>flag_imputed_pov200</th>\n",
       "      <th>imputed_pov200</th>\n",
       "      <th>flag_imputed_povertygroup</th>\n",
       "      <th>imputed_povertygroup</th>\n",
       "      <th>flag_imputed_povgroup3</th>\n",
       "      <th>imputed_povgroup3</th>\n",
       "      <th>hhsize</th>\n",
       "      <th>child</th>\n",
       "    </tr>\n",
       "  </thead>\n",
       "  <tbody>\n",
       "    <tr>\n",
       "      <td>0</td>\n",
       "      <td>2.0</td>\n",
       "      <td>1.0</td>\n",
       "      <td>1.0</td>\n",
       "      <td>6.0</td>\n",
       "      <td>1.0</td>\n",
       "      <td>1</td>\n",
       "      <td>1500001</td>\n",
       "      <td>15</td>\n",
       "      <td>3.0</td>\n",
       "      <td>17</td>\n",
       "      <td>...</td>\n",
       "      <td>NaN</td>\n",
       "      <td>1.0</td>\n",
       "      <td>0</td>\n",
       "      <td>1</td>\n",
       "      <td>0</td>\n",
       "      <td>2</td>\n",
       "      <td>0</td>\n",
       "      <td>1</td>\n",
       "      <td>1</td>\n",
       "      <td>2.0</td>\n",
       "    </tr>\n",
       "    <tr>\n",
       "      <td>1</td>\n",
       "      <td>2.0</td>\n",
       "      <td>2.0</td>\n",
       "      <td>2.0</td>\n",
       "      <td>6.0</td>\n",
       "      <td>2.0</td>\n",
       "      <td>2</td>\n",
       "      <td>1500002</td>\n",
       "      <td>15</td>\n",
       "      <td>3.0</td>\n",
       "      <td>30</td>\n",
       "      <td>...</td>\n",
       "      <td>NaN</td>\n",
       "      <td>1.0</td>\n",
       "      <td>0</td>\n",
       "      <td>2</td>\n",
       "      <td>0</td>\n",
       "      <td>3</td>\n",
       "      <td>0</td>\n",
       "      <td>2</td>\n",
       "      <td>1</td>\n",
       "      <td>2.0</td>\n",
       "    </tr>\n",
       "    <tr>\n",
       "      <td>2</td>\n",
       "      <td>2.0</td>\n",
       "      <td>2.0</td>\n",
       "      <td>2.0</td>\n",
       "      <td>6.0</td>\n",
       "      <td>4.0</td>\n",
       "      <td>2</td>\n",
       "      <td>1500003</td>\n",
       "      <td>15</td>\n",
       "      <td>3.0</td>\n",
       "      <td>32</td>\n",
       "      <td>...</td>\n",
       "      <td>5.0</td>\n",
       "      <td>3.0</td>\n",
       "      <td>0</td>\n",
       "      <td>1</td>\n",
       "      <td>0</td>\n",
       "      <td>2</td>\n",
       "      <td>0</td>\n",
       "      <td>1</td>\n",
       "      <td>3</td>\n",
       "      <td>1.0</td>\n",
       "    </tr>\n",
       "    <tr>\n",
       "      <td>3</td>\n",
       "      <td>2.0</td>\n",
       "      <td>2.0</td>\n",
       "      <td>2.0</td>\n",
       "      <td>5.0</td>\n",
       "      <td>5.0</td>\n",
       "      <td>1</td>\n",
       "      <td>1500004</td>\n",
       "      <td>15</td>\n",
       "      <td>2.0</td>\n",
       "      <td>13</td>\n",
       "      <td>...</td>\n",
       "      <td>NaN</td>\n",
       "      <td>1.0</td>\n",
       "      <td>0</td>\n",
       "      <td>1</td>\n",
       "      <td>0</td>\n",
       "      <td>2</td>\n",
       "      <td>0</td>\n",
       "      <td>1</td>\n",
       "      <td>1</td>\n",
       "      <td>2.0</td>\n",
       "    </tr>\n",
       "    <tr>\n",
       "      <td>4</td>\n",
       "      <td>2.0</td>\n",
       "      <td>2.0</td>\n",
       "      <td>2.0</td>\n",
       "      <td>6.0</td>\n",
       "      <td>0.0</td>\n",
       "      <td>2</td>\n",
       "      <td>1500005</td>\n",
       "      <td>15</td>\n",
       "      <td>3.0</td>\n",
       "      <td>16</td>\n",
       "      <td>...</td>\n",
       "      <td>2.0</td>\n",
       "      <td>2.0</td>\n",
       "      <td>0</td>\n",
       "      <td>2</td>\n",
       "      <td>0</td>\n",
       "      <td>4</td>\n",
       "      <td>0</td>\n",
       "      <td>3</td>\n",
       "      <td>1</td>\n",
       "      <td>2.0</td>\n",
       "    </tr>\n",
       "  </tbody>\n",
       "</table>\n",
       "<p>5 rows × 175 columns</p>\n",
       "</div>"
      ],
      "text/plain": [
       "   mood9  mood8  mood11  demog17  nutrition1  newrace      cid  survey  \\\n",
       "0    2.0    1.0     1.0      6.0         1.0        1  1500001      15   \n",
       "1    2.0    2.0     2.0      6.0         2.0        2  1500002      15   \n",
       "2    2.0    2.0     2.0      6.0         4.0        2  1500003      15   \n",
       "3    2.0    2.0     2.0      5.0         5.0        1  1500004      15   \n",
       "4    2.0    2.0     2.0      6.0         0.0        2  1500005      15   \n",
       "\n",
       "   neighpovgroup4_0913  STRATA  ...  maxdrinks14  maxdrinkscat_all  \\\n",
       "0                  3.0      17  ...          NaN               1.0   \n",
       "1                  3.0      30  ...          NaN               1.0   \n",
       "2                  3.0      32  ...          5.0               3.0   \n",
       "3                  2.0      13  ...          NaN               1.0   \n",
       "4                  3.0      16  ...          2.0               2.0   \n",
       "\n",
       "   flag_imputed_pov200  imputed_pov200  flag_imputed_povertygroup  \\\n",
       "0                    0               1                          0   \n",
       "1                    0               2                          0   \n",
       "2                    0               1                          0   \n",
       "3                    0               1                          0   \n",
       "4                    0               2                          0   \n",
       "\n",
       "   imputed_povertygroup  flag_imputed_povgroup3  imputed_povgroup3  hhsize  \\\n",
       "0                     2                       0                  1       1   \n",
       "1                     3                       0                  2       1   \n",
       "2                     2                       0                  1       3   \n",
       "3                     2                       0                  1       1   \n",
       "4                     4                       0                  3       1   \n",
       "\n",
       "   child  \n",
       "0    2.0  \n",
       "1    2.0  \n",
       "2    1.0  \n",
       "3    2.0  \n",
       "4    2.0  \n",
       "\n",
       "[5 rows x 175 columns]"
      ]
     },
     "execution_count": 3,
     "metadata": {},
     "output_type": "execute_result"
    }
   ],
   "source": [
    "# df=df18.copy()\n",
    "df=d['df14']\n",
    "df.head()"
   ]
  },
  {
   "cell_type": "code",
   "execution_count": 4,
   "metadata": {},
   "outputs": [
    {
     "data": {
      "text/plain": [
       "175"
      ]
     },
     "execution_count": 4,
     "metadata": {},
     "output_type": "execute_result"
    }
   ],
   "source": [
    "#number of features\n",
    "len(df.columns)"
   ]
  },
  {
   "cell_type": "code",
   "execution_count": 5,
   "metadata": {},
   "outputs": [
    {
     "data": {
      "text/plain": [
       "Index(['mood9', 'mood8', 'mood11', 'demog17', 'nutrition1', 'newrace', 'cid',\n",
       "       'survey', 'neighpovgroup4_0913', 'STRATA',\n",
       "       ...\n",
       "       'maxdrinks14', 'maxdrinkscat_all', 'flag_imputed_pov200',\n",
       "       'imputed_pov200', 'flag_imputed_povertygroup', 'imputed_povertygroup',\n",
       "       'flag_imputed_povgroup3', 'imputed_povgroup3', 'hhsize', 'child'],\n",
       "      dtype='object', length=175)"
      ]
     },
     "execution_count": 5,
     "metadata": {},
     "output_type": "execute_result"
    }
   ],
   "source": [
    "df.columns"
   ]
  },
  {
   "cell_type": "code",
   "execution_count": 6,
   "metadata": {},
   "outputs": [
    {
     "data": {
      "text/plain": [
       "8562"
      ]
     },
     "execution_count": 6,
     "metadata": {},
     "output_type": "execute_result"
    }
   ],
   "source": [
    "#number of rows\n",
    "len(df[\"mood9\"])"
   ]
  },
  {
   "cell_type": "code",
   "execution_count": 7,
   "metadata": {},
   "outputs": [
    {
     "data": {
      "text/plain": [
       "mood9                      27\n",
       "mood8                      26\n",
       "mood11                     26\n",
       "demog17                    49\n",
       "nutrition1                236\n",
       "                         ... \n",
       "imputed_povertygroup        0\n",
       "flag_imputed_povgroup3      0\n",
       "imputed_povgroup3           0\n",
       "hhsize                      0\n",
       "child                      27\n",
       "Length: 175, dtype: int64"
      ]
     },
     "execution_count": 7,
     "metadata": {},
     "output_type": "execute_result"
    }
   ],
   "source": [
    "df.isnull().sum()"
   ]
  },
  {
   "cell_type": "markdown",
   "metadata": {},
   "source": [
    "qxvers-Questionnaire version\n",
    "nutrition46-cupsof fruit\n",
    "nutrition47-cups of vegetable"
   ]
  },
  {
   "cell_type": "markdown",
   "metadata": {},
   "source": [
    "# Steps followed for analysis\n",
    "#process NA values\n",
    "#find correlation between target and source variables and perform dimensionality reduction\n",
    "#divide data into training and test sets\n",
    "#apply regression\n",
    "#reduce parameters depending upon correlartion\n",
    "#apply regression again and compare models"
   ]
  },
  {
   "cell_type": "code",
   "execution_count": 8,
   "metadata": {},
   "outputs": [],
   "source": [
    "#correlation function\n",
    "#[1]https://towardsdatascience.com/better-heatmaps-and-correlation-matrix-plots-in-python-41445d0f2bec\n",
    "#[2]https://seaborn.pydata.org/examples/many_pairwise_correlations.html\n",
    "def draw_corr(corr_var):\n",
    "    # Generate a mask for the upper triangle\n",
    "    mask = np.zeros_like(corr_var, dtype=np.bool)\n",
    "    mask[np.triu_indices_from(mask)] = True\n",
    "    ax = sns.heatmap(\n",
    "        corr_var, \n",
    "        vmin=-1, vmax=1, center=0,\n",
    "        cmap=sns.diverging_palette(20, 220, n=200),\n",
    "        square=True,\n",
    "        mask=mask,\n",
    "#         annot=True\n",
    "    )\n",
    "    ax.set_xticklabels(\n",
    "        ax.get_xticklabels(),\n",
    "        rotation=45,\n",
    "        horizontalalignment='right'\n",
    "    );"
   ]
  },
  {
   "cell_type": "markdown",
   "metadata": {},
   "source": [
    "# Checking correlation between physical activity data"
   ]
  },
  {
   "cell_type": "code",
   "execution_count": 9,
   "metadata": {},
   "outputs": [],
   "source": [
    "df_train_physical=df[[\"cid\",\"exercise14\",\"generalhealth\"]]"
   ]
  },
  {
   "cell_type": "code",
   "execution_count": 10,
   "metadata": {},
   "outputs": [
    {
     "data": {
      "text/plain": [
       "cid               0\n",
       "exercise14       14\n",
       "generalhealth    62\n",
       "dtype: int64"
      ]
     },
     "execution_count": 10,
     "metadata": {},
     "output_type": "execute_result"
    }
   ],
   "source": [
    "df_train_physical.isnull().sum()"
   ]
  },
  {
   "cell_type": "code",
   "execution_count": 11,
   "metadata": {
    "scrolled": true
   },
   "outputs": [],
   "source": [
    "# #since imputed_PA08_3R_q1 has 5000+ values as N/A we will drop this column\n",
    "# df_train_physical=df_train_physical[[\"cid\",\"exercise116\",\"cyclingfreq\",\"cycling17\",\"generalhealth\"]]\n",
    "# df_train_physical.head()"
   ]
  },
  {
   "cell_type": "code",
   "execution_count": 12,
   "metadata": {},
   "outputs": [
    {
     "data": {
      "text/html": [
       "<div>\n",
       "<style scoped>\n",
       "    .dataframe tbody tr th:only-of-type {\n",
       "        vertical-align: middle;\n",
       "    }\n",
       "\n",
       "    .dataframe tbody tr th {\n",
       "        vertical-align: top;\n",
       "    }\n",
       "\n",
       "    .dataframe thead th {\n",
       "        text-align: right;\n",
       "    }\n",
       "</style>\n",
       "<table border=\"1\" class=\"dataframe\">\n",
       "  <thead>\n",
       "    <tr style=\"text-align: right;\">\n",
       "      <th></th>\n",
       "      <th>cid</th>\n",
       "      <th>exercise14</th>\n",
       "      <th>generalhealth</th>\n",
       "    </tr>\n",
       "  </thead>\n",
       "  <tbody>\n",
       "    <tr>\n",
       "      <td>0</td>\n",
       "      <td>1500001</td>\n",
       "      <td>1.0</td>\n",
       "      <td>4.0</td>\n",
       "    </tr>\n",
       "    <tr>\n",
       "      <td>1</td>\n",
       "      <td>1500002</td>\n",
       "      <td>1.0</td>\n",
       "      <td>3.0</td>\n",
       "    </tr>\n",
       "    <tr>\n",
       "      <td>2</td>\n",
       "      <td>1500003</td>\n",
       "      <td>1.0</td>\n",
       "      <td>3.0</td>\n",
       "    </tr>\n",
       "    <tr>\n",
       "      <td>3</td>\n",
       "      <td>1500004</td>\n",
       "      <td>2.0</td>\n",
       "      <td>4.0</td>\n",
       "    </tr>\n",
       "    <tr>\n",
       "      <td>4</td>\n",
       "      <td>1500005</td>\n",
       "      <td>2.0</td>\n",
       "      <td>3.0</td>\n",
       "    </tr>\n",
       "  </tbody>\n",
       "</table>\n",
       "</div>"
      ],
      "text/plain": [
       "       cid  exercise14  generalhealth\n",
       "0  1500001         1.0            4.0\n",
       "1  1500002         1.0            3.0\n",
       "2  1500003         1.0            3.0\n",
       "3  1500004         2.0            4.0\n",
       "4  1500005         2.0            3.0"
      ]
     },
     "execution_count": 12,
     "metadata": {},
     "output_type": "execute_result"
    }
   ],
   "source": [
    "#dropping NaN values\n",
    "df_train_physical=df_train_physical.dropna()\n",
    "df_train_physical.head()"
   ]
  },
  {
   "cell_type": "code",
   "execution_count": 13,
   "metadata": {},
   "outputs": [
    {
     "data": {
      "text/html": [
       "<div>\n",
       "<style scoped>\n",
       "    .dataframe tbody tr th:only-of-type {\n",
       "        vertical-align: middle;\n",
       "    }\n",
       "\n",
       "    .dataframe tbody tr th {\n",
       "        vertical-align: top;\n",
       "    }\n",
       "\n",
       "    .dataframe thead th {\n",
       "        text-align: right;\n",
       "    }\n",
       "</style>\n",
       "<table border=\"1\" class=\"dataframe\">\n",
       "  <thead>\n",
       "    <tr style=\"text-align: right;\">\n",
       "      <th></th>\n",
       "      <th>cid</th>\n",
       "      <th>exercise14</th>\n",
       "      <th>generalhealth</th>\n",
       "    </tr>\n",
       "  </thead>\n",
       "  <tbody>\n",
       "    <tr>\n",
       "      <td>cid</td>\n",
       "      <td>1.000000</td>\n",
       "      <td>-0.011321</td>\n",
       "      <td>-0.040961</td>\n",
       "    </tr>\n",
       "    <tr>\n",
       "      <td>exercise14</td>\n",
       "      <td>-0.011321</td>\n",
       "      <td>1.000000</td>\n",
       "      <td>0.222996</td>\n",
       "    </tr>\n",
       "    <tr>\n",
       "      <td>generalhealth</td>\n",
       "      <td>-0.040961</td>\n",
       "      <td>0.222996</td>\n",
       "      <td>1.000000</td>\n",
       "    </tr>\n",
       "  </tbody>\n",
       "</table>\n",
       "</div>"
      ],
      "text/plain": [
       "                    cid  exercise14  generalhealth\n",
       "cid            1.000000   -0.011321      -0.040961\n",
       "exercise14    -0.011321    1.000000       0.222996\n",
       "generalhealth -0.040961    0.222996       1.000000"
      ]
     },
     "execution_count": 13,
     "metadata": {},
     "output_type": "execute_result"
    }
   ],
   "source": [
    "#correlation\n",
    "#[1]https://towardsdatascience.com/better-heatmaps-and-correlation-matrix-plots-in-python-41445d0f2bec\n",
    "corr_1 = df_train_physical.corr()\n",
    "corr_1"
   ]
  },
  {
   "cell_type": "code",
   "execution_count": 14,
   "metadata": {},
   "outputs": [
    {
     "data": {
      "image/png": "[encoded data removed]",
      "text/plain": [
       "<Figure size 432x288 with 2 Axes>"
      ]
     },
     "metadata": {
      "needs_background": "light"
     },
     "output_type": "display_data"
    }
   ],
   "source": [
    "ax = sns.heatmap(\n",
    "    corr_1, \n",
    "    vmin=-1, vmax=1, center=0,\n",
    "    cmap=sns.diverging_palette(20, 220, n=200),\n",
    "    square=True\n",
    ")\n",
    "ax.set_xticklabels(\n",
    "    ax.get_xticklabels(),\n",
    "    rotation=45,\n",
    "    horizontalalignment='right'\n",
    ");"
   ]
  },
  {
   "cell_type": "markdown",
   "metadata": {},
   "source": [
    "#we see that there is not much correlation among variables"
   ]
  },
  {
   "cell_type": "code",
   "execution_count": 15,
   "metadata": {},
   "outputs": [],
   "source": [
    "# df_train_physical=df_train_physical[[\"cid\",\"exercise17\",\"cyclingfreq\",\"generalhealth\"]]\n",
    "# df_train_physical.head()"
   ]
  },
  {
   "cell_type": "code",
   "execution_count": 16,
   "metadata": {},
   "outputs": [],
   "source": [
    "# corr_2 = df_train_physical[[\"exercise17\",\"cyclingfreq\",\"generalhealth\"]].corr()\n",
    "# draw_corr(corr_2)\n",
    "# print(corr_2)\n",
    "# #All have positive correlation. exercise18 is most correlated to general health"
   ]
  },
  {
   "cell_type": "markdown",
   "metadata": {},
   "source": [
    "# Checking correlation between Nutrition data"
   ]
  },
  {
   "cell_type": "code",
   "execution_count": 17,
   "metadata": {},
   "outputs": [
    {
     "name": "stdout",
     "output_type": "stream",
     "text": [
      "   fruitveg  nsodaperday14  avgsodaperday14  twoplussoda  nsugardrinkperday14  \\\n",
      "0       2.0            0.0              1.0          2.0                  0.0   \n",
      "1       2.0            0.0              1.0          2.0                  0.0   \n",
      "2       2.0            3.0              4.0          1.0                  0.0   \n",
      "3       3.0            0.0              1.0          2.0                  0.0   \n",
      "4       1.0            1.0              3.0          2.0                  0.0   \n",
      "\n",
      "   avgsugarperday14  nsodasugarperday14  ssb  generalhealth  \n",
      "0               1.0                 0.0  2.0            4.0  \n",
      "1               1.0                 0.0  2.0            3.0  \n",
      "2               1.0                 3.0  1.0            3.0  \n",
      "3               1.0                 0.0  2.0            4.0  \n",
      "4               1.0                 1.0  1.0            3.0  \n"
     ]
    },
    {
     "data": {
      "text/plain": [
       "fruitveg               236\n",
       "nsodaperday14           63\n",
       "avgsodaperday14         63\n",
       "twoplussoda             63\n",
       "nsugardrinkperday14    145\n",
       "avgsugarperday14       145\n",
       "nsodasugarperday14     120\n",
       "ssb                    120\n",
       "generalhealth           62\n",
       "dtype: int64"
      ]
     },
     "execution_count": 17,
     "metadata": {},
     "output_type": "execute_result"
    }
   ],
   "source": [
    "df_train_nutrition = df[[\"fruitveg\",\n",
    "                         \"nsodaperday14\",\"avgsodaperday14\",\"twoplussoda\",\n",
    "                         \"nsugardrinkperday14\",\"avgsugarperday14\",\"nsodasugarperday14\",\n",
    "                         \"ssb\",\n",
    "                         \"generalhealth\"]]\n",
    "print(df_train_nutrition.head())\n",
    "df_train_nutrition.isnull().sum()\n"
   ]
  },
  {
   "cell_type": "code",
   "execution_count": 18,
   "metadata": {},
   "outputs": [
    {
     "data": {
      "text/plain": [
       "avgsugarperday14  generalhealth       0.001552\n",
       "generalhealth     avgsugarperday14    0.001552\n",
       "avgsodaperday14   generalhealth       0.012365\n",
       "generalhealth     avgsodaperday14     0.012365\n",
       "twoplussoda       generalhealth       0.019076\n",
       "                                        ...   \n",
       "                  twoplussoda         1.000000\n",
       "avgsodaperday14   avgsodaperday14     1.000000\n",
       "nsodaperday14     nsodaperday14       1.000000\n",
       "ssb               ssb                 1.000000\n",
       "generalhealth     generalhealth       1.000000\n",
       "Length: 81, dtype: float64"
      ]
     },
     "execution_count": 18,
     "metadata": {},
     "output_type": "execute_result"
    },
    {
     "data": {
      "image/png": "[encoded data removed]",
      "text/plain": [
       "<Figure size 432x288 with 2 Axes>"
      ]
     },
     "metadata": {
      "needs_background": "light"
     },
     "output_type": "display_data"
    }
   ],
   "source": [
    "#[1]https://stackoverflow.com/questions/17778394/list-highest-correlation-pairs-from-a-large-correlation-matrix-in-pandas\n",
    "\n",
    "df_train_nutrition=df_train_nutrition.dropna()\n",
    "corr_3 = df_train_nutrition.corr().abs()\n",
    "draw_corr(corr_3)\n",
    "\n",
    "corr_3.unstack().sort_values(kind=\"quicksort\")\n"
   ]
  },
  {
   "cell_type": "raw",
   "metadata": {},
   "source": [
    "Top most correlated columns are:\n",
    "\n",
    "avgsodaperday15      nsodasugarperday15     0.631345\n",
    "twoplussoda          nsodasugarperday15     0.642612\n",
    "nsodasugarperday15   twoplussoda            0.642612\n",
    "avgsugarperday15     nsodasugarperday15     0.648968\n",
    "nsodasugarperday15   avgsugarperday15       0.648968\n",
    "ssb                  avgsugarperday15       0.702702\n",
    "avgsugarperday15     ssb                    0.702702\n",
    "twoplussoda          avgsodaperday15        0.703969\n",
    "avgsodaperday15      twoplussoda            0.703969\n",
    "nsodasugarperday15   ssb                    0.704397\n",
    "ssb                  nsodasugarperday15     0.704397\n",
    "nsodaperday15        avgsodaperday15        0.749117\n",
    "avgsodaperday15      nsodaperday15          0.749117\n",
    "nsodasugarperday15   nsodaperday15          0.788773\n",
    "nsodaperday15        nsodasugarperday15     0.788773\n",
    "                     twoplussoda            0.795403\n",
    "twoplussoda          nsodaperday15          0.795403\n",
    "avgsugarperday15     nsugardrinkperday15    0.795641\n",
    "nsugardrinkperday15  avgsugarperday15       0.795641\n",
    "                     nsodasugarperday15     0.798197\n",
    "nsodasugarperday15   nsugardrinkperday15    0.798197\n",
    "\n",
    "\n",
    "Eliminating highly correlated features\n",
    "\n",
    "# - eliminated features\n"
   ]
  },
  {
   "cell_type": "code",
   "execution_count": 19,
   "metadata": {},
   "outputs": [
    {
     "data": {
      "text/plain": [
       "generalhealth       avgsugarperday14      0.001552\n",
       "avgsugarperday14    generalhealth         0.001552\n",
       "generalhealth       avgsodaperday14       0.012365\n",
       "avgsodaperday14     generalhealth         0.012365\n",
       "generalhealth       nsodasugarperday14    0.034567\n",
       "nsodasugarperday14  generalhealth         0.034567\n",
       "ssb                 generalhealth         0.035331\n",
       "generalhealth       ssb                   0.035331\n",
       "avgsodaperday14     avgsugarperday14      0.313725\n",
       "avgsugarperday14    avgsodaperday14       0.313725\n",
       "ssb                 avgsodaperday14       0.614772\n",
       "avgsodaperday14     ssb                   0.614772\n",
       "nsodasugarperday14  avgsodaperday14       0.621510\n",
       "avgsodaperday14     nsodasugarperday14    0.621510\n",
       "avgsugarperday14    nsodasugarperday14    0.647118\n",
       "nsodasugarperday14  avgsugarperday14      0.647118\n",
       "ssb                 avgsugarperday14      0.692799\n",
       "avgsugarperday14    ssb                   0.692799\n",
       "ssb                 nsodasugarperday14    0.720283\n",
       "nsodasugarperday14  ssb                   0.720283\n",
       "                    nsodasugarperday14    1.000000\n",
       "avgsugarperday14    avgsugarperday14      1.000000\n",
       "avgsodaperday14     avgsodaperday14       1.000000\n",
       "ssb                 ssb                   1.000000\n",
       "generalhealth       generalhealth         1.000000\n",
       "dtype: float64"
      ]
     },
     "execution_count": 19,
     "metadata": {},
     "output_type": "execute_result"
    },
    {
     "data": {
      "image/png": "[encoded data removed]",
      "text/plain": [
       "<Figure size 432x288 with 2 Axes>"
      ]
     },
     "metadata": {
      "needs_background": "light"
     },
     "output_type": "display_data"
    }
   ],
   "source": [
    "# features dropped pertaining to high correlation with other features :  \n",
    "df_train_nutrition = df_train_nutrition[[\"nsodasugarperday14\",\n",
    "                        \"avgsodaperday14\"\n",
    "                        ,\"avgsugarperday14\"\n",
    "                         ,\"ssb\"\n",
    "                         ,\"generalhealth\"]]\n",
    "\n",
    "#finding correlation in remaining features\n",
    "corr_nutrition = df_train_nutrition.corr().abs()\n",
    "draw_corr(corr_nutrition)\n",
    "corr_nutrition.unstack().sort_values(kind=\"quicksort\")\n"
   ]
  },
  {
   "cell_type": "markdown",
   "metadata": {},
   "source": [
    "#Next most correlated columns after deleting the previous coulmns:\n",
    "\n",
    "nutrition47       fruitveg18          0.597664\n",
    "fruitveg18        nutrition46         0.624137\n",
    "avgsodaperday18   ssb                 0.626788\n",
    "\n",
    "ssb               avgsugarperday18   -0.687271\n",
    "\n",
    "ssb is correlated to both avgsodaperday18 and avgsugarperday18. We will keep ssb as it combines both soda and other drinks consumed by an individual. Also nutrition47 and fruitveg18 are correlated. Lets keep them for now as corelation is not very strong."
   ]
  },
  {
   "cell_type": "code",
   "execution_count": 20,
   "metadata": {},
   "outputs": [],
   "source": [
    "# features dropped pertaining to high correlation with other features :  \n",
    "df_train_nutrition = df_train_nutrition[[\n",
    "                         \"ssb\"\n",
    "                         ,\"generalhealth\"]]"
   ]
  },
  {
   "cell_type": "markdown",
   "metadata": {},
   "source": [
    "# Making prediction and checking rmse"
   ]
  },
  {
   "cell_type": "code",
   "execution_count": 21,
   "metadata": {},
   "outputs": [],
   "source": [
    "#[1]https://scikit-learn.org/stable/modules/generated/sklearn.decomposition.TruncatedSVD.html\n",
    "#[2]https://scikit-learn.org/stable/modules/generated/sklearn.linear_model.LogisticRegression.html\n",
    "#[3]https://towardsdatascience.com/pca-using-python-scikit-learn-e653f8989e60\n",
    "#[4]https://scikit-learn.org/stable/modules/generated/sklearn.decomposition.PCA.html\n",
    "\n",
    "from sklearn.decomposition import TruncatedSVD\n",
    "from sklearn.random_projection import sparse_random_matrix\n",
    "from sklearn.naive_bayes import GaussianNB\n",
    "from sklearn.metrics import mean_squared_error\n",
    "from math import sqrt\n",
    "\n",
    "#function for rmse calculation of model\n",
    "def model_apply(x,y,algo,n):\n",
    "    x_train, x_test, y_train, y_test = train_test_split(x,y,test_size=0.25,random_state=0)\n",
    "    scaler = StandardScaler()\n",
    "    # Fit on training set only.\n",
    "    scaler.fit(x_train)\n",
    "    # Apply transform to both the training set and the test set.\n",
    "    x_train = scaler.transform(x_train)\n",
    "    x_test = scaler.transform(x_test)\n",
    "    \n",
    "    pca = PCA(n_components=n,tol=.95)\n",
    "    pca.fit(x_test)\n",
    "    print(pca.explained_variance_ratio_) \n",
    "    \n",
    "    x_train = pca.transform(x_train)\n",
    "    x_test = pca.transform(x_test)\n",
    "    \n",
    "#     principalDf = pd.DataFrame(data = x_train\n",
    "#              , columns = ['pc1', 'pc2','pc3'])\n",
    "#     print(principalDf)\n",
    "\n",
    "    #model selection\n",
    "    if algo==1:\n",
    "        model=LogisticRegression(random_state=0, solver='lbfgs',multi_class='multinomial',max_iter=200)\n",
    "    elif algo==2:\n",
    "        model=GaussianNB()\n",
    "    elif algo==3:\n",
    "        model=DecisionTreeClassifier()\n",
    "    elif algo==4:\n",
    "        model=svm.SVC(gamma='scale')\n",
    "    elif algo==5:\n",
    "        model=Perceptron(tol=1e-3, random_state=0)\n",
    "        \n",
    "        # Train the model using the training sets\n",
    "    model.fit(x_train,y_train.values.ravel())\n",
    "\n",
    "    # Predict Output\n",
    "    y_pred = model.predict(x_test)\n",
    "    print (\"Predicted Value:\", y_pred)\n",
    "    print(\"Accuracy:\",metrics.accuracy_score(y_test, y_pred))\n",
    "    print(confusion_matrix(y_test,y_pred))\n",
    "    print(classification_report(y_test,y_pred))\n",
    "    rmse = sqrt(mean_squared_error(y_test, y_pred))\n",
    "    return(rmse)"
   ]
  },
  {
   "cell_type": "markdown",
   "metadata": {},
   "source": [
    "# Physical Activity vs General Health"
   ]
  },
  {
   "cell_type": "code",
   "execution_count": 22,
   "metadata": {},
   "outputs": [],
   "source": [
    "#preparing training and test data\n",
    "x=df_train_physical[[\"exercise14\"]] #source feature\n",
    "y=df_train_physical[[\"generalhealth\"]] #target feature\n",
    "algo=LogisticRegression(random_state=0, solver='lbfgs',multi_class='multinomial') #rmse=1.1888\n",
    "# model = GaussianNB() #rmse=1.28"
   ]
  },
  {
   "cell_type": "code",
   "execution_count": 23,
   "metadata": {},
   "outputs": [
    {
     "name": "stdout",
     "output_type": "stream",
     "text": [
      "[1.]\n",
      "Predicted Value: [3. 3. 3. ... 3. 3. 3.]\n",
      "Accuracy: 0.31196983977379833\n",
      "[[  0   0 377   0   0]\n",
      " [  0   0 576   0   0]\n",
      " [  0   0 662   0   0]\n",
      " [  0   0 371   0   0]\n",
      " [  0   0 136   0   0]]\n",
      "              precision    recall  f1-score   support\n",
      "\n",
      "         1.0       0.00      0.00      0.00       377\n",
      "         2.0       0.00      0.00      0.00       576\n",
      "         3.0       0.31      1.00      0.48       662\n",
      "         4.0       0.00      0.00      0.00       371\n",
      "         5.0       0.00      0.00      0.00       136\n",
      "\n",
      "    accuracy                           0.31      2122\n",
      "   macro avg       0.06      0.20      0.10      2122\n",
      "weighted avg       0.10      0.31      0.15      2122\n",
      "\n"
     ]
    },
    {
     "name": "stderr",
     "output_type": "stream",
     "text": [
      "/usr/local/lib/python3.7/site-packages/sklearn/metrics/classification.py:1437: UndefinedMetricWarning: Precision and F-score are ill-defined and being set to 0.0 in labels with no predicted samples.\n",
      "  'precision', 'predicted', average, warn_for)\n"
     ]
    },
    {
     "data": {
      "text/plain": [
       "1.1888184679210374"
      ]
     },
     "execution_count": 23,
     "metadata": {},
     "output_type": "execute_result"
    }
   ],
   "source": [
    "model_apply(x,y,1,1)"
   ]
  },
  {
   "cell_type": "markdown",
   "metadata": {},
   "source": [
    "# Nutrition vs General Health"
   ]
  },
  {
   "cell_type": "code",
   "execution_count": 24,
   "metadata": {},
   "outputs": [
    {
     "name": "stdout",
     "output_type": "stream",
     "text": [
      "[1.]\n",
      "Predicted Value: [3. 3. 3. ... 3. 3. 3.]\n",
      "Accuracy: 0.3141025641025641\n",
      "[[  0   0 341   0   0]\n",
      " [  0   0 552   0   0]\n",
      " [  0   0 637   0   0]\n",
      " [  0   0 365   0   0]\n",
      " [  0   0 133   0   0]]\n",
      "              precision    recall  f1-score   support\n",
      "\n",
      "         1.0       0.00      0.00      0.00       341\n",
      "         2.0       0.00      0.00      0.00       552\n",
      "         3.0       0.31      1.00      0.48       637\n",
      "         4.0       0.00      0.00      0.00       365\n",
      "         5.0       0.00      0.00      0.00       133\n",
      "\n",
      "    accuracy                           0.31      2028\n",
      "   macro avg       0.06      0.20      0.10      2028\n",
      "weighted avg       0.10      0.31      0.15      2028\n",
      "\n"
     ]
    },
    {
     "name": "stderr",
     "output_type": "stream",
     "text": [
      "/usr/local/lib/python3.7/site-packages/sklearn/metrics/classification.py:1437: UndefinedMetricWarning: Precision and F-score are ill-defined and being set to 0.0 in labels with no predicted samples.\n",
      "  'precision', 'predicted', average, warn_for)\n"
     ]
    },
    {
     "data": {
      "text/plain": [
       "1.1777439738118376"
      ]
     },
     "execution_count": 24,
     "metadata": {},
     "output_type": "execute_result"
    }
   ],
   "source": [
    "#preparing training and test data\n",
    "x=df_train_nutrition[[\"ssb\"]] #source feature\n",
    "y=df_train_nutrition[[\"generalhealth\"]] #target feature\n",
    "algo=LogisticRegression(random_state=0, solver='lbfgs',multi_class='multinomial') #rmse=1.1777\n",
    "# model = GaussianNB() #rmse=1.28\n",
    "model_apply(x,y,1,1)"
   ]
  },
  {
   "cell_type": "markdown",
   "metadata": {},
   "source": [
    "# Checking correlation between CardioVascular Health data"
   ]
  },
  {
   "cell_type": "code",
   "execution_count": 25,
   "metadata": {},
   "outputs": [
    {
     "name": "stdout",
     "output_type": "stream",
     "text": [
      "   toldhighbp14  toldprescription14  takingmeds14  generalhealth\n",
      "0           1.0                 2.0           NaN            4.0\n",
      "1           1.0                 1.0           1.0            3.0\n",
      "2           2.0                 NaN           NaN            3.0\n",
      "3           2.0                 NaN           NaN            4.0\n",
      "4           1.0                 1.0           1.0            3.0\n"
     ]
    },
    {
     "data": {
      "text/plain": [
       "toldhighbp14            30\n",
       "toldprescription14    5760\n",
       "takingmeds14          6091\n",
       "generalhealth           62\n",
       "dtype: int64"
      ]
     },
     "execution_count": 25,
     "metadata": {},
     "output_type": "execute_result"
    }
   ],
   "source": [
    "df_train_cardio=df[[\"toldhighbp14\",\"toldprescription14\",\"takingmeds14\",\"generalhealth\"]]\n",
    "print(df_train_cardio.head())\n",
    "df_train_cardio.isnull().sum()"
   ]
  },
  {
   "cell_type": "markdown",
   "metadata": {},
   "source": [
    "toldprescription16 and takingmeds15 has high NA values so we have to drop them from dataset"
   ]
  },
  {
   "cell_type": "code",
   "execution_count": 26,
   "metadata": {},
   "outputs": [
    {
     "name": "stdout",
     "output_type": "stream",
     "text": [
      "   toldhighbp14  generalhealth\n",
      "0           1.0            4.0\n",
      "1           1.0            3.0\n",
      "2           2.0            3.0\n",
      "3           2.0            4.0\n",
      "4           1.0            3.0\n"
     ]
    },
    {
     "data": {
      "text/plain": [
       "toldhighbp14     30\n",
       "generalhealth    62\n",
       "dtype: int64"
      ]
     },
     "execution_count": 26,
     "metadata": {},
     "output_type": "execute_result"
    }
   ],
   "source": [
    "df_train_cardio=df[[\"toldhighbp14\",\"generalhealth\"]]\n",
    "print(df_train_cardio.head())\n",
    "df_train_cardio.isnull().sum()"
   ]
  },
  {
   "cell_type": "code",
   "execution_count": 27,
   "metadata": {},
   "outputs": [
    {
     "data": {
      "text/plain": [
       "toldhighbp14   generalhealth    0.312318\n",
       "generalhealth  toldhighbp14     0.312318\n",
       "toldhighbp14   toldhighbp14     1.000000\n",
       "generalhealth  generalhealth    1.000000\n",
       "dtype: float64"
      ]
     },
     "execution_count": 27,
     "metadata": {},
     "output_type": "execute_result"
    },
    {
     "data": {
      "image/png": "[encoded data removed]",
      "text/plain": [
       "<Figure size 432x288 with 2 Axes>"
      ]
     },
     "metadata": {
      "needs_background": "light"
     },
     "output_type": "display_data"
    }
   ],
   "source": [
    "df_train_cardio=df_train_cardio.dropna()\n",
    "corr_cardio = df_train_cardio.corr().abs()\n",
    "draw_corr(corr_cardio)\n",
    "corr_cardio.unstack().sort_values(kind=\"quicksort\")"
   ]
  },
  {
   "cell_type": "markdown",
   "metadata": {},
   "source": [
    "# Cardio vs General Health\n"
   ]
  },
  {
   "cell_type": "code",
   "execution_count": 50,
   "metadata": {},
   "outputs": [
    {
     "name": "stdout",
     "output_type": "stream",
     "text": [
      "('Predicted Value:', array([3., 3., 3., ..., 3., 3., 3.]))\n",
      "('Accuracy:', 0.32341831916902736)\n",
      "[[  0   0 354   0   0]\n",
      " [  0   0 575   0   0]\n",
      " [  0   0 685   0   0]\n",
      " [  0   0 358   0   0]\n",
      " [  0   0 146   0   0]]\n",
      "              precision    recall  f1-score   support\n",
      "\n",
      "         1.0       0.00      0.00      0.00       354\n",
      "         2.0       0.00      0.00      0.00       575\n",
      "         3.0       0.32      1.00      0.49       685\n",
      "         4.0       0.00      0.00      0.00       358\n",
      "         5.0       0.00      0.00      0.00       146\n",
      "\n",
      "   micro avg       0.32      0.32      0.32      2118\n",
      "   macro avg       0.06      0.20      0.10      2118\n",
      "weighted avg       0.10      0.32      0.16      2118\n",
      "\n",
      "1.17677397077\n"
     ]
    }
   ],
   "source": [
    "df_train_cardio=df_train_cardio[[\"toldhighbp14\",\"generalhealth\"]]\n",
    "df_train_cardio=df_train_cardio.dropna()\n",
    "#preparing training and test data\n",
    "x=df_train_cardio[[\"toldhighbp14\"]] #source feature\n",
    "y=df_train_cardio[[\"generalhealth\"]] #target feature\n",
    "algo=LogisticRegression(random_state=0, solver='lbfgs',multi_class='multinomial') #rmse=1.1768\n",
    "# model = GaussianNB() #rmse=1.28\n",
    "model_apply(x,y,1,1)"
   ]
  },
  {
   "cell_type": "markdown",
   "metadata": {},
   "source": [
    "# Checking correlation between Diabetes data"
   ]
  },
  {
   "cell_type": "code",
   "execution_count": 28,
   "metadata": {},
   "outputs": [
    {
     "name": "stdout",
     "output_type": "stream",
     "text": [
      "   diabetes14  generalhealth\n",
      "0         2.0            4.0\n",
      "1         2.0            3.0\n",
      "2         2.0            3.0\n",
      "3         2.0            4.0\n",
      "4         2.0            3.0\n"
     ]
    },
    {
     "data": {
      "text/plain": [
       "diabetes14       21\n",
       "generalhealth    62\n",
       "dtype: int64"
      ]
     },
     "execution_count": 28,
     "metadata": {},
     "output_type": "execute_result"
    }
   ],
   "source": [
    "df_train_diabetes=df[[\"diabetes14\",\"generalhealth\"]]\n",
    "print(df_train_diabetes.head())\n",
    "df_train_diabetes.isnull().sum()"
   ]
  },
  {
   "cell_type": "markdown",
   "metadata": {},
   "source": [
    "Since only one column is there is no need to check correlation here.\n",
    "\n",
    "# Diabetes vs General Health "
   ]
  },
  {
   "cell_type": "code",
   "execution_count": 52,
   "metadata": {},
   "outputs": [
    {
     "name": "stdout",
     "output_type": "stream",
     "text": [
      "('Predicted Value:', array([3., 3., 3., ..., 3., 4., 4.]))\n",
      "('Accuracy:', 0.3273584905660377)\n",
      "[[  0   0 350   9   0]\n",
      " [  0   0 510  35   0]\n",
      " [  0   0 620  84   0]\n",
      " [  0   0 298  74   0]\n",
      " [  0   0  73  67   0]]\n",
      "              precision    recall  f1-score   support\n",
      "\n",
      "         1.0       0.00      0.00      0.00       359\n",
      "         2.0       0.00      0.00      0.00       545\n",
      "         3.0       0.33      0.88      0.49       704\n",
      "         4.0       0.28      0.20      0.23       372\n",
      "         5.0       0.00      0.00      0.00       140\n",
      "\n",
      "   micro avg       0.33      0.33      0.33      2120\n",
      "   macro avg       0.12      0.22      0.14      2120\n",
      "weighted avg       0.16      0.33      0.20      2120\n",
      "\n",
      "1.16392309932\n"
     ]
    }
   ],
   "source": [
    "df_train_diabetes=df_train_diabetes[[\"diabetes14\",\"generalhealth\"]]\n",
    "df_train_diabetes=df_train_diabetes.dropna()\n",
    "#preparing training and test data\n",
    "x=df_train_diabetes[[\"diabetes14\"]] #source feature\n",
    "y=df_train_diabetes[[\"generalhealth\"]] #target feature\n",
    "# algo=LogisticRegression(random_state=0, solver='lbfgs',multi_class='multinomial') #rmse=1.1639\n",
    "# algo=svm.SVC(gamma='scale') #emse=1.1714\n",
    "# algo = GaussianNB() #rmse=1.2356\n",
    "algo=DecisionTreeClassifier() #rmse=1.1714\n",
    "model_apply(x,y,1,1)"
   ]
  },
  {
   "cell_type": "markdown",
   "metadata": {},
   "source": [
    "# Clubbing the different parameters"
   ]
  },
  {
   "cell_type": "code",
   "execution_count": 29,
   "metadata": {},
   "outputs": [
    {
     "name": "stdout",
     "output_type": "stream",
     "text": [
      "       cid  exercise14  ssb  diabetes14  toldhighbp14  generalhealth\n",
      "0  1500001         1.0  2.0         2.0           1.0            4.0\n",
      "1  1500002         1.0  2.0         2.0           1.0            3.0\n",
      "2  1500003         1.0  1.0         2.0           2.0            3.0\n",
      "3  1500004         2.0  2.0         2.0           2.0            4.0\n",
      "4  1500005         2.0  1.0         2.0           1.0            3.0\n"
     ]
    },
    {
     "data": {
      "text/plain": [
       "cid                0\n",
       "exercise14        14\n",
       "ssb              120\n",
       "diabetes14        21\n",
       "toldhighbp14      30\n",
       "generalhealth     62\n",
       "dtype: int64"
      ]
     },
     "execution_count": 29,
     "metadata": {},
     "output_type": "execute_result"
    }
   ],
   "source": [
    "#df_train_physical[[\"exercise17\",\"cyclingfreq\",\"generalhealth\"]]\n",
    "#df_train_diabetes[[\"diabetes17\",\"generalhealth\"]]\n",
    "#df_train_cardio[[\"toldhighbp17\",\"generalhealth\"]]\n",
    "#df_train_nutrition[[\"nutrition46\",\"nutrition47\",\"ssb\"]]\n",
    "df_clubbed=df[[\"cid\",\"exercise14\",\"ssb\",\n",
    "              \"diabetes14\",\"toldhighbp14\",\"generalhealth\"]]\n",
    "print(df_clubbed.head())\n",
    "df_clubbed.isnull().sum()"
   ]
  },
  {
   "cell_type": "code",
   "execution_count": 43,
   "metadata": {},
   "outputs": [
    {
     "name": "stdout",
     "output_type": "stream",
     "text": [
      "[0.34327181 0.25498288 0.22531923]\n",
      "Predicted Value: [3. 2. 2. ... 3. 2. 3.]\n",
      "Accuracy: 0.3410182516810759\n",
      "[[  0 220 134   4   0]\n",
      " [  0 279 253  18   0]\n",
      " [  0 272 363  65   0]\n",
      " [  0  72 209  68   0]\n",
      " [  0  18  62  45   0]]\n",
      "              precision    recall  f1-score   support\n",
      "\n",
      "         1.0       0.00      0.00      0.00       358\n",
      "         2.0       0.32      0.51      0.40       550\n",
      "         3.0       0.36      0.52      0.42       700\n",
      "         4.0       0.34      0.19      0.25       349\n",
      "         5.0       0.00      0.00      0.00       125\n",
      "\n",
      "    accuracy                           0.34      2082\n",
      "   macro avg       0.20      0.24      0.21      2082\n",
      "weighted avg       0.26      0.34      0.29      2082\n",
      "\n"
     ]
    },
    {
     "name": "stderr",
     "output_type": "stream",
     "text": [
      "/usr/local/lib/python3.7/site-packages/sklearn/metrics/classification.py:1437: UndefinedMetricWarning: Precision and F-score are ill-defined and being set to 0.0 in labels with no predicted samples.\n",
      "  'precision', 'predicted', average, warn_for)\n"
     ]
    },
    {
     "data": {
      "text/plain": [
       "1.074997486760684"
      ]
     },
     "execution_count": 43,
     "metadata": {},
     "output_type": "execute_result"
    }
   ],
   "source": [
    "df_clubbed=df_clubbed.dropna()\n",
    "#preparing training and test data\n",
    "x=df_clubbed.drop(columns=[\"cid\",\"generalhealth\"]) #source feature\n",
    "y=df_clubbed[[\"generalhealth\"]] #target feature\n",
    "algo=LogisticRegression(random_state=0, solver='lbfgs',multi_class='multinomial') #rmse=1.1661\n",
    "# algo=svm.SVC(gamma='scale') #emse=1.1607\n",
    "# algo = GaussianNB() #rmse=1.2136\n",
    "# algo=DecisionTreeClassifier() #rmse=1.4525\n",
    "model_apply(x,y,1,3)"
   ]
  },
  {
   "cell_type": "markdown",
   "metadata": {},
   "source": [
    "# Physical Activity vs Cardio Health"
   ]
  },
  {
   "cell_type": "code",
   "execution_count": 55,
   "metadata": {},
   "outputs": [
    {
     "name": "stdout",
     "output_type": "stream",
     "text": [
      "('Predicted Value:', array([2., 2., 2., ..., 2., 2., 2.]))\n",
      "('Accuracy:', 0.6858789625360231)\n",
      "[[   0  654]\n",
      " [   0 1428]]\n",
      "              precision    recall  f1-score   support\n",
      "\n",
      "         1.0       0.00      0.00      0.00       654\n",
      "         2.0       0.69      1.00      0.81      1428\n",
      "\n",
      "   micro avg       0.69      0.69      0.69      2082\n",
      "   macro avg       0.34      0.50      0.41      2082\n",
      "weighted avg       0.47      0.69      0.56      2082\n",
      "\n",
      "0.560465018948\n"
     ]
    }
   ],
   "source": [
    "#preparing training and test data\n",
    "x=df_clubbed[[\"exercise14\"]] #source feature\n",
    "y=df_clubbed[[\"toldhighbp14\"]] #target feature\n",
    "algo=LogisticRegression(random_state=0, solver='lbfgs',multi_class='multinomial') #rmse=0.5605\n",
    "# algo=svm.SVC(gamma='scale') #emse=1.1806\n",
    "# algo = GaussianNB() #rmse=1.2156\n",
    "# algo=DecisionTreeClassifier() #rmse=1.4330\n",
    "model_apply(x,y,1,1)"
   ]
  },
  {
   "cell_type": "markdown",
   "metadata": {},
   "source": [
    "# Nutrition vs Cardio Health"
   ]
  },
  {
   "cell_type": "code",
   "execution_count": 56,
   "metadata": {},
   "outputs": [
    {
     "name": "stdout",
     "output_type": "stream",
     "text": [
      "('Predicted Value:', array([2., 2., 2., ..., 2., 2., 2.]))\n",
      "('Accuracy:', 0.6858789625360231)\n",
      "[[   0  654]\n",
      " [   0 1428]]\n",
      "              precision    recall  f1-score   support\n",
      "\n",
      "         1.0       0.00      0.00      0.00       654\n",
      "         2.0       0.69      1.00      0.81      1428\n",
      "\n",
      "   micro avg       0.69      0.69      0.69      2082\n",
      "   macro avg       0.34      0.50      0.41      2082\n",
      "weighted avg       0.47      0.69      0.56      2082\n",
      "\n",
      "0.560465018948\n"
     ]
    }
   ],
   "source": [
    "#preparing training and test data\n",
    "x=df_clubbed[[\"ssb\"]] #source feature\n",
    "y=df_clubbed[[\"toldhighbp14\"]] #target feature\n",
    "algo=LogisticRegression(random_state=0, solver='lbfgs',multi_class='multinomial') #rmse=0.5605\n",
    "# algo=svm.SVC(gamma='scale') #emse=1.1806\n",
    "# algo = GaussianNB() #rmse=1.2156\n",
    "# algo=DecisionTreeClassifier() #rmse=1.4330\n",
    "model_apply(x,y,1,1)"
   ]
  },
  {
   "cell_type": "markdown",
   "metadata": {},
   "source": [
    "# Physical vs Diabetes"
   ]
  },
  {
   "cell_type": "code",
   "execution_count": 57,
   "metadata": {},
   "outputs": [
    {
     "name": "stdout",
     "output_type": "stream",
     "text": [
      "('Predicted Value:', array([2., 2., 2., ..., 2., 2., 2.]))\n",
      "('Accuracy:', 0.878001921229587)\n",
      "[[   0  254]\n",
      " [   0 1828]]\n",
      "              precision    recall  f1-score   support\n",
      "\n",
      "         1.0       0.00      0.00      0.00       254\n",
      "         2.0       0.88      1.00      0.94      1828\n",
      "\n",
      "   micro avg       0.88      0.88      0.88      2082\n",
      "   macro avg       0.44      0.50      0.47      2082\n",
      "weighted avg       0.77      0.88      0.82      2082\n",
      "\n",
      "0.349282233688\n"
     ]
    }
   ],
   "source": [
    "#preparing training and test data\n",
    "x=df_clubbed[[\"exercise14\"]] #source feature\n",
    "y=df_clubbed[[\"diabetes14\"]] #target feature\n",
    "algo=LogisticRegression(random_state=0, solver='lbfgs',multi_class='multinomial') #rmse=0.3492\n",
    "# algo=svm.SVC(gamma='scale') #emse=1.1806\n",
    "# algo = GaussianNB() #rmse=1.2156\n",
    "# algo=DecisionTreeClassifier() #rmse=1.4330\n",
    "model_apply(x,y,1,1)"
   ]
  },
  {
   "cell_type": "markdown",
   "metadata": {},
   "source": [
    "# Nutrition vs Diabetes"
   ]
  },
  {
   "cell_type": "code",
   "execution_count": 58,
   "metadata": {},
   "outputs": [
    {
     "name": "stdout",
     "output_type": "stream",
     "text": [
      "('Predicted Value:', array([2., 2., 2., ..., 2., 2., 2.]))\n",
      "('Accuracy:', 0.878001921229587)\n",
      "[[   0  254]\n",
      " [   0 1828]]\n",
      "              precision    recall  f1-score   support\n",
      "\n",
      "         1.0       0.00      0.00      0.00       254\n",
      "         2.0       0.88      1.00      0.94      1828\n",
      "\n",
      "   micro avg       0.88      0.88      0.88      2082\n",
      "   macro avg       0.44      0.50      0.47      2082\n",
      "weighted avg       0.77      0.88      0.82      2082\n",
      "\n",
      "0.349282233688\n"
     ]
    }
   ],
   "source": [
    "#preparing training and test data\n",
    "x=df_clubbed[[\"ssb\"]] #source feature\n",
    "y=df_clubbed[[\"diabetes14\"]] #target feature\n",
    "algo=LogisticRegression(random_state=0, solver='lbfgs',multi_class='multinomial') #rmse=0.3493\n",
    "# algo=svm.SVC(gamma='scale') #emse=1.1806\n",
    "# algo = GaussianNB() #rmse=1.2156\n",
    "# algo=DecisionTreeClassifier() #rmse=1.4330\n",
    "model_apply(x,y,1,1)"
   ]
  },
  {
   "cell_type": "markdown",
   "metadata": {},
   "source": [
    "We observed that most of the Diabetes predictions are of class 2. Probably there is an imbalace of class in test data. Let us check.\n",
    "\n",
    "# Resampling Diabetese Dataset"
   ]
  },
  {
   "cell_type": "code",
   "execution_count": 59,
   "metadata": {},
   "outputs": [
    {
     "data": {
      "text/plain": [
       "2.0    7295\n",
       "1.0    1032\n",
       "Name: diabetes14, dtype: int64"
      ]
     },
     "execution_count": 59,
     "metadata": {},
     "output_type": "execute_result"
    }
   ],
   "source": [
    "#[1]https://elitedatascience.com/imbalanced-classes\n",
    "df_clubbed[\"diabetes14\"].value_counts()"
   ]
  },
  {
   "cell_type": "markdown",
   "metadata": {},
   "source": [
    "As we can see that class 2 has more samples than class 1 which shows that data is impbalanced and fovours class 2. Upsampling the class 1 data :"
   ]
  },
  {
   "cell_type": "markdown",
   "metadata": {},
   "source": [
    "# Up Sampling"
   ]
  },
  {
   "cell_type": "code",
   "execution_count": 61,
   "metadata": {},
   "outputs": [
    {
     "data": {
      "text/plain": [
       "1.0    7925\n",
       "2.0    7295\n",
       "Name: diabetes14, dtype: int64"
      ]
     },
     "execution_count": 61,
     "metadata": {},
     "output_type": "execute_result"
    }
   ],
   "source": [
    "from sklearn.utils import resample\n",
    "# Separate majority and minority classes\n",
    "df_majority = df_clubbed[df_clubbed.diabetes14==2]\n",
    "df_minority = df_clubbed[df_clubbed.diabetes14==1]\n",
    " \n",
    "# Upsample minority class\n",
    "df_minority_upsampled = resample(df_minority, \n",
    "                                 replace=True,     # sample with replacement\n",
    "                                 n_samples=7925,    # to match majority class\n",
    "                                 random_state=123) # reproducible results\n",
    " \n",
    "# Combine majority class with upsampled minority class\n",
    "df_upsampled = pd.concat([df_majority, df_minority_upsampled])\n",
    " \n",
    "# Display new class counts\n",
    "df_upsampled.diabetes14.value_counts()"
   ]
  },
  {
   "cell_type": "markdown",
   "metadata": {},
   "source": [
    "# Nutrition vs Diabetes again after upsampling"
   ]
  },
  {
   "cell_type": "code",
   "execution_count": 62,
   "metadata": {},
   "outputs": [
    {
     "name": "stdout",
     "output_type": "stream",
     "text": [
      "('Predicted Value:', array([1., 1., 1., ..., 1., 2., 1.]))\n",
      "('Accuracy:', 0.5605781865965834)\n",
      "[[1730  296]\n",
      " [1376  403]]\n",
      "              precision    recall  f1-score   support\n",
      "\n",
      "         1.0       0.56      0.85      0.67      2026\n",
      "         2.0       0.58      0.23      0.33      1779\n",
      "\n",
      "   micro avg       0.56      0.56      0.56      3805\n",
      "   macro avg       0.57      0.54      0.50      3805\n",
      "weighted avg       0.57      0.56      0.51      3805\n",
      "\n",
      "0.662888990257\n"
     ]
    }
   ],
   "source": [
    "#preparing training and test data\n",
    "x=df_upsampled[[\"ssb\"]] #source feature\n",
    "y=df_upsampled[[\"diabetes14\"]] #target feature\n",
    "algo=LogisticRegression(random_state=0, solver='lbfgs',multi_class='multinomial') #rmse=0.6629\n",
    "# algo=svm.SVC(gamma='scale') #emse=1.1806\n",
    "# algo = GaussianNB() #rmse=1.2156\n",
    "# algo=DecisionTreeClassifier() #rmse=1.4330\n",
    "model_apply(x,y,1,1)"
   ]
  },
  {
   "cell_type": "markdown",
   "metadata": {},
   "source": [
    "# Physical Activity vs Diabetes after upsampling"
   ]
  },
  {
   "cell_type": "code",
   "execution_count": 74,
   "metadata": {},
   "outputs": [
    {
     "name": "stdout",
     "output_type": "stream",
     "text": [
      "('Predicted Value:', array([1., 2., 2., ..., 1., 2., 2.]))\n",
      "('Accuracy:', 0.5440210249671484)\n",
      "[[ 694 1332]\n",
      " [ 403 1376]]\n",
      "              precision    recall  f1-score   support\n",
      "\n",
      "         1.0       0.63      0.34      0.44      2026\n",
      "         2.0       0.51      0.77      0.61      1779\n",
      "\n",
      "   micro avg       0.54      0.54      0.54      3805\n",
      "   macro avg       0.57      0.56      0.53      3805\n",
      "weighted avg       0.57      0.54      0.52      3805\n",
      "\n",
      "0.675262152821\n"
     ]
    }
   ],
   "source": [
    "#preparing training and test data\n",
    "x=df_upsampled[[\"exercise14\"]] #source feature\n",
    "y=df_upsampled[[\"diabetes14\"]] #target feature\n",
    "algo=LogisticRegression(random_state=0, solver='lbfgs',multi_class='multinomial') #rmse=0.6753\n",
    "# algo=svm.SVC(gamma='scale') #emse=1.1806\n",
    "# algo = GaussianNB() #rmse=1.2156\n",
    "# algo=DecisionTreeClassifier() #rmse=1.4330\n",
    "model_apply(x,y,1,1)"
   ]
  },
  {
   "cell_type": "markdown",
   "metadata": {},
   "source": [
    "# Down Sampling"
   ]
  },
  {
   "cell_type": "code",
   "execution_count": 65,
   "metadata": {},
   "outputs": [
    {
     "data": {
      "text/plain": [
       "1.0    1032\n",
       "2.0    1032\n",
       "Name: diabetes14, dtype: int64"
      ]
     },
     "execution_count": 65,
     "metadata": {},
     "output_type": "execute_result"
    }
   ],
   "source": [
    "#Down Sampling\n",
    "df_majority = df_clubbed[df_clubbed.diabetes14==2]\n",
    "df_minority = df_clubbed[df_clubbed.diabetes14==1]\n",
    " \n",
    "# Downsample majority class\n",
    "df_majority_downsampled = resample(df_majority, \n",
    "                                 replace=False,    # sample without replacement\n",
    "                                 n_samples=1032,     # to match minority class\n",
    "                                 random_state=123) # reproducible results\n",
    " \n",
    "# Combine minority class with downsampled majority class\n",
    "df_downsampled = pd.concat([df_majority_downsampled, df_minority])\n",
    " \n",
    "# Display new class counts\n",
    "df_downsampled.diabetes14.value_counts()"
   ]
  },
  {
   "cell_type": "markdown",
   "metadata": {},
   "source": [
    "# Nutrition vs Diabetes again after down sampling"
   ]
  },
  {
   "cell_type": "code",
   "execution_count": 66,
   "metadata": {},
   "outputs": [
    {
     "name": "stdout",
     "output_type": "stream",
     "text": [
      "('Predicted Value:', array([2., 2., 2., 1., 1., 1., 1., 1., 1., 1., 1., 1., 2., 1., 1., 2., 2.,\n",
      "       1., 1., 1., 1., 1., 1., 1., 2., 1., 1., 1., 1., 1., 1., 1., 1., 2.,\n",
      "       1., 1., 1., 1., 1., 1., 1., 1., 1., 1., 1., 1., 1., 2., 1., 1., 1.,\n",
      "       1., 1., 1., 1., 2., 1., 1., 1., 2., 1., 2., 2., 1., 1., 1., 1., 1.,\n",
      "       1., 1., 1., 2., 1., 1., 1., 2., 2., 1., 1., 1., 2., 1., 1., 1., 2.,\n",
      "       2., 1., 1., 1., 1., 1., 1., 2., 1., 1., 1., 2., 1., 1., 1., 1., 2.,\n",
      "       1., 1., 1., 2., 1., 1., 1., 1., 2., 1., 2., 1., 1., 1., 1., 1., 1.,\n",
      "       1., 1., 1., 1., 1., 2., 1., 1., 1., 2., 1., 1., 1., 1., 1., 1., 1.,\n",
      "       1., 1., 2., 1., 1., 2., 1., 1., 1., 1., 1., 1., 1., 1., 1., 1., 2.,\n",
      "       1., 1., 2., 1., 1., 1., 1., 2., 1., 2., 2., 1., 1., 2., 1., 1., 1.,\n",
      "       1., 1., 1., 1., 1., 1., 1., 1., 1., 2., 2., 1., 1., 1., 1., 1., 1.,\n",
      "       2., 1., 1., 1., 1., 1., 2., 2., 1., 1., 1., 1., 1., 1., 1., 2., 1.,\n",
      "       2., 1., 2., 2., 1., 1., 2., 1., 2., 1., 1., 2., 1., 1., 1., 1., 1.,\n",
      "       1., 1., 1., 1., 2., 1., 1., 2., 1., 1., 1., 1., 1., 1., 1., 1., 1.,\n",
      "       1., 1., 1., 2., 2., 1., 1., 1., 1., 1., 1., 1., 1., 2., 1., 1., 1.,\n",
      "       2., 1., 1., 1., 1., 1., 1., 1., 1., 1., 2., 2., 2., 1., 2., 1., 1.,\n",
      "       1., 1., 1., 2., 2., 1., 1., 1., 2., 1., 2., 1., 1., 1., 1., 1., 2.,\n",
      "       2., 2., 1., 2., 1., 1., 1., 1., 1., 1., 1., 2., 1., 1., 1., 1., 1.,\n",
      "       1., 1., 1., 1., 1., 1., 1., 2., 1., 1., 1., 2., 1., 1., 1., 1., 1.,\n",
      "       1., 1., 1., 1., 1., 1., 1., 2., 2., 1., 1., 1., 1., 1., 1., 1., 1.,\n",
      "       1., 1., 1., 1., 1., 1., 1., 1., 2., 2., 2., 1., 1., 1., 1., 1., 1.,\n",
      "       1., 1., 1., 1., 1., 1., 1., 1., 1., 2., 1., 1., 1., 1., 1., 1., 1.,\n",
      "       1., 1., 1., 1., 1., 1., 1., 2., 1., 1., 1., 1., 1., 1., 1., 1., 1.,\n",
      "       1., 2., 1., 1., 1., 1., 1., 1., 1., 1., 1., 1., 1., 1., 1., 1., 1.,\n",
      "       2., 1., 1., 1., 2., 1., 1., 1., 1., 1., 2., 1., 1., 1., 1., 1., 1.,\n",
      "       1., 2., 1., 1., 2., 1., 1., 1., 2., 2., 1., 1., 1., 2., 2., 1., 1.,\n",
      "       1., 1., 1., 1., 2., 1., 1., 1., 1., 1., 1., 1., 2., 1., 1., 1., 1.,\n",
      "       1., 1., 1., 1., 1., 1., 1., 1., 1., 1., 1., 2., 1., 1., 1., 2., 1.,\n",
      "       1., 1., 1., 1., 1., 1., 1., 1., 1., 2., 1., 1., 2., 2., 1., 1., 1.,\n",
      "       1., 1., 1., 1., 1., 1., 1., 1., 1., 1., 2., 1., 1., 1., 1., 1., 1.,\n",
      "       1., 1., 1., 1., 2., 1.]))\n",
      "('Accuracy:', 0.49806201550387597)\n",
      "[[209  46]\n",
      " [213  48]]\n",
      "              precision    recall  f1-score   support\n",
      "\n",
      "         1.0       0.50      0.82      0.62       255\n",
      "         2.0       0.51      0.18      0.27       261\n",
      "\n",
      "   micro avg       0.50      0.50      0.50       516\n",
      "   macro avg       0.50      0.50      0.44       516\n",
      "weighted avg       0.50      0.50      0.44       516\n",
      "\n",
      "0.708475817863\n"
     ]
    }
   ],
   "source": [
    "#preparing training and test data\n",
    "x=df_downsampled[[\"ssb\"]] #source feature\n",
    "y=df_downsampled[[\"diabetes14\"]] #target feature\n",
    "algo=LogisticRegression(random_state=0, solver='lbfgs',multi_class='multinomial') #rmse=0.7085\n",
    "# algo=svm.SVC(gamma='scale') #emse=1.1806\n",
    "# algo = GaussianNB() #rmse=1.2156\n",
    "# algo=DecisionTreeClassifier() #rmse=1.4330\n",
    "model_apply(x,y,1,1)"
   ]
  },
  {
   "cell_type": "markdown",
   "metadata": {},
   "source": [
    "# Physical Activity vs Diabetes after down sampling"
   ]
  },
  {
   "cell_type": "code",
   "execution_count": 67,
   "metadata": {},
   "outputs": [
    {
     "name": "stdout",
     "output_type": "stream",
     "text": [
      "('Predicted Value:', array([2., 1., 2., 1., 1., 1., 1., 1., 1., 2., 2., 2., 1., 1., 2., 2., 2.,\n",
      "       1., 2., 2., 2., 2., 2., 2., 2., 1., 2., 1., 2., 2., 2., 2., 1., 2.,\n",
      "       2., 2., 2., 1., 2., 2., 2., 2., 2., 2., 2., 2., 2., 2., 2., 2., 2.,\n",
      "       2., 2., 2., 1., 1., 2., 1., 2., 2., 2., 2., 2., 2., 1., 2., 2., 1.,\n",
      "       1., 2., 2., 2., 1., 2., 2., 2., 2., 2., 1., 1., 2., 1., 2., 2., 2.,\n",
      "       1., 2., 2., 2., 2., 2., 2., 2., 1., 1., 2., 2., 2., 2., 2., 2., 2.,\n",
      "       1., 2., 1., 2., 2., 2., 2., 2., 1., 2., 1., 2., 1., 2., 2., 2., 2.,\n",
      "       2., 2., 2., 2., 2., 2., 2., 1., 2., 2., 1., 2., 1., 1., 2., 2., 2.,\n",
      "       2., 2., 2., 1., 1., 2., 1., 1., 2., 2., 2., 1., 2., 2., 2., 2., 2.,\n",
      "       2., 2., 1., 2., 1., 2., 2., 2., 1., 2., 2., 2., 2., 2., 2., 2., 1.,\n",
      "       2., 2., 2., 1., 2., 2., 2., 1., 2., 1., 2., 2., 1., 2., 2., 1., 2.,\n",
      "       1., 2., 2., 1., 2., 2., 2., 2., 2., 2., 2., 2., 1., 2., 2., 1., 1.,\n",
      "       1., 2., 1., 2., 2., 2., 2., 1., 2., 2., 2., 2., 1., 2., 1., 2., 1.,\n",
      "       1., 1., 1., 2., 2., 2., 2., 2., 2., 2., 1., 2., 2., 2., 1., 2., 2.,\n",
      "       1., 2., 2., 2., 2., 2., 2., 2., 2., 2., 2., 1., 2., 2., 2., 2., 2.,\n",
      "       2., 2., 2., 2., 2., 2., 2., 2., 2., 2., 2., 2., 2., 2., 2., 2., 2.,\n",
      "       1., 2., 2., 2., 2., 2., 2., 2., 2., 1., 2., 2., 2., 2., 1., 2., 2.,\n",
      "       2., 2., 1., 2., 2., 2., 1., 1., 1., 2., 2., 1., 1., 2., 1., 2., 1.,\n",
      "       1., 2., 1., 2., 1., 1., 1., 1., 1., 2., 2., 2., 2., 2., 2., 1., 2.,\n",
      "       2., 2., 2., 2., 2., 2., 2., 1., 2., 2., 2., 2., 2., 2., 2., 2., 1.,\n",
      "       2., 1., 2., 2., 1., 2., 2., 1., 1., 2., 2., 1., 2., 2., 2., 1., 2.,\n",
      "       2., 2., 2., 2., 2., 2., 2., 2., 2., 1., 2., 2., 2., 1., 2., 2., 1.,\n",
      "       2., 1., 2., 2., 2., 2., 1., 2., 2., 2., 2., 2., 2., 2., 2., 1., 2.,\n",
      "       2., 1., 1., 2., 2., 2., 2., 1., 1., 1., 2., 2., 1., 2., 2., 1., 2.,\n",
      "       2., 2., 2., 1., 2., 1., 2., 1., 2., 1., 1., 2., 2., 2., 2., 2., 1.,\n",
      "       2., 1., 2., 1., 2., 2., 2., 1., 2., 2., 2., 1., 2., 1., 2., 2., 2.,\n",
      "       1., 2., 2., 2., 2., 2., 2., 2., 2., 2., 2., 1., 2., 2., 2., 2., 2.,\n",
      "       2., 2., 1., 2., 2., 2., 2., 2., 1., 1., 2., 2., 2., 2., 1., 2., 2.,\n",
      "       2., 2., 1., 2., 2., 2., 2., 2., 2., 1., 2., 1., 2., 2., 2., 1., 2.,\n",
      "       1., 2., 1., 2., 1., 1., 2., 2., 2., 2., 2., 2., 2., 1., 2., 1., 2.,\n",
      "       2., 2., 2., 2., 2., 1.]))\n",
      "('Accuracy:', 0.5484496124031008)\n",
      "[[ 79 176]\n",
      " [ 57 204]]\n",
      "              precision    recall  f1-score   support\n",
      "\n",
      "         1.0       0.58      0.31      0.40       255\n",
      "         2.0       0.54      0.78      0.64       261\n",
      "\n",
      "   micro avg       0.55      0.55      0.55       516\n",
      "   macro avg       0.56      0.55      0.52       516\n",
      "weighted avg       0.56      0.55      0.52       516\n",
      "\n",
      "0.671974990306\n"
     ]
    }
   ],
   "source": [
    "#preparing training and test data\n",
    "x=df_downsampled[[\"exercise14\"]] #source feature\n",
    "y=df_downsampled[[\"diabetes14\"]] #target feature\n",
    "algo=LogisticRegression(random_state=0, solver='lbfgs',multi_class='multinomial') #rmse=0.6197\n",
    "# algo=svm.SVC(gamma='scale') #emse=1.1806\n",
    "# algo = GaussianNB() #rmse=1.2156\n",
    "# algo=DecisionTreeClassifier() #rmse=1.4330\n",
    "model_apply(x,y,1,1)"
   ]
  },
  {
   "cell_type": "markdown",
   "metadata": {},
   "source": [
    "After both Up and Down sampling the rmse is near about remains 0.66"
   ]
  },
  {
   "cell_type": "markdown",
   "metadata": {},
   "source": [
    "# Marital Status vs Cardio Vascular Health"
   ]
  },
  {
   "cell_type": "code",
   "execution_count": 68,
   "metadata": {},
   "outputs": [],
   "source": [
    "df_martial=df[[\"maritalstatus14\",\"toldhighbp14\",\"generalhealth\"]]\n",
    "df_martial=df_martial.dropna()"
   ]
  },
  {
   "cell_type": "code",
   "execution_count": 71,
   "metadata": {},
   "outputs": [
    {
     "name": "stdout",
     "output_type": "stream",
     "text": [
      "('Predicted Value:', array([2., 2., 2., ..., 2., 2., 2.]))\n",
      "('Accuracy:', 0.6676190476190477)\n",
      "[[   0  698]\n",
      " [   0 1402]]\n",
      "              precision    recall  f1-score   support\n",
      "\n",
      "         1.0       0.00      0.00      0.00       698\n",
      "         2.0       0.67      1.00      0.80      1402\n",
      "\n",
      "   micro avg       0.67      0.67      0.67      2100\n",
      "   macro avg       0.33      0.50      0.40      2100\n",
      "weighted avg       0.45      0.67      0.53      2100\n",
      "\n",
      "0.576524893115\n"
     ]
    }
   ],
   "source": [
    "#preparing training and test data\n",
    "x=df_martial[[\"maritalstatus14\"]] #source feature\n",
    "y=df_martial[[\"toldhighbp14\"]] #target feature\n",
    "algo=LogisticRegression(random_state=0, solver='lbfgs',multi_class='multinomial') #rmse=0.5765\n",
    "# algo=svm.SVC(gamma='scale') #emse=1.1806\n",
    "# algo = GaussianNB() #rmse=1.2156\n",
    "# algo=DecisionTreeClassifier() #rmse=1.4330\n",
    "model_apply(x,y,1,1)"
   ]
  },
  {
   "cell_type": "markdown",
   "metadata": {},
   "source": [
    "# Marital Status vs General Health Status"
   ]
  },
  {
   "cell_type": "code",
   "execution_count": 73,
   "metadata": {},
   "outputs": [
    {
     "name": "stdout",
     "output_type": "stream",
     "text": [
      "('Predicted Value:', array([3., 3., 3., ..., 3., 3., 3.]))\n",
      "('Accuracy:', 0.32571428571428573)\n",
      "[[  0   0 379   0   0]\n",
      " [  0   0 546   0   0]\n",
      " [  0   0 684   0   0]\n",
      " [  0   0 373   0   0]\n",
      " [  0   0 118   0   0]]\n",
      "              precision    recall  f1-score   support\n",
      "\n",
      "         1.0       0.00      0.00      0.00       379\n",
      "         2.0       0.00      0.00      0.00       546\n",
      "         3.0       0.33      1.00      0.49       684\n",
      "         4.0       0.00      0.00      0.00       373\n",
      "         5.0       0.00      0.00      0.00       118\n",
      "\n",
      "   micro avg       0.33      0.33      0.33      2100\n",
      "   macro avg       0.07      0.20      0.10      2100\n",
      "weighted avg       0.11      0.33      0.16      2100\n",
      "\n",
      "1.17655671954\n"
     ]
    }
   ],
   "source": [
    "#preparing training and test data\n",
    "x=df_martial[[\"maritalstatus14\"]] #source feature\n",
    "y=df_martial[[\"generalhealth\"]] #target feature\n",
    "algo=LogisticRegression(random_state=0, solver='lbfgs',multi_class='multinomial') #rmse=1.1765\n",
    "# algo=svm.SVC(gamma='scale') #emse=1.1806\n",
    "# algo = GaussianNB() #rmse=1.2156\n",
    "# algo=DecisionTreeClassifier() #rmse=1.4330\n",
    "model_apply(x,y,1,1)"
   ]
  },
  {
   "cell_type": "code",
   "execution_count": null,
   "metadata": {},
   "outputs": [],
   "source": []
  }
 ],
 "metadata": {
  "kernelspec": {
   "display_name": "Python 3",
   "language": "python",
   "name": "python3"
  },
  "language_info": {
   "codemirror_mode": {
    "name": "ipython",
    "version": 3
   },
   "file_extension": ".py",
   "mimetype": "text/x-python",
   "name": "python",
   "nbconvert_exporter": "python",
   "pygments_lexer": "ipython3",
   "version": "3.7.5"
  }
 },
 "nbformat": 4,
 "nbformat_minor": 2
}
