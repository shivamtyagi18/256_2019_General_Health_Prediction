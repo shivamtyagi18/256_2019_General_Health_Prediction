{
 "cells": [
  {
   "cell_type": "code",
   "execution_count": 1,
   "metadata": {},
   "outputs": [],
   "source": [
    "import pandas as pd\n",
    "import numpy as np\n",
    "from pandas import DataFrame\n",
    "import math\n",
    "import matplotlib.pyplot as plt\n",
    "from scipy.stats import norm, entropy \n",
    "from scipy.stats import probplot\n",
    "import matplotlib.pyplot as plt\n",
    "from scipy.stats import logistic\n",
    "from sklearn.model_selection import train_test_split\n",
    "from sklearn.linear_model import LogisticRegression\n",
    "from sklearn import metrics\n",
    "from sklearn.utils import resample\n",
    "from sklearn import svm\n",
    "from sklearn.tree import DecisionTreeClassifier\n",
    "from sklearn.metrics import classification_report, confusion_matrix, roc_curve\n",
    "from scipy.spatial.distance import cosine, correlation\n",
    "import seaborn as sns\n",
    "from sklearn.decomposition import PCA\n",
    "from sklearn.preprocessing import StandardScaler\n",
    "from sklearn.decomposition import TruncatedSVD\n",
    "from sklearn.linear_model import Perceptron"
   ]
  },
  {
   "cell_type": "code",
   "execution_count": 2,
   "metadata": {},
   "outputs": [],
   "source": [
    "df  = pd.read_csv('/Users/hiteshbhatia/Downloads/chs2014_public.csv')"
   ]
  },
  {
   "cell_type": "markdown",
   "metadata": {},
   "source": [
    "**Pre Processing the Data**\n",
    "We will first proceed with doing the analysis on the HIV Testing. We will be analysing the HIV with the general health as the target variable."
   ]
  },
  {
   "cell_type": "code",
   "execution_count": 3,
   "metadata": {},
   "outputs": [
    {
     "data": {
      "text/plain": [
       "cid                0\n",
       "hiv12months14    202\n",
       "everhivtest14    282\n",
       "generalhealth     62\n",
       "dtype: int64"
      ]
     },
     "execution_count": 3,
     "metadata": {},
     "output_type": "execute_result"
    }
   ],
   "source": [
    "hiv_df = df[['cid','hiv12months14','everhivtest14','generalhealth']]\n",
    "#Checking the null values\n",
    "hiv_df.isnull().sum()"
   ]
  },
  {
   "cell_type": "code",
   "execution_count": 4,
   "metadata": {},
   "outputs": [
    {
     "data": {
      "text/html": [
       "<div>\n",
       "<style scoped>\n",
       "    .dataframe tbody tr th:only-of-type {\n",
       "        vertical-align: middle;\n",
       "    }\n",
       "\n",
       "    .dataframe tbody tr th {\n",
       "        vertical-align: top;\n",
       "    }\n",
       "\n",
       "    .dataframe thead th {\n",
       "        text-align: right;\n",
       "    }\n",
       "</style>\n",
       "<table border=\"1\" class=\"dataframe\">\n",
       "  <thead>\n",
       "    <tr style=\"text-align: right;\">\n",
       "      <th></th>\n",
       "      <th>cid</th>\n",
       "      <th>hiv12months14</th>\n",
       "      <th>everhivtest14</th>\n",
       "      <th>generalhealth</th>\n",
       "    </tr>\n",
       "  </thead>\n",
       "  <tbody>\n",
       "    <tr>\n",
       "      <th>count</th>\n",
       "      <td>8.110000e+03</td>\n",
       "      <td>8110.000000</td>\n",
       "      <td>8110.000000</td>\n",
       "      <td>8110.000000</td>\n",
       "    </tr>\n",
       "    <tr>\n",
       "      <th>mean</th>\n",
       "      <td>1.507125e+06</td>\n",
       "      <td>1.672133</td>\n",
       "      <td>1.365475</td>\n",
       "      <td>2.685450</td>\n",
       "    </tr>\n",
       "    <tr>\n",
       "      <th>std</th>\n",
       "      <td>5.129777e+03</td>\n",
       "      <td>0.469465</td>\n",
       "      <td>0.481593</td>\n",
       "      <td>1.128045</td>\n",
       "    </tr>\n",
       "    <tr>\n",
       "      <th>min</th>\n",
       "      <td>1.500001e+06</td>\n",
       "      <td>1.000000</td>\n",
       "      <td>1.000000</td>\n",
       "      <td>1.000000</td>\n",
       "    </tr>\n",
       "    <tr>\n",
       "      <th>25%</th>\n",
       "      <td>1.502162e+06</td>\n",
       "      <td>1.000000</td>\n",
       "      <td>1.000000</td>\n",
       "      <td>2.000000</td>\n",
       "    </tr>\n",
       "    <tr>\n",
       "      <th>50%</th>\n",
       "      <td>1.504310e+06</td>\n",
       "      <td>2.000000</td>\n",
       "      <td>1.000000</td>\n",
       "      <td>3.000000</td>\n",
       "    </tr>\n",
       "    <tr>\n",
       "      <th>75%</th>\n",
       "      <td>1.512108e+06</td>\n",
       "      <td>2.000000</td>\n",
       "      <td>2.000000</td>\n",
       "      <td>3.000000</td>\n",
       "    </tr>\n",
       "    <tr>\n",
       "      <th>max</th>\n",
       "      <td>1.514240e+06</td>\n",
       "      <td>2.000000</td>\n",
       "      <td>2.000000</td>\n",
       "      <td>5.000000</td>\n",
       "    </tr>\n",
       "  </tbody>\n",
       "</table>\n",
       "</div>"
      ],
      "text/plain": [
       "                cid  hiv12months14  everhivtest14  generalhealth\n",
       "count  8.110000e+03    8110.000000    8110.000000    8110.000000\n",
       "mean   1.507125e+06       1.672133       1.365475       2.685450\n",
       "std    5.129777e+03       0.469465       0.481593       1.128045\n",
       "min    1.500001e+06       1.000000       1.000000       1.000000\n",
       "25%    1.502162e+06       1.000000       1.000000       2.000000\n",
       "50%    1.504310e+06       2.000000       1.000000       3.000000\n",
       "75%    1.512108e+06       2.000000       2.000000       3.000000\n",
       "max    1.514240e+06       2.000000       2.000000       5.000000"
      ]
     },
     "execution_count": 4,
     "metadata": {},
     "output_type": "execute_result"
    }
   ],
   "source": [
    "#Dropping all the columns having the Null values\n",
    "hiv_df = hiv_df.dropna()\n",
    "hiv_df.describe()"
   ]
  },
  {
   "cell_type": "code",
   "execution_count": 5,
   "metadata": {},
   "outputs": [
    {
     "data": {
      "text/html": [
       "<div>\n",
       "<style scoped>\n",
       "    .dataframe tbody tr th:only-of-type {\n",
       "        vertical-align: middle;\n",
       "    }\n",
       "\n",
       "    .dataframe tbody tr th {\n",
       "        vertical-align: top;\n",
       "    }\n",
       "\n",
       "    .dataframe thead th {\n",
       "        text-align: right;\n",
       "    }\n",
       "</style>\n",
       "<table border=\"1\" class=\"dataframe\">\n",
       "  <thead>\n",
       "    <tr style=\"text-align: right;\">\n",
       "      <th></th>\n",
       "      <th>cid</th>\n",
       "      <th>hiv12months14</th>\n",
       "      <th>everhivtest14</th>\n",
       "      <th>generalhealth</th>\n",
       "    </tr>\n",
       "  </thead>\n",
       "  <tbody>\n",
       "    <tr>\n",
       "      <th>cid</th>\n",
       "      <td>1.000000</td>\n",
       "      <td>-0.125867</td>\n",
       "      <td>-0.116881</td>\n",
       "      <td>-0.038125</td>\n",
       "    </tr>\n",
       "    <tr>\n",
       "      <th>hiv12months14</th>\n",
       "      <td>-0.125867</td>\n",
       "      <td>1.000000</td>\n",
       "      <td>0.530060</td>\n",
       "      <td>-0.014994</td>\n",
       "    </tr>\n",
       "    <tr>\n",
       "      <th>everhivtest14</th>\n",
       "      <td>-0.116881</td>\n",
       "      <td>0.530060</td>\n",
       "      <td>1.000000</td>\n",
       "      <td>0.029357</td>\n",
       "    </tr>\n",
       "    <tr>\n",
       "      <th>generalhealth</th>\n",
       "      <td>-0.038125</td>\n",
       "      <td>-0.014994</td>\n",
       "      <td>0.029357</td>\n",
       "      <td>1.000000</td>\n",
       "    </tr>\n",
       "  </tbody>\n",
       "</table>\n",
       "</div>"
      ],
      "text/plain": [
       "                    cid  hiv12months14  everhivtest14  generalhealth\n",
       "cid            1.000000      -0.125867      -0.116881      -0.038125\n",
       "hiv12months14 -0.125867       1.000000       0.530060      -0.014994\n",
       "everhivtest14 -0.116881       0.530060       1.000000       0.029357\n",
       "generalhealth -0.038125      -0.014994       0.029357       1.000000"
      ]
     },
     "execution_count": 5,
     "metadata": {},
     "output_type": "execute_result"
    }
   ],
   "source": [
    "corr_1 = hiv_df.corr()\n",
    "corr_1"
   ]
  },
  {
   "cell_type": "markdown",
   "metadata": {},
   "source": [
    "It seems like the variable **hiv12months14** (Have you had an HIV test in the last 12 months?) is very less correlated and thus can be dropped."
   ]
  },
  {
   "cell_type": "markdown",
   "metadata": {},
   "source": [
    "# Prediction / RMSE"
   ]
  },
  {
   "cell_type": "code",
   "execution_count": 6,
   "metadata": {},
   "outputs": [],
   "source": [
    "#[1]https://scikit-learn.org/stable/modules/generated/sklearn.decomposition.TruncatedSVD.html\n",
    "#[2]https://scikit-learn.org/stable/modules/generated/sklearn.linear_model.LogisticRegression.html\n",
    "from sklearn.random_projection import sparse_random_matrix\n",
    "from sklearn.naive_bayes import GaussianNB\n",
    "from sklearn.metrics import mean_squared_error\n",
    "from math import sqrt\n",
    "\n",
    "#function for rmse calculation of model\n",
    "def model_apply(x,y,algo,n):\n",
    "    x_train, x_test, y_train, y_test = train_test_split(x,y,test_size=0.25,random_state=0)\n",
    "    scaler = StandardScaler()\n",
    "    # Fit on training set only.\n",
    "    scaler.fit(x_train)\n",
    "    # Apply transform to both the training set and the test set.\n",
    "    x_train = scaler.transform(x_train)\n",
    "    x_test = scaler.transform(x_test)\n",
    "    \n",
    "    pca = PCA(n_components=n,tol=.95)\n",
    "    pca.fit(x_test)\n",
    "    print(pca.explained_variance_ratio_) \n",
    "    \n",
    "    x_train = pca.transform(x_train)\n",
    "    x_test = pca.transform(x_test)\n",
    "    \n",
    "#     principalDf = pd.DataFrame(data = x_train\n",
    "#              , columns = ['pc1', 'pc2','pc3'])\n",
    "#     print(principalDf)\n",
    "\n",
    "    #model selection\n",
    "    if algo==1:\n",
    "        model=LogisticRegression(random_state=0, solver='lbfgs',multi_class='multinomial',max_iter=200)\n",
    "    elif algo==2:\n",
    "        model=GaussianNB()\n",
    "    elif algo==3:\n",
    "        model=DecisionTreeClassifier()\n",
    "    elif algo==4:\n",
    "        model=svm.SVC(gamma='scale')\n",
    "    elif algo==5:\n",
    "        model=Perceptron(tol=1e-3, random_state=0)\n",
    "        \n",
    "        # Train the model using the training sets\n",
    "    model.fit(x_train,y_train.values.ravel())\n",
    "\n",
    "    # Predict Output\n",
    "    y_pred = model.predict(x_test)\n",
    "    print (\"Predicted Value:\", y_pred)\n",
    "    print(\"Accuracy:\",metrics.accuracy_score(y_test, y_pred))\n",
    "    print(confusion_matrix(y_test,y_pred))\n",
    "    print(classification_report(y_test,y_pred))\n",
    "    rmse = sqrt(mean_squared_error(y_test, y_pred))\n",
    "    return(rmse)\n",
    "\n",
    "def plot_correlation_map( df ):\n",
    "    corr = df.corr()\n",
    "    _ , ax = plt.subplots( figsize =( 12 , 10 ) )\n",
    "    cmap = sns.diverging_palette( 220 , 10 , as_cmap = True )\n",
    "    _ = sns.heatmap(\n",
    "        corr, \n",
    "        cmap = cmap,\n",
    "        square=True, \n",
    "        cbar_kws={ 'shrink' : .9 }, \n",
    "        ax=ax, \n",
    "        annot = True, \n",
    "        annot_kws = { 'fontsize' : 12 }\n",
    "    )"
   ]
  },
  {
   "cell_type": "code",
   "execution_count": 7,
   "metadata": {},
   "outputs": [],
   "source": [
    "#preparing training and test data\n",
    "x=hiv_df[[\"everhivtest14\"]] \n",
    "y=hiv_df[[\"generalhealth\"]] "
   ]
  },
  {
   "cell_type": "code",
   "execution_count": 8,
   "metadata": {},
   "outputs": [
    {
     "name": "stdout",
     "output_type": "stream",
     "text": [
      "[1.]\n",
      "Predicted Value: [3. 3. 3. ... 3. 3. 3.]\n",
      "Accuracy: 0.3121301775147929\n",
      "[[  0   0 397   0   0]\n",
      " [  0   0 530   0   0]\n",
      " [  0   0 633   0   0]\n",
      " [  0   0 345   0   0]\n",
      " [  0   0 123   0   0]]\n",
      "              precision    recall  f1-score   support\n",
      "\n",
      "         1.0       0.00      0.00      0.00       397\n",
      "         2.0       0.00      0.00      0.00       530\n",
      "         3.0       0.31      1.00      0.48       633\n",
      "         4.0       0.00      0.00      0.00       345\n",
      "         5.0       0.00      0.00      0.00       123\n",
      "\n",
      "    accuracy                           0.31      2028\n",
      "   macro avg       0.06      0.20      0.10      2028\n",
      "weighted avg       0.10      0.31      0.15      2028\n",
      "\n"
     ]
    },
    {
     "name": "stderr",
     "output_type": "stream",
     "text": [
      "//anaconda3/lib/python3.7/site-packages/sklearn/metrics/classification.py:1437: UndefinedMetricWarning: Precision and F-score are ill-defined and being set to 0.0 in labels with no predicted samples.\n",
      "  'precision', 'predicted', average, warn_for)\n"
     ]
    },
    {
     "data": {
      "text/plain": [
       "1.2071042174211704"
      ]
     },
     "execution_count": 8,
     "metadata": {},
     "output_type": "execute_result"
    }
   ],
   "source": [
    "model_apply(x,y,3,1)"
   ]
  },
  {
   "cell_type": "markdown",
   "metadata": {},
   "source": [
    "**Analysing the Immunization Data**"
   ]
  },
  {
   "cell_type": "code",
   "execution_count": 9,
   "metadata": {},
   "outputs": [
    {
     "data": {
      "text/plain": [
       "cid                0\n",
       "fluvaccineshot    36\n",
       "generalhealth     62\n",
       "dtype: int64"
      ]
     },
     "execution_count": 9,
     "metadata": {},
     "output_type": "execute_result"
    }
   ],
   "source": [
    "imm_df = df[['cid','fluvaccineshot','generalhealth']]\n",
    "imm_df.isnull().sum()"
   ]
  },
  {
   "cell_type": "code",
   "execution_count": 10,
   "metadata": {},
   "outputs": [
    {
     "data": {
      "text/html": [
       "<div>\n",
       "<style scoped>\n",
       "    .dataframe tbody tr th:only-of-type {\n",
       "        vertical-align: middle;\n",
       "    }\n",
       "\n",
       "    .dataframe tbody tr th {\n",
       "        vertical-align: top;\n",
       "    }\n",
       "\n",
       "    .dataframe thead th {\n",
       "        text-align: right;\n",
       "    }\n",
       "</style>\n",
       "<table border=\"1\" class=\"dataframe\">\n",
       "  <thead>\n",
       "    <tr style=\"text-align: right;\">\n",
       "      <th></th>\n",
       "      <th>cid</th>\n",
       "      <th>fluvaccineshot</th>\n",
       "      <th>generalhealth</th>\n",
       "    </tr>\n",
       "  </thead>\n",
       "  <tbody>\n",
       "    <tr>\n",
       "      <th>count</th>\n",
       "      <td>8.465000e+03</td>\n",
       "      <td>8465.000000</td>\n",
       "      <td>8465.000000</td>\n",
       "    </tr>\n",
       "    <tr>\n",
       "      <th>mean</th>\n",
       "      <td>1.507098e+06</td>\n",
       "      <td>1.526994</td>\n",
       "      <td>2.691672</td>\n",
       "    </tr>\n",
       "    <tr>\n",
       "      <th>std</th>\n",
       "      <td>5.129939e+03</td>\n",
       "      <td>0.499300</td>\n",
       "      <td>1.132380</td>\n",
       "    </tr>\n",
       "    <tr>\n",
       "      <th>min</th>\n",
       "      <td>1.500001e+06</td>\n",
       "      <td>1.000000</td>\n",
       "      <td>1.000000</td>\n",
       "    </tr>\n",
       "    <tr>\n",
       "      <th>25%</th>\n",
       "      <td>1.502148e+06</td>\n",
       "      <td>1.000000</td>\n",
       "      <td>2.000000</td>\n",
       "    </tr>\n",
       "    <tr>\n",
       "      <th>50%</th>\n",
       "      <td>1.504283e+06</td>\n",
       "      <td>2.000000</td>\n",
       "      <td>3.000000</td>\n",
       "    </tr>\n",
       "    <tr>\n",
       "      <th>75%</th>\n",
       "      <td>1.512105e+06</td>\n",
       "      <td>2.000000</td>\n",
       "      <td>3.000000</td>\n",
       "    </tr>\n",
       "    <tr>\n",
       "      <th>max</th>\n",
       "      <td>1.514240e+06</td>\n",
       "      <td>2.000000</td>\n",
       "      <td>5.000000</td>\n",
       "    </tr>\n",
       "  </tbody>\n",
       "</table>\n",
       "</div>"
      ],
      "text/plain": [
       "                cid  fluvaccineshot  generalhealth\n",
       "count  8.465000e+03     8465.000000    8465.000000\n",
       "mean   1.507098e+06        1.526994       2.691672\n",
       "std    5.129939e+03        0.499300       1.132380\n",
       "min    1.500001e+06        1.000000       1.000000\n",
       "25%    1.502148e+06        1.000000       2.000000\n",
       "50%    1.504283e+06        2.000000       3.000000\n",
       "75%    1.512105e+06        2.000000       3.000000\n",
       "max    1.514240e+06        2.000000       5.000000"
      ]
     },
     "execution_count": 10,
     "metadata": {},
     "output_type": "execute_result"
    }
   ],
   "source": [
    "imm_df = imm_df.dropna()\n",
    "imm_df.describe()"
   ]
  },
  {
   "cell_type": "code",
   "execution_count": 11,
   "metadata": {},
   "outputs": [
    {
     "data": {
      "text/html": [
       "<div>\n",
       "<style scoped>\n",
       "    .dataframe tbody tr th:only-of-type {\n",
       "        vertical-align: middle;\n",
       "    }\n",
       "\n",
       "    .dataframe tbody tr th {\n",
       "        vertical-align: top;\n",
       "    }\n",
       "\n",
       "    .dataframe thead th {\n",
       "        text-align: right;\n",
       "    }\n",
       "</style>\n",
       "<table border=\"1\" class=\"dataframe\">\n",
       "  <thead>\n",
       "    <tr style=\"text-align: right;\">\n",
       "      <th></th>\n",
       "      <th>cid</th>\n",
       "      <th>fluvaccineshot</th>\n",
       "      <th>generalhealth</th>\n",
       "    </tr>\n",
       "  </thead>\n",
       "  <tbody>\n",
       "    <tr>\n",
       "      <th>cid</th>\n",
       "      <td>1.000000</td>\n",
       "      <td>0.111193</td>\n",
       "      <td>-0.039640</td>\n",
       "    </tr>\n",
       "    <tr>\n",
       "      <th>fluvaccineshot</th>\n",
       "      <td>0.111193</td>\n",
       "      <td>1.000000</td>\n",
       "      <td>-0.089133</td>\n",
       "    </tr>\n",
       "    <tr>\n",
       "      <th>generalhealth</th>\n",
       "      <td>-0.039640</td>\n",
       "      <td>-0.089133</td>\n",
       "      <td>1.000000</td>\n",
       "    </tr>\n",
       "  </tbody>\n",
       "</table>\n",
       "</div>"
      ],
      "text/plain": [
       "                     cid  fluvaccineshot  generalhealth\n",
       "cid             1.000000        0.111193      -0.039640\n",
       "fluvaccineshot  0.111193        1.000000      -0.089133\n",
       "generalhealth  -0.039640       -0.089133       1.000000"
      ]
     },
     "execution_count": 11,
     "metadata": {},
     "output_type": "execute_result"
    }
   ],
   "source": [
    "corr_2 = imm_df.corr()\n",
    "corr_2"
   ]
  },
  {
   "cell_type": "markdown",
   "metadata": {},
   "source": [
    "The variable fluvaccineshot (During the past 12 months, have you had a flu shot in your arm or a flu vaccine that was sprayed in your nose?) is negatively correlated with the general health and thus we can drop this feature."
   ]
  },
  {
   "cell_type": "code",
   "execution_count": 12,
   "metadata": {},
   "outputs": [],
   "source": [
    "#preparing training and test data\n",
    "x=imm_df[[\"fluvaccineshot\"]] \n",
    "y=imm_df[[\"generalhealth\"]] "
   ]
  },
  {
   "cell_type": "code",
   "execution_count": 13,
   "metadata": {},
   "outputs": [
    {
     "name": "stdout",
     "output_type": "stream",
     "text": [
      "[1.]\n",
      "Predicted Value: [3. 3. 3. ... 3. 3. 3.]\n",
      "Accuracy: 0.3344355219650449\n",
      "[[  0   0 350   0   0]\n",
      " [  0   0 565   0   0]\n",
      " [  0   0 708   0   0]\n",
      " [  0   0 373   0   0]\n",
      " [  0   0 121   0   0]]\n",
      "              precision    recall  f1-score   support\n",
      "\n",
      "         1.0       0.00      0.00      0.00       350\n",
      "         2.0       0.00      0.00      0.00       565\n",
      "         3.0       0.33      1.00      0.50       708\n",
      "         4.0       0.00      0.00      0.00       373\n",
      "         5.0       0.00      0.00      0.00       121\n",
      "\n",
      "    accuracy                           0.33      2117\n",
      "   macro avg       0.07      0.20      0.10      2117\n",
      "weighted avg       0.11      0.33      0.17      2117\n",
      "\n"
     ]
    },
    {
     "name": "stderr",
     "output_type": "stream",
     "text": [
      "//anaconda3/lib/python3.7/site-packages/sklearn/metrics/classification.py:1437: UndefinedMetricWarning: Precision and F-score are ill-defined and being set to 0.0 in labels with no predicted samples.\n",
      "  'precision', 'predicted', average, warn_for)\n"
     ]
    },
    {
     "data": {
      "text/plain": [
       "1.1545641698475237"
      ]
     },
     "execution_count": 13,
     "metadata": {},
     "output_type": "execute_result"
    }
   ],
   "source": [
    "model_apply(x,y,3,1)"
   ]
  },
  {
   "cell_type": "markdown",
   "metadata": {},
   "source": [
    "**Analysing the Sexual Behavior**"
   ]
  },
  {
   "cell_type": "code",
   "execution_count": 14,
   "metadata": {},
   "outputs": [
    {
     "data": {
      "text/plain": [
       "cid                     0\n",
       "sexbehav_active14    3487\n",
       "sexuallyactive14      821\n",
       "sexpartner            821\n",
       "wsw                  6024\n",
       "wswexclusive         6008\n",
       "msm                  6052\n",
       "msmexclusive         6046\n",
       "condom14             3563\n",
       "condomusetrend       4222\n",
       "analsex              3606\n",
       "analsexcondomuse     8152\n",
       "generalhealth          62\n",
       "dtype: int64"
      ]
     },
     "execution_count": 14,
     "metadata": {},
     "output_type": "execute_result"
    }
   ],
   "source": [
    "sex_df = df[['cid','sexbehav_active14','sexuallyactive14','sexpartner','wsw','wswexclusive','msm','msmexclusive','condom14','condomusetrend','analsex','analsexcondomuse','generalhealth']]\n",
    "sex_df.isnull().sum()"
   ]
  },
  {
   "cell_type": "code",
   "execution_count": 78,
   "metadata": {},
   "outputs": [
    {
     "data": {
      "image/png": "[encoded data removed]",
      "text/plain": [
       "<Figure size 864x720 with 2 Axes>"
      ]
     },
     "metadata": {},
     "output_type": "display_data"
    }
   ],
   "source": [
    "plot_correlation_map(sex_df)"
   ]
  },
  {
   "cell_type": "markdown",
   "metadata": {},
   "source": [
    "Among all the features in the Sexual Behavior, only 3 features looks useful to me. **imputed_sexuallyactive18**(Sexually active in past 12 months), **imputed_sexpartner** (Number of male and female sex partners in the past 12 months) and **pcpsexhistory** (Thinking about the last time you visited your personal doctor or health care provider, did he or she ask you any questions about your sexual history?)."
   ]
  },
  {
   "cell_type": "code",
   "execution_count": 26,
   "metadata": {},
   "outputs": [
    {
     "data": {
      "text/plain": [
       "cid                   0\n",
       "sexpartner          821\n",
       "sexuallyactive14    821\n",
       "generalhealth        62\n",
       "dtype: int64"
      ]
     },
     "execution_count": 26,
     "metadata": {},
     "output_type": "execute_result"
    }
   ],
   "source": [
    "sex_df = df[['cid','sexpartner','sexuallyactive14','generalhealth']]\n",
    "sex_df.isnull().sum()\n"
   ]
  },
  {
   "cell_type": "code",
   "execution_count": 27,
   "metadata": {},
   "outputs": [
    {
     "data": {
      "text/html": [
       "<div>\n",
       "<style scoped>\n",
       "    .dataframe tbody tr th:only-of-type {\n",
       "        vertical-align: middle;\n",
       "    }\n",
       "\n",
       "    .dataframe tbody tr th {\n",
       "        vertical-align: top;\n",
       "    }\n",
       "\n",
       "    .dataframe thead th {\n",
       "        text-align: right;\n",
       "    }\n",
       "</style>\n",
       "<table border=\"1\" class=\"dataframe\">\n",
       "  <thead>\n",
       "    <tr style=\"text-align: right;\">\n",
       "      <th></th>\n",
       "      <th>cid</th>\n",
       "      <th>sexpartner</th>\n",
       "      <th>sexuallyactive14</th>\n",
       "      <th>generalhealth</th>\n",
       "    </tr>\n",
       "  </thead>\n",
       "  <tbody>\n",
       "    <tr>\n",
       "      <th>count</th>\n",
       "      <td>7.687000e+03</td>\n",
       "      <td>7687.000000</td>\n",
       "      <td>7687.000000</td>\n",
       "      <td>7687.000000</td>\n",
       "    </tr>\n",
       "    <tr>\n",
       "      <th>mean</th>\n",
       "      <td>1.507123e+06</td>\n",
       "      <td>1.815793</td>\n",
       "      <td>1.342656</td>\n",
       "      <td>2.704436</td>\n",
       "    </tr>\n",
       "    <tr>\n",
       "      <th>std</th>\n",
       "      <td>5.136951e+03</td>\n",
       "      <td>0.760490</td>\n",
       "      <td>0.474629</td>\n",
       "      <td>1.135526</td>\n",
       "    </tr>\n",
       "    <tr>\n",
       "      <th>min</th>\n",
       "      <td>1.500001e+06</td>\n",
       "      <td>1.000000</td>\n",
       "      <td>1.000000</td>\n",
       "      <td>1.000000</td>\n",
       "    </tr>\n",
       "    <tr>\n",
       "      <th>25%</th>\n",
       "      <td>1.502138e+06</td>\n",
       "      <td>1.000000</td>\n",
       "      <td>1.000000</td>\n",
       "      <td>2.000000</td>\n",
       "    </tr>\n",
       "    <tr>\n",
       "      <th>50%</th>\n",
       "      <td>1.504307e+06</td>\n",
       "      <td>2.000000</td>\n",
       "      <td>1.000000</td>\n",
       "      <td>3.000000</td>\n",
       "    </tr>\n",
       "    <tr>\n",
       "      <th>75%</th>\n",
       "      <td>1.512122e+06</td>\n",
       "      <td>2.000000</td>\n",
       "      <td>2.000000</td>\n",
       "      <td>3.000000</td>\n",
       "    </tr>\n",
       "    <tr>\n",
       "      <th>max</th>\n",
       "      <td>1.514240e+06</td>\n",
       "      <td>4.000000</td>\n",
       "      <td>2.000000</td>\n",
       "      <td>5.000000</td>\n",
       "    </tr>\n",
       "  </tbody>\n",
       "</table>\n",
       "</div>"
      ],
      "text/plain": [
       "                cid   sexpartner  sexuallyactive14  generalhealth\n",
       "count  7.687000e+03  7687.000000       7687.000000    7687.000000\n",
       "mean   1.507123e+06     1.815793          1.342656       2.704436\n",
       "std    5.136951e+03     0.760490          0.474629       1.135526\n",
       "min    1.500001e+06     1.000000          1.000000       1.000000\n",
       "25%    1.502138e+06     1.000000          1.000000       2.000000\n",
       "50%    1.504307e+06     2.000000          1.000000       3.000000\n",
       "75%    1.512122e+06     2.000000          2.000000       3.000000\n",
       "max    1.514240e+06     4.000000          2.000000       5.000000"
      ]
     },
     "execution_count": 27,
     "metadata": {},
     "output_type": "execute_result"
    }
   ],
   "source": [
    "sex_df_f = sex_df.dropna()\n",
    "sex_df_f.describe()"
   ]
  },
  {
   "cell_type": "code",
   "execution_count": 28,
   "metadata": {},
   "outputs": [
    {
     "data": {
      "image/png": "[encoded data removed]",
      "text/plain": [
       "<Figure size 864x720 with 2 Axes>"
      ]
     },
     "metadata": {
      "needs_background": "light"
     },
     "output_type": "display_data"
    }
   ],
   "source": [
    "plot_correlation_map(sex_df)"
   ]
  },
  {
   "cell_type": "markdown",
   "metadata": {},
   "source": [
    "Let us use the above 3 features to predict the general health."
   ]
  },
  {
   "cell_type": "code",
   "execution_count": 29,
   "metadata": {},
   "outputs": [],
   "source": [
    "#preparing training and test data\n",
    "x=sex_df_f[['sexpartner','sexuallyactive14']] \n",
    "y=sex_df_f[[\"generalhealth\"]] "
   ]
  },
  {
   "cell_type": "code",
   "execution_count": 30,
   "metadata": {},
   "outputs": [
    {
     "name": "stdout",
     "output_type": "stream",
     "text": [
      "[0.88915208 0.11084792]\n",
      "Predicted Value: [3. 3. 3. ... 2. 3. 3.]\n",
      "Accuracy: 0.33610822060353795\n",
      "[[  0  18 291   0   0]\n",
      " [  0  34 450   0   0]\n",
      " [  0  32 612   0   0]\n",
      " [  0  13 353   0   0]\n",
      " [  0   5 114   0   0]]\n",
      "              precision    recall  f1-score   support\n",
      "\n",
      "         1.0       0.00      0.00      0.00       309\n",
      "         2.0       0.33      0.07      0.12       484\n",
      "         3.0       0.34      0.95      0.50       644\n",
      "         4.0       0.00      0.00      0.00       366\n",
      "         5.0       0.00      0.00      0.00       119\n",
      "\n",
      "    accuracy                           0.34      1922\n",
      "   macro avg       0.13      0.20      0.12      1922\n",
      "weighted avg       0.20      0.34      0.20      1922\n",
      "\n"
     ]
    },
    {
     "name": "stderr",
     "output_type": "stream",
     "text": [
      "//anaconda3/lib/python3.7/site-packages/sklearn/metrics/classification.py:1437: UndefinedMetricWarning: Precision and F-score are ill-defined and being set to 0.0 in labels with no predicted samples.\n",
      "  'precision', 'predicted', average, warn_for)\n"
     ]
    },
    {
     "data": {
      "text/plain": [
       "1.1563515050925754"
      ]
     },
     "execution_count": 30,
     "metadata": {},
     "output_type": "execute_result"
    }
   ],
   "source": [
    "model_apply(x,y,3,2)"
   ]
  },
  {
   "cell_type": "markdown",
   "metadata": {},
   "source": [
    "# Clubbing it All together"
   ]
  },
  {
   "cell_type": "code",
   "execution_count": 31,
   "metadata": {},
   "outputs": [
    {
     "data": {
      "text/plain": [
       "cid                   0\n",
       "everhivtest14       282\n",
       "sexpartner          821\n",
       "sexuallyactive14    821\n",
       "fluvaccineshot       36\n",
       "generalhealth        62\n",
       "dtype: int64"
      ]
     },
     "execution_count": 31,
     "metadata": {},
     "output_type": "execute_result"
    }
   ],
   "source": [
    "club_df = df[['cid','everhivtest14','sexpartner','sexuallyactive14','fluvaccineshot','generalhealth']]\n",
    "club_df.isnull().sum()"
   ]
  },
  {
   "cell_type": "code",
   "execution_count": 32,
   "metadata": {},
   "outputs": [
    {
     "data": {
      "text/html": [
       "<div>\n",
       "<style scoped>\n",
       "    .dataframe tbody tr th:only-of-type {\n",
       "        vertical-align: middle;\n",
       "    }\n",
       "\n",
       "    .dataframe tbody tr th {\n",
       "        vertical-align: top;\n",
       "    }\n",
       "\n",
       "    .dataframe thead th {\n",
       "        text-align: right;\n",
       "    }\n",
       "</style>\n",
       "<table border=\"1\" class=\"dataframe\">\n",
       "  <thead>\n",
       "    <tr style=\"text-align: right;\">\n",
       "      <th></th>\n",
       "      <th>cid</th>\n",
       "      <th>everhivtest14</th>\n",
       "      <th>sexpartner</th>\n",
       "      <th>sexuallyactive14</th>\n",
       "      <th>fluvaccineshot</th>\n",
       "      <th>generalhealth</th>\n",
       "    </tr>\n",
       "  </thead>\n",
       "  <tbody>\n",
       "    <tr>\n",
       "      <th>count</th>\n",
       "      <td>7.426000e+03</td>\n",
       "      <td>7426.000000</td>\n",
       "      <td>7426.000000</td>\n",
       "      <td>7426.000000</td>\n",
       "      <td>7426.000000</td>\n",
       "      <td>7426.000000</td>\n",
       "    </tr>\n",
       "    <tr>\n",
       "      <th>mean</th>\n",
       "      <td>1.507156e+06</td>\n",
       "      <td>1.356046</td>\n",
       "      <td>1.823323</td>\n",
       "      <td>1.338810</td>\n",
       "      <td>1.526528</td>\n",
       "      <td>2.704821</td>\n",
       "    </tr>\n",
       "    <tr>\n",
       "      <th>std</th>\n",
       "      <td>5.138993e+03</td>\n",
       "      <td>0.478861</td>\n",
       "      <td>0.764023</td>\n",
       "      <td>0.473337</td>\n",
       "      <td>0.499329</td>\n",
       "      <td>1.133213</td>\n",
       "    </tr>\n",
       "    <tr>\n",
       "      <th>min</th>\n",
       "      <td>1.500001e+06</td>\n",
       "      <td>1.000000</td>\n",
       "      <td>1.000000</td>\n",
       "      <td>1.000000</td>\n",
       "      <td>1.000000</td>\n",
       "      <td>1.000000</td>\n",
       "    </tr>\n",
       "    <tr>\n",
       "      <th>25%</th>\n",
       "      <td>1.502155e+06</td>\n",
       "      <td>1.000000</td>\n",
       "      <td>1.000000</td>\n",
       "      <td>1.000000</td>\n",
       "      <td>1.000000</td>\n",
       "      <td>2.000000</td>\n",
       "    </tr>\n",
       "    <tr>\n",
       "      <th>50%</th>\n",
       "      <td>1.510014e+06</td>\n",
       "      <td>1.000000</td>\n",
       "      <td>2.000000</td>\n",
       "      <td>1.000000</td>\n",
       "      <td>2.000000</td>\n",
       "      <td>3.000000</td>\n",
       "    </tr>\n",
       "    <tr>\n",
       "      <th>75%</th>\n",
       "      <td>1.512138e+06</td>\n",
       "      <td>2.000000</td>\n",
       "      <td>2.000000</td>\n",
       "      <td>2.000000</td>\n",
       "      <td>2.000000</td>\n",
       "      <td>3.000000</td>\n",
       "    </tr>\n",
       "    <tr>\n",
       "      <th>max</th>\n",
       "      <td>1.514240e+06</td>\n",
       "      <td>2.000000</td>\n",
       "      <td>4.000000</td>\n",
       "      <td>2.000000</td>\n",
       "      <td>2.000000</td>\n",
       "      <td>5.000000</td>\n",
       "    </tr>\n",
       "  </tbody>\n",
       "</table>\n",
       "</div>"
      ],
      "text/plain": [
       "                cid  everhivtest14   sexpartner  sexuallyactive14  \\\n",
       "count  7.426000e+03    7426.000000  7426.000000       7426.000000   \n",
       "mean   1.507156e+06       1.356046     1.823323          1.338810   \n",
       "std    5.138993e+03       0.478861     0.764023          0.473337   \n",
       "min    1.500001e+06       1.000000     1.000000          1.000000   \n",
       "25%    1.502155e+06       1.000000     1.000000          1.000000   \n",
       "50%    1.510014e+06       1.000000     2.000000          1.000000   \n",
       "75%    1.512138e+06       2.000000     2.000000          2.000000   \n",
       "max    1.514240e+06       2.000000     4.000000          2.000000   \n",
       "\n",
       "       fluvaccineshot  generalhealth  \n",
       "count     7426.000000    7426.000000  \n",
       "mean         1.526528       2.704821  \n",
       "std          0.499329       1.133213  \n",
       "min          1.000000       1.000000  \n",
       "25%          1.000000       2.000000  \n",
       "50%          2.000000       3.000000  \n",
       "75%          2.000000       3.000000  \n",
       "max          2.000000       5.000000  "
      ]
     },
     "execution_count": 32,
     "metadata": {},
     "output_type": "execute_result"
    }
   ],
   "source": [
    "club_df = club_df.dropna()\n",
    "club_df.describe()"
   ]
  },
  {
   "cell_type": "code",
   "execution_count": 34,
   "metadata": {},
   "outputs": [],
   "source": [
    "#preparing training and test data\n",
    "x=club_df[['everhivtest14','sexpartner','sexuallyactive14','fluvaccineshot']] \n",
    "y=club_df[[\"generalhealth\"]] "
   ]
  },
  {
   "cell_type": "code",
   "execution_count": 36,
   "metadata": {},
   "outputs": [
    {
     "name": "stdout",
     "output_type": "stream",
     "text": [
      "[0.47086801 0.24659264 0.2252727  0.05726666]\n",
      "Predicted Value: [3. 2. 3. ... 3. 2. 3.]\n",
      "Accuracy: 0.32417878298330643\n",
      "[[  0  95 209   0   0]\n",
      " [  0 132 352   0   0]\n",
      " [  0 133 470   0   0]\n",
      " [  0  57 285   0   0]\n",
      " [  0  10 114   0   0]]\n",
      "              precision    recall  f1-score   support\n",
      "\n",
      "         1.0       0.00      0.00      0.00       304\n",
      "         2.0       0.31      0.27      0.29       484\n",
      "         3.0       0.33      0.78      0.46       603\n",
      "         4.0       0.00      0.00      0.00       342\n",
      "         5.0       0.00      0.00      0.00       124\n",
      "\n",
      "    accuracy                           0.32      1857\n",
      "   macro avg       0.13      0.21      0.15      1857\n",
      "weighted avg       0.19      0.32      0.23      1857\n",
      "\n"
     ]
    },
    {
     "name": "stderr",
     "output_type": "stream",
     "text": [
      "//anaconda3/lib/python3.7/site-packages/sklearn/metrics/classification.py:1437: UndefinedMetricWarning: Precision and F-score are ill-defined and being set to 0.0 in labels with no predicted samples.\n",
      "  'precision', 'predicted', average, warn_for)\n"
     ]
    },
    {
     "data": {
      "text/plain": [
       "1.154467336208161"
      ]
     },
     "execution_count": 36,
     "metadata": {},
     "output_type": "execute_result"
    }
   ],
   "source": [
    "model_apply(x,y,3,4)"
   ]
  },
  {
   "cell_type": "markdown",
   "metadata": {},
   "source": [
    "**Correlating Number of Sex Partners with the HIV**"
   ]
  },
  {
   "cell_type": "code",
   "execution_count": 37,
   "metadata": {},
   "outputs": [
    {
     "data": {
      "text/plain": [
       "everhivtest14    282\n",
       "sexpartner       821\n",
       "dtype: int64"
      ]
     },
     "execution_count": 37,
     "metadata": {},
     "output_type": "execute_result"
    }
   ],
   "source": [
    "hiv_sp_df = df[['everhivtest14','sexpartner']]\n",
    "hiv_sp_df.isnull().sum()"
   ]
  },
  {
   "cell_type": "code",
   "execution_count": 38,
   "metadata": {},
   "outputs": [
    {
     "data": {
      "text/html": [
       "<div>\n",
       "<style scoped>\n",
       "    .dataframe tbody tr th:only-of-type {\n",
       "        vertical-align: middle;\n",
       "    }\n",
       "\n",
       "    .dataframe tbody tr th {\n",
       "        vertical-align: top;\n",
       "    }\n",
       "\n",
       "    .dataframe thead th {\n",
       "        text-align: right;\n",
       "    }\n",
       "</style>\n",
       "<table border=\"1\" class=\"dataframe\">\n",
       "  <thead>\n",
       "    <tr style=\"text-align: right;\">\n",
       "      <th></th>\n",
       "      <th>everhivtest14</th>\n",
       "      <th>sexpartner</th>\n",
       "    </tr>\n",
       "  </thead>\n",
       "  <tbody>\n",
       "    <tr>\n",
       "      <th>count</th>\n",
       "      <td>7507.000000</td>\n",
       "      <td>7507.000000</td>\n",
       "    </tr>\n",
       "    <tr>\n",
       "      <th>mean</th>\n",
       "      <td>1.357533</td>\n",
       "      <td>1.820168</td>\n",
       "    </tr>\n",
       "    <tr>\n",
       "      <th>std</th>\n",
       "      <td>0.479305</td>\n",
       "      <td>0.763826</td>\n",
       "    </tr>\n",
       "    <tr>\n",
       "      <th>min</th>\n",
       "      <td>1.000000</td>\n",
       "      <td>1.000000</td>\n",
       "    </tr>\n",
       "    <tr>\n",
       "      <th>25%</th>\n",
       "      <td>1.000000</td>\n",
       "      <td>1.000000</td>\n",
       "    </tr>\n",
       "    <tr>\n",
       "      <th>50%</th>\n",
       "      <td>1.000000</td>\n",
       "      <td>2.000000</td>\n",
       "    </tr>\n",
       "    <tr>\n",
       "      <th>75%</th>\n",
       "      <td>2.000000</td>\n",
       "      <td>2.000000</td>\n",
       "    </tr>\n",
       "    <tr>\n",
       "      <th>max</th>\n",
       "      <td>2.000000</td>\n",
       "      <td>4.000000</td>\n",
       "    </tr>\n",
       "  </tbody>\n",
       "</table>\n",
       "</div>"
      ],
      "text/plain": [
       "       everhivtest14   sexpartner\n",
       "count    7507.000000  7507.000000\n",
       "mean        1.357533     1.820168\n",
       "std         0.479305     0.763826\n",
       "min         1.000000     1.000000\n",
       "25%         1.000000     1.000000\n",
       "50%         1.000000     2.000000\n",
       "75%         2.000000     2.000000\n",
       "max         2.000000     4.000000"
      ]
     },
     "execution_count": 38,
     "metadata": {},
     "output_type": "execute_result"
    }
   ],
   "source": [
    "hiv_sp_df = hiv_sp_df.dropna()\n",
    "hiv_sp_df.describe()"
   ]
  },
  {
   "cell_type": "code",
   "execution_count": 39,
   "metadata": {},
   "outputs": [
    {
     "data": {
      "image/png": "[encoded data removed]",
      "text/plain": [
       "<Figure size 864x720 with 2 Axes>"
      ]
     },
     "metadata": {
      "needs_background": "light"
     },
     "output_type": "display_data"
    }
   ],
   "source": [
    "plot_correlation_map(hiv_sp_df)"
   ]
  },
  {
   "cell_type": "code",
   "execution_count": 41,
   "metadata": {},
   "outputs": [],
   "source": [
    "#preparing training and test data\n",
    "x=hiv_sp_df[[\"everhivtest14\"]] \n",
    "y=hiv_sp_df[[\"sexpartner\"]] "
   ]
  },
  {
   "cell_type": "code",
   "execution_count": 42,
   "metadata": {},
   "outputs": [
    {
     "name": "stdout",
     "output_type": "stream",
     "text": [
      "[1.]\n",
      "Predicted Value: [1. 2. 2. ... 2. 2. 2.]\n",
      "Accuracy: 0.5695258391049547\n",
      "[[324 322   0   0]\n",
      " [301 745   0   0]\n",
      " [ 10  69   0   0]\n",
      " [ 23  83   0   0]]\n",
      "              precision    recall  f1-score   support\n",
      "\n",
      "         1.0       0.49      0.50      0.50       646\n",
      "         2.0       0.61      0.71      0.66      1046\n",
      "         3.0       0.00      0.00      0.00        79\n",
      "         4.0       0.00      0.00      0.00       106\n",
      "\n",
      "    accuracy                           0.57      1877\n",
      "   macro avg       0.28      0.30      0.29      1877\n",
      "weighted avg       0.51      0.57      0.54      1877\n",
      "\n"
     ]
    },
    {
     "name": "stderr",
     "output_type": "stream",
     "text": [
      "//anaconda3/lib/python3.7/site-packages/sklearn/metrics/classification.py:1437: UndefinedMetricWarning: Precision and F-score are ill-defined and being set to 0.0 in labels with no predicted samples.\n",
      "  'precision', 'predicted', average, warn_for)\n"
     ]
    },
    {
     "data": {
      "text/plain": [
       "0.8228878291290472"
      ]
     },
     "execution_count": 42,
     "metadata": {},
     "output_type": "execute_result"
    }
   ],
   "source": [
    "model_apply(x,y,3,1)"
   ]
  },
  {
   "cell_type": "code",
   "execution_count": null,
   "metadata": {},
   "outputs": [],
   "source": []
  }
 ],
 "metadata": {
  "kernelspec": {
   "display_name": "Python 3",
   "language": "python",
   "name": "python3"
  },
  "language_info": {
   "codemirror_mode": {
    "name": "ipython",
    "version": 3
   },
   "file_extension": ".py",
   "mimetype": "text/x-python",
   "name": "python",
   "nbconvert_exporter": "python",
   "pygments_lexer": "ipython3",
   "version": "3.7.3"
  }
 },
 "nbformat": 4,
 "nbformat_minor": 2
}
