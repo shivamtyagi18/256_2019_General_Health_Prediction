{
 "cells": [
  {
   "cell_type": "code",
   "execution_count": 349,
   "metadata": {},
   "outputs": [],
   "source": [
    "from pyspark import SparkContext \n",
    "from pyspark.sql import SQLContext \n",
    "import pandas as pd\n",
    "import numpy as np\n",
    "from pandas import DataFrame\n",
    "# sc = SparkContext.getOrCreate()\n",
    "# sqlc=SQLContext(sc)\n",
    "\n",
    "import math\n",
    "import matplotlib.pyplot as plt\n",
    "from scipy.stats import norm, entropy \n",
    "from scipy.stats import probplot\n",
    "import matplotlib.pyplot as plt\n",
    "from scipy.stats import logistic\n",
    "from sklearn.model_selection import train_test_split\n",
    "from sklearn.linear_model import LogisticRegression\n",
    "from sklearn import metrics\n",
    "from sklearn.utils import resample\n",
    "from sklearn import svm\n",
    "from sklearn.tree import DecisionTreeClassifier\n",
    "from sklearn.metrics import classification_report, confusion_matrix, roc_curve\n",
    "from scipy.spatial.distance import cosine, correlation\n",
    "import seaborn as sns\n",
    "from sklearn.decomposition import PCA\n",
    "from sklearn.preprocessing import StandardScaler\n",
    "from sklearn.decomposition import TruncatedSVD\n",
    "from sklearn.linear_model import Perceptron"
   ]
  },
  {
   "cell_type": "code",
   "execution_count": 350,
   "metadata": {},
   "outputs": [],
   "source": [
    "#reading csv file data in a dataframe\n",
    "#[1]https://stackoverflow.com/questions/46311133/creating-dynamic-data-frames-in-python?rq=1\n",
    "df_names=['df07','df08','df09','df10','df11','df12','df13','df14','df15','df16','df17','df18']\n",
    "years=['2007','2008','2009','2010','2011','2012','2013','2014','2015','2016','2017','2018']\n",
    "d = {}\n",
    "for name,i in zip(df_names,years):\n",
    "    d[name] = pd.DataFrame()\n",
    "    d[name]=pd.read_csv('data-csv/chs'+str(i)+'_public.csv')    \n"
   ]
  },
  {
   "cell_type": "code",
   "execution_count": 351,
   "metadata": {},
   "outputs": [
    {
     "data": {
      "text/html": [
       "<div>\n",
       "<style scoped>\n",
       "    .dataframe tbody tr th:only-of-type {\n",
       "        vertical-align: middle;\n",
       "    }\n",
       "\n",
       "    .dataframe tbody tr th {\n",
       "        vertical-align: top;\n",
       "    }\n",
       "\n",
       "    .dataframe thead th {\n",
       "        text-align: right;\n",
       "    }\n",
       "</style>\n",
       "<table border=\"1\" class=\"dataframe\">\n",
       "  <thead>\n",
       "    <tr style=\"text-align: right;\">\n",
       "      <th></th>\n",
       "      <th>qxvers</th>\n",
       "      <th>mood63</th>\n",
       "      <th>mood64</th>\n",
       "      <th>mood54</th>\n",
       "      <th>mood55</th>\n",
       "      <th>mood56</th>\n",
       "      <th>mood57</th>\n",
       "      <th>mood58</th>\n",
       "      <th>mood59</th>\n",
       "      <th>mood61</th>\n",
       "      <th>...</th>\n",
       "      <th>heavydrink18</th>\n",
       "      <th>bingenew</th>\n",
       "      <th>ipvphy</th>\n",
       "      <th>insultipv</th>\n",
       "      <th>wt_compare</th>\n",
       "      <th>strata</th>\n",
       "      <th>strata_q1</th>\n",
       "      <th>bthcntrltype18</th>\n",
       "      <th>hhsize</th>\n",
       "      <th>child</th>\n",
       "    </tr>\n",
       "  </thead>\n",
       "  <tbody>\n",
       "    <tr>\n",
       "      <td>0</td>\n",
       "      <td>2</td>\n",
       "      <td>2.0</td>\n",
       "      <td>2.0</td>\n",
       "      <td>1.0</td>\n",
       "      <td>2.0</td>\n",
       "      <td>2.0</td>\n",
       "      <td>1.0</td>\n",
       "      <td>1.0</td>\n",
       "      <td>1.0</td>\n",
       "      <td>NaN</td>\n",
       "      <td>...</td>\n",
       "      <td>2.0</td>\n",
       "      <td>2.0</td>\n",
       "      <td>2.0</td>\n",
       "      <td>2.0</td>\n",
       "      <td>386.743729</td>\n",
       "      <td>2018030</td>\n",
       "      <td>NaN</td>\n",
       "      <td>NaN</td>\n",
       "      <td>2</td>\n",
       "      <td>2.0</td>\n",
       "    </tr>\n",
       "    <tr>\n",
       "      <td>1</td>\n",
       "      <td>1</td>\n",
       "      <td>1.0</td>\n",
       "      <td>1.0</td>\n",
       "      <td>1.0</td>\n",
       "      <td>1.0</td>\n",
       "      <td>1.0</td>\n",
       "      <td>1.0</td>\n",
       "      <td>1.0</td>\n",
       "      <td>1.0</td>\n",
       "      <td>NaN</td>\n",
       "      <td>...</td>\n",
       "      <td>2.0</td>\n",
       "      <td>2.0</td>\n",
       "      <td>2.0</td>\n",
       "      <td>2.0</td>\n",
       "      <td>1634.654991</td>\n",
       "      <td>2018031</td>\n",
       "      <td>2018031.0</td>\n",
       "      <td>2.0</td>\n",
       "      <td>4</td>\n",
       "      <td>1.0</td>\n",
       "    </tr>\n",
       "    <tr>\n",
       "      <td>2</td>\n",
       "      <td>2</td>\n",
       "      <td>NaN</td>\n",
       "      <td>1.0</td>\n",
       "      <td>3.0</td>\n",
       "      <td>3.0</td>\n",
       "      <td>1.0</td>\n",
       "      <td>1.0</td>\n",
       "      <td>2.0</td>\n",
       "      <td>2.0</td>\n",
       "      <td>NaN</td>\n",
       "      <td>...</td>\n",
       "      <td>2.0</td>\n",
       "      <td>1.0</td>\n",
       "      <td>1.0</td>\n",
       "      <td>1.0</td>\n",
       "      <td>3073.304927</td>\n",
       "      <td>2018039</td>\n",
       "      <td>NaN</td>\n",
       "      <td>1.0</td>\n",
       "      <td>6</td>\n",
       "      <td>1.0</td>\n",
       "    </tr>\n",
       "    <tr>\n",
       "      <td>3</td>\n",
       "      <td>2</td>\n",
       "      <td>1.0</td>\n",
       "      <td>1.0</td>\n",
       "      <td>1.0</td>\n",
       "      <td>2.0</td>\n",
       "      <td>1.0</td>\n",
       "      <td>1.0</td>\n",
       "      <td>1.0</td>\n",
       "      <td>1.0</td>\n",
       "      <td>NaN</td>\n",
       "      <td>...</td>\n",
       "      <td>2.0</td>\n",
       "      <td>1.0</td>\n",
       "      <td>2.0</td>\n",
       "      <td>2.0</td>\n",
       "      <td>1384.557358</td>\n",
       "      <td>2018006</td>\n",
       "      <td>NaN</td>\n",
       "      <td>NaN</td>\n",
       "      <td>4</td>\n",
       "      <td>1.0</td>\n",
       "    </tr>\n",
       "    <tr>\n",
       "      <td>4</td>\n",
       "      <td>1</td>\n",
       "      <td>3.0</td>\n",
       "      <td>1.0</td>\n",
       "      <td>4.0</td>\n",
       "      <td>2.0</td>\n",
       "      <td>1.0</td>\n",
       "      <td>2.0</td>\n",
       "      <td>1.0</td>\n",
       "      <td>1.0</td>\n",
       "      <td>NaN</td>\n",
       "      <td>...</td>\n",
       "      <td>2.0</td>\n",
       "      <td>2.0</td>\n",
       "      <td>2.0</td>\n",
       "      <td>2.0</td>\n",
       "      <td>272.506653</td>\n",
       "      <td>2018029</td>\n",
       "      <td>2018029.0</td>\n",
       "      <td>NaN</td>\n",
       "      <td>1</td>\n",
       "      <td>2.0</td>\n",
       "    </tr>\n",
       "  </tbody>\n",
       "</table>\n",
       "<p>5 rows × 149 columns</p>\n",
       "</div>"
      ],
      "text/plain": [
       "   qxvers  mood63  mood64  mood54  mood55  mood56  mood57  mood58  mood59  \\\n",
       "0       2     2.0     2.0     1.0     2.0     2.0     1.0     1.0     1.0   \n",
       "1       1     1.0     1.0     1.0     1.0     1.0     1.0     1.0     1.0   \n",
       "2       2     NaN     1.0     3.0     3.0     1.0     1.0     2.0     2.0   \n",
       "3       2     1.0     1.0     1.0     2.0     1.0     1.0     1.0     1.0   \n",
       "4       1     3.0     1.0     4.0     2.0     1.0     2.0     1.0     1.0   \n",
       "\n",
       "   mood61  ...  heavydrink18  bingenew  ipvphy  insultipv   wt_compare  \\\n",
       "0     NaN  ...           2.0       2.0     2.0        2.0   386.743729   \n",
       "1     NaN  ...           2.0       2.0     2.0        2.0  1634.654991   \n",
       "2     NaN  ...           2.0       1.0     1.0        1.0  3073.304927   \n",
       "3     NaN  ...           2.0       1.0     2.0        2.0  1384.557358   \n",
       "4     NaN  ...           2.0       2.0     2.0        2.0   272.506653   \n",
       "\n",
       "    strata  strata_q1  bthcntrltype18  hhsize  child  \n",
       "0  2018030        NaN             NaN       2    2.0  \n",
       "1  2018031  2018031.0             2.0       4    1.0  \n",
       "2  2018039        NaN             1.0       6    1.0  \n",
       "3  2018006        NaN             NaN       4    1.0  \n",
       "4  2018029  2018029.0             NaN       1    2.0  \n",
       "\n",
       "[5 rows x 149 columns]"
      ]
     },
     "execution_count": 351,
     "metadata": {},
     "output_type": "execute_result"
    }
   ],
   "source": [
    "# df=df18.copy()\n",
    "df=d['df18']\n",
    "df.head()"
   ]
  },
  {
   "cell_type": "code",
   "execution_count": 85,
   "metadata": {},
   "outputs": [
    {
     "data": {
      "text/plain": [
       "149"
      ]
     },
     "execution_count": 85,
     "metadata": {},
     "output_type": "execute_result"
    }
   ],
   "source": [
    "#number of features\n",
    "len(df.columns)"
   ]
  },
  {
   "cell_type": "code",
   "execution_count": 86,
   "metadata": {},
   "outputs": [
    {
     "data": {
      "text/plain": [
       "Index(['qxvers', 'mood63', 'mood64', 'mood54', 'mood55', 'mood56', 'mood57',\n",
       "       'mood58', 'mood59', 'mood61',\n",
       "       ...\n",
       "       'heavydrink18', 'bingenew', 'ipvphy', 'insultipv', 'wt_compare',\n",
       "       'strata', 'strata_q1', 'bthcntrltype18', 'hhsize', 'child'],\n",
       "      dtype='object', length=149)"
      ]
     },
     "execution_count": 86,
     "metadata": {},
     "output_type": "execute_result"
    }
   ],
   "source": [
    "df.columns"
   ]
  },
  {
   "cell_type": "code",
   "execution_count": 87,
   "metadata": {},
   "outputs": [
    {
     "data": {
      "text/plain": [
       "10076"
      ]
     },
     "execution_count": 87,
     "metadata": {},
     "output_type": "execute_result"
    }
   ],
   "source": [
    "#number of rows\n",
    "len(df[\"qxvers\"])"
   ]
  },
  {
   "cell_type": "code",
   "execution_count": 88,
   "metadata": {},
   "outputs": [
    {
     "data": {
      "text/plain": [
       "qxvers               0\n",
       "mood63             233\n",
       "mood64             147\n",
       "mood54             134\n",
       "mood55             159\n",
       "                  ... \n",
       "strata               0\n",
       "strata_q1         5053\n",
       "bthcntrltype18    6303\n",
       "hhsize               0\n",
       "child               50\n",
       "Length: 149, dtype: int64"
      ]
     },
     "execution_count": 88,
     "metadata": {},
     "output_type": "execute_result"
    }
   ],
   "source": [
    "df.isnull().sum()"
   ]
  },
  {
   "cell_type": "markdown",
   "metadata": {},
   "source": [
    "qxvers-Questionnaire version\n",
    "nutrition46-cupsof fruit\n",
    "nutrition47-cups of vegetable"
   ]
  },
  {
   "cell_type": "markdown",
   "metadata": {},
   "source": [
    "# Steps followed for analysis\n",
    "#process NA values\n",
    "#find correlation between target and source variables and perform dimensionality reduction\n",
    "#divide data into training and test sets\n",
    "#apply regression\n",
    "#reduce parameters depending upon correlartion\n",
    "#apply regression again and compare models"
   ]
  },
  {
   "cell_type": "code",
   "execution_count": 89,
   "metadata": {},
   "outputs": [],
   "source": [
    "#correlation function\n",
    "#[1]https://towardsdatascience.com/better-heatmaps-and-correlation-matrix-plots-in-python-41445d0f2bec\n",
    "#[2]https://seaborn.pydata.org/examples/many_pairwise_correlations.html\n",
    "def draw_corr(corr_var):\n",
    "    # Generate a mask for the upper triangle\n",
    "    mask = np.zeros_like(corr_var, dtype=np.bool)\n",
    "    mask[np.triu_indices_from(mask)] = True\n",
    "    ax = sns.heatmap(\n",
    "        corr_var, \n",
    "        vmin=-1, vmax=1, center=0,\n",
    "        cmap=sns.diverging_palette(20, 220, n=200),\n",
    "        square=True,\n",
    "        mask=mask,\n",
    "#         annot=True\n",
    "    )\n",
    "    ax.set_xticklabels(\n",
    "        ax.get_xticklabels(),\n",
    "        rotation=45,\n",
    "        horizontalalignment='right'\n",
    "    );"
   ]
  },
  {
   "cell_type": "markdown",
   "metadata": {},
   "source": [
    "# Checking correlation between physical activity data"
   ]
  },
  {
   "cell_type": "code",
   "execution_count": 90,
   "metadata": {},
   "outputs": [],
   "source": [
    "df_train_physical=df[[\"cid\",\"exercise18\",\"cyclingfreq\",\"cycling18\",\"imputed_PA08_3R_q1\",\"generalhealth\"]]"
   ]
  },
  {
   "cell_type": "code",
   "execution_count": 91,
   "metadata": {},
   "outputs": [
    {
     "data": {
      "text/plain": [
       "cid                      0\n",
       "exercise18              21\n",
       "cyclingfreq             26\n",
       "cycling18               26\n",
       "imputed_PA08_3R_q1    5053\n",
       "generalhealth           46\n",
       "dtype: int64"
      ]
     },
     "execution_count": 91,
     "metadata": {},
     "output_type": "execute_result"
    }
   ],
   "source": [
    "df_train_physical.isnull().sum()"
   ]
  },
  {
   "cell_type": "code",
   "execution_count": 92,
   "metadata": {
    "scrolled": true
   },
   "outputs": [
    {
     "data": {
      "text/html": [
       "<div>\n",
       "<style scoped>\n",
       "    .dataframe tbody tr th:only-of-type {\n",
       "        vertical-align: middle;\n",
       "    }\n",
       "\n",
       "    .dataframe tbody tr th {\n",
       "        vertical-align: top;\n",
       "    }\n",
       "\n",
       "    .dataframe thead th {\n",
       "        text-align: right;\n",
       "    }\n",
       "</style>\n",
       "<table border=\"1\" class=\"dataframe\">\n",
       "  <thead>\n",
       "    <tr style=\"text-align: right;\">\n",
       "      <th></th>\n",
       "      <th>cid</th>\n",
       "      <th>exercise18</th>\n",
       "      <th>cyclingfreq</th>\n",
       "      <th>cycling18</th>\n",
       "      <th>generalhealth</th>\n",
       "    </tr>\n",
       "  </thead>\n",
       "  <tbody>\n",
       "    <tr>\n",
       "      <td>0</td>\n",
       "      <td>1900001</td>\n",
       "      <td>1.0</td>\n",
       "      <td>2.0</td>\n",
       "      <td>1.0</td>\n",
       "      <td>2.0</td>\n",
       "    </tr>\n",
       "    <tr>\n",
       "      <td>1</td>\n",
       "      <td>1900002</td>\n",
       "      <td>1.0</td>\n",
       "      <td>5.0</td>\n",
       "      <td>5.0</td>\n",
       "      <td>2.0</td>\n",
       "    </tr>\n",
       "    <tr>\n",
       "      <td>2</td>\n",
       "      <td>1900003</td>\n",
       "      <td>1.0</td>\n",
       "      <td>5.0</td>\n",
       "      <td>5.0</td>\n",
       "      <td>4.0</td>\n",
       "    </tr>\n",
       "    <tr>\n",
       "      <td>3</td>\n",
       "      <td>1900004</td>\n",
       "      <td>1.0</td>\n",
       "      <td>5.0</td>\n",
       "      <td>5.0</td>\n",
       "      <td>2.0</td>\n",
       "    </tr>\n",
       "    <tr>\n",
       "      <td>4</td>\n",
       "      <td>1900005</td>\n",
       "      <td>2.0</td>\n",
       "      <td>2.0</td>\n",
       "      <td>1.0</td>\n",
       "      <td>3.0</td>\n",
       "    </tr>\n",
       "  </tbody>\n",
       "</table>\n",
       "</div>"
      ],
      "text/plain": [
       "       cid  exercise18  cyclingfreq  cycling18  generalhealth\n",
       "0  1900001         1.0          2.0        1.0            2.0\n",
       "1  1900002         1.0          5.0        5.0            2.0\n",
       "2  1900003         1.0          5.0        5.0            4.0\n",
       "3  1900004         1.0          5.0        5.0            2.0\n",
       "4  1900005         2.0          2.0        1.0            3.0"
      ]
     },
     "execution_count": 92,
     "metadata": {},
     "output_type": "execute_result"
    }
   ],
   "source": [
    "#since imputed_PA08_3R_q1 has 5000+ values as N/A we will drop this column\n",
    "df_train_physical=df_train_physical[[\"cid\",\"exercise18\",\"cyclingfreq\",\"cycling18\",\"generalhealth\"]]\n",
    "df_train_physical.head()"
   ]
  },
  {
   "cell_type": "code",
   "execution_count": 93,
   "metadata": {},
   "outputs": [
    {
     "data": {
      "text/html": [
       "<div>\n",
       "<style scoped>\n",
       "    .dataframe tbody tr th:only-of-type {\n",
       "        vertical-align: middle;\n",
       "    }\n",
       "\n",
       "    .dataframe tbody tr th {\n",
       "        vertical-align: top;\n",
       "    }\n",
       "\n",
       "    .dataframe thead th {\n",
       "        text-align: right;\n",
       "    }\n",
       "</style>\n",
       "<table border=\"1\" class=\"dataframe\">\n",
       "  <thead>\n",
       "    <tr style=\"text-align: right;\">\n",
       "      <th></th>\n",
       "      <th>cid</th>\n",
       "      <th>exercise18</th>\n",
       "      <th>cyclingfreq</th>\n",
       "      <th>cycling18</th>\n",
       "      <th>generalhealth</th>\n",
       "    </tr>\n",
       "  </thead>\n",
       "  <tbody>\n",
       "    <tr>\n",
       "      <td>0</td>\n",
       "      <td>1900001</td>\n",
       "      <td>1.0</td>\n",
       "      <td>2.0</td>\n",
       "      <td>1.0</td>\n",
       "      <td>2.0</td>\n",
       "    </tr>\n",
       "    <tr>\n",
       "      <td>1</td>\n",
       "      <td>1900002</td>\n",
       "      <td>1.0</td>\n",
       "      <td>5.0</td>\n",
       "      <td>5.0</td>\n",
       "      <td>2.0</td>\n",
       "    </tr>\n",
       "    <tr>\n",
       "      <td>2</td>\n",
       "      <td>1900003</td>\n",
       "      <td>1.0</td>\n",
       "      <td>5.0</td>\n",
       "      <td>5.0</td>\n",
       "      <td>4.0</td>\n",
       "    </tr>\n",
       "    <tr>\n",
       "      <td>3</td>\n",
       "      <td>1900004</td>\n",
       "      <td>1.0</td>\n",
       "      <td>5.0</td>\n",
       "      <td>5.0</td>\n",
       "      <td>2.0</td>\n",
       "    </tr>\n",
       "    <tr>\n",
       "      <td>4</td>\n",
       "      <td>1900005</td>\n",
       "      <td>2.0</td>\n",
       "      <td>2.0</td>\n",
       "      <td>1.0</td>\n",
       "      <td>3.0</td>\n",
       "    </tr>\n",
       "  </tbody>\n",
       "</table>\n",
       "</div>"
      ],
      "text/plain": [
       "       cid  exercise18  cyclingfreq  cycling18  generalhealth\n",
       "0  1900001         1.0          2.0        1.0            2.0\n",
       "1  1900002         1.0          5.0        5.0            2.0\n",
       "2  1900003         1.0          5.0        5.0            4.0\n",
       "3  1900004         1.0          5.0        5.0            2.0\n",
       "4  1900005         2.0          2.0        1.0            3.0"
      ]
     },
     "execution_count": 93,
     "metadata": {},
     "output_type": "execute_result"
    }
   ],
   "source": [
    "#dropping NaN values\n",
    "df_train_physical=df_train_physical.dropna()\n",
    "df_train_physical.head()"
   ]
  },
  {
   "cell_type": "code",
   "execution_count": 94,
   "metadata": {},
   "outputs": [
    {
     "data": {
      "text/html": [
       "<div>\n",
       "<style scoped>\n",
       "    .dataframe tbody tr th:only-of-type {\n",
       "        vertical-align: middle;\n",
       "    }\n",
       "\n",
       "    .dataframe tbody tr th {\n",
       "        vertical-align: top;\n",
       "    }\n",
       "\n",
       "    .dataframe thead th {\n",
       "        text-align: right;\n",
       "    }\n",
       "</style>\n",
       "<table border=\"1\" class=\"dataframe\">\n",
       "  <thead>\n",
       "    <tr style=\"text-align: right;\">\n",
       "      <th></th>\n",
       "      <th>cid</th>\n",
       "      <th>exercise18</th>\n",
       "      <th>cyclingfreq</th>\n",
       "      <th>cycling18</th>\n",
       "      <th>generalhealth</th>\n",
       "    </tr>\n",
       "  </thead>\n",
       "  <tbody>\n",
       "    <tr>\n",
       "      <td>cid</td>\n",
       "      <td>1.000000</td>\n",
       "      <td>-0.039525</td>\n",
       "      <td>-0.128924</td>\n",
       "      <td>-0.132294</td>\n",
       "      <td>-0.102162</td>\n",
       "    </tr>\n",
       "    <tr>\n",
       "      <td>exercise18</td>\n",
       "      <td>-0.039525</td>\n",
       "      <td>1.000000</td>\n",
       "      <td>0.160250</td>\n",
       "      <td>0.158063</td>\n",
       "      <td>0.198179</td>\n",
       "    </tr>\n",
       "    <tr>\n",
       "      <td>cyclingfreq</td>\n",
       "      <td>-0.128924</td>\n",
       "      <td>0.160250</td>\n",
       "      <td>1.000000</td>\n",
       "      <td>0.953135</td>\n",
       "      <td>0.179920</td>\n",
       "    </tr>\n",
       "    <tr>\n",
       "      <td>cycling18</td>\n",
       "      <td>-0.132294</td>\n",
       "      <td>0.158063</td>\n",
       "      <td>0.953135</td>\n",
       "      <td>1.000000</td>\n",
       "      <td>0.173137</td>\n",
       "    </tr>\n",
       "    <tr>\n",
       "      <td>generalhealth</td>\n",
       "      <td>-0.102162</td>\n",
       "      <td>0.198179</td>\n",
       "      <td>0.179920</td>\n",
       "      <td>0.173137</td>\n",
       "      <td>1.000000</td>\n",
       "    </tr>\n",
       "  </tbody>\n",
       "</table>\n",
       "</div>"
      ],
      "text/plain": [
       "                    cid  exercise18  cyclingfreq  cycling18  generalhealth\n",
       "cid            1.000000   -0.039525    -0.128924  -0.132294      -0.102162\n",
       "exercise18    -0.039525    1.000000     0.160250   0.158063       0.198179\n",
       "cyclingfreq   -0.128924    0.160250     1.000000   0.953135       0.179920\n",
       "cycling18     -0.132294    0.158063     0.953135   1.000000       0.173137\n",
       "generalhealth -0.102162    0.198179     0.179920   0.173137       1.000000"
      ]
     },
     "execution_count": 94,
     "metadata": {},
     "output_type": "execute_result"
    }
   ],
   "source": [
    "#correlation\n",
    "#[1]https://towardsdatascience.com/better-heatmaps-and-correlation-matrix-plots-in-python-41445d0f2bec\n",
    "corr_1 = df_train_physical.corr()\n",
    "corr_1"
   ]
  },
  {
   "cell_type": "code",
   "execution_count": 95,
   "metadata": {},
   "outputs": [
    {
     "data": {
      "image/png": "[encoded data removed]",
      "text/plain": [
       "<Figure size 432x288 with 2 Axes>"
      ]
     },
     "metadata": {
      "needs_background": "light"
     },
     "output_type": "display_data"
    }
   ],
   "source": [
    "ax = sns.heatmap(\n",
    "    corr_1, \n",
    "    vmin=-1, vmax=1, center=0,\n",
    "    cmap=sns.diverging_palette(20, 220, n=200),\n",
    "    square=True\n",
    ")\n",
    "ax.set_xticklabels(\n",
    "    ax.get_xticklabels(),\n",
    "    rotation=45,\n",
    "    horizontalalignment='right'\n",
    ");"
   ]
  },
  {
   "cell_type": "markdown",
   "metadata": {},
   "source": [
    "#we see that cyclingfreq and cycling18 are highly correlated, so we can remove one of them. We remove cycling18 as it is less relevent out of the two for our analysis"
   ]
  },
  {
   "cell_type": "code",
   "execution_count": 96,
   "metadata": {},
   "outputs": [
    {
     "data": {
      "text/html": [
       "<div>\n",
       "<style scoped>\n",
       "    .dataframe tbody tr th:only-of-type {\n",
       "        vertical-align: middle;\n",
       "    }\n",
       "\n",
       "    .dataframe tbody tr th {\n",
       "        vertical-align: top;\n",
       "    }\n",
       "\n",
       "    .dataframe thead th {\n",
       "        text-align: right;\n",
       "    }\n",
       "</style>\n",
       "<table border=\"1\" class=\"dataframe\">\n",
       "  <thead>\n",
       "    <tr style=\"text-align: right;\">\n",
       "      <th></th>\n",
       "      <th>cid</th>\n",
       "      <th>exercise18</th>\n",
       "      <th>cyclingfreq</th>\n",
       "      <th>generalhealth</th>\n",
       "    </tr>\n",
       "  </thead>\n",
       "  <tbody>\n",
       "    <tr>\n",
       "      <td>0</td>\n",
       "      <td>1900001</td>\n",
       "      <td>1.0</td>\n",
       "      <td>2.0</td>\n",
       "      <td>2.0</td>\n",
       "    </tr>\n",
       "    <tr>\n",
       "      <td>1</td>\n",
       "      <td>1900002</td>\n",
       "      <td>1.0</td>\n",
       "      <td>5.0</td>\n",
       "      <td>2.0</td>\n",
       "    </tr>\n",
       "    <tr>\n",
       "      <td>2</td>\n",
       "      <td>1900003</td>\n",
       "      <td>1.0</td>\n",
       "      <td>5.0</td>\n",
       "      <td>4.0</td>\n",
       "    </tr>\n",
       "    <tr>\n",
       "      <td>3</td>\n",
       "      <td>1900004</td>\n",
       "      <td>1.0</td>\n",
       "      <td>5.0</td>\n",
       "      <td>2.0</td>\n",
       "    </tr>\n",
       "    <tr>\n",
       "      <td>4</td>\n",
       "      <td>1900005</td>\n",
       "      <td>2.0</td>\n",
       "      <td>2.0</td>\n",
       "      <td>3.0</td>\n",
       "    </tr>\n",
       "  </tbody>\n",
       "</table>\n",
       "</div>"
      ],
      "text/plain": [
       "       cid  exercise18  cyclingfreq  generalhealth\n",
       "0  1900001         1.0          2.0            2.0\n",
       "1  1900002         1.0          5.0            2.0\n",
       "2  1900003         1.0          5.0            4.0\n",
       "3  1900004         1.0          5.0            2.0\n",
       "4  1900005         2.0          2.0            3.0"
      ]
     },
     "execution_count": 96,
     "metadata": {},
     "output_type": "execute_result"
    }
   ],
   "source": [
    "df_train_physical=df_train_physical[[\"cid\",\"exercise18\",\"cyclingfreq\",\"generalhealth\"]]\n",
    "df_train_physical.head()"
   ]
  },
  {
   "cell_type": "code",
   "execution_count": 97,
   "metadata": {},
   "outputs": [
    {
     "name": "stdout",
     "output_type": "stream",
     "text": [
      "               exercise18  cyclingfreq  generalhealth\n",
      "exercise18       1.000000      0.16025       0.198179\n",
      "cyclingfreq      0.160250      1.00000       0.179920\n",
      "generalhealth    0.198179      0.17992       1.000000\n"
     ]
    },
    {
     "data": {
      "image/png": "[encoded data removed]",
      "text/plain": [
       "<Figure size 432x288 with 2 Axes>"
      ]
     },
     "metadata": {
      "needs_background": "light"
     },
     "output_type": "display_data"
    }
   ],
   "source": [
    "corr_2 = df_train_physical[[\"exercise18\",\"cyclingfreq\",\"generalhealth\"]].corr()\n",
    "draw_corr(corr_2)\n",
    "print(corr_2)\n",
    "#All have positive correlation. exercise18 is most correlated to general health"
   ]
  },
  {
   "cell_type": "markdown",
   "metadata": {},
   "source": [
    "# Checking correlation between Nutrition data"
   ]
  },
  {
   "cell_type": "code",
   "execution_count": 98,
   "metadata": {},
   "outputs": [
    {
     "name": "stdout",
     "output_type": "stream",
     "text": [
      "   nutrition46  nutrition47  fruitveg18  nsodaperday18  avgsodaperday18  \\\n",
      "0          2.0          1.0         2.0       0.000000              1.0   \n",
      "1          1.0          1.0         2.0       1.000000              3.0   \n",
      "2          1.0          2.0         2.0       0.066116              2.0   \n",
      "3          1.0          1.0         2.0       0.000000              1.0   \n",
      "4          0.0          2.0         2.0       0.000000              1.0   \n",
      "\n",
      "   twoplussoda  nsugardrinkperday18  avgsugarperday18  nsodasugarperday18  \\\n",
      "0          2.0             0.000000               1.0            0.000000   \n",
      "1          2.0             0.285714               2.0            1.285714   \n",
      "2          2.0             0.000000               1.0            0.066116   \n",
      "3          2.0             0.000000               1.0            0.000000   \n",
      "4          2.0             0.000000               1.0            0.000000   \n",
      "\n",
      "   avgsodasugarperday18  ssb  generalhealth  \n",
      "0                   1.0  2.0            2.0  \n",
      "1                   4.0  1.0            2.0  \n",
      "2                   2.0  2.0            4.0  \n",
      "3                   1.0  2.0            2.0  \n",
      "4                   1.0  2.0            3.0  \n"
     ]
    },
    {
     "data": {
      "text/plain": [
       "nutrition46             186\n",
       "nutrition47             233\n",
       "fruitveg18              345\n",
       "nsodaperday18            84\n",
       "avgsodaperday18          84\n",
       "twoplussoda              84\n",
       "nsugardrinkperday18     119\n",
       "avgsugarperday18        119\n",
       "nsodasugarperday18      115\n",
       "avgsodasugarperday18    115\n",
       "ssb                     115\n",
       "generalhealth            46\n",
       "dtype: int64"
      ]
     },
     "execution_count": 98,
     "metadata": {},
     "output_type": "execute_result"
    }
   ],
   "source": [
    "df_train_nutrition = df[[\"nutrition46\",\"nutrition47\",\"fruitveg18\",\n",
    "                         \"nsodaperday18\",\"avgsodaperday18\",\"twoplussoda\",\n",
    "                         \"nsugardrinkperday18\",\"avgsugarperday18\",\"nsodasugarperday18\",\n",
    "                         \"avgsodasugarperday18\",\"ssb\",\n",
    "                         \"generalhealth\"]]\n",
    "print(df_train_nutrition.head())\n",
    "df_train_nutrition.isnull().sum()\n"
   ]
  },
  {
   "cell_type": "code",
   "execution_count": 99,
   "metadata": {},
   "outputs": [
    {
     "data": {
      "text/plain": [
       "generalhealth         avgsodaperday18     0.010964\n",
       "avgsodaperday18       generalhealth       0.010964\n",
       "avgsugarperday18      generalhealth       0.013917\n",
       "generalhealth         avgsugarperday18    0.013917\n",
       "avgsodasugarperday18  generalhealth       0.023976\n",
       "                                            ...   \n",
       "nsodaperday18         nsodaperday18       1.000000\n",
       "fruitveg18            fruitveg18          1.000000\n",
       "nutrition47           nutrition47         1.000000\n",
       "ssb                   ssb                 1.000000\n",
       "generalhealth         generalhealth       1.000000\n",
       "Length: 144, dtype: float64"
      ]
     },
     "execution_count": 99,
     "metadata": {},
     "output_type": "execute_result"
    },
    {
     "data": {
      "image/png": "[encoded data removed]",
      "text/plain": [
       "<Figure size 432x288 with 2 Axes>"
      ]
     },
     "metadata": {
      "needs_background": "light"
     },
     "output_type": "display_data"
    }
   ],
   "source": [
    "#[1]https://stackoverflow.com/questions/17778394/list-highest-correlation-pairs-from-a-large-correlation-matrix-in-pandas\n",
    "\n",
    "df_train_nutrition=df_train_nutrition.dropna()\n",
    "corr_3 = df_train_nutrition.corr().abs()\n",
    "draw_corr(corr_3)\n",
    "\n",
    "corr_3.unstack().sort_values(kind=\"quicksort\")\n"
   ]
  },
  {
   "cell_type": "raw",
   "metadata": {},
   "source": [
    "Top most correlated columns are:\n",
    "\n",
    "#avgsodasugarperday18  avgsugarperday18        0.791910\n",
    "\n",
    "#nsodasugarperday18    #nsugardrinkperday18     0.795683\n",
    "\n",
    "#nsodaperday18         #twoplussoda             0.801386\n",
    "\n",
    "#nsodaperday18         #nsodasugarperday18      0.804585\n",
    "\n",
    "#nsugardrinkperday18   avgsugarperday18        0.816938\n",
    "\n",
    "ssb                   #avgsodasugarperday18    0.897011\n",
    "\n",
    "We observed that ssb, avgsugarperday18 and avgsodaperday18, avgsugarperday18 and ssb will encompass most of the variables. So we eliminated other corelated features. This makes sense as all these features talk about tye number of soda or other sweetned drink an individual drinks in a day. Also fruitveg17 is correlated to nutrition46 and nutrition47, thus we can eliminate fruitveg17 and keep nutrition46 and nutrion47 features.\n",
    "\n",
    "# - eliminated features\n"
   ]
  },
  {
   "cell_type": "code",
   "execution_count": 100,
   "metadata": {},
   "outputs": [
    {
     "data": {
      "text/plain": [
       "avgsodaperday18   generalhealth       0.010964\n",
       "generalhealth     avgsodaperday18     0.010964\n",
       "avgsugarperday18  generalhealth       0.013917\n",
       "generalhealth     avgsugarperday18    0.013917\n",
       "ssb               generalhealth       0.048220\n",
       "generalhealth     ssb                 0.048220\n",
       "nutrition46       avgsugarperday18    0.088759\n",
       "avgsugarperday18  nutrition46         0.088759\n",
       "nutrition46       ssb                 0.097717\n",
       "ssb               nutrition46         0.097717\n",
       "avgsodaperday18   nutrition46         0.101538\n",
       "nutrition46       avgsodaperday18     0.101538\n",
       "nutrition47       avgsugarperday18    0.106579\n",
       "avgsugarperday18  nutrition47         0.106579\n",
       "generalhealth     nutrition46         0.119109\n",
       "nutrition46       generalhealth       0.119109\n",
       "nutrition47       ssb                 0.121579\n",
       "ssb               nutrition47         0.121579\n",
       "avgsodaperday18   nutrition47         0.126284\n",
       "nutrition47       avgsodaperday18     0.126284\n",
       "                  generalhealth       0.151396\n",
       "generalhealth     nutrition47         0.151396\n",
       "nutrition46       nutrition47         0.334168\n",
       "nutrition47       nutrition46         0.334168\n",
       "avgsugarperday18  avgsodaperday18     0.351759\n",
       "avgsodaperday18   avgsugarperday18    0.351759\n",
       "                  ssb                 0.626788\n",
       "ssb               avgsodaperday18     0.626788\n",
       "                  avgsugarperday18    0.687271\n",
       "avgsugarperday18  ssb                 0.687271\n",
       "nutrition46       nutrition46         1.000000\n",
       "avgsugarperday18  avgsugarperday18    1.000000\n",
       "avgsodaperday18   avgsodaperday18     1.000000\n",
       "nutrition47       nutrition47         1.000000\n",
       "ssb               ssb                 1.000000\n",
       "generalhealth     generalhealth       1.000000\n",
       "dtype: float64"
      ]
     },
     "execution_count": 100,
     "metadata": {},
     "output_type": "execute_result"
    },
    {
     "data": {
      "image/png": "[encoded data removed]",
      "text/plain": [
       "<Figure size 432x288 with 2 Axes>"
      ]
     },
     "metadata": {
      "needs_background": "light"
     },
     "output_type": "display_data"
    }
   ],
   "source": [
    "# features dropped pertaining to high correlation with other features :  \n",
    "df_train_nutrition = df_train_nutrition[[\"nutrition46\",\"nutrition47\"\n",
    "                        ,\"avgsodaperday18\"\n",
    "                        ,\"avgsugarperday18\"\n",
    "                         ,\"ssb\"\n",
    "                         ,\"generalhealth\"]]\n",
    "\n",
    "#finding correlation in remaining features\n",
    "corr_nutrition = df_train_nutrition.corr().abs()\n",
    "draw_corr(corr_nutrition)\n",
    "corr_nutrition.unstack().sort_values(kind=\"quicksort\")\n"
   ]
  },
  {
   "cell_type": "markdown",
   "metadata": {},
   "source": [
    "#Next most correlated columns after deleting the previous coulmns:\n",
    "\n",
    "nutrition47       fruitveg18          0.597664\n",
    "fruitveg18        nutrition46         0.624137\n",
    "avgsodaperday18   ssb                 0.626788\n",
    "\n",
    "ssb               avgsugarperday18   -0.687271\n",
    "\n",
    "One analysis we would do without further elimination to see how the target variable fares. ssb is correlated to both avgsodaperday18 and avgsugarperday18. We will keep ssb as it combines both soda and other drinks consumed by an individual. Also nutrition47 and fruitveg18 are correlated. Lets keep them for now as corelation is not very strong."
   ]
  },
  {
   "cell_type": "code",
   "execution_count": 101,
   "metadata": {},
   "outputs": [],
   "source": [
    "# features dropped pertaining to high correlation with other features :  \n",
    "df_train_nutrition = df_train_nutrition[[\"nutrition46\",\"nutrition47\"\n",
    "                         ,\"ssb\"\n",
    "                         ,\"generalhealth\"]]"
   ]
  },
  {
   "cell_type": "markdown",
   "metadata": {},
   "source": [
    "# Making prediction and checking rmse"
   ]
  },
  {
   "cell_type": "code",
   "execution_count": 348,
   "metadata": {},
   "outputs": [],
   "source": [
    "#[1]https://scikit-learn.org/stable/modules/generated/sklearn.decomposition.TruncatedSVD.html\n",
    "#[2]https://scikit-learn.org/stable/modules/generated/sklearn.linear_model.LogisticRegression.html\n",
    "from sklearn.random_projection import sparse_random_matrix\n",
    "from sklearn.naive_bayes import GaussianNB\n",
    "from sklearn.metrics import mean_squared_error\n",
    "from math import sqrt\n",
    "\n",
    "#function for rmse calculation of model\n",
    "def model_apply(x,y,algo,n):\n",
    "    x_train, x_test, y_train, y_test = train_test_split(x,y,test_size=0.25,random_state=0)\n",
    "    scaler = StandardScaler()\n",
    "    # Fit on training set only.\n",
    "    scaler.fit(x_train)\n",
    "    # Apply transform to both the training set and the test set.\n",
    "    x_train = scaler.transform(x_train)\n",
    "    x_test = scaler.transform(x_test)\n",
    "    \n",
    "    pca = PCA(n_components=n,tol=.95)\n",
    "    pca.fit(x_test)\n",
    "    print(pca.explained_variance_ratio_) \n",
    "    \n",
    "    x_train = pca.transform(x_train)\n",
    "    x_test = pca.transform(x_test)\n",
    "    \n",
    "#     principalDf = pd.DataFrame(data = x_train\n",
    "#              , columns = ['pc1', 'pc2','pc3'])\n",
    "#     print(principalDf)\n",
    "\n",
    "    #model selection\n",
    "    if algo==1:\n",
    "        model=LogisticRegression(random_state=0, solver='lbfgs',multi_class='multinomial',max_iter=200)\n",
    "    elif algo==2:\n",
    "        model=GaussianNB()\n",
    "    elif algo==3:\n",
    "        model=DecisionTreeClassifier()\n",
    "    elif algo==4:\n",
    "        model=svm.SVC(gamma='scale')\n",
    "    elif algo==5:\n",
    "        model=Perceptron(tol=1e-3, random_state=0)\n",
    "        \n",
    "        # Train the model using the training sets\n",
    "    model.fit(x_train,y_train.values.ravel())\n",
    "\n",
    "    # Predict Output\n",
    "    y_pred = model.predict(x_test)\n",
    "    print (\"Predicted Value:\", y_pred)\n",
    "    print(\"Accuracy:\",metrics.accuracy_score(y_test, y_pred))\n",
    "    print(confusion_matrix(y_test,y_pred))\n",
    "    print(classification_report(y_test,y_pred))\n",
    "    rmse = sqrt(mean_squared_error(y_test, y_pred))\n",
    "    return(rmse)"
   ]
  },
  {
   "cell_type": "markdown",
   "metadata": {},
   "source": [
    "# Physical Activity vs General Health"
   ]
  },
  {
   "cell_type": "code",
   "execution_count": 134,
   "metadata": {},
   "outputs": [],
   "source": [
    "#preparing training and test data\n",
    "x=df_train_physical[[\"exercise18\",\"cyclingfreq\"]] #source feature\n",
    "y=df_train_physical[[\"generalhealth\"]] #target feature\n",
    "# algo=LogisticRegression(random_state=0, solver='lbfgs',multi_class='multinomial') #rmse=1.1530 DT= 1.1400\n",
    "# model = GaussianNB() #rmse=1.28"
   ]
  },
  {
   "cell_type": "code",
   "execution_count": 141,
   "metadata": {},
   "outputs": [
    {
     "name": "stdout",
     "output_type": "stream",
     "text": [
      "[0.57708118 0.42291882]\n",
      "Predicted Value: [3. 3. 3. ... 3. 3. 3.]\n",
      "Accuracy: 0.3223868642370845\n",
      "[[  0  98 317   0   0]\n",
      " [  0 138 513   1   0]\n",
      " [  0  97 658   2   0]\n",
      " [  0  40 467   9   0]\n",
      " [  0   5 146   6   0]]\n",
      "              precision    recall  f1-score   support\n",
      "\n",
      "         1.0       0.00      0.00      0.00       415\n",
      "         2.0       0.37      0.21      0.27       652\n",
      "         3.0       0.31      0.87      0.46       757\n",
      "         4.0       0.50      0.02      0.03       516\n",
      "         5.0       0.00      0.00      0.00       157\n",
      "\n",
      "    accuracy                           0.32      2497\n",
      "   macro avg       0.24      0.22      0.15      2497\n",
      "weighted avg       0.29      0.32      0.22      2497\n",
      "\n"
     ]
    },
    {
     "name": "stderr",
     "output_type": "stream",
     "text": [
      "/usr/local/lib/python3.7/site-packages/sklearn/metrics/classification.py:1437: UndefinedMetricWarning: Precision and F-score are ill-defined and being set to 0.0 in labels with no predicted samples.\n",
      "  'precision', 'predicted', average, warn_for)\n"
     ]
    },
    {
     "data": {
      "text/plain": [
       "1.1398065584953205"
      ]
     },
     "execution_count": 141,
     "metadata": {},
     "output_type": "execute_result"
    }
   ],
   "source": [
    "model_apply(x,y,3,2)"
   ]
  },
  {
   "cell_type": "markdown",
   "metadata": {},
   "source": [
    "# Nutrition vs General Health"
   ]
  },
  {
   "cell_type": "code",
   "execution_count": 344,
   "metadata": {},
   "outputs": [
    {
     "name": "stdout",
     "output_type": "stream",
     "text": [
      "[0.4619264]\n",
      "Predicted Value: [3. 3. 3. ... 1. 2. 3.]\n",
      "Accuracy: 0.32607785684386775\n",
      "[[  6 135 233   5   0]\n",
      " [ 12 207 406   3   0]\n",
      " [ 13 149 565   3   0]\n",
      " [  6  88 421   1   0]\n",
      " [  0  29 107   0   0]]\n",
      "              precision    recall  f1-score   support\n",
      "\n",
      "         1.0       0.16      0.02      0.03       379\n",
      "         2.0       0.34      0.33      0.33       628\n",
      "         3.0       0.33      0.77      0.46       730\n",
      "         4.0       0.08      0.00      0.00       516\n",
      "         5.0       0.00      0.00      0.00       136\n",
      "\n",
      "    accuracy                           0.33      2389\n",
      "   macro avg       0.18      0.22      0.17      2389\n",
      "weighted avg       0.23      0.33      0.23      2389\n",
      "\n"
     ]
    },
    {
     "name": "stderr",
     "output_type": "stream",
     "text": [
      "/usr/local/lib/python3.7/site-packages/sklearn/metrics/classification.py:1437: UndefinedMetricWarning: Precision and F-score are ill-defined and being set to 0.0 in labels with no predicted samples.\n",
      "  'precision', 'predicted', average, warn_for)\n"
     ]
    },
    {
     "data": {
      "text/plain": [
       "1.1685139553979729"
      ]
     },
     "execution_count": 344,
     "metadata": {},
     "output_type": "execute_result"
    }
   ],
   "source": [
    "#preparing training and test data\n",
    "x=df_train_nutrition[[\"nutrition46\",\"nutrition47\",\"ssb\"]] #source feature\n",
    "y=df_train_nutrition[[\"generalhealth\"]] #target feature\n",
    "# algo=LogisticRegression(random_state=0, solver='lbfgs',multi_class='multinomial') #rmse=1.1343 DT=1.1685\n",
    "# model = GaussianNB() #rmse=1.28\n",
    "model_apply(x,y,3,1)"
   ]
  },
  {
   "cell_type": "markdown",
   "metadata": {},
   "source": [
    "# Checking correlation between CardioVascularHealth data"
   ]
  },
  {
   "cell_type": "code",
   "execution_count": 155,
   "metadata": {},
   "outputs": [
    {
     "name": "stdout",
     "output_type": "stream",
     "text": [
      "   toldhighbp18  toldprescription18  takingmeds18  checkedbp18  generalhealth\n",
      "0           1.0                 1.0           1.0          1.0            2.0\n",
      "1           2.0                 NaN           NaN          2.0            2.0\n",
      "2           2.0                 NaN           NaN          1.0            4.0\n",
      "3           2.0                 NaN           NaN          2.0            2.0\n",
      "4           2.0                 NaN           NaN          2.0            3.0\n"
     ]
    },
    {
     "data": {
      "text/plain": [
       "toldhighbp18            31\n",
       "toldprescription18    6535\n",
       "takingmeds18          6895\n",
       "checkedbp18             27\n",
       "generalhealth           46\n",
       "dtype: int64"
      ]
     },
     "execution_count": 155,
     "metadata": {},
     "output_type": "execute_result"
    }
   ],
   "source": [
    "df_train_cardio=df[[\"toldhighbp18\",\"toldprescription18\",\"takingmeds18\",\"checkedbp18\",\"generalhealth\"]]\n",
    "print(df_train_cardio.head())\n",
    "df_train_cardio.isnull().sum()"
   ]
  },
  {
   "cell_type": "markdown",
   "metadata": {},
   "source": [
    "toldprescription18 and takingmeds18 has high NA values so we have to drop them from dataset"
   ]
  },
  {
   "cell_type": "code",
   "execution_count": 156,
   "metadata": {},
   "outputs": [
    {
     "name": "stdout",
     "output_type": "stream",
     "text": [
      "   toldhighbp18  checkedbp18  generalhealth\n",
      "0           1.0          1.0            2.0\n",
      "1           2.0          2.0            2.0\n",
      "2           2.0          1.0            4.0\n",
      "3           2.0          2.0            2.0\n",
      "4           2.0          2.0            3.0\n"
     ]
    },
    {
     "data": {
      "text/plain": [
       "toldhighbp18     31\n",
       "checkedbp18      27\n",
       "generalhealth    46\n",
       "dtype: int64"
      ]
     },
     "execution_count": 156,
     "metadata": {},
     "output_type": "execute_result"
    }
   ],
   "source": [
    "df_train_cardio=df[[\"toldhighbp18\",\"checkedbp18\",\"generalhealth\"]]\n",
    "print(df_train_cardio.head())\n",
    "df_train_cardio.isnull().sum()"
   ]
  },
  {
   "cell_type": "code",
   "execution_count": 157,
   "metadata": {},
   "outputs": [
    {
     "data": {
      "text/plain": [
       "checkedbp18    generalhealth    0.174988\n",
       "generalhealth  checkedbp18      0.174988\n",
       "toldhighbp18   checkedbp18      0.283653\n",
       "checkedbp18    toldhighbp18     0.283653\n",
       "toldhighbp18   generalhealth    0.332724\n",
       "generalhealth  toldhighbp18     0.332724\n",
       "toldhighbp18   toldhighbp18     1.000000\n",
       "checkedbp18    checkedbp18      1.000000\n",
       "generalhealth  generalhealth    1.000000\n",
       "dtype: float64"
      ]
     },
     "execution_count": 157,
     "metadata": {},
     "output_type": "execute_result"
    },
    {
     "data": {
      "image/png": "[encoded data removed]",
      "text/plain": [
       "<Figure size 432x288 with 2 Axes>"
      ]
     },
     "metadata": {
      "needs_background": "light"
     },
     "output_type": "display_data"
    }
   ],
   "source": [
    "df_train_cardio=df_train_cardio.dropna()\n",
    "corr_cardio = df_train_cardio.corr().abs()\n",
    "draw_corr(corr_cardio)\n",
    "corr_cardio.unstack().sort_values(kind=\"quicksort\")"
   ]
  },
  {
   "cell_type": "markdown",
   "metadata": {},
   "source": [
    "# Cardio vs General Health\n"
   ]
  },
  {
   "cell_type": "code",
   "execution_count": 347,
   "metadata": {},
   "outputs": [
    {
     "name": "stdout",
     "output_type": "stream",
     "text": [
      "[0.64278728 0.35721272]\n",
      "Predicted Value: [2. 2. 3. ... 4. 2. 4.]\n",
      "Accuracy: 0.33480352846832395\n",
      "[[  0 265 121  22   0]\n",
      " [  0 382 173  93   0]\n",
      " [  0 328 283 151   0]\n",
      " [  0 157 200 170   0]\n",
      " [  0  22  55  72   0]]\n",
      "              precision    recall  f1-score   support\n",
      "\n",
      "         1.0       0.00      0.00      0.00       408\n",
      "         2.0       0.33      0.59      0.42       648\n",
      "         3.0       0.34      0.37      0.36       762\n",
      "         4.0       0.33      0.32      0.33       527\n",
      "         5.0       0.00      0.00      0.00       149\n",
      "\n",
      "    accuracy                           0.33      2494\n",
      "   macro avg       0.20      0.26      0.22      2494\n",
      "weighted avg       0.26      0.33      0.29      2494\n",
      "\n"
     ]
    },
    {
     "name": "stderr",
     "output_type": "stream",
     "text": [
      "/usr/local/lib/python3.7/site-packages/sklearn/metrics/classification.py:1437: UndefinedMetricWarning: Precision and F-score are ill-defined and being set to 0.0 in labels with no predicted samples.\n",
      "  'precision', 'predicted', average, warn_for)\n"
     ]
    },
    {
     "data": {
      "text/plain": [
       "1.1483749544842086"
      ]
     },
     "execution_count": 347,
     "metadata": {},
     "output_type": "execute_result"
    }
   ],
   "source": [
    "df_train_cardio=df_train_cardio[[\"toldhighbp18\",\"checkedbp18\",\"generalhealth\"]]\n",
    "df_train_cardio=df_train_cardio.dropna()\n",
    "#preparing training and test data\n",
    "x=df_train_cardio[[\"toldhighbp18\",\"checkedbp18\"]] #source feature\n",
    "y=df_train_cardio[[\"generalhealth\"]] #target feature\n",
    "# algo=LogisticRegression(random_state=0, solver='lbfgs',multi_class='multinomial') #rmse=1.1484\n",
    "# model = GaussianNB() #rmse=1.28\n",
    "model_apply(x,y,3,2)"
   ]
  },
  {
   "cell_type": "markdown",
   "metadata": {},
   "source": [
    "# Checking correlation between Diabetes data"
   ]
  },
  {
   "cell_type": "code",
   "execution_count": 168,
   "metadata": {},
   "outputs": [
    {
     "name": "stdout",
     "output_type": "stream",
     "text": [
      "   diabetes18  insulin  takingdiabpill18  takingdiabinject  generalhealth\n",
      "0         2.0      NaN               NaN               NaN            2.0\n",
      "1         2.0      NaN               NaN               NaN            2.0\n",
      "2         2.0      NaN               NaN               NaN            4.0\n",
      "3         2.0      NaN               NaN               NaN            2.0\n",
      "4         2.0      NaN               NaN               NaN            3.0\n"
     ]
    },
    {
     "data": {
      "text/plain": [
       "diabetes18            18\n",
       "insulin             8524\n",
       "takingdiabpill18    8522\n",
       "takingdiabinject    8533\n",
       "generalhealth         46\n",
       "dtype: int64"
      ]
     },
     "execution_count": 168,
     "metadata": {},
     "output_type": "execute_result"
    }
   ],
   "source": [
    "df_train_diabetes=df[[\"diabetes18\",\"insulin\",\"takingdiabpill18\",\"takingdiabinject\",\"generalhealth\"]]\n",
    "print(df_train_diabetes.head())\n",
    "df_train_diabetes.isnull().sum()"
   ]
  },
  {
   "cell_type": "markdown",
   "metadata": {},
   "source": [
    "As \"insulin\",\"takingdiabpill18\",\"takingdiabinject\" have mostly NA values we have to drop them. Since only one column is left there is no need to check correlation here.\n",
    "\n",
    "# Diabetes vs General Health "
   ]
  },
  {
   "cell_type": "code",
   "execution_count": 233,
   "metadata": {},
   "outputs": [
    {
     "name": "stdout",
     "output_type": "stream",
     "text": [
      "[1.]\n",
      "Predicted Value: [3. 3. 4. ... 4. 3. 3.]\n",
      "Accuracy: 0.33200159808230123\n",
      "[[  0   0 364  14   0]\n",
      " [  0   0 661  36   0]\n",
      " [  0   0 672 114   0]\n",
      " [  0   0 345 159   0]\n",
      " [  0   0  75  63   0]]\n",
      "              precision    recall  f1-score   support\n",
      "\n",
      "         1.0       0.00      0.00      0.00       378\n",
      "         2.0       0.00      0.00      0.00       697\n",
      "         3.0       0.32      0.85      0.46       786\n",
      "         4.0       0.41      0.32      0.36       504\n",
      "         5.0       0.00      0.00      0.00       138\n",
      "\n",
      "    accuracy                           0.33      2503\n",
      "   macro avg       0.15      0.23      0.16      2503\n",
      "weighted avg       0.18      0.33      0.22      2503\n",
      "\n"
     ]
    },
    {
     "name": "stderr",
     "output_type": "stream",
     "text": [
      "/usr/local/lib/python3.7/site-packages/sklearn/metrics/classification.py:1437: UndefinedMetricWarning: Precision and F-score are ill-defined and being set to 0.0 in labels with no predicted samples.\n",
      "  'precision', 'predicted', average, warn_for)\n"
     ]
    },
    {
     "data": {
      "text/plain": [
       "1.1322815578152803"
      ]
     },
     "execution_count": 233,
     "metadata": {},
     "output_type": "execute_result"
    }
   ],
   "source": [
    "df_train_diabetes=df_train_diabetes[[\"diabetes18\",\"generalhealth\"]]\n",
    "df_train_diabetes=df_train_diabetes.dropna()\n",
    "#preparing training and test data\n",
    "x=df_train_diabetes[[\"diabetes18\"]] #source feature\n",
    "y=df_train_diabetes[[\"generalhealth\"]] #target feature\n",
    "# algo=LogisticRegression(random_state=0, solver='lbfgs',multi_class='multinomial') #rmse=1.1323\n",
    "# model = GaussianNB() #rmse=1.28\n",
    "model_apply(x,y,3,1)"
   ]
  },
  {
   "cell_type": "markdown",
   "metadata": {},
   "source": [
    "# Clubbing the different parameters"
   ]
  },
  {
   "cell_type": "code",
   "execution_count": 325,
   "metadata": {},
   "outputs": [
    {
     "name": "stdout",
     "output_type": "stream",
     "text": [
      "       cid  exercise18  cyclingfreq  diabetes18  toldhighbp18  nutrition46  \\\n",
      "0  1900001         1.0          2.0         2.0           1.0          2.0   \n",
      "1  1900002         1.0          5.0         2.0           2.0          1.0   \n",
      "2  1900003         1.0          5.0         2.0           2.0          1.0   \n",
      "3  1900004         1.0          5.0         2.0           2.0          1.0   \n",
      "4  1900005         2.0          2.0         2.0           2.0          0.0   \n",
      "\n",
      "   nutrition47  ssb  generalhealth  \n",
      "0          1.0  2.0            2.0  \n",
      "1          1.0  1.0            2.0  \n",
      "2          2.0  2.0            4.0  \n",
      "3          1.0  2.0            2.0  \n",
      "4          2.0  2.0            3.0  \n"
     ]
    },
    {
     "data": {
      "text/plain": [
       "cid                0\n",
       "exercise18        21\n",
       "cyclingfreq       26\n",
       "diabetes18        18\n",
       "toldhighbp18      31\n",
       "nutrition46      186\n",
       "nutrition47      233\n",
       "ssb              115\n",
       "generalhealth     46\n",
       "dtype: int64"
      ]
     },
     "execution_count": 325,
     "metadata": {},
     "output_type": "execute_result"
    }
   ],
   "source": [
    "df_clubbed=df[[\"cid\",\"exercise18\",\"cyclingfreq\",\"diabetes18\",\n",
    "               \"toldhighbp18\",\"nutrition46\",\"nutrition47\",\"ssb\",\n",
    "              \"generalhealth\"]]\n",
    "print(df_clubbed.head())\n",
    "df_clubbed.isnull().sum()"
   ]
  },
  {
   "cell_type": "code",
   "execution_count": 357,
   "metadata": {},
   "outputs": [],
   "source": [
    "df_clubbed=df_clubbed.dropna()\n",
    "#preparing training and test data\n",
    "x=df_clubbed.drop(columns=[\"cid\",\"generalhealth\"]) #source feature\n",
    "y=df_clubbed[[\"generalhealth\"]] #target feature\n",
    "# algo=LogisticRegression(random_state=0, solver='lbfgs',multi_class='multinomial') #rmse=1.1430, with pca 1.058\n",
    "# algo=svm.SVC(gamma='scale') #emse=1.1806\n",
    "# algo = GaussianNB() #rmse=1.2156\n",
    "# algo=DecisionTreeClassifier() #rmse=1.4330\n"
   ]
  },
  {
   "cell_type": "code",
   "execution_count": 367,
   "metadata": {},
   "outputs": [
    {
     "name": "stdout",
     "output_type": "stream",
     "text": [
      "[0.25271258 0.18353315 0.1311358  0.13020431 0.11024677 0.1044609 ]\n",
      "Predicted Value: [2. 3. 3. ... 2. 3. 2.]\n",
      "Accuracy: 0.3426895684960201\n",
      "[[ 74 145 168  20   3]\n",
      " [ 73 224 264  52   1]\n",
      " [ 54 189 382 101   8]\n",
      " [ 26  88 226 132   9]\n",
      " [  2  16  74  50   6]]\n",
      "              precision    recall  f1-score   support\n",
      "\n",
      "         1.0       0.32      0.18      0.23       410\n",
      "         2.0       0.34      0.36      0.35       614\n",
      "         3.0       0.34      0.52      0.41       734\n",
      "         4.0       0.37      0.27      0.32       481\n",
      "         5.0       0.22      0.04      0.07       148\n",
      "\n",
      "    accuracy                           0.34      2387\n",
      "   macro avg       0.32      0.28      0.28      2387\n",
      "weighted avg       0.34      0.34      0.33      2387\n",
      "\n"
     ]
    },
    {
     "data": {
      "text/plain": [
       "1.2074340320563726"
      ]
     },
     "execution_count": 367,
     "metadata": {},
     "output_type": "execute_result"
    }
   ],
   "source": [
    "\n",
    "\n",
    "model_apply(x,y,3,6)"
   ]
  },
  {
   "cell_type": "markdown",
   "metadata": {},
   "source": [
    "#### Physical Activity vs Cardio Health"
   ]
  },
  {
   "cell_type": "code",
   "execution_count": 212,
   "metadata": {},
   "outputs": [
    {
     "name": "stdout",
     "output_type": "stream",
     "text": [
      "[0.58218436]\n",
      "Predicted Value: [2. 2. 2. ... 2. 2. 2.]\n",
      "Accuracy: 0.6480938416422287\n",
      "[[  24  829]\n",
      " [  11 1523]]\n",
      "              precision    recall  f1-score   support\n",
      "\n",
      "         1.0       0.69      0.03      0.05       853\n",
      "         2.0       0.65      0.99      0.78      1534\n",
      "\n",
      "    accuracy                           0.65      2387\n",
      "   macro avg       0.67      0.51      0.42      2387\n",
      "weighted avg       0.66      0.65      0.52      2387\n",
      "\n"
     ]
    },
    {
     "data": {
      "text/plain": [
       "0.5932167886681659"
      ]
     },
     "execution_count": 212,
     "metadata": {},
     "output_type": "execute_result"
    }
   ],
   "source": [
    "#preparing training and test data\n",
    "x=df_clubbed[[\"exercise18\",\"cyclingfreq\"]] #source feature\n",
    "y=df_clubbed[[\"toldhighbp18\"]] #target feature\n",
    "# algo=LogisticRegression(random_state=0, solver='lbfgs',multi_class='multinomial') #rmse=0.5932\n",
    "# algo=svm.SVC(gamma='scale') #emse=1.1806\n",
    "# algo = GaussianNB() #rmse=1.2156\n",
    "# algo=DecisionTreeClassifier() #rmse=1.4330\n",
    "model_apply(x,y,3,1)"
   ]
  },
  {
   "cell_type": "markdown",
   "metadata": {},
   "source": [
    "# Nutrition vs Cardio Health"
   ]
  },
  {
   "cell_type": "code",
   "execution_count": 316,
   "metadata": {},
   "outputs": [
    {
     "name": "stdout",
     "output_type": "stream",
     "text": [
      "[0.48825148]\n",
      "Predicted Value: [2. 2. 2. ... 2. 2. 2.]\n",
      "Accuracy: 0.6372015081692501\n",
      "[[  11  842]\n",
      " [  24 1510]]\n",
      "              precision    recall  f1-score   support\n",
      "\n",
      "         1.0       0.31      0.01      0.02       853\n",
      "         2.0       0.64      0.98      0.78      1534\n",
      "\n",
      "    accuracy                           0.64      2387\n",
      "   macro avg       0.48      0.50      0.40      2387\n",
      "weighted avg       0.52      0.64      0.51      2387\n",
      "\n"
     ]
    },
    {
     "data": {
      "text/plain": [
       "0.6023275619052725"
      ]
     },
     "execution_count": 316,
     "metadata": {},
     "output_type": "execute_result"
    }
   ],
   "source": [
    "#preparing training and test data\n",
    "x=df_clubbed[[\"nutrition46\",\"nutrition47\",\"ssb\"]] #source feature\n",
    "y=df_clubbed[[\"toldhighbp18\"]] #target feature\n",
    "# algo=LogisticRegression(random_state=0, solver='lbfgs',multi_class='multinomial') #rmse=0.5978 DT: 0.6023\n",
    "# algo=svm.SVC(gamma='scale') #emse=1.1806\n",
    "# algo = GaussianNB() #rmse=1.2156\n",
    "# algo=DecisionTreeClassifier() #rmse=1.4330\n",
    "model_apply(x,y,3,1)"
   ]
  },
  {
   "cell_type": "markdown",
   "metadata": {},
   "source": [
    "# Physical vs Diabetes"
   ]
  },
  {
   "cell_type": "code",
   "execution_count": 244,
   "metadata": {},
   "outputs": [
    {
     "name": "stdout",
     "output_type": "stream",
     "text": [
      "[0.58218436]\n",
      "Predicted Value: [2. 2. 2. ... 2. 2. 2.]\n",
      "Accuracy: 0.8437369082530373\n",
      "[[   7  363]\n",
      " [  10 2007]]\n",
      "              precision    recall  f1-score   support\n",
      "\n",
      "         1.0       0.41      0.02      0.04       370\n",
      "         2.0       0.85      1.00      0.91      2017\n",
      "\n",
      "    accuracy                           0.84      2387\n",
      "   macro avg       0.63      0.51      0.48      2387\n",
      "weighted avg       0.78      0.84      0.78      2387\n",
      "\n"
     ]
    },
    {
     "data": {
      "text/plain": [
       "0.3953012670697663"
      ]
     },
     "execution_count": 244,
     "metadata": {},
     "output_type": "execute_result"
    }
   ],
   "source": [
    "#preparing training and test data\n",
    "x=df_clubbed[[\"exercise18\",\"cyclingfreq\"]] #source feature\n",
    "y=df_clubbed[[\"diabetes18\"]] #target feature\n",
    "# algo=LogisticRegression(random_state=0, solver='lbfgs',multi_class='multinomial') #rmse=0.3937 DT=0.3953\n",
    "# algo=svm.SVC(gamma='scale') #emse=1.1806\n",
    "# algo = GaussianNB() #rmse=1.2156\n",
    "# algo=DecisionTreeClassifier() #rmse=1.4330\n",
    "model_apply(x,y,3,1)"
   ]
  },
  {
   "cell_type": "markdown",
   "metadata": {},
   "source": [
    "# Nutrition vs Diabetes"
   ]
  },
  {
   "cell_type": "code",
   "execution_count": 253,
   "metadata": {},
   "outputs": [
    {
     "name": "stdout",
     "output_type": "stream",
     "text": [
      "[0.48825148]\n",
      "Predicted Value: [2. 2. 2. ... 2. 2. 2.]\n",
      "Accuracy: 0.8428990364474236\n",
      "[[   0  370]\n",
      " [   5 2012]]\n",
      "              precision    recall  f1-score   support\n",
      "\n",
      "         1.0       0.00      0.00      0.00       370\n",
      "         2.0       0.84      1.00      0.91      2017\n",
      "\n",
      "    accuracy                           0.84      2387\n",
      "   macro avg       0.42      0.50      0.46      2387\n",
      "weighted avg       0.71      0.84      0.77      2387\n",
      "\n"
     ]
    },
    {
     "data": {
      "text/plain": [
       "0.3963596391568855"
      ]
     },
     "execution_count": 253,
     "metadata": {},
     "output_type": "execute_result"
    }
   ],
   "source": [
    "#preparing training and test data\n",
    "x=df_clubbed[[\"nutrition46\",\"nutrition47\",\"ssb\"]] #source feature\n",
    "y=df_clubbed[[\"diabetes18\"]] #target feature\n",
    "# algo=LogisticRegression(random_state=0, solver='lbfgs',multi_class='multinomial') #rmse=0.3937 DT=0.3966\n",
    "# algo=svm.SVC(gamma='scale') #emse=1.1806\n",
    "# algo = GaussianNB() #rmse=1.2156\n",
    "# algo=DecisionTreeClassifier() #rmse=1.4330\n",
    "model_apply(x,y,3,1)"
   ]
  },
  {
   "cell_type": "markdown",
   "metadata": {},
   "source": [
    "We observed that most of the Diabetes predictions are of class 2. Probably there is an imbalace of class in test data. Let us check.\n",
    "\n",
    "# Resampling Diabetese Dataset"
   ]
  },
  {
   "cell_type": "code",
   "execution_count": 254,
   "metadata": {},
   "outputs": [
    {
     "data": {
      "text/plain": [
       "2.0    8082\n",
       "1.0    1464\n",
       "Name: diabetes18, dtype: int64"
      ]
     },
     "execution_count": 254,
     "metadata": {},
     "output_type": "execute_result"
    }
   ],
   "source": [
    "#[1]https://elitedatascience.com/imbalanced-classes\n",
    "df_clubbed[\"diabetes18\"].value_counts()"
   ]
  },
  {
   "cell_type": "markdown",
   "metadata": {},
   "source": [
    "As we can see that class 2 has more samples than class 1 which shows that data is impbalanced and fovours class 2. Upsampling the class 1 data :"
   ]
  },
  {
   "cell_type": "markdown",
   "metadata": {},
   "source": [
    "# Up Sampling"
   ]
  },
  {
   "cell_type": "code",
   "execution_count": 255,
   "metadata": {},
   "outputs": [
    {
     "data": {
      "text/plain": [
       "1.0    8082\n",
       "2.0    8082\n",
       "Name: diabetes18, dtype: int64"
      ]
     },
     "execution_count": 255,
     "metadata": {},
     "output_type": "execute_result"
    }
   ],
   "source": [
    "from sklearn.utils import resample\n",
    "# Separate majority and minority classes\n",
    "df_majority = df_clubbed[df_clubbed.diabetes18==2]\n",
    "df_minority = df_clubbed[df_clubbed.diabetes18==1]\n",
    " \n",
    "# Upsample minority class\n",
    "df_minority_upsampled = resample(df_minority, \n",
    "                                 replace=True,     # sample with replacement\n",
    "                                 n_samples=8082,    # to match majority class\n",
    "                                 random_state=123) # reproducible results\n",
    " \n",
    "# Combine majority class with upsampled minority class\n",
    "df_upsampled = pd.concat([df_majority, df_minority_upsampled])\n",
    " \n",
    "# Display new class counts\n",
    "df_upsampled.diabetes18.value_counts()"
   ]
  },
  {
   "cell_type": "markdown",
   "metadata": {},
   "source": [
    "# Nutrition vs Diabetes again after upsampling"
   ]
  },
  {
   "cell_type": "code",
   "execution_count": 262,
   "metadata": {},
   "outputs": [
    {
     "name": "stdout",
     "output_type": "stream",
     "text": [
      "[0.44936878]\n",
      "Predicted Value: [1. 2. 2. ... 2. 2. 1.]\n",
      "Accuracy: 0.5659490225191784\n",
      "[[1293  766]\n",
      " [ 988  994]]\n",
      "              precision    recall  f1-score   support\n",
      "\n",
      "         1.0       0.57      0.63      0.60      2059\n",
      "         2.0       0.56      0.50      0.53      1982\n",
      "\n",
      "    accuracy                           0.57      4041\n",
      "   macro avg       0.57      0.56      0.56      4041\n",
      "weighted avg       0.57      0.57      0.56      4041\n",
      "\n"
     ]
    },
    {
     "data": {
      "text/plain": [
       "0.6588254529697692"
      ]
     },
     "execution_count": 262,
     "metadata": {},
     "output_type": "execute_result"
    }
   ],
   "source": [
    "#preparing training and test data\n",
    "x=df_upsampled[[\"nutrition46\",\"nutrition47\",\"ssb\"]] #source feature\n",
    "y=df_upsampled[[\"diabetes18\"]] #target feature\n",
    "# algo=LogisticRegression(random_state=0, solver='lbfgs',multi_class='multinomial') #rmse=0.6678 DT=0.6588\n",
    "# algo=svm.SVC(gamma='scale') #emse=1.1806\n",
    "# algo = GaussianNB() #rmse=1.2156\n",
    "# algo=DecisionTreeClassifier() #rmse=1.4330\n",
    "model_apply(x,y,3,1)"
   ]
  },
  {
   "cell_type": "markdown",
   "metadata": {},
   "source": [
    "# Physical Activity vs Diabetes after upsampling"
   ]
  },
  {
   "cell_type": "code",
   "execution_count": 312,
   "metadata": {},
   "outputs": [
    {
     "name": "stdout",
     "output_type": "stream",
     "text": [
      "[0.56551363]\n",
      "Predicted Value: [1. 1. 1. ... 1. 1. 1.]\n",
      "Accuracy: 0.568918584508785\n",
      "[[1862  197]\n",
      " [1545  437]]\n",
      "              precision    recall  f1-score   support\n",
      "\n",
      "         1.0       0.55      0.90      0.68      2059\n",
      "         2.0       0.69      0.22      0.33      1982\n",
      "\n",
      "    accuracy                           0.57      4041\n",
      "   macro avg       0.62      0.56      0.51      4041\n",
      "weighted avg       0.62      0.57      0.51      4041\n",
      "\n"
     ]
    },
    {
     "data": {
      "text/plain": [
       "0.6565679062299764"
      ]
     },
     "execution_count": 312,
     "metadata": {},
     "output_type": "execute_result"
    }
   ],
   "source": [
    "#preparing training and test data\n",
    "x=df_upsampled[[\"exercise18\",\"cyclingfreq\"]] #source feature\n",
    "y=df_upsampled[[\"diabetes18\"]] #target feature\n",
    "# algo=LogisticRegression(random_state=0, solver='lbfgs',multi_class='multinomial') #rmse=0.6735 DT=0.6566\n",
    "# algo=svm.SVC(gamma='scale') #emse=1.1806\n",
    "# algo = GaussianNB() #rmse=1.2156\n",
    "# algo=DecisionTreeClassifier() #rmse=1.4330\n",
    "model_apply(x,y,3,1)"
   ]
  },
  {
   "cell_type": "markdown",
   "metadata": {},
   "source": [
    "# Down Sampling"
   ]
  },
  {
   "cell_type": "code",
   "execution_count": 270,
   "metadata": {},
   "outputs": [
    {
     "data": {
      "text/plain": [
       "1.0    1464\n",
       "2.0    1464\n",
       "Name: diabetes18, dtype: int64"
      ]
     },
     "execution_count": 270,
     "metadata": {},
     "output_type": "execute_result"
    }
   ],
   "source": [
    "#Down Sampling\n",
    "df_majority = df_clubbed[df_clubbed.diabetes18==2]\n",
    "df_minority = df_clubbed[df_clubbed.diabetes18==1]\n",
    " \n",
    "# Downsample majority class\n",
    "df_majority_downsampled = resample(df_majority, \n",
    "                                 replace=False,    # sample without replacement\n",
    "                                 n_samples=1464,     # to match minority class\n",
    "                                 random_state=123) # reproducible results\n",
    " \n",
    "# Combine minority class with downsampled majority class\n",
    "df_downsampled = pd.concat([df_majority_downsampled, df_minority])\n",
    " \n",
    "# Display new class counts\n",
    "df_downsampled.diabetes18.value_counts()"
   ]
  },
  {
   "cell_type": "markdown",
   "metadata": {},
   "source": [
    "# Nutrition vs Diabetes again after down sampling"
   ]
  },
  {
   "cell_type": "code",
   "execution_count": 308,
   "metadata": {},
   "outputs": [
    {
     "name": "stdout",
     "output_type": "stream",
     "text": [
      "[0.47692086 0.37183809]\n",
      "Predicted Value: [2. 2. 2. 1. 1. 1. 2. 1. 1. 1. 2. 1. 1. 2. 1. 1. 1. 2. 2. 2. 1. 1. 2. 2.\n",
      " 1. 1. 1. 2. 2. 1. 1. 2. 1. 2. 2. 2. 1. 2. 1. 1. 1. 1. 1. 1. 1. 2. 1. 2.\n",
      " 2. 1. 1. 1. 2. 1. 2. 2. 1. 1. 2. 1. 1. 2. 2. 2. 1. 1. 1. 1. 2. 1. 1. 2.\n",
      " 2. 2. 2. 2. 2. 1. 2. 1. 1. 1. 1. 2. 1. 2. 2. 1. 2. 2. 1. 2. 1. 1. 1. 2.\n",
      " 1. 2. 2. 2. 1. 2. 1. 1. 2. 1. 2. 1. 2. 1. 1. 1. 1. 1. 2. 1. 2. 1. 1. 1.\n",
      " 1. 1. 1. 2. 2. 2. 2. 1. 1. 2. 1. 2. 1. 2. 1. 1. 1. 1. 2. 2. 1. 2. 2. 1.\n",
      " 2. 1. 1. 2. 2. 1. 2. 2. 1. 1. 1. 2. 1. 2. 1. 1. 1. 1. 1. 2. 1. 2. 2. 2.\n",
      " 1. 1. 1. 2. 1. 1. 1. 2. 1. 1. 1. 1. 2. 1. 2. 2. 1. 1. 1. 1. 1. 2. 1. 1.\n",
      " 2. 1. 2. 1. 2. 2. 1. 1. 1. 1. 1. 2. 1. 1. 2. 1. 1. 2. 1. 1. 2. 1. 1. 2.\n",
      " 1. 2. 2. 1. 2. 1. 1. 2. 1. 1. 2. 1. 2. 2. 2. 2. 1. 2. 1. 2. 1. 2. 1. 2.\n",
      " 1. 1. 2. 2. 1. 2. 1. 1. 2. 1. 1. 2. 1. 2. 1. 2. 1. 2. 2. 2. 2. 2. 1. 1.\n",
      " 2. 1. 2. 2. 1. 1. 1. 1. 2. 1. 1. 2. 2. 2. 1. 2. 1. 1. 1. 2. 1. 1. 1. 1.\n",
      " 1. 2. 1. 2. 1. 1. 2. 2. 1. 1. 1. 2. 1. 1. 2. 1. 1. 2. 1. 1. 1. 1. 1. 1.\n",
      " 1. 1. 1. 2. 1. 1. 1. 1. 2. 1. 1. 1. 1. 2. 1. 1. 1. 2. 2. 2. 2. 1. 1. 1.\n",
      " 2. 2. 1. 2. 1. 1. 2. 1. 2. 1. 2. 2. 2. 1. 1. 1. 1. 2. 1. 1. 1. 1. 1. 1.\n",
      " 1. 1. 2. 1. 2. 2. 2. 1. 1. 1. 1. 2. 2. 2. 2. 1. 1. 2. 1. 2. 2. 2. 2. 1.\n",
      " 1. 2. 1. 1. 2. 2. 1. 1. 2. 1. 1. 1. 2. 2. 2. 2. 2. 1. 2. 1. 1. 1. 2. 2.\n",
      " 2. 1. 1. 1. 1. 2. 2. 2. 1. 2. 1. 2. 1. 2. 2. 2. 1. 1. 1. 2. 2. 1. 1. 2.\n",
      " 1. 1. 2. 2. 2. 1. 1. 1. 2. 2. 1. 2. 1. 1. 1. 2. 2. 1. 1. 1. 2. 2. 1. 1.\n",
      " 1. 1. 2. 2. 1. 1. 1. 2. 2. 1. 2. 1. 2. 2. 1. 2. 1. 1. 1. 2. 2. 1. 2. 1.\n",
      " 2. 2. 2. 1. 1. 1. 1. 1. 1. 1. 1. 1. 1. 2. 2. 1. 1. 1. 1. 1. 2. 2. 1. 1.\n",
      " 2. 2. 1. 1. 1. 1. 2. 1. 1. 2. 1. 2. 1. 2. 2. 1. 2. 2. 1. 1. 1. 1. 1. 1.\n",
      " 1. 1. 2. 1. 2. 1. 2. 1. 2. 1. 1. 2. 2. 1. 2. 1. 1. 2. 1. 2. 1. 2. 2. 2.\n",
      " 1. 2. 2. 1. 2. 2. 1. 2. 2. 2. 2. 1. 1. 2. 2. 2. 1. 1. 2. 1. 1. 1. 1. 2.\n",
      " 2. 1. 1. 2. 2. 2. 1. 1. 1. 1. 1. 1. 2. 2. 1. 2. 2. 1. 1. 1. 2. 2. 2. 1.\n",
      " 1. 1. 1. 2. 1. 1. 2. 1. 1. 2. 1. 2. 1. 2. 1. 2. 2. 1. 2. 1. 1. 1. 1. 1.\n",
      " 1. 2. 1. 2. 1. 1. 1. 1. 1. 1. 1. 2. 2. 2. 1. 2. 2. 1. 2. 1. 2. 2. 2. 2.\n",
      " 2. 1. 2. 2. 1. 2. 2. 1. 2. 2. 1. 2. 2. 2. 2. 1. 1. 1. 1. 1. 2. 2. 2. 1.\n",
      " 1. 2. 1. 1. 1. 1. 1. 1. 2. 1. 1. 1. 2. 1. 2. 2. 1. 1. 2. 2. 2. 2. 2. 2.\n",
      " 1. 1. 1. 1. 1. 1. 1. 2. 1. 1. 2. 1. 1. 2. 2. 2. 1. 2. 1. 1. 1. 2. 2. 1.\n",
      " 1. 2. 2. 1. 2. 2. 1. 1. 1. 1. 2. 1.]\n",
      "Accuracy: 0.5341530054644809\n",
      "[[215 138]\n",
      " [203 176]]\n",
      "              precision    recall  f1-score   support\n",
      "\n",
      "         1.0       0.51      0.61      0.56       353\n",
      "         2.0       0.56      0.46      0.51       379\n",
      "\n",
      "    accuracy                           0.53       732\n",
      "   macro avg       0.54      0.54      0.53       732\n",
      "weighted avg       0.54      0.53      0.53       732\n",
      "\n"
     ]
    },
    {
     "data": {
      "text/plain": [
       "0.6825298488238585"
      ]
     },
     "execution_count": 308,
     "metadata": {},
     "output_type": "execute_result"
    }
   ],
   "source": [
    "#preparing training and test data\n",
    "x=df_downsampled[[\"nutrition46\",\"nutrition47\",\"ssb\"]] #source feature\n",
    "y=df_downsampled[[\"diabetes18\"]] #target feature\n",
    "# algo=LogisticRegression(random_state=0, solver='lbfgs',multi_class='multinomial') #rmse=0.6735 with Logistic=0.657\n",
    "# algo=svm.SVC(gamma='scale') #emse=1.1806\n",
    "# algo = GaussianNB() #rmse=1.2156\n",
    "# algo=DecisionTreeClassifier() #rmse=1.4330\n",
    "model_apply(x,y,3,2)"
   ]
  },
  {
   "cell_type": "markdown",
   "metadata": {},
   "source": [
    "# Physical Activity vs Diabetes after down sampling"
   ]
  },
  {
   "cell_type": "code",
   "execution_count": 293,
   "metadata": {},
   "outputs": [
    {
     "name": "stdout",
     "output_type": "stream",
     "text": [
      "[0.60119497]\n",
      "Predicted Value: [2. 1. 2. 1. 1. 2. 1. 1. 2. 2. 1. 1. 1. 1. 1. 1. 1. 2. 1. 1. 1. 1. 1. 1.\n",
      " 1. 2. 2. 1. 1. 1. 1. 1. 1. 1. 1. 2. 1. 1. 1. 1. 1. 1. 1. 1. 1. 1. 1. 1.\n",
      " 1. 2. 1. 1. 1. 1. 2. 1. 1. 1. 1. 1. 2. 2. 2. 1. 1. 1. 2. 1. 2. 1. 1. 1.\n",
      " 1. 1. 1. 1. 1. 1. 1. 2. 1. 1. 1. 1. 2. 2. 1. 1. 1. 1. 1. 2. 1. 1. 1. 1.\n",
      " 1. 1. 1. 2. 1. 1. 1. 1. 1. 1. 2. 1. 1. 1. 1. 1. 1. 1. 1. 1. 1. 1. 1. 1.\n",
      " 1. 1. 1. 1. 2. 1. 1. 1. 1. 1. 2. 2. 1. 1. 2. 1. 1. 1. 2. 1. 2. 1. 2. 1.\n",
      " 1. 1. 1. 2. 1. 1. 2. 1. 1. 1. 1. 1. 1. 1. 1. 1. 1. 1. 1. 1. 1. 1. 1. 1.\n",
      " 1. 1. 1. 1. 1. 1. 1. 1. 1. 1. 1. 1. 1. 1. 1. 1. 1. 2. 1. 2. 1. 1. 2. 1.\n",
      " 1. 2. 1. 1. 1. 1. 1. 2. 1. 1. 1. 1. 2. 1. 1. 1. 1. 1. 1. 1. 1. 1. 1. 1.\n",
      " 1. 1. 1. 1. 1. 1. 1. 1. 1. 1. 1. 1. 1. 2. 1. 1. 1. 1. 2. 2. 1. 1. 1. 1.\n",
      " 1. 1. 1. 1. 1. 1. 1. 1. 1. 1. 1. 1. 1. 1. 1. 1. 1. 1. 1. 1. 1. 1. 1. 1.\n",
      " 1. 1. 1. 1. 1. 1. 1. 1. 1. 1. 1. 1. 2. 1. 1. 2. 1. 1. 1. 1. 1. 1. 1. 1.\n",
      " 2. 1. 1. 2. 1. 1. 1. 2. 2. 1. 2. 1. 1. 1. 1. 1. 1. 1. 1. 1. 1. 1. 1. 1.\n",
      " 1. 1. 1. 1. 1. 1. 1. 1. 2. 1. 1. 2. 1. 1. 1. 2. 1. 1. 1. 2. 1. 1. 1. 1.\n",
      " 1. 1. 1. 2. 2. 1. 2. 1. 1. 1. 1. 2. 2. 1. 1. 1. 1. 1. 1. 1. 1. 1. 1. 2.\n",
      " 1. 1. 1. 1. 2. 2. 1. 1. 1. 1. 2. 1. 1. 2. 1. 1. 2. 1. 1. 1. 1. 1. 1. 2.\n",
      " 1. 1. 1. 1. 2. 1. 1. 1. 1. 1. 1. 2. 1. 2. 1. 1. 1. 1. 1. 1. 1. 1. 1. 1.\n",
      " 1. 1. 1. 1. 1. 1. 1. 1. 1. 2. 2. 1. 1. 1. 1. 1. 1. 2. 1. 1. 1. 1. 1. 2.\n",
      " 1. 1. 1. 1. 1. 1. 1. 1. 1. 2. 1. 1. 2. 1. 1. 1. 2. 1. 1. 1. 1. 1. 1. 1.\n",
      " 1. 1. 2. 1. 1. 1. 1. 1. 1. 1. 1. 2. 1. 2. 1. 1. 1. 2. 1. 1. 1. 1. 1. 1.\n",
      " 1. 1. 1. 1. 1. 1. 1. 1. 1. 1. 1. 1. 1. 1. 1. 1. 2. 1. 2. 1. 1. 1. 1. 1.\n",
      " 1. 2. 2. 1. 1. 2. 1. 1. 2. 2. 1. 1. 2. 1. 1. 1. 1. 1. 1. 1. 1. 1. 1. 1.\n",
      " 1. 1. 1. 1. 2. 1. 1. 1. 1. 1. 2. 1. 1. 1. 1. 1. 1. 1. 1. 1. 1. 1. 1. 1.\n",
      " 1. 2. 1. 1. 1. 2. 1. 1. 2. 1. 1. 1. 1. 1. 1. 1. 1. 1. 1. 1. 1. 1. 1. 1.\n",
      " 1. 2. 1. 1. 1. 1. 1. 1. 1. 1. 1. 1. 1. 1. 1. 1. 1. 1. 1. 1. 2. 2. 1. 2.\n",
      " 1. 1. 1. 1. 1. 1. 1. 1. 1. 1. 1. 2. 1. 1. 1. 1. 1. 1. 1. 1. 1. 2. 1. 1.\n",
      " 1. 1. 2. 1. 1. 1. 1. 1. 1. 1. 1. 2. 1. 2. 1. 1. 1. 1. 1. 2. 1. 1. 1. 1.\n",
      " 1. 1. 1. 1. 1. 1. 2. 1. 1. 1. 2. 1. 2. 1. 1. 1. 1. 1. 1. 1. 1. 1. 1. 2.\n",
      " 1. 1. 1. 1. 1. 1. 1. 1. 1. 1. 1. 1. 1. 1. 1. 1. 1. 1. 1. 1. 1. 1. 1. 1.\n",
      " 1. 1. 1. 1. 1. 1. 1. 1. 1. 2. 2. 1. 1. 1. 1. 1. 1. 2. 2. 1. 1. 2. 1. 1.\n",
      " 1. 1. 2. 2. 1. 1. 2. 1. 1. 1. 1. 1.]\n",
      "Accuracy: 0.5532786885245902\n",
      "[[323  30]\n",
      " [297  82]]\n",
      "              precision    recall  f1-score   support\n",
      "\n",
      "         1.0       0.52      0.92      0.66       353\n",
      "         2.0       0.73      0.22      0.33       379\n",
      "\n",
      "    accuracy                           0.55       732\n",
      "   macro avg       0.63      0.57      0.50       732\n",
      "weighted avg       0.63      0.55      0.49       732\n",
      "\n"
     ]
    },
    {
     "data": {
      "text/plain": [
       "0.6683721354720062"
      ]
     },
     "execution_count": 293,
     "metadata": {},
     "output_type": "execute_result"
    }
   ],
   "source": [
    "#preparing training and test data\n",
    "x=df_downsampled[[\"exercise18\",\"cyclingfreq\"]] #source feature\n",
    "y=df_downsampled[[\"diabetes18\"]] #target feature\n",
    "# algo=LogisticRegression(random_state=0, solver='lbfgs',multi_class='multinomial') #rmse=0.6735 DT=0.6683\n",
    "# algo=svm.SVC(gamma='scale') #emse=1.1806\n",
    "# algo = GaussianNB() #rmse=1.2156\n",
    "# algo=DecisionTreeClassifier() #rmse=1.4330\n",
    "model_apply(x,y,3,1)"
   ]
  },
  {
   "cell_type": "markdown",
   "metadata": {},
   "source": [
    "After both Up and Down sampling the rmse is near about remains 0.67"
   ]
  },
  {
   "cell_type": "markdown",
   "metadata": {},
   "source": [
    "# Martial Status vs Cardio Vascular Health"
   ]
  },
  {
   "cell_type": "code",
   "execution_count": 294,
   "metadata": {},
   "outputs": [],
   "source": [
    "df_martial=df[[\"maritalstatus18\",\"toldhighbp18\",\"generalhealth\"]]\n",
    "df_martial=df_martial.dropna()"
   ]
  },
  {
   "cell_type": "code",
   "execution_count": 299,
   "metadata": {},
   "outputs": [
    {
     "name": "stdout",
     "output_type": "stream",
     "text": [
      "[1.]\n",
      "Predicted Value: [2. 2. 2. ... 2. 2. 2.]\n",
      "Accuracy: 0.6906300484652665\n",
      "[[ 152  687]\n",
      " [  79 1558]]\n",
      "              precision    recall  f1-score   support\n",
      "\n",
      "         1.0       0.66      0.18      0.28       839\n",
      "         2.0       0.69      0.95      0.80      1637\n",
      "\n",
      "    accuracy                           0.69      2476\n",
      "   macro avg       0.68      0.57      0.54      2476\n",
      "weighted avg       0.68      0.69      0.63      2476\n",
      "\n"
     ]
    },
    {
     "data": {
      "text/plain": [
       "0.5562103482808761"
      ]
     },
     "execution_count": 299,
     "metadata": {},
     "output_type": "execute_result"
    }
   ],
   "source": [
    "#preparing training and test data\n",
    "x=df_martial[[\"maritalstatus18\"]] #source feature\n",
    "y=df_martial[[\"toldhighbp18\"]] #target feature\n",
    "# algo=LogisticRegression(random_state=0, solver='lbfgs',multi_class='multinomial') #rmse=0.5821 DT=0.5562\n",
    "# algo=svm.SVC(gamma='scale') #emse=1.1806\n",
    "# algo = GaussianNB() #rmse=1.2156\n",
    "# algo=DecisionTreeClassifier() #rmse=1.4330\n",
    "model_apply(x,y,3,1)"
   ]
  },
  {
   "cell_type": "markdown",
   "metadata": {},
   "source": [
    "# Marital Status vs General Health Status"
   ]
  },
  {
   "cell_type": "code",
   "execution_count": 307,
   "metadata": {},
   "outputs": [
    {
     "name": "stdout",
     "output_type": "stream",
     "text": [
      "[1.]\n",
      "Predicted Value: [3. 3. 3. ... 3. 3. 3.]\n",
      "Accuracy: 0.3033117932148627\n",
      "[[  0   0 379  12   0]\n",
      " [  0   0 650  18   0]\n",
      " [  0   0 712  48   0]\n",
      " [  0   0 472  39   0]\n",
      " [  0   0 134  12   0]]\n",
      "              precision    recall  f1-score   support\n",
      "\n",
      "         1.0       0.00      0.00      0.00       391\n",
      "         2.0       0.00      0.00      0.00       668\n",
      "         3.0       0.30      0.94      0.46       760\n",
      "         4.0       0.30      0.08      0.12       511\n",
      "         5.0       0.00      0.00      0.00       146\n",
      "\n",
      "    accuracy                           0.30      2476\n",
      "   macro avg       0.12      0.20      0.12      2476\n",
      "weighted avg       0.16      0.30      0.17      2476\n",
      "\n"
     ]
    },
    {
     "name": "stderr",
     "output_type": "stream",
     "text": [
      "/usr/local/lib/python3.7/site-packages/sklearn/metrics/classification.py:1437: UndefinedMetricWarning: Precision and F-score are ill-defined and being set to 0.0 in labels with no predicted samples.\n",
      "  'precision', 'predicted', average, warn_for)\n"
     ]
    },
    {
     "data": {
      "text/plain": [
       "1.174238831585204"
      ]
     },
     "execution_count": 307,
     "metadata": {},
     "output_type": "execute_result"
    }
   ],
   "source": [
    "#preparing training and test data\n",
    "x=df_martial[[\"maritalstatus18\"]] #source feature\n",
    "y=df_martial[[\"generalhealth\"]] #target feature\n",
    "# algo=LogisticRegression(random_state=0, solver='lbfgs',multi_class='multinomial') #rmse=1.1592\n",
    "# algo=svm.SVC(gamma='scale') #emse=1.1806\n",
    "# algo = GaussianNB() #rmse=1.2156\n",
    "# algo=DecisionTreeClassifier() #rmse=1.4330\n",
    "model_apply(x,y,3,1)"
   ]
  },
  {
   "cell_type": "code",
   "execution_count": null,
   "metadata": {},
   "outputs": [],
   "source": []
  }
 ],
 "metadata": {
  "kernelspec": {
   "display_name": "Python 3",
   "language": "python",
   "name": "python3"
  },
  "language_info": {
   "codemirror_mode": {
    "name": "ipython",
    "version": 3
   },
   "file_extension": ".py",
   "mimetype": "text/x-python",
   "name": "python",
   "nbconvert_exporter": "python",
   "pygments_lexer": "ipython3",
   "version": "3.7.5"
  }
 },
 "nbformat": 4,
 "nbformat_minor": 2
}
