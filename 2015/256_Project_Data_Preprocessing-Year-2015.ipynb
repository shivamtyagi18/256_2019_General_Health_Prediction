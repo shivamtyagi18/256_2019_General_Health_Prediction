{
 "cells": [
  {
   "cell_type": "code",
   "execution_count": 3,
   "metadata": {},
   "outputs": [],
   "source": [
    "# from pyspark import SparkContext \n",
    "# from pyspark.sql import SQLContext \n",
    "import pandas as pd\n",
    "import numpy as np\n",
    "# from pandas import DataFrame\n",
    "# sc = SparkContext.getOrCreate()\n",
    "# sqlc=SQLContext(sc)\n",
    "\n",
    "import math\n",
    "import matplotlib.pyplot as plt\n",
    "from scipy.stats import norm, entropy \n",
    "from scipy.stats import probplot\n",
    "import matplotlib.pyplot as plt\n",
    "from scipy.stats import logistic\n",
    "from sklearn.model_selection import train_test_split\n",
    "from sklearn.linear_model import LogisticRegression\n",
    "from sklearn import metrics\n",
    "from sklearn.utils import resample\n",
    "from sklearn import svm\n",
    "from sklearn.tree import DecisionTreeClassifier\n",
    "from sklearn.metrics import classification_report, confusion_matrix, roc_curve\n",
    "from scipy.spatial.distance import cosine, correlation\n",
    "import seaborn as sns\n",
    "from sklearn.decomposition import PCA\n",
    "from sklearn.preprocessing import StandardScaler\n",
    "from sklearn.decomposition import TruncatedSVD\n",
    "from sklearn.linear_model import Perceptron"
   ]
  },
  {
   "cell_type": "code",
   "execution_count": 4,
   "metadata": {},
   "outputs": [],
   "source": [
    "#reading csv file data in a dataframe\n",
    "#[1]https://stackoverflow.com/questions/46311133/creating-dynamic-data-frames-in-python?rq=1\n",
    "df_names=['df07','df08','df09','df10','df11','df12','df13','df14','df15','df16','df17','df18']\n",
    "years=['2007','2008','2009','2010','2011','2012','2013','2014','2015','2016','2017','2018']\n",
    "d = {}\n",
    "for name,i in zip(df_names,years):\n",
    "    d[name] = pd.DataFrame()\n",
    "    d[name]=pd.read_csv('data-csv/chs'+str(i)+'_public.csv')    \n"
   ]
  },
  {
   "cell_type": "code",
   "execution_count": 5,
   "metadata": {},
   "outputs": [
    {
     "data": {
      "text/html": [
       "<div>\n",
       "<style scoped>\n",
       "    .dataframe tbody tr th:only-of-type {\n",
       "        vertical-align: middle;\n",
       "    }\n",
       "\n",
       "    .dataframe tbody tr th {\n",
       "        vertical-align: top;\n",
       "    }\n",
       "\n",
       "    .dataframe thead th {\n",
       "        text-align: right;\n",
       "    }\n",
       "</style>\n",
       "<table border=\"1\" class=\"dataframe\">\n",
       "  <thead>\n",
       "    <tr style=\"text-align: right;\">\n",
       "      <th></th>\n",
       "      <th>mood1</th>\n",
       "      <th>mood2</th>\n",
       "      <th>mood3</th>\n",
       "      <th>mood4</th>\n",
       "      <th>mood5</th>\n",
       "      <th>mood6</th>\n",
       "      <th>mood24</th>\n",
       "      <th>mood53</th>\n",
       "      <th>mood52</th>\n",
       "      <th>mood11</th>\n",
       "      <th>...</th>\n",
       "      <th>nycdriver</th>\n",
       "      <th>drivefreq</th>\n",
       "      <th>drivefreq_all</th>\n",
       "      <th>drivefreq3_all</th>\n",
       "      <th>everspeed</th>\n",
       "      <th>speedfreq</th>\n",
       "      <th>evermessage</th>\n",
       "      <th>messagefreq</th>\n",
       "      <th>hhsize</th>\n",
       "      <th>child</th>\n",
       "    </tr>\n",
       "  </thead>\n",
       "  <tbody>\n",
       "    <tr>\n",
       "      <td>0</td>\n",
       "      <td>5</td>\n",
       "      <td>5</td>\n",
       "      <td>5</td>\n",
       "      <td>5</td>\n",
       "      <td>5</td>\n",
       "      <td>4</td>\n",
       "      <td>NaN</td>\n",
       "      <td>NaN</td>\n",
       "      <td>NaN</td>\n",
       "      <td>2.0</td>\n",
       "      <td>...</td>\n",
       "      <td>2.0</td>\n",
       "      <td>NaN</td>\n",
       "      <td>1.0</td>\n",
       "      <td>1.0</td>\n",
       "      <td>NaN</td>\n",
       "      <td>NaN</td>\n",
       "      <td>NaN</td>\n",
       "      <td>NaN</td>\n",
       "      <td>2</td>\n",
       "      <td>2.0</td>\n",
       "    </tr>\n",
       "    <tr>\n",
       "      <td>1</td>\n",
       "      <td>5</td>\n",
       "      <td>5</td>\n",
       "      <td>5</td>\n",
       "      <td>5</td>\n",
       "      <td>5</td>\n",
       "      <td>5</td>\n",
       "      <td>NaN</td>\n",
       "      <td>NaN</td>\n",
       "      <td>NaN</td>\n",
       "      <td>2.0</td>\n",
       "      <td>...</td>\n",
       "      <td>1.0</td>\n",
       "      <td>4.0</td>\n",
       "      <td>5.0</td>\n",
       "      <td>2.0</td>\n",
       "      <td>2.0</td>\n",
       "      <td>4.0</td>\n",
       "      <td>2.0</td>\n",
       "      <td>4.0</td>\n",
       "      <td>4</td>\n",
       "      <td>2.0</td>\n",
       "    </tr>\n",
       "    <tr>\n",
       "      <td>2</td>\n",
       "      <td>5</td>\n",
       "      <td>3</td>\n",
       "      <td>5</td>\n",
       "      <td>4</td>\n",
       "      <td>2</td>\n",
       "      <td>4</td>\n",
       "      <td>NaN</td>\n",
       "      <td>NaN</td>\n",
       "      <td>NaN</td>\n",
       "      <td>2.0</td>\n",
       "      <td>...</td>\n",
       "      <td>2.0</td>\n",
       "      <td>NaN</td>\n",
       "      <td>1.0</td>\n",
       "      <td>1.0</td>\n",
       "      <td>NaN</td>\n",
       "      <td>NaN</td>\n",
       "      <td>NaN</td>\n",
       "      <td>NaN</td>\n",
       "      <td>1</td>\n",
       "      <td>2.0</td>\n",
       "    </tr>\n",
       "    <tr>\n",
       "      <td>3</td>\n",
       "      <td>4</td>\n",
       "      <td>5</td>\n",
       "      <td>5</td>\n",
       "      <td>5</td>\n",
       "      <td>5</td>\n",
       "      <td>5</td>\n",
       "      <td>NaN</td>\n",
       "      <td>NaN</td>\n",
       "      <td>NaN</td>\n",
       "      <td>2.0</td>\n",
       "      <td>...</td>\n",
       "      <td>2.0</td>\n",
       "      <td>NaN</td>\n",
       "      <td>1.0</td>\n",
       "      <td>1.0</td>\n",
       "      <td>NaN</td>\n",
       "      <td>NaN</td>\n",
       "      <td>NaN</td>\n",
       "      <td>NaN</td>\n",
       "      <td>1</td>\n",
       "      <td>2.0</td>\n",
       "    </tr>\n",
       "    <tr>\n",
       "      <td>4</td>\n",
       "      <td>5</td>\n",
       "      <td>5</td>\n",
       "      <td>4</td>\n",
       "      <td>5</td>\n",
       "      <td>5</td>\n",
       "      <td>5</td>\n",
       "      <td>NaN</td>\n",
       "      <td>NaN</td>\n",
       "      <td>NaN</td>\n",
       "      <td>2.0</td>\n",
       "      <td>...</td>\n",
       "      <td>1.0</td>\n",
       "      <td>5.0</td>\n",
       "      <td>6.0</td>\n",
       "      <td>3.0</td>\n",
       "      <td>1.0</td>\n",
       "      <td>3.0</td>\n",
       "      <td>2.0</td>\n",
       "      <td>4.0</td>\n",
       "      <td>4</td>\n",
       "      <td>1.0</td>\n",
       "    </tr>\n",
       "  </tbody>\n",
       "</table>\n",
       "<p>5 rows × 147 columns</p>\n",
       "</div>"
      ],
      "text/plain": [
       "   mood1  mood2  mood3  mood4  mood5  mood6  mood24  mood53  mood52  mood11  \\\n",
       "0      5      5      5      5      5      4     NaN     NaN     NaN     2.0   \n",
       "1      5      5      5      5      5      5     NaN     NaN     NaN     2.0   \n",
       "2      5      3      5      4      2      4     NaN     NaN     NaN     2.0   \n",
       "3      4      5      5      5      5      5     NaN     NaN     NaN     2.0   \n",
       "4      5      5      4      5      5      5     NaN     NaN     NaN     2.0   \n",
       "\n",
       "   ...  nycdriver  drivefreq  drivefreq_all  drivefreq3_all  everspeed  \\\n",
       "0  ...        2.0        NaN            1.0             1.0        NaN   \n",
       "1  ...        1.0        4.0            5.0             2.0        2.0   \n",
       "2  ...        2.0        NaN            1.0             1.0        NaN   \n",
       "3  ...        2.0        NaN            1.0             1.0        NaN   \n",
       "4  ...        1.0        5.0            6.0             3.0        1.0   \n",
       "\n",
       "   speedfreq  evermessage  messagefreq  hhsize  child  \n",
       "0        NaN          NaN          NaN       2    2.0  \n",
       "1        4.0          2.0          4.0       4    2.0  \n",
       "2        NaN          NaN          NaN       1    2.0  \n",
       "3        NaN          NaN          NaN       1    2.0  \n",
       "4        3.0          2.0          4.0       4    1.0  \n",
       "\n",
       "[5 rows x 147 columns]"
      ]
     },
     "execution_count": 5,
     "metadata": {},
     "output_type": "execute_result"
    }
   ],
   "source": [
    "# df=df18.copy()\n",
    "df=d['df15']\n",
    "df.head()"
   ]
  },
  {
   "cell_type": "code",
   "execution_count": 6,
   "metadata": {},
   "outputs": [
    {
     "data": {
      "text/plain": [
       "147"
      ]
     },
     "execution_count": 6,
     "metadata": {},
     "output_type": "execute_result"
    }
   ],
   "source": [
    "#number of features\n",
    "len(df.columns)"
   ]
  },
  {
   "cell_type": "code",
   "execution_count": 7,
   "metadata": {},
   "outputs": [
    {
     "data": {
      "text/plain": [
       "Index(['mood1', 'mood2', 'mood3', 'mood4', 'mood5', 'mood6', 'mood24',\n",
       "       'mood53', 'mood52', 'mood11',\n",
       "       ...\n",
       "       'nycdriver', 'drivefreq', 'drivefreq_all', 'drivefreq3_all',\n",
       "       'everspeed', 'speedfreq', 'evermessage', 'messagefreq', 'hhsize',\n",
       "       'child'],\n",
       "      dtype='object', length=147)"
      ]
     },
     "execution_count": 7,
     "metadata": {},
     "output_type": "execute_result"
    }
   ],
   "source": [
    "df.columns"
   ]
  },
  {
   "cell_type": "code",
   "execution_count": 8,
   "metadata": {},
   "outputs": [
    {
     "data": {
      "text/plain": [
       "10172"
      ]
     },
     "execution_count": 8,
     "metadata": {},
     "output_type": "execute_result"
    }
   ],
   "source": [
    "#number of rows\n",
    "len(df[\"mood1\"])"
   ]
  },
  {
   "cell_type": "code",
   "execution_count": 9,
   "metadata": {},
   "outputs": [
    {
     "data": {
      "text/plain": [
       "mood1             0\n",
       "mood2             0\n",
       "mood3             0\n",
       "mood4             0\n",
       "mood5             0\n",
       "               ... \n",
       "speedfreq      5995\n",
       "evermessage    5965\n",
       "messagefreq    5965\n",
       "hhsize            0\n",
       "child            32\n",
       "Length: 147, dtype: int64"
      ]
     },
     "execution_count": 9,
     "metadata": {},
     "output_type": "execute_result"
    }
   ],
   "source": [
    "df.isnull().sum()"
   ]
  },
  {
   "cell_type": "markdown",
   "metadata": {},
   "source": [
    "qxvers-Questionnaire version\n",
    "nutrition46-cupsof fruit\n",
    "nutrition47-cups of vegetable"
   ]
  },
  {
   "cell_type": "markdown",
   "metadata": {},
   "source": [
    "# Steps followed for analysis\n",
    "#process NA values\n",
    "#find correlation between target and source variables and perform dimensionality reduction\n",
    "#divide data into training and test sets\n",
    "#apply regression\n",
    "#reduce parameters depending upon correlartion\n",
    "#apply regression again and compare models"
   ]
  },
  {
   "cell_type": "code",
   "execution_count": 10,
   "metadata": {},
   "outputs": [],
   "source": [
    "#correlation function\n",
    "#[1]https://towardsdatascience.com/better-heatmaps-and-correlation-matrix-plots-in-python-41445d0f2bec\n",
    "#[2]https://seaborn.pydata.org/examples/many_pairwise_correlations.html\n",
    "def draw_corr(corr_var):\n",
    "    # Generate a mask for the upper triangle\n",
    "    mask = np.zeros_like(corr_var, dtype=np.bool)\n",
    "    mask[np.triu_indices_from(mask)] = True\n",
    "    ax = sns.heatmap(\n",
    "        corr_var, \n",
    "        vmin=-1, vmax=1, center=0,\n",
    "        cmap=sns.diverging_palette(20, 220, n=200),\n",
    "        square=True,\n",
    "        mask=mask,\n",
    "#         annot=True\n",
    "    )\n",
    "    ax.set_xticklabels(\n",
    "        ax.get_xticklabels(),\n",
    "        rotation=45,\n",
    "        horizontalalignment='right'\n",
    "    );"
   ]
  },
  {
   "cell_type": "markdown",
   "metadata": {},
   "source": [
    "# Checking correlation between physical activity data"
   ]
  },
  {
   "cell_type": "code",
   "execution_count": 11,
   "metadata": {},
   "outputs": [],
   "source": [
    "df_train_physical=df[[\"cid\",\"exercise15\",\"generalhealth\"]]"
   ]
  },
  {
   "cell_type": "code",
   "execution_count": 12,
   "metadata": {},
   "outputs": [
    {
     "data": {
      "text/plain": [
       "cid               0\n",
       "exercise15       12\n",
       "generalhealth    68\n",
       "dtype: int64"
      ]
     },
     "execution_count": 12,
     "metadata": {},
     "output_type": "execute_result"
    }
   ],
   "source": [
    "df_train_physical.isnull().sum()"
   ]
  },
  {
   "cell_type": "code",
   "execution_count": 13,
   "metadata": {
    "scrolled": true
   },
   "outputs": [],
   "source": [
    "# #since imputed_PA08_3R_q1 has 5000+ values as N/A we will drop this column\n",
    "# df_train_physical=df_train_physical[[\"cid\",\"exercise116\",\"cyclingfreq\",\"cycling17\",\"generalhealth\"]]\n",
    "# df_train_physical.head()"
   ]
  },
  {
   "cell_type": "code",
   "execution_count": 14,
   "metadata": {},
   "outputs": [
    {
     "data": {
      "text/html": [
       "<div>\n",
       "<style scoped>\n",
       "    .dataframe tbody tr th:only-of-type {\n",
       "        vertical-align: middle;\n",
       "    }\n",
       "\n",
       "    .dataframe tbody tr th {\n",
       "        vertical-align: top;\n",
       "    }\n",
       "\n",
       "    .dataframe thead th {\n",
       "        text-align: right;\n",
       "    }\n",
       "</style>\n",
       "<table border=\"1\" class=\"dataframe\">\n",
       "  <thead>\n",
       "    <tr style=\"text-align: right;\">\n",
       "      <th></th>\n",
       "      <th>cid</th>\n",
       "      <th>exercise15</th>\n",
       "      <th>generalhealth</th>\n",
       "    </tr>\n",
       "  </thead>\n",
       "  <tbody>\n",
       "    <tr>\n",
       "      <td>0</td>\n",
       "      <td>1600001</td>\n",
       "      <td>1.0</td>\n",
       "      <td>2.0</td>\n",
       "    </tr>\n",
       "    <tr>\n",
       "      <td>1</td>\n",
       "      <td>1600002</td>\n",
       "      <td>1.0</td>\n",
       "      <td>3.0</td>\n",
       "    </tr>\n",
       "    <tr>\n",
       "      <td>2</td>\n",
       "      <td>1600003</td>\n",
       "      <td>2.0</td>\n",
       "      <td>4.0</td>\n",
       "    </tr>\n",
       "    <tr>\n",
       "      <td>3</td>\n",
       "      <td>1600004</td>\n",
       "      <td>1.0</td>\n",
       "      <td>2.0</td>\n",
       "    </tr>\n",
       "    <tr>\n",
       "      <td>4</td>\n",
       "      <td>1600005</td>\n",
       "      <td>1.0</td>\n",
       "      <td>1.0</td>\n",
       "    </tr>\n",
       "  </tbody>\n",
       "</table>\n",
       "</div>"
      ],
      "text/plain": [
       "       cid  exercise15  generalhealth\n",
       "0  1600001         1.0            2.0\n",
       "1  1600002         1.0            3.0\n",
       "2  1600003         2.0            4.0\n",
       "3  1600004         1.0            2.0\n",
       "4  1600005         1.0            1.0"
      ]
     },
     "execution_count": 14,
     "metadata": {},
     "output_type": "execute_result"
    }
   ],
   "source": [
    "#dropping NaN values\n",
    "df_train_physical=df_train_physical.dropna()\n",
    "df_train_physical.head()"
   ]
  },
  {
   "cell_type": "code",
   "execution_count": 15,
   "metadata": {},
   "outputs": [
    {
     "data": {
      "text/html": [
       "<div>\n",
       "<style scoped>\n",
       "    .dataframe tbody tr th:only-of-type {\n",
       "        vertical-align: middle;\n",
       "    }\n",
       "\n",
       "    .dataframe tbody tr th {\n",
       "        vertical-align: top;\n",
       "    }\n",
       "\n",
       "    .dataframe thead th {\n",
       "        text-align: right;\n",
       "    }\n",
       "</style>\n",
       "<table border=\"1\" class=\"dataframe\">\n",
       "  <thead>\n",
       "    <tr style=\"text-align: right;\">\n",
       "      <th></th>\n",
       "      <th>cid</th>\n",
       "      <th>exercise15</th>\n",
       "      <th>generalhealth</th>\n",
       "    </tr>\n",
       "  </thead>\n",
       "  <tbody>\n",
       "    <tr>\n",
       "      <td>cid</td>\n",
       "      <td>1.000000</td>\n",
       "      <td>-0.002788</td>\n",
       "      <td>-0.075913</td>\n",
       "    </tr>\n",
       "    <tr>\n",
       "      <td>exercise15</td>\n",
       "      <td>-0.002788</td>\n",
       "      <td>1.000000</td>\n",
       "      <td>0.205517</td>\n",
       "    </tr>\n",
       "    <tr>\n",
       "      <td>generalhealth</td>\n",
       "      <td>-0.075913</td>\n",
       "      <td>0.205517</td>\n",
       "      <td>1.000000</td>\n",
       "    </tr>\n",
       "  </tbody>\n",
       "</table>\n",
       "</div>"
      ],
      "text/plain": [
       "                    cid  exercise15  generalhealth\n",
       "cid            1.000000   -0.002788      -0.075913\n",
       "exercise15    -0.002788    1.000000       0.205517\n",
       "generalhealth -0.075913    0.205517       1.000000"
      ]
     },
     "execution_count": 15,
     "metadata": {},
     "output_type": "execute_result"
    }
   ],
   "source": [
    "#correlation\n",
    "#[1]https://towardsdatascience.com/better-heatmaps-and-correlation-matrix-plots-in-python-41445d0f2bec\n",
    "corr_1 = df_train_physical.corr()\n",
    "corr_1"
   ]
  },
  {
   "cell_type": "code",
   "execution_count": 16,
   "metadata": {},
   "outputs": [
    {
     "data": {
      "image/png": "[encoded data removed]",
      "text/plain": [
       "<Figure size 432x288 with 2 Axes>"
      ]
     },
     "metadata": {
      "needs_background": "light"
     },
     "output_type": "display_data"
    }
   ],
   "source": [
    "ax = sns.heatmap(\n",
    "    corr_1, \n",
    "    vmin=-1, vmax=1, center=0,\n",
    "    cmap=sns.diverging_palette(20, 220, n=200),\n",
    "    square=True\n",
    ")\n",
    "ax.set_xticklabels(\n",
    "    ax.get_xticklabels(),\n",
    "    rotation=45,\n",
    "    horizontalalignment='right'\n",
    ");"
   ]
  },
  {
   "cell_type": "markdown",
   "metadata": {},
   "source": [
    "#we see that there is not much correlation among variables"
   ]
  },
  {
   "cell_type": "code",
   "execution_count": 17,
   "metadata": {},
   "outputs": [],
   "source": [
    "# df_train_physical=df_train_physical[[\"cid\",\"exercise17\",\"cyclingfreq\",\"generalhealth\"]]\n",
    "# df_train_physical.head()"
   ]
  },
  {
   "cell_type": "code",
   "execution_count": 18,
   "metadata": {},
   "outputs": [],
   "source": [
    "# corr_2 = df_train_physical[[\"exercise17\",\"cyclingfreq\",\"generalhealth\"]].corr()\n",
    "# draw_corr(corr_2)\n",
    "# print(corr_2)\n",
    "# #All have positive correlation. exercise18 is most correlated to general health"
   ]
  },
  {
   "cell_type": "markdown",
   "metadata": {},
   "source": [
    "# Checking correlation between Nutrition data"
   ]
  },
  {
   "cell_type": "code",
   "execution_count": 19,
   "metadata": {},
   "outputs": [
    {
     "name": "stdout",
     "output_type": "stream",
     "text": [
      "   fruitveg  nsodaperday15  avgsodaperday15  twoplussoda  nsugardrinkperday15  \\\n",
      "0       2.0            3.0              4.0          1.0             2.000000   \n",
      "1       2.0            0.0              1.0          2.0             0.000000   \n",
      "2       2.0            0.0              1.0          2.0             0.142857   \n",
      "3       2.0            0.0              1.0          2.0             1.000000   \n",
      "4       2.0            2.0              4.0          1.0             0.000000   \n",
      "\n",
      "   avgsugarperday15  nsodasugarperday15  ssb  generalhealth  \n",
      "0               4.0            5.000000  1.0            2.0  \n",
      "1               1.0            0.000000  2.0            3.0  \n",
      "2               2.0            0.142857  2.0            4.0  \n",
      "3               3.0            1.000000  1.0            2.0  \n",
      "4               1.0            2.000000  1.0            1.0  \n"
     ]
    },
    {
     "data": {
      "text/plain": [
       "fruitveg               275\n",
       "nsodaperday15           82\n",
       "avgsodaperday15         82\n",
       "twoplussoda             82\n",
       "nsugardrinkperday15    100\n",
       "avgsugarperday15       100\n",
       "nsodasugarperday15     111\n",
       "ssb                    111\n",
       "generalhealth           68\n",
       "dtype: int64"
      ]
     },
     "execution_count": 19,
     "metadata": {},
     "output_type": "execute_result"
    }
   ],
   "source": [
    "df_train_nutrition = df[[\"fruitveg\",\n",
    "                         \"nsodaperday15\",\"avgsodaperday15\",\"twoplussoda\",\n",
    "                         \"nsugardrinkperday15\",\"avgsugarperday15\",\"nsodasugarperday15\",\n",
    "                         \"ssb\",\n",
    "                         \"generalhealth\"]]\n",
    "print(df_train_nutrition.head())\n",
    "df_train_nutrition.isnull().sum()\n"
   ]
  },
  {
   "cell_type": "code",
   "execution_count": 20,
   "metadata": {},
   "outputs": [
    {
     "data": {
      "text/plain": [
       "generalhealth     avgsugarperday15    0.008740\n",
       "avgsugarperday15  generalhealth       0.008740\n",
       "generalhealth     avgsodaperday15     0.008747\n",
       "avgsodaperday15   generalhealth       0.008747\n",
       "nsodaperday15     generalhealth       0.009968\n",
       "                                        ...   \n",
       "twoplussoda       twoplussoda         1.000000\n",
       "avgsodaperday15   avgsodaperday15     1.000000\n",
       "nsodaperday15     nsodaperday15       1.000000\n",
       "ssb               ssb                 1.000000\n",
       "generalhealth     generalhealth       1.000000\n",
       "Length: 81, dtype: float64"
      ]
     },
     "execution_count": 20,
     "metadata": {},
     "output_type": "execute_result"
    },
    {
     "data": {
      "image/png": "[encoded data removed]",
      "text/plain": [
       "<Figure size 432x288 with 2 Axes>"
      ]
     },
     "metadata": {
      "needs_background": "light"
     },
     "output_type": "display_data"
    }
   ],
   "source": [
    "#[1]https://stackoverflow.com/questions/17778394/list-highest-correlation-pairs-from-a-large-correlation-matrix-in-pandas\n",
    "\n",
    "df_train_nutrition=df_train_nutrition.dropna()\n",
    "corr_3 = df_train_nutrition.corr().abs()\n",
    "draw_corr(corr_3)\n",
    "\n",
    "corr_3.unstack().sort_values(kind=\"quicksort\")\n"
   ]
  },
  {
   "cell_type": "raw",
   "metadata": {},
   "source": [
    "Top most correlated columns are:\n",
    "\n",
    "ssb                  avgsugarperday15       0.702702\n",
    "avgsugarperday15     ssb                    0.702702\n",
    "twoplussoda          avgsodaperday15        0.703969\n",
    "avgsodaperday15      twoplussoda            0.703969\n",
    "nsodasugarperday15   ssb                    0.704397\n",
    "ssb                  nsodasugarperday15     0.704397\n",
    "nsodaperday15        avgsodaperday15        0.749117\n",
    "avgsodaperday15      nsodaperday15          0.749117\n",
    "nsodasugarperday15   nsodaperday15          0.788773\n",
    "nsodaperday15        nsodasugarperday15     0.788773\n",
    "                     twoplussoda            0.795403\n",
    "twoplussoda          nsodaperday15          0.795403\n",
    "avgsugarperday15     nsugardrinkperday15    0.795641\n",
    "nsugardrinkperday15  avgsugarperday15       0.795641\n",
    "                     nsodasugarperday15     0.798197\n",
    "nsodasugarperday15   nsugardrinkperday15    0.798197\n",
    "\n",
    "\n",
    "Eliminating highly correlated features\n",
    "\n",
    "# - eliminated features\n"
   ]
  },
  {
   "cell_type": "code",
   "execution_count": 21,
   "metadata": {},
   "outputs": [
    {
     "data": {
      "text/plain": [
       "generalhealth       avgsugarperday15      0.008740\n",
       "avgsugarperday15    generalhealth         0.008740\n",
       "generalhealth       avgsodaperday15       0.008747\n",
       "avgsodaperday15     generalhealth         0.008747\n",
       "generalhealth       nsodasugarperday15    0.015281\n",
       "nsodasugarperday15  generalhealth         0.015281\n",
       "ssb                 generalhealth         0.034672\n",
       "generalhealth       ssb                   0.034672\n",
       "avgsodaperday15     avgsugarperday15      0.327165\n",
       "avgsugarperday15    avgsodaperday15       0.327165\n",
       "ssb                 avgsodaperday15       0.607082\n",
       "avgsodaperday15     ssb                   0.607082\n",
       "nsodasugarperday15  avgsodaperday15       0.631345\n",
       "avgsodaperday15     nsodasugarperday15    0.631345\n",
       "avgsugarperday15    nsodasugarperday15    0.648968\n",
       "nsodasugarperday15  avgsugarperday15      0.648968\n",
       "ssb                 avgsugarperday15      0.702702\n",
       "avgsugarperday15    ssb                   0.702702\n",
       "ssb                 nsodasugarperday15    0.704397\n",
       "nsodasugarperday15  ssb                   0.704397\n",
       "                    nsodasugarperday15    1.000000\n",
       "avgsugarperday15    avgsugarperday15      1.000000\n",
       "avgsodaperday15     avgsodaperday15       1.000000\n",
       "ssb                 ssb                   1.000000\n",
       "generalhealth       generalhealth         1.000000\n",
       "dtype: float64"
      ]
     },
     "execution_count": 21,
     "metadata": {},
     "output_type": "execute_result"
    },
    {
     "data": {
      "image/png": "[encoded data removed]",
      "text/plain": [
       "<Figure size 432x288 with 2 Axes>"
      ]
     },
     "metadata": {
      "needs_background": "light"
     },
     "output_type": "display_data"
    }
   ],
   "source": [
    "# features dropped pertaining to high correlation with other features :  \n",
    "df_train_nutrition = df_train_nutrition[[\"nsodasugarperday15\",\n",
    "                        \"avgsodaperday15\"\n",
    "                        ,\"avgsugarperday15\"\n",
    "                         ,\"ssb\"\n",
    "                         ,\"generalhealth\"]]\n",
    "\n",
    "#finding correlation in remaining features\n",
    "corr_nutrition = df_train_nutrition.corr().abs()\n",
    "draw_corr(corr_nutrition)\n",
    "corr_nutrition.unstack().sort_values(kind=\"quicksort\")\n"
   ]
  },
  {
   "cell_type": "markdown",
   "metadata": {},
   "source": [
    "#Next most correlated columns after deleting the previous coulmns:\n",
    "\n",
    "nutrition47       fruitveg18          0.597664\n",
    "fruitveg18        nutrition46         0.624137\n",
    "avgsodaperday18   ssb                 0.626788\n",
    "\n",
    "ssb               avgsugarperday18   -0.687271\n",
    "\n",
    "ssb is correlated to both avgsodaperday18 and avgsugarperday18. We will keep ssb as it combines both soda and other drinks consumed by an individual. Also nutrition47 and fruitveg18 are correlated. Lets keep them for now as corelation is not very strong."
   ]
  },
  {
   "cell_type": "code",
   "execution_count": 22,
   "metadata": {},
   "outputs": [],
   "source": [
    "# features dropped pertaining to high correlation with other features :  \n",
    "df_train_nutrition = df_train_nutrition[[\n",
    "                         \"ssb\"\n",
    "                         ,\"generalhealth\"]]"
   ]
  },
  {
   "cell_type": "markdown",
   "metadata": {},
   "source": [
    "# Making prediction and checking rmse"
   ]
  },
  {
   "cell_type": "code",
   "execution_count": 23,
   "metadata": {},
   "outputs": [],
   "source": [
    "#[1]https://scikit-learn.org/stable/modules/generated/sklearn.decomposition.TruncatedSVD.html\n",
    "#[2]https://scikit-learn.org/stable/modules/generated/sklearn.linear_model.LogisticRegression.html\n",
    "#[3]https://towardsdatascience.com/pca-using-python-scikit-learn-e653f8989e60\n",
    "#[4]https://scikit-learn.org/stable/modules/generated/sklearn.decomposition.PCA.html\n",
    "\n",
    "from sklearn.decomposition import TruncatedSVD\n",
    "from sklearn.random_projection import sparse_random_matrix\n",
    "from sklearn.naive_bayes import GaussianNB\n",
    "from sklearn.metrics import mean_squared_error\n",
    "from math import sqrt\n",
    "\n",
    "#function for rmse calculation of model\n",
    "def model_apply(x,y,algo,n):\n",
    "    x_train, x_test, y_train, y_test = train_test_split(x,y,test_size=0.25,random_state=0)\n",
    "    scaler = StandardScaler()\n",
    "    # Fit on training set only.\n",
    "    scaler.fit(x_train)\n",
    "    # Apply transform to both the training set and the test set.\n",
    "    x_train = scaler.transform(x_train)\n",
    "    x_test = scaler.transform(x_test)\n",
    "    \n",
    "    pca = PCA(n_components=n,tol=.95)\n",
    "    pca.fit(x_test)\n",
    "    print(pca.explained_variance_ratio_) \n",
    "    \n",
    "    x_train = pca.transform(x_train)\n",
    "    x_test = pca.transform(x_test)\n",
    "    \n",
    "#     principalDf = pd.DataFrame(data = x_train\n",
    "#              , columns = ['pc1', 'pc2','pc3'])\n",
    "#     print(principalDf)\n",
    "\n",
    "    #model selection\n",
    "    if algo==1:\n",
    "        model=LogisticRegression(random_state=0, solver='lbfgs',multi_class='multinomial',max_iter=200)\n",
    "    elif algo==2:\n",
    "        model=GaussianNB()\n",
    "    elif algo==3:\n",
    "        model=DecisionTreeClassifier()\n",
    "    elif algo==4:\n",
    "        model=svm.SVC(gamma='scale')\n",
    "    elif algo==5:\n",
    "        model=Perceptron(tol=1e-3, random_state=0)\n",
    "        \n",
    "        # Train the model using the training sets\n",
    "    model.fit(x_train,y_train.values.ravel())\n",
    "\n",
    "    # Predict Output\n",
    "    y_pred = model.predict(x_test)\n",
    "    print (\"Predicted Value:\", y_pred)\n",
    "    print(\"Accuracy:\",metrics.accuracy_score(y_test, y_pred))\n",
    "    print(confusion_matrix(y_test,y_pred))\n",
    "    print(classification_report(y_test,y_pred))\n",
    "    rmse = sqrt(mean_squared_error(y_test, y_pred))\n",
    "    return(rmse)"
   ]
  },
  {
   "cell_type": "markdown",
   "metadata": {},
   "source": [
    "# Physical Activity vs General Health"
   ]
  },
  {
   "cell_type": "code",
   "execution_count": 24,
   "metadata": {},
   "outputs": [],
   "source": [
    "#preparing training and test data\n",
    "x=df_train_physical[[\"exercise15\"]] #source feature\n",
    "y=df_train_physical[[\"generalhealth\"]] #target feature\n",
    "algo=LogisticRegression(random_state=0, solver='lbfgs',multi_class='multinomial') #rmse=1.1841\n",
    "# model = GaussianNB() #rmse=1.28"
   ]
  },
  {
   "cell_type": "code",
   "execution_count": 26,
   "metadata": {},
   "outputs": [
    {
     "name": "stdout",
     "output_type": "stream",
     "text": [
      "[1.]\n",
      "Predicted Value: [3. 3. 3. ... 3. 3. 3.]\n",
      "Accuracy: 0.31576862123613314\n",
      "[[  0   0 429   0   0]\n",
      " [  0   0 657   0   0]\n",
      " [  0   0 797   0   0]\n",
      " [  0   0 466   0   0]\n",
      " [  0   0 175   0   0]]\n",
      "              precision    recall  f1-score   support\n",
      "\n",
      "         1.0       0.00      0.00      0.00       429\n",
      "         2.0       0.00      0.00      0.00       657\n",
      "         3.0       0.32      1.00      0.48       797\n",
      "         4.0       0.00      0.00      0.00       466\n",
      "         5.0       0.00      0.00      0.00       175\n",
      "\n",
      "    accuracy                           0.32      2524\n",
      "   macro avg       0.06      0.20      0.10      2524\n",
      "weighted avg       0.10      0.32      0.15      2524\n",
      "\n"
     ]
    },
    {
     "name": "stderr",
     "output_type": "stream",
     "text": [
      "/usr/local/lib/python3.7/site-packages/sklearn/metrics/classification.py:1437: UndefinedMetricWarning: Precision and F-score are ill-defined and being set to 0.0 in labels with no predicted samples.\n",
      "  'precision', 'predicted', average, warn_for)\n"
     ]
    },
    {
     "data": {
      "text/plain": [
       "1.1841196988365414"
      ]
     },
     "execution_count": 26,
     "metadata": {},
     "output_type": "execute_result"
    }
   ],
   "source": [
    "model_apply(x,y,3,1)"
   ]
  },
  {
   "cell_type": "markdown",
   "metadata": {},
   "source": [
    "# Nutrition vs General Health"
   ]
  },
  {
   "cell_type": "code",
   "execution_count": 24,
   "metadata": {},
   "outputs": [
    {
     "name": "stdout",
     "output_type": "stream",
     "text": [
      "('Predicted Value:', array([3., 3., 3., ..., 3., 3., 3.]))\n",
      "('Accuracy:', 0.3257825370675453)\n",
      "[[  0   0 358   0   0]\n",
      " [  0   0 673   0   0]\n",
      " [  0   0 791   0   0]\n",
      " [  0   0 431   0   0]\n",
      " [  0   0 175   0   0]]\n",
      "              precision    recall  f1-score   support\n",
      "\n",
      "         1.0       0.00      0.00      0.00       358\n",
      "         2.0       0.00      0.00      0.00       673\n",
      "         3.0       0.33      1.00      0.49       791\n",
      "         4.0       0.00      0.00      0.00       431\n",
      "         5.0       0.00      0.00      0.00       175\n",
      "\n",
      "   micro avg       0.33      0.33      0.33      2428\n",
      "   macro avg       0.07      0.20      0.10      2428\n",
      "weighted avg       0.11      0.33      0.16      2428\n",
      "\n",
      "1.15446272548\n"
     ]
    }
   ],
   "source": [
    "#preparing training and test data\n",
    "x=df_train_nutrition[[\"ssb\"]] #source feature\n",
    "y=df_train_nutrition[[\"generalhealth\"]] #target feature\n",
    "algo=LogisticRegression(random_state=0, solver='lbfgs',multi_class='multinomial') #rmse=1.1545\n",
    "# model = GaussianNB() #rmse=1.28\n",
    "model_apply(x,y,1,1)"
   ]
  },
  {
   "cell_type": "markdown",
   "metadata": {},
   "source": [
    "# Checking correlation between CardioVascular Health data"
   ]
  },
  {
   "cell_type": "code",
   "execution_count": 27,
   "metadata": {},
   "outputs": [
    {
     "name": "stdout",
     "output_type": "stream",
     "text": [
      "   toldhighbp15  toldprescription15  takingmeds15  generalhealth\n",
      "0           2.0                 NaN           NaN            2.0\n",
      "1           2.0                 NaN           NaN            3.0\n",
      "2           1.0                 1.0           1.0            4.0\n",
      "3           1.0                 1.0           1.0            2.0\n",
      "4           2.0                 NaN           NaN            1.0\n"
     ]
    },
    {
     "data": {
      "text/plain": [
       "toldhighbp15            43\n",
       "toldprescription15    6696\n",
       "takingmeds15          7032\n",
       "generalhealth           68\n",
       "dtype: int64"
      ]
     },
     "execution_count": 27,
     "metadata": {},
     "output_type": "execute_result"
    }
   ],
   "source": [
    "df_train_cardio=df[[\"toldhighbp15\",\"toldprescription15\",\"takingmeds15\",\"generalhealth\"]]\n",
    "print(df_train_cardio.head())\n",
    "df_train_cardio.isnull().sum()"
   ]
  },
  {
   "cell_type": "markdown",
   "metadata": {},
   "source": [
    "toldprescription16 and takingmeds15 has high NA values so we have to drop them from dataset"
   ]
  },
  {
   "cell_type": "code",
   "execution_count": 28,
   "metadata": {},
   "outputs": [
    {
     "name": "stdout",
     "output_type": "stream",
     "text": [
      "   toldhighbp15  generalhealth\n",
      "0           2.0            2.0\n",
      "1           2.0            3.0\n",
      "2           1.0            4.0\n",
      "3           1.0            2.0\n",
      "4           2.0            1.0\n"
     ]
    },
    {
     "data": {
      "text/plain": [
       "toldhighbp15     43\n",
       "generalhealth    68\n",
       "dtype: int64"
      ]
     },
     "execution_count": 28,
     "metadata": {},
     "output_type": "execute_result"
    }
   ],
   "source": [
    "df_train_cardio=df[[\"toldhighbp15\",\"generalhealth\"]]\n",
    "print(df_train_cardio.head())\n",
    "df_train_cardio.isnull().sum()"
   ]
  },
  {
   "cell_type": "code",
   "execution_count": 29,
   "metadata": {},
   "outputs": [
    {
     "data": {
      "text/plain": [
       "toldhighbp15   generalhealth    0.317044\n",
       "generalhealth  toldhighbp15     0.317044\n",
       "toldhighbp15   toldhighbp15     1.000000\n",
       "generalhealth  generalhealth    1.000000\n",
       "dtype: float64"
      ]
     },
     "execution_count": 29,
     "metadata": {},
     "output_type": "execute_result"
    },
    {
     "data": {
      "image/png": "[encoded data removed]",
      "text/plain": [
       "<Figure size 432x288 with 2 Axes>"
      ]
     },
     "metadata": {
      "needs_background": "light"
     },
     "output_type": "display_data"
    }
   ],
   "source": [
    "df_train_cardio=df_train_cardio.dropna()\n",
    "corr_cardio = df_train_cardio.corr().abs()\n",
    "draw_corr(corr_cardio)\n",
    "corr_cardio.unstack().sort_values(kind=\"quicksort\")"
   ]
  },
  {
   "cell_type": "markdown",
   "metadata": {},
   "source": [
    "# Cardio vs General Health\n"
   ]
  },
  {
   "cell_type": "code",
   "execution_count": 30,
   "metadata": {},
   "outputs": [
    {
     "name": "stdout",
     "output_type": "stream",
     "text": [
      "[1.]\n",
      "Predicted Value: [3. 3. 3. ... 3. 3. 3.]\n",
      "Accuracy: 0.31717011128775835\n",
      "[[  0   0 395   0   0]\n",
      " [  0   0 677   0   0]\n",
      " [  0   0 798   0   0]\n",
      " [  0   0 454   0   0]\n",
      " [  0   0 192   0   0]]\n",
      "              precision    recall  f1-score   support\n",
      "\n",
      "         1.0       0.00      0.00      0.00       395\n",
      "         2.0       0.00      0.00      0.00       677\n",
      "         3.0       0.32      1.00      0.48       798\n",
      "         4.0       0.00      0.00      0.00       454\n",
      "         5.0       0.00      0.00      0.00       192\n",
      "\n",
      "    accuracy                           0.32      2516\n",
      "   macro avg       0.06      0.20      0.10      2516\n",
      "weighted avg       0.10      0.32      0.15      2516\n",
      "\n"
     ]
    },
    {
     "name": "stderr",
     "output_type": "stream",
     "text": [
      "/usr/local/lib/python3.7/site-packages/sklearn/metrics/classification.py:1437: UndefinedMetricWarning: Precision and F-score are ill-defined and being set to 0.0 in labels with no predicted samples.\n",
      "  'precision', 'predicted', average, warn_for)\n"
     ]
    },
    {
     "data": {
      "text/plain": [
       "1.1759040766390259"
      ]
     },
     "execution_count": 30,
     "metadata": {},
     "output_type": "execute_result"
    }
   ],
   "source": [
    "df_train_cardio=df_train_cardio[[\"toldhighbp15\",\"generalhealth\"]]\n",
    "df_train_cardio=df_train_cardio.dropna()\n",
    "#preparing training and test data\n",
    "x=df_train_cardio[[\"toldhighbp15\"]] #source feature\n",
    "y=df_train_cardio[[\"generalhealth\"]] #target feature\n",
    "algo=LogisticRegression(random_state=0, solver='lbfgs',multi_class='multinomial') #rmse=1.1760\n",
    "# model = GaussianNB() #rmse=1.28\n",
    "model_apply(x,y,1,1)"
   ]
  },
  {
   "cell_type": "markdown",
   "metadata": {},
   "source": [
    "# Checking correlation between Diabetes data"
   ]
  },
  {
   "cell_type": "code",
   "execution_count": 31,
   "metadata": {},
   "outputs": [
    {
     "name": "stdout",
     "output_type": "stream",
     "text": [
      "   diabetes15  generalhealth\n",
      "0         2.0            2.0\n",
      "1         2.0            3.0\n",
      "2         1.0            4.0\n",
      "3         2.0            2.0\n",
      "4         2.0            1.0\n"
     ]
    },
    {
     "data": {
      "text/plain": [
       "diabetes15       33\n",
       "generalhealth    68\n",
       "dtype: int64"
      ]
     },
     "execution_count": 31,
     "metadata": {},
     "output_type": "execute_result"
    }
   ],
   "source": [
    "df_train_diabetes=df[[\"diabetes15\",\"generalhealth\"]]\n",
    "print(df_train_diabetes.head())\n",
    "df_train_diabetes.isnull().sum()"
   ]
  },
  {
   "cell_type": "markdown",
   "metadata": {},
   "source": [
    "Since only one column is there is no need to check correlation here.\n",
    "\n",
    "# Diabetes vs General Health "
   ]
  },
  {
   "cell_type": "code",
   "execution_count": 33,
   "metadata": {},
   "outputs": [
    {
     "name": "stdout",
     "output_type": "stream",
     "text": [
      "[1.]\n",
      "Predicted Value: [4. 3. 3. ... 3. 3. 3.]\n",
      "Accuracy: 0.3256552819698173\n",
      "[[  0   0 397  17   0]\n",
      " [  0   0 631  47   0]\n",
      " [  0   0 704 104   0]\n",
      " [  0   0 325 116   0]\n",
      " [  0   0 106  71   0]]\n",
      "              precision    recall  f1-score   support\n",
      "\n",
      "         1.0       0.00      0.00      0.00       414\n",
      "         2.0       0.00      0.00      0.00       678\n",
      "         3.0       0.33      0.87      0.47       808\n",
      "         4.0       0.33      0.26      0.29       441\n",
      "         5.0       0.00      0.00      0.00       177\n",
      "\n",
      "    accuracy                           0.33      2518\n",
      "   macro avg       0.13      0.23      0.15      2518\n",
      "weighted avg       0.16      0.33      0.20      2518\n",
      "\n"
     ]
    },
    {
     "name": "stderr",
     "output_type": "stream",
     "text": [
      "/usr/local/lib/python3.7/site-packages/sklearn/metrics/classification.py:1437: UndefinedMetricWarning: Precision and F-score are ill-defined and being set to 0.0 in labels with no predicted samples.\n",
      "  'precision', 'predicted', average, warn_for)\n"
     ]
    },
    {
     "data": {
      "text/plain": [
       "1.176281347205657"
      ]
     },
     "execution_count": 33,
     "metadata": {},
     "output_type": "execute_result"
    }
   ],
   "source": [
    "df_train_diabetes=df_train_diabetes[[\"diabetes15\",\"generalhealth\"]]\n",
    "df_train_diabetes=df_train_diabetes.dropna()\n",
    "#preparing training and test data\n",
    "x=df_train_diabetes[[\"diabetes15\"]] #source feature\n",
    "y=df_train_diabetes[[\"generalhealth\"]] #target feature\n",
    "# algo=LogisticRegression(random_state=0, solver='lbfgs',multi_class='multinomial') #rmse=1.1763\n",
    "# algo=svm.SVC(gamma='scale') #emse=1.1714\n",
    "# algo = GaussianNB() #rmse=1.2356\n",
    "algo=DecisionTreeClassifier() #rmse=1.1714\n",
    "model_apply(x,y,3,1)"
   ]
  },
  {
   "cell_type": "markdown",
   "metadata": {},
   "source": [
    "# Clubbing the different parameters"
   ]
  },
  {
   "cell_type": "code",
   "execution_count": 34,
   "metadata": {},
   "outputs": [
    {
     "name": "stdout",
     "output_type": "stream",
     "text": [
      "       cid  exercise15  ssb  diabetes15  toldhighbp15  generalhealth\n",
      "0  1600001         1.0  1.0         2.0           2.0            2.0\n",
      "1  1600002         1.0  2.0         2.0           2.0            3.0\n",
      "2  1600003         2.0  2.0         1.0           1.0            4.0\n",
      "3  1600004         1.0  1.0         2.0           1.0            2.0\n",
      "4  1600005         1.0  1.0         2.0           2.0            1.0\n"
     ]
    },
    {
     "data": {
      "text/plain": [
       "cid                0\n",
       "exercise15        12\n",
       "ssb              111\n",
       "diabetes15        33\n",
       "toldhighbp15      43\n",
       "generalhealth     68\n",
       "dtype: int64"
      ]
     },
     "execution_count": 34,
     "metadata": {},
     "output_type": "execute_result"
    }
   ],
   "source": [
    "#df_train_physical[[\"exercise17\",\"cyclingfreq\",\"generalhealth\"]]\n",
    "#df_train_diabetes[[\"diabetes17\",\"generalhealth\"]]\n",
    "#df_train_cardio[[\"toldhighbp17\",\"generalhealth\"]]\n",
    "#df_train_nutrition[[\"nutrition46\",\"nutrition47\",\"ssb\"]]\n",
    "df_clubbed=df[[\"cid\",\"exercise15\",\"ssb\",\n",
    "              \"diabetes15\",\"toldhighbp15\",\"generalhealth\"]]\n",
    "print(df_clubbed.head())\n",
    "df_clubbed.isnull().sum()"
   ]
  },
  {
   "cell_type": "code",
   "execution_count": 55,
   "metadata": {},
   "outputs": [
    {
     "name": "stdout",
     "output_type": "stream",
     "text": [
      "[0.32587181 0.28656191 0.22551204]\n",
      "Predicted Value: [3. 3. 3. ... 2. 4. 3.]\n",
      "Accuracy: 0.3452860596293312\n",
      "[[  0 258 148   8   0]\n",
      " [  0 348 330  20   1]\n",
      " [  0 255 437  57   3]\n",
      " [  0  98 254  67   9]\n",
      " [  0  14 105  65   5]]\n",
      "              precision    recall  f1-score   support\n",
      "\n",
      "         1.0       0.00      0.00      0.00       414\n",
      "         2.0       0.36      0.50      0.42       699\n",
      "         3.0       0.34      0.58      0.43       752\n",
      "         4.0       0.31      0.16      0.21       428\n",
      "         5.0       0.28      0.03      0.05       189\n",
      "\n",
      "    accuracy                           0.35      2482\n",
      "   macro avg       0.26      0.25      0.22      2482\n",
      "weighted avg       0.28      0.35      0.29      2482\n",
      "\n"
     ]
    },
    {
     "name": "stderr",
     "output_type": "stream",
     "text": [
      "/usr/local/lib/python3.7/site-packages/sklearn/metrics/classification.py:1437: UndefinedMetricWarning: Precision and F-score are ill-defined and being set to 0.0 in labels with no predicted samples.\n",
      "  'precision', 'predicted', average, warn_for)\n"
     ]
    },
    {
     "data": {
      "text/plain": [
       "1.0866933780903865"
      ]
     },
     "execution_count": 55,
     "metadata": {},
     "output_type": "execute_result"
    }
   ],
   "source": [
    "df_clubbed=df_clubbed.dropna()\n",
    "#preparing training and test data\n",
    "x=df_clubbed.drop(columns=[\"cid\",\"generalhealth\"]) #source feature\n",
    "y=df_clubbed[[\"generalhealth\"]] #target feature\n",
    "algo=LogisticRegression(random_state=0, solver='lbfgs',multi_class='multinomial') #rmse=1.1941\n",
    "# algo=svm.SVC(gamma='scale') #emse=1.1607\n",
    "# algo = GaussianNB() #rmse=1.2136\n",
    "# algo=DecisionTreeClassifier() #rmse=1.4525\n",
    "model_apply(x,y,1,3)"
   ]
  },
  {
   "cell_type": "markdown",
   "metadata": {},
   "source": [
    "# Physical Activity vs Cardio Health"
   ]
  },
  {
   "cell_type": "code",
   "execution_count": 32,
   "metadata": {},
   "outputs": [
    {
     "name": "stdout",
     "output_type": "stream",
     "text": [
      "('Predicted Value:', array([2., 2., 2., ..., 2., 2., 2.]))\n",
      "('Accuracy:', 0.67767929089444)\n",
      "[[   0  800]\n",
      " [   0 1682]]\n",
      "              precision    recall  f1-score   support\n",
      "\n",
      "         1.0       0.00      0.00      0.00       800\n",
      "         2.0       0.68      1.00      0.81      1682\n",
      "\n",
      "   micro avg       0.68      0.68      0.68      2482\n",
      "   macro avg       0.34      0.50      0.40      2482\n",
      "weighted avg       0.46      0.68      0.55      2482\n",
      "\n",
      "0.567732955804\n"
     ]
    }
   ],
   "source": [
    "#preparing training and test data\n",
    "x=df_clubbed[[\"exercise15\"]] #source feature\n",
    "y=df_clubbed[[\"toldhighbp15\"]] #target feature\n",
    "algo=LogisticRegression(random_state=0, solver='lbfgs',multi_class='multinomial') #rmse=0.5677\n",
    "# algo=svm.SVC(gamma='scale') #emse=1.1806\n",
    "# algo = GaussianNB() #rmse=1.2156\n",
    "# algo=DecisionTreeClassifier() #rmse=1.4330\n",
    "model_apply(x,y,1,1)"
   ]
  },
  {
   "cell_type": "markdown",
   "metadata": {},
   "source": [
    "# Nutrition vs Cardio Health"
   ]
  },
  {
   "cell_type": "code",
   "execution_count": 33,
   "metadata": {},
   "outputs": [
    {
     "name": "stdout",
     "output_type": "stream",
     "text": [
      "('Predicted Value:', array([2., 2., 2., ..., 2., 2., 2.]))\n",
      "('Accuracy:', 0.67767929089444)\n",
      "[[   0  800]\n",
      " [   0 1682]]\n",
      "              precision    recall  f1-score   support\n",
      "\n",
      "         1.0       0.00      0.00      0.00       800\n",
      "         2.0       0.68      1.00      0.81      1682\n",
      "\n",
      "   micro avg       0.68      0.68      0.68      2482\n",
      "   macro avg       0.34      0.50      0.40      2482\n",
      "weighted avg       0.46      0.68      0.55      2482\n",
      "\n",
      "0.567732955804\n"
     ]
    }
   ],
   "source": [
    "#preparing training and test data\n",
    "x=df_clubbed[[\"ssb\"]] #source feature\n",
    "y=df_clubbed[[\"toldhighbp15\"]] #target feature\n",
    "algo=LogisticRegression(random_state=0, solver='lbfgs',multi_class='multinomial') #rmse=0.5677\n",
    "# algo=svm.SVC(gamma='scale') #emse=1.1806\n",
    "# algo = GaussianNB() #rmse=1.2156\n",
    "# algo=DecisionTreeClassifier() #rmse=1.4330\n",
    "model_apply(x,y,1,1)"
   ]
  },
  {
   "cell_type": "markdown",
   "metadata": {},
   "source": [
    "# Physical vs Diabetes"
   ]
  },
  {
   "cell_type": "code",
   "execution_count": 34,
   "metadata": {},
   "outputs": [
    {
     "name": "stdout",
     "output_type": "stream",
     "text": [
      "('Predicted Value:', array([2., 2., 2., ..., 2., 2., 2.]))\n",
      "('Accuracy:', 0.8674456083803385)\n",
      "[[   0  329]\n",
      " [   0 2153]]\n",
      "              precision    recall  f1-score   support\n",
      "\n",
      "         1.0       0.00      0.00      0.00       329\n",
      "         2.0       0.87      1.00      0.93      2153\n",
      "\n",
      "   micro avg       0.87      0.87      0.87      2482\n",
      "   macro avg       0.43      0.50      0.46      2482\n",
      "weighted avg       0.75      0.87      0.81      2482\n",
      "\n",
      "0.364080199434\n"
     ]
    }
   ],
   "source": [
    "#preparing training and test data\n",
    "x=df_clubbed[[\"exercise15\"]] #source feature\n",
    "y=df_clubbed[[\"diabetes15\"]] #target feature\n",
    "algo=LogisticRegression(random_state=0, solver='lbfgs',multi_class='multinomial') #rmse=0.3641\n",
    "# algo=svm.SVC(gamma='scale') #emse=1.1806\n",
    "# algo = GaussianNB() #rmse=1.2156\n",
    "# algo=DecisionTreeClassifier() #rmse=1.4330\n",
    "model_apply(x,y,1,1)"
   ]
  },
  {
   "cell_type": "markdown",
   "metadata": {},
   "source": [
    "# Nutrition vs Diabetes"
   ]
  },
  {
   "cell_type": "code",
   "execution_count": 35,
   "metadata": {},
   "outputs": [
    {
     "name": "stdout",
     "output_type": "stream",
     "text": [
      "('Predicted Value:', array([2., 2., 2., ..., 2., 2., 2.]))\n",
      "('Accuracy:', 0.8674456083803385)\n",
      "[[   0  329]\n",
      " [   0 2153]]\n",
      "              precision    recall  f1-score   support\n",
      "\n",
      "         1.0       0.00      0.00      0.00       329\n",
      "         2.0       0.87      1.00      0.93      2153\n",
      "\n",
      "   micro avg       0.87      0.87      0.87      2482\n",
      "   macro avg       0.43      0.50      0.46      2482\n",
      "weighted avg       0.75      0.87      0.81      2482\n",
      "\n",
      "0.364080199434\n"
     ]
    }
   ],
   "source": [
    "#preparing training and test data\n",
    "x=df_clubbed[[\"ssb\"]] #source feature\n",
    "y=df_clubbed[[\"diabetes15\"]] #target feature\n",
    "algo=LogisticRegression(random_state=0, solver='lbfgs',multi_class='multinomial') #rmse=0.3641\n",
    "# algo=svm.SVC(gamma='scale') #emse=1.1806\n",
    "# algo = GaussianNB() #rmse=1.2156\n",
    "# algo=DecisionTreeClassifier() #rmse=1.4330\n",
    "model_apply(x,y,1,1)"
   ]
  },
  {
   "cell_type": "markdown",
   "metadata": {},
   "source": [
    "We observed that most of the Diabetes predictions are of class 2. Probably there is an imbalace of class in test data. Let us check.\n",
    "\n",
    "# Resampling Diabetese Dataset"
   ]
  },
  {
   "cell_type": "code",
   "execution_count": 37,
   "metadata": {},
   "outputs": [
    {
     "data": {
      "text/plain": [
       "2.0    8536\n",
       "1.0    1392\n",
       "Name: diabetes15, dtype: int64"
      ]
     },
     "execution_count": 37,
     "metadata": {},
     "output_type": "execute_result"
    }
   ],
   "source": [
    "#[1]https://elitedatascience.com/imbalanced-classes\n",
    "df_clubbed[\"diabetes15\"].value_counts()"
   ]
  },
  {
   "cell_type": "markdown",
   "metadata": {},
   "source": [
    "As we can see that class 2 has more samples than class 1 which shows that data is impbalanced and fovours class 2. Upsampling the class 1 data :"
   ]
  },
  {
   "cell_type": "markdown",
   "metadata": {},
   "source": [
    "# Up Sampling"
   ]
  },
  {
   "cell_type": "code",
   "execution_count": 38,
   "metadata": {},
   "outputs": [
    {
     "data": {
      "text/plain": [
       "1.0    8536\n",
       "2.0    8536\n",
       "Name: diabetes15, dtype: int64"
      ]
     },
     "execution_count": 38,
     "metadata": {},
     "output_type": "execute_result"
    }
   ],
   "source": [
    "from sklearn.utils import resample\n",
    "# Separate majority and minority classes\n",
    "df_majority = df_clubbed[df_clubbed.diabetes15==2]\n",
    "df_minority = df_clubbed[df_clubbed.diabetes15==1]\n",
    " \n",
    "# Upsample minority class\n",
    "df_minority_upsampled = resample(df_minority, \n",
    "                                 replace=True,     # sample with replacement\n",
    "                                 n_samples=8536,    # to match majority class\n",
    "                                 random_state=123) # reproducible results\n",
    " \n",
    "# Combine majority class with upsampled minority class\n",
    "df_upsampled = pd.concat([df_majority, df_minority_upsampled])\n",
    " \n",
    "# Display new class counts\n",
    "df_upsampled.diabetes15.value_counts()"
   ]
  },
  {
   "cell_type": "markdown",
   "metadata": {},
   "source": [
    "# Nutrition vs Diabetes again after upsampling"
   ]
  },
  {
   "cell_type": "code",
   "execution_count": 39,
   "metadata": {},
   "outputs": [
    {
     "name": "stdout",
     "output_type": "stream",
     "text": [
      "('Predicted Value:', array([2., 1., 1., ..., 1., 1., 1.]))\n",
      "('Accuracy:', 0.5520149953139644)\n",
      "[[1846  285]\n",
      " [1627  510]]\n",
      "              precision    recall  f1-score   support\n",
      "\n",
      "         1.0       0.53      0.87      0.66      2131\n",
      "         2.0       0.64      0.24      0.35      2137\n",
      "\n",
      "   micro avg       0.55      0.55      0.55      4268\n",
      "   macro avg       0.59      0.55      0.50      4268\n",
      "weighted avg       0.59      0.55      0.50      4268\n",
      "\n",
      "0.669316819366\n"
     ]
    }
   ],
   "source": [
    "#preparing training and test data\n",
    "x=df_upsampled[[\"ssb\"]] #source feature\n",
    "y=df_upsampled[[\"diabetes15\"]] #target feature\n",
    "algo=LogisticRegression(random_state=0, solver='lbfgs',multi_class='multinomial') #rmse=0.6693\n",
    "# algo=svm.SVC(gamma='scale') #emse=1.1806\n",
    "# algo = GaussianNB() #rmse=1.2156\n",
    "# algo=DecisionTreeClassifier() #rmse=1.4330\n",
    "model_apply(x,y,1,1)"
   ]
  },
  {
   "cell_type": "markdown",
   "metadata": {},
   "source": [
    "# Physical Activity vs Diabetes after upsampling"
   ]
  },
  {
   "cell_type": "code",
   "execution_count": 40,
   "metadata": {},
   "outputs": [
    {
     "name": "stdout",
     "output_type": "stream",
     "text": [
      "('Predicted Value:', array([2., 2., 2., ..., 2., 2., 2.]))\n",
      "('Accuracy:', 0.5522492970946579)\n",
      "[[ 715 1416]\n",
      " [ 495 1642]]\n",
      "              precision    recall  f1-score   support\n",
      "\n",
      "         1.0       0.59      0.34      0.43      2131\n",
      "         2.0       0.54      0.77      0.63      2137\n",
      "\n",
      "   micro avg       0.55      0.55      0.55      4268\n",
      "   macro avg       0.56      0.55      0.53      4268\n",
      "weighted avg       0.56      0.55      0.53      4268\n",
      "\n",
      "0.669141765925\n"
     ]
    }
   ],
   "source": [
    "#preparing training and test data\n",
    "x=df_upsampled[[\"exercise15\"]] #source feature\n",
    "y=df_upsampled[[\"diabetes15\"]] #target feature\n",
    "algo=LogisticRegression(random_state=0, solver='lbfgs',multi_class='multinomial') #rmse=0.6691\n",
    "# algo=svm.SVC(gamma='scale') #emse=1.1806\n",
    "# algo = GaussianNB() #rmse=1.2156\n",
    "# algo=DecisionTreeClassifier() #rmse=1.4330\n",
    "model_apply(x,y,1,1)"
   ]
  },
  {
   "cell_type": "markdown",
   "metadata": {},
   "source": [
    "# Down Sampling"
   ]
  },
  {
   "cell_type": "code",
   "execution_count": 48,
   "metadata": {},
   "outputs": [
    {
     "data": {
      "text/plain": [
       "1.0    1392\n",
       "2.0    1392\n",
       "Name: diabetes15, dtype: int64"
      ]
     },
     "execution_count": 48,
     "metadata": {},
     "output_type": "execute_result"
    }
   ],
   "source": [
    "#Down Sampling\n",
    "df_majority = df_clubbed[df_clubbed.diabetes15==2]\n",
    "df_minority = df_clubbed[df_clubbed.diabetes15==1]\n",
    " \n",
    "# Downsample majority class\n",
    "df_majority_downsampled = resample(df_majority, \n",
    "                                 replace=False,    # sample without replacement\n",
    "                                 n_samples=1392,     # to match minority class\n",
    "                                 random_state=123) # reproducible results\n",
    " \n",
    "# Combine minority class with downsampled majority class\n",
    "df_downsampled = pd.concat([df_majority_downsampled, df_minority])\n",
    " \n",
    "# Display new class counts\n",
    "df_downsampled.diabetes15.value_counts()"
   ]
  },
  {
   "cell_type": "markdown",
   "metadata": {},
   "source": [
    "# Nutrition vs Diabetes again after down sampling"
   ]
  },
  {
   "cell_type": "code",
   "execution_count": 49,
   "metadata": {},
   "outputs": [
    {
     "name": "stdout",
     "output_type": "stream",
     "text": [
      "[1.]\n",
      "Predicted Value: [1. 1. 1. 1. 1. 1. 1. 1. 1. 2. 1. 1. 1. 1. 1. 1. 2. 2. 1. 1. 1. 1. 1. 1.\n",
      " 1. 1. 1. 1. 1. 1. 1. 1. 1. 1. 1. 1. 1. 2. 1. 1. 1. 1. 1. 1. 1. 1. 1. 1.\n",
      " 1. 1. 1. 1. 2. 2. 1. 2. 1. 1. 1. 2. 1. 1. 1. 2. 1. 1. 2. 2. 1. 1. 1. 1.\n",
      " 1. 1. 1. 1. 2. 1. 2. 1. 1. 1. 1. 1. 1. 1. 1. 2. 1. 1. 1. 1. 1. 1. 1. 1.\n",
      " 1. 1. 2. 1. 1. 1. 1. 1. 1. 2. 2. 1. 1. 2. 1. 1. 1. 1. 1. 1. 1. 1. 1. 1.\n",
      " 1. 1. 1. 1. 1. 1. 1. 1. 1. 1. 1. 1. 1. 2. 1. 1. 1. 1. 2. 2. 1. 1. 2. 1.\n",
      " 1. 1. 1. 1. 1. 1. 1. 1. 1. 1. 1. 1. 1. 1. 2. 1. 1. 1. 2. 1. 1. 1. 1. 1.\n",
      " 1. 1. 2. 1. 1. 2. 1. 1. 1. 1. 1. 1. 1. 1. 2. 1. 1. 1. 1. 1. 1. 1. 1. 1.\n",
      " 1. 1. 1. 1. 1. 1. 1. 1. 1. 1. 1. 1. 1. 1. 1. 1. 1. 2. 1. 1. 1. 1. 1. 1.\n",
      " 1. 1. 2. 1. 1. 1. 1. 2. 1. 1. 2. 1. 1. 1. 2. 1. 1. 1. 2. 1. 2. 1. 1. 1.\n",
      " 1. 1. 2. 2. 1. 1. 1. 1. 2. 1. 1. 1. 1. 1. 1. 1. 1. 1. 1. 1. 1. 1. 1. 1.\n",
      " 2. 1. 1. 1. 1. 1. 1. 1. 1. 1. 2. 1. 1. 1. 1. 1. 1. 1. 2. 1. 2. 2. 1. 2.\n",
      " 1. 1. 1. 1. 1. 1. 1. 2. 1. 1. 2. 1. 1. 1. 1. 1. 1. 1. 1. 2. 1. 1. 1. 1.\n",
      " 1. 1. 1. 1. 1. 1. 1. 1. 1. 1. 2. 1. 1. 1. 1. 2. 2. 1. 1. 1. 1. 2. 1. 1.\n",
      " 1. 1. 1. 1. 1. 1. 1. 1. 1. 1. 1. 1. 1. 2. 1. 2. 2. 2. 1. 1. 1. 1. 1. 1.\n",
      " 1. 1. 1. 1. 1. 1. 1. 1. 2. 1. 1. 1. 1. 2. 1. 1. 1. 1. 1. 1. 1. 2. 2. 2.\n",
      " 1. 2. 1. 1. 1. 2. 2. 1. 1. 1. 1. 1. 1. 1. 2. 1. 1. 1. 2. 1. 1. 2. 1. 1.\n",
      " 1. 1. 1. 1. 1. 1. 1. 1. 1. 2. 1. 1. 2. 1. 1. 2. 1. 1. 1. 2. 2. 1. 1. 1.\n",
      " 1. 1. 2. 2. 1. 1. 2. 1. 2. 1. 1. 1. 2. 1. 1. 1. 1. 1. 1. 1. 1. 1. 1. 2.\n",
      " 1. 1. 1. 1. 2. 1. 2. 1. 2. 2. 1. 1. 1. 2. 2. 1. 1. 1. 1. 1. 2. 1. 2. 1.\n",
      " 1. 1. 2. 1. 1. 1. 1. 1. 1. 1. 1. 1. 1. 2. 1. 1. 1. 1. 2. 1. 1. 2. 1. 1.\n",
      " 1. 2. 1. 1. 1. 1. 1. 1. 1. 1. 1. 1. 1. 1. 1. 1. 1. 1. 2. 1. 1. 1. 1. 1.\n",
      " 1. 1. 2. 1. 1. 1. 1. 1. 2. 1. 1. 2. 1. 1. 1. 1. 1. 1. 1. 1. 1. 2. 1. 1.\n",
      " 1. 1. 1. 1. 1. 2. 1. 1. 1. 2. 1. 1. 1. 1. 2. 1. 1. 1. 1. 1. 1. 1. 2. 1.\n",
      " 1. 1. 2. 1. 2. 1. 1. 1. 1. 1. 1. 1. 2. 1. 1. 1. 1. 2. 2. 1. 1. 1. 1. 1.\n",
      " 1. 1. 2. 1. 1. 1. 2. 1. 1. 1. 1. 1. 1. 2. 2. 2. 1. 1. 1. 1. 1. 2. 1. 2.\n",
      " 1. 1. 1. 1. 1. 1. 1. 1. 1. 1. 1. 1. 1. 1. 2. 1. 1. 1. 1. 1. 1. 1. 1. 1.\n",
      " 1. 1. 2. 1. 1. 1. 1. 2. 2. 1. 1. 1. 1. 1. 1. 1. 2. 1. 1. 2. 1. 1. 1. 1.\n",
      " 1. 1. 1. 1. 1. 1. 1. 1. 1. 1. 1. 1. 1. 1. 1. 1. 2. 1. 1. 1. 1. 1. 2. 2.]\n",
      "Accuracy: 0.5344827586206896\n",
      "[[296  43]\n",
      " [281  76]]\n",
      "              precision    recall  f1-score   support\n",
      "\n",
      "         1.0       0.51      0.87      0.65       339\n",
      "         2.0       0.64      0.21      0.32       357\n",
      "\n",
      "    accuracy                           0.53       696\n",
      "   macro avg       0.58      0.54      0.48       696\n",
      "weighted avg       0.58      0.53      0.48       696\n",
      "\n"
     ]
    },
    {
     "data": {
      "text/plain": [
       "0.682288239221013"
      ]
     },
     "execution_count": 49,
     "metadata": {},
     "output_type": "execute_result"
    }
   ],
   "source": [
    "#preparing training and test data\n",
    "x=df_downsampled[[\"ssb\"]] #source feature\n",
    "y=df_downsampled[[\"diabetes15\"]] #target feature\n",
    "algo=LogisticRegression(random_state=0, solver='lbfgs',multi_class='multinomial') #rmse=0.6823\n",
    "# algo=svm.SVC(gamma='scale') #emse=1.1806\n",
    "# algo = GaussianNB() #rmse=1.2156\n",
    "# algo=DecisionTreeClassifier() #rmse=1.4330\n",
    "model_apply(x,y,3,1)"
   ]
  },
  {
   "cell_type": "markdown",
   "metadata": {},
   "source": [
    "# Physical Activity vs Diabetes after down sampling"
   ]
  },
  {
   "cell_type": "code",
   "execution_count": 43,
   "metadata": {},
   "outputs": [
    {
     "name": "stdout",
     "output_type": "stream",
     "text": [
      "('Predicted Value:', array([2., 2., 2., 1., 1., 2., 2., 2., 2., 2., 2., 2., 2., 2., 2., 2., 2.,\n",
      "       2., 2., 2., 2., 1., 2., 2., 2., 1., 2., 2., 2., 2., 2., 2., 1., 2.,\n",
      "       1., 1., 2., 2., 2., 2., 2., 2., 1., 1., 2., 1., 2., 2., 2., 2., 2.,\n",
      "       2., 1., 1., 2., 2., 2., 1., 2., 2., 2., 2., 2., 1., 2., 2., 2., 2.,\n",
      "       2., 2., 2., 2., 2., 1., 2., 1., 2., 2., 1., 1., 2., 2., 2., 2., 1.,\n",
      "       2., 2., 2., 1., 2., 2., 2., 2., 2., 2., 2., 2., 2., 2., 1., 2., 1.,\n",
      "       2., 2., 2., 2., 2., 1., 2., 1., 2., 2., 2., 2., 2., 1., 2., 1., 2.,\n",
      "       2., 2., 2., 2., 2., 1., 2., 2., 2., 2., 1., 1., 2., 2., 2., 2., 2.,\n",
      "       2., 2., 2., 2., 1., 2., 1., 2., 2., 2., 2., 2., 1., 2., 2., 2., 2.,\n",
      "       2., 2., 2., 2., 2., 2., 2., 2., 2., 2., 1., 2., 2., 2., 2., 2., 1.,\n",
      "       2., 2., 1., 2., 2., 2., 1., 2., 2., 1., 2., 1., 2., 2., 2., 2., 2.,\n",
      "       2., 2., 2., 2., 1., 2., 1., 2., 2., 2., 1., 2., 2., 2., 2., 2., 2.,\n",
      "       2., 2., 1., 2., 2., 2., 1., 2., 2., 2., 1., 2., 2., 2., 1., 2., 2.,\n",
      "       1., 2., 1., 2., 2., 2., 2., 2., 2., 1., 1., 2., 1., 1., 2., 2., 1.,\n",
      "       1., 2., 1., 2., 2., 2., 2., 2., 2., 2., 2., 2., 1., 2., 1., 1., 2.,\n",
      "       2., 1., 1., 2., 1., 2., 2., 2., 2., 1., 2., 2., 1., 2., 2., 1., 1.,\n",
      "       2., 2., 1., 2., 1., 2., 2., 1., 2., 2., 2., 2., 2., 2., 2., 1., 1.,\n",
      "       1., 2., 2., 2., 2., 1., 1., 2., 2., 1., 2., 2., 1., 1., 1., 2., 1.,\n",
      "       2., 1., 1., 2., 1., 2., 1., 2., 1., 2., 2., 2., 2., 2., 2., 2., 2.,\n",
      "       2., 2., 2., 1., 1., 1., 2., 1., 1., 2., 2., 2., 2., 2., 2., 2., 2.,\n",
      "       2., 2., 1., 2., 2., 1., 2., 1., 1., 2., 2., 2., 1., 2., 2., 2., 2.,\n",
      "       1., 2., 2., 1., 2., 2., 2., 2., 1., 2., 2., 1., 2., 2., 2., 2., 2.,\n",
      "       2., 1., 1., 2., 2., 2., 1., 1., 2., 1., 1., 1., 2., 2., 2., 1., 1.,\n",
      "       2., 2., 2., 1., 2., 1., 1., 1., 2., 2., 2., 2., 2., 2., 1., 2., 2.,\n",
      "       2., 2., 2., 2., 2., 1., 2., 2., 1., 1., 2., 1., 2., 2., 2., 2., 1.,\n",
      "       2., 2., 2., 2., 1., 2., 2., 2., 2., 1., 2., 2., 1., 2., 2., 2., 2.,\n",
      "       1., 1., 1., 2., 2., 2., 2., 1., 2., 2., 2., 2., 2., 2., 2., 2., 2.,\n",
      "       2., 2., 2., 1., 2., 1., 2., 2., 1., 2., 2., 2., 1., 2., 2., 2., 2.,\n",
      "       2., 2., 2., 2., 1., 2., 1., 2., 2., 2., 2., 2., 1., 2., 1., 2., 2.,\n",
      "       1., 2., 2., 2., 2., 1., 2., 2., 2., 2., 2., 2., 2., 2., 2., 2., 2.,\n",
      "       2., 1., 2., 1., 2., 1., 2., 1., 2., 1., 1., 2., 1., 2., 2., 2., 2.,\n",
      "       2., 2., 2., 1., 1., 2., 2., 2., 2., 1., 2., 2., 1., 2., 2., 2., 2.,\n",
      "       1., 1., 2., 2., 2., 2., 2., 2., 1., 1., 2., 2., 2., 2., 1., 2., 2.,\n",
      "       2., 2., 2., 1., 2., 2., 2., 2., 1., 2., 1., 2., 1., 1., 2., 2., 2.,\n",
      "       2., 2., 2., 2., 2., 1., 1., 2., 2., 2., 2., 2., 2., 1., 2., 1., 2.,\n",
      "       2., 2., 2., 2., 1., 2., 2., 2., 2., 2., 2., 2., 2., 1., 1., 2., 2.,\n",
      "       1., 2., 2., 1., 2., 2., 2., 1., 2., 1., 2., 2., 2., 2., 2., 1., 2.,\n",
      "       2., 2., 2., 1., 1., 2., 2., 2., 1., 2., 2., 1., 1., 2., 1., 2., 2.,\n",
      "       2., 2., 1., 2., 2., 2., 2., 2., 2., 2., 2., 2., 2., 1., 2., 2., 2.,\n",
      "       1., 2., 1., 2., 2., 2., 2., 2., 1., 2., 1., 2., 2., 1., 2., 2., 2.,\n",
      "       2., 2., 1., 2., 2., 2., 2., 2., 2., 2., 2., 1., 2., 2., 2., 2.]))\n",
      "('Accuracy:', 0.5560344827586207)\n",
      "[[105 234]\n",
      " [ 75 282]]\n",
      "              precision    recall  f1-score   support\n",
      "\n",
      "         1.0       0.58      0.31      0.40       339\n",
      "         2.0       0.55      0.79      0.65       357\n",
      "\n",
      "   micro avg       0.56      0.56      0.56       696\n",
      "   macro avg       0.56      0.55      0.53       696\n",
      "weighted avg       0.56      0.56      0.53       696\n",
      "\n",
      "0.666307374446\n"
     ]
    }
   ],
   "source": [
    "#preparing training and test data\n",
    "x=df_downsampled[[\"exercise15\"]] #source feature\n",
    "y=df_downsampled[[\"diabetes15\"]] #target feature\n",
    "algo=LogisticRegression(random_state=0, solver='lbfgs',multi_class='multinomial') #rmse=0.6663\n",
    "# algo=svm.SVC(gamma='scale') #emse=1.1806\n",
    "# algo = GaussianNB() #rmse=1.2156\n",
    "# algo=DecisionTreeClassifier() #rmse=1.4330\n",
    "model_apply(x,y,1,1)"
   ]
  },
  {
   "cell_type": "markdown",
   "metadata": {},
   "source": [
    "After both Up and Down sampling the rmse is near about remains 0.66"
   ]
  },
  {
   "cell_type": "markdown",
   "metadata": {},
   "source": [
    "# Marital Status vs Cardio Vascular Health"
   ]
  },
  {
   "cell_type": "code",
   "execution_count": 44,
   "metadata": {},
   "outputs": [],
   "source": [
    "df_martial=df[[\"maritalstatus15\",\"toldhighbp15\",\"generalhealth\"]]\n",
    "df_martial=df_martial.dropna()"
   ]
  },
  {
   "cell_type": "code",
   "execution_count": 45,
   "metadata": {},
   "outputs": [
    {
     "name": "stdout",
     "output_type": "stream",
     "text": [
      "('Predicted Value:', array([2., 2., 2., ..., 2., 2., 2.]))\n",
      "('Accuracy:', 0.6619887730553328)\n",
      "[[   0  843]\n",
      " [   0 1651]]\n",
      "              precision    recall  f1-score   support\n",
      "\n",
      "         1.0       0.00      0.00      0.00       843\n",
      "         2.0       0.66      1.00      0.80      1651\n",
      "\n",
      "   micro avg       0.66      0.66      0.66      2494\n",
      "   macro avg       0.33      0.50      0.40      2494\n",
      "weighted avg       0.44      0.66      0.53      2494\n",
      "\n",
      "0.581387329536\n"
     ]
    }
   ],
   "source": [
    "#preparing training and test data\n",
    "x=df_martial[[\"maritalstatus15\"]] #source feature\n",
    "y=df_martial[[\"toldhighbp15\"]] #target feature\n",
    "algo=LogisticRegression(random_state=0, solver='lbfgs',multi_class='multinomial') #rmse=0.5814\n",
    "# algo=svm.SVC(gamma='scale') #emse=1.1806\n",
    "# algo = GaussianNB() #rmse=1.2156\n",
    "# algo=DecisionTreeClassifier() #rmse=1.4330\n",
    "model_apply(x,y,1,1)"
   ]
  },
  {
   "cell_type": "markdown",
   "metadata": {},
   "source": [
    "# Marital Status vs General Health Status"
   ]
  },
  {
   "cell_type": "code",
   "execution_count": 46,
   "metadata": {},
   "outputs": [
    {
     "name": "stdout",
     "output_type": "stream",
     "text": [
      "('Predicted Value:', array([3., 3., 3., ..., 3., 3., 3.]))\n",
      "('Accuracy:', 0.3143544506816359)\n",
      "[[  0   0 383   0   0]\n",
      " [  0   0 692   0   0]\n",
      " [  0   0 784   0   0]\n",
      " [  0   0 441   0   0]\n",
      " [  0   0 194   0   0]]\n",
      "              precision    recall  f1-score   support\n",
      "\n",
      "         1.0       0.00      0.00      0.00       383\n",
      "         2.0       0.00      0.00      0.00       692\n",
      "         3.0       0.31      1.00      0.48       784\n",
      "         4.0       0.00      0.00      0.00       441\n",
      "         5.0       0.00      0.00      0.00       194\n",
      "\n",
      "   micro avg       0.31      0.31      0.31      2494\n",
      "   macro avg       0.06      0.20      0.10      2494\n",
      "weighted avg       0.10      0.31      0.15      2494\n",
      "\n",
      "1.17461113018\n"
     ]
    }
   ],
   "source": [
    "#preparing training and test data\n",
    "x=df_martial[[\"maritalstatus15\"]] #source feature\n",
    "y=df_martial[[\"generalhealth\"]] #target feature\n",
    "algo=LogisticRegression(random_state=0, solver='lbfgs',multi_class='multinomial') #rmse=1.1746\n",
    "# algo=svm.SVC(gamma='scale') #emse=1.1806\n",
    "# algo = GaussianNB() #rmse=1.2156\n",
    "# algo=DecisionTreeClassifier() #rmse=1.4330\n",
    "model_apply(x,y,1,1)"
   ]
  },
  {
   "cell_type": "code",
   "execution_count": null,
   "metadata": {},
   "outputs": [],
   "source": []
  }
 ],
 "metadata": {
  "kernelspec": {
   "display_name": "Python 3",
   "language": "python",
   "name": "python3"
  },
  "language_info": {
   "codemirror_mode": {
    "name": "ipython",
    "version": 3
   },
   "file_extension": ".py",
   "mimetype": "text/x-python",
   "name": "python",
   "nbconvert_exporter": "python",
   "pygments_lexer": "ipython3",
   "version": "3.7.5"
  }
 },
 "nbformat": 4,
 "nbformat_minor": 2
}
