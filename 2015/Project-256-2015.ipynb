{
 "cells": [
  {
   "cell_type": "code",
   "execution_count": 1,
   "metadata": {},
   "outputs": [],
   "source": [
    "import pandas as pd\n",
    "import numpy as np\n",
    "from pandas import DataFrame\n",
    "import math\n",
    "import matplotlib.pyplot as plt\n",
    "from scipy.stats import norm, entropy \n",
    "from scipy.stats import probplot\n",
    "import matplotlib.pyplot as plt\n",
    "from scipy.stats import logistic\n",
    "from sklearn.model_selection import train_test_split\n",
    "from sklearn.linear_model import LogisticRegression\n",
    "from sklearn import metrics\n",
    "from sklearn.utils import resample\n",
    "from sklearn import svm\n",
    "from sklearn.tree import DecisionTreeClassifier\n",
    "from sklearn.metrics import classification_report, confusion_matrix, roc_curve\n",
    "from scipy.spatial.distance import cosine, correlation\n",
    "import seaborn as sns\n",
    "from sklearn.decomposition import PCA\n",
    "from sklearn.preprocessing import StandardScaler\n",
    "from sklearn.decomposition import TruncatedSVD\n",
    "from sklearn.linear_model import Perceptron"
   ]
  },
  {
   "cell_type": "code",
   "execution_count": 2,
   "metadata": {},
   "outputs": [],
   "source": [
    "df  = pd.read_csv('/Users/hiteshbhatia/Downloads/chs2015_public.csv')"
   ]
  },
  {
   "cell_type": "markdown",
   "metadata": {},
   "source": [
    "**Pre Processing the Data**\n",
    "We will first proceed with doing the analysis on the HIV Testing. We will be analysing the HIV with the general health as the target variable."
   ]
  },
  {
   "cell_type": "code",
   "execution_count": 3,
   "metadata": {},
   "outputs": [
    {
     "data": {
      "text/plain": [
       "cid                0\n",
       "hiv12months15    224\n",
       "everhivtest15    343\n",
       "generalhealth     68\n",
       "dtype: int64"
      ]
     },
     "execution_count": 3,
     "metadata": {},
     "output_type": "execute_result"
    }
   ],
   "source": [
    "hiv_df = df[['cid','hiv12months15','everhivtest15','generalhealth']]\n",
    "#Checking the null values\n",
    "hiv_df.isnull().sum()"
   ]
  },
  {
   "cell_type": "code",
   "execution_count": 4,
   "metadata": {},
   "outputs": [
    {
     "data": {
      "text/html": [
       "<div>\n",
       "<style scoped>\n",
       "    .dataframe tbody tr th:only-of-type {\n",
       "        vertical-align: middle;\n",
       "    }\n",
       "\n",
       "    .dataframe tbody tr th {\n",
       "        vertical-align: top;\n",
       "    }\n",
       "\n",
       "    .dataframe thead th {\n",
       "        text-align: right;\n",
       "    }\n",
       "</style>\n",
       "<table border=\"1\" class=\"dataframe\">\n",
       "  <thead>\n",
       "    <tr style=\"text-align: right;\">\n",
       "      <th></th>\n",
       "      <th>cid</th>\n",
       "      <th>hiv12months15</th>\n",
       "      <th>everhivtest15</th>\n",
       "      <th>generalhealth</th>\n",
       "    </tr>\n",
       "  </thead>\n",
       "  <tbody>\n",
       "    <tr>\n",
       "      <th>count</th>\n",
       "      <td>9.645000e+03</td>\n",
       "      <td>9645.000000</td>\n",
       "      <td>9645.000000</td>\n",
       "      <td>9645.000000</td>\n",
       "    </tr>\n",
       "    <tr>\n",
       "      <th>mean</th>\n",
       "      <td>1.607488e+06</td>\n",
       "      <td>1.669984</td>\n",
       "      <td>1.365060</td>\n",
       "      <td>2.734059</td>\n",
       "    </tr>\n",
       "    <tr>\n",
       "      <th>std</th>\n",
       "      <td>5.167118e+03</td>\n",
       "      <td>0.470243</td>\n",
       "      <td>0.481472</td>\n",
       "      <td>1.138704</td>\n",
       "    </tr>\n",
       "    <tr>\n",
       "      <th>min</th>\n",
       "      <td>1.600001e+06</td>\n",
       "      <td>1.000000</td>\n",
       "      <td>1.000000</td>\n",
       "      <td>1.000000</td>\n",
       "    </tr>\n",
       "    <tr>\n",
       "      <th>25%</th>\n",
       "      <td>1.602550e+06</td>\n",
       "      <td>1.000000</td>\n",
       "      <td>1.000000</td>\n",
       "      <td>2.000000</td>\n",
       "    </tr>\n",
       "    <tr>\n",
       "      <th>50%</th>\n",
       "      <td>1.605120e+06</td>\n",
       "      <td>2.000000</td>\n",
       "      <td>1.000000</td>\n",
       "      <td>3.000000</td>\n",
       "    </tr>\n",
       "    <tr>\n",
       "      <th>75%</th>\n",
       "      <td>1.612471e+06</td>\n",
       "      <td>2.000000</td>\n",
       "      <td>2.000000</td>\n",
       "      <td>3.000000</td>\n",
       "    </tr>\n",
       "    <tr>\n",
       "      <th>max</th>\n",
       "      <td>1.614998e+06</td>\n",
       "      <td>2.000000</td>\n",
       "      <td>2.000000</td>\n",
       "      <td>5.000000</td>\n",
       "    </tr>\n",
       "  </tbody>\n",
       "</table>\n",
       "</div>"
      ],
      "text/plain": [
       "                cid  hiv12months15  everhivtest15  generalhealth\n",
       "count  9.645000e+03    9645.000000    9645.000000    9645.000000\n",
       "mean   1.607488e+06       1.669984       1.365060       2.734059\n",
       "std    5.167118e+03       0.470243       0.481472       1.138704\n",
       "min    1.600001e+06       1.000000       1.000000       1.000000\n",
       "25%    1.602550e+06       1.000000       1.000000       2.000000\n",
       "50%    1.605120e+06       2.000000       1.000000       3.000000\n",
       "75%    1.612471e+06       2.000000       2.000000       3.000000\n",
       "max    1.614998e+06       2.000000       2.000000       5.000000"
      ]
     },
     "execution_count": 4,
     "metadata": {},
     "output_type": "execute_result"
    }
   ],
   "source": [
    "#Dropping all the columns having the Null values\n",
    "hiv_df = hiv_df.dropna()\n",
    "hiv_df.describe()"
   ]
  },
  {
   "cell_type": "code",
   "execution_count": 5,
   "metadata": {},
   "outputs": [
    {
     "data": {
      "text/html": [
       "<div>\n",
       "<style scoped>\n",
       "    .dataframe tbody tr th:only-of-type {\n",
       "        vertical-align: middle;\n",
       "    }\n",
       "\n",
       "    .dataframe tbody tr th {\n",
       "        vertical-align: top;\n",
       "    }\n",
       "\n",
       "    .dataframe thead th {\n",
       "        text-align: right;\n",
       "    }\n",
       "</style>\n",
       "<table border=\"1\" class=\"dataframe\">\n",
       "  <thead>\n",
       "    <tr style=\"text-align: right;\">\n",
       "      <th></th>\n",
       "      <th>cid</th>\n",
       "      <th>hiv12months15</th>\n",
       "      <th>everhivtest15</th>\n",
       "      <th>generalhealth</th>\n",
       "    </tr>\n",
       "  </thead>\n",
       "  <tbody>\n",
       "    <tr>\n",
       "      <th>cid</th>\n",
       "      <td>1.000000</td>\n",
       "      <td>-0.094406</td>\n",
       "      <td>-0.117997</td>\n",
       "      <td>-0.071924</td>\n",
       "    </tr>\n",
       "    <tr>\n",
       "      <th>hiv12months15</th>\n",
       "      <td>-0.094406</td>\n",
       "      <td>1.000000</td>\n",
       "      <td>0.532170</td>\n",
       "      <td>-0.013263</td>\n",
       "    </tr>\n",
       "    <tr>\n",
       "      <th>everhivtest15</th>\n",
       "      <td>-0.117997</td>\n",
       "      <td>0.532170</td>\n",
       "      <td>1.000000</td>\n",
       "      <td>0.061350</td>\n",
       "    </tr>\n",
       "    <tr>\n",
       "      <th>generalhealth</th>\n",
       "      <td>-0.071924</td>\n",
       "      <td>-0.013263</td>\n",
       "      <td>0.061350</td>\n",
       "      <td>1.000000</td>\n",
       "    </tr>\n",
       "  </tbody>\n",
       "</table>\n",
       "</div>"
      ],
      "text/plain": [
       "                    cid  hiv12months15  everhivtest15  generalhealth\n",
       "cid            1.000000      -0.094406      -0.117997      -0.071924\n",
       "hiv12months15 -0.094406       1.000000       0.532170      -0.013263\n",
       "everhivtest15 -0.117997       0.532170       1.000000       0.061350\n",
       "generalhealth -0.071924      -0.013263       0.061350       1.000000"
      ]
     },
     "execution_count": 5,
     "metadata": {},
     "output_type": "execute_result"
    }
   ],
   "source": [
    "corr_1 = hiv_df.corr()\n",
    "corr_1"
   ]
  },
  {
   "cell_type": "markdown",
   "metadata": {},
   "source": [
    "It seems like the variable **hiv12months15** (Have you had an HIV test in the last 12 months?) is very less correlated and thus can be dropped."
   ]
  },
  {
   "cell_type": "markdown",
   "metadata": {},
   "source": [
    "# Prediction / RMSE"
   ]
  },
  {
   "cell_type": "code",
   "execution_count": 6,
   "metadata": {},
   "outputs": [],
   "source": [
    "#[1]https://scikit-learn.org/stable/modules/generated/sklearn.decomposition.TruncatedSVD.html\n",
    "#[2]https://scikit-learn.org/stable/modules/generated/sklearn.linear_model.LogisticRegression.html\n",
    "from sklearn.random_projection import sparse_random_matrix\n",
    "from sklearn.naive_bayes import GaussianNB\n",
    "from sklearn.metrics import mean_squared_error\n",
    "from math import sqrt\n",
    "\n",
    "#function for rmse calculation of model\n",
    "def model_apply(x,y,algo,n):\n",
    "    x_train, x_test, y_train, y_test = train_test_split(x,y,test_size=0.25,random_state=0)\n",
    "    scaler = StandardScaler()\n",
    "    # Fit on training set only.\n",
    "    scaler.fit(x_train)\n",
    "    # Apply transform to both the training set and the test set.\n",
    "    x_train = scaler.transform(x_train)\n",
    "    x_test = scaler.transform(x_test)\n",
    "    \n",
    "    pca = PCA(n_components=n,tol=.95)\n",
    "    pca.fit(x_test)\n",
    "    print(pca.explained_variance_ratio_) \n",
    "    \n",
    "    x_train = pca.transform(x_train)\n",
    "    x_test = pca.transform(x_test)\n",
    "    \n",
    "#     principalDf = pd.DataFrame(data = x_train\n",
    "#              , columns = ['pc1', 'pc2','pc3'])\n",
    "#     print(principalDf)\n",
    "\n",
    "    #model selection\n",
    "    if algo==1:\n",
    "        model=LogisticRegression(random_state=0, solver='lbfgs',multi_class='multinomial',max_iter=200)\n",
    "    elif algo==2:\n",
    "        model=GaussianNB()\n",
    "    elif algo==3:\n",
    "        model=DecisionTreeClassifier()\n",
    "    elif algo==4:\n",
    "        model=svm.SVC(gamma='scale')\n",
    "    elif algo==5:\n",
    "        model=Perceptron(tol=1e-3, random_state=0)\n",
    "        \n",
    "        # Train the model using the training sets\n",
    "    model.fit(x_train,y_train.values.ravel())\n",
    "\n",
    "    # Predict Output\n",
    "    y_pred = model.predict(x_test)\n",
    "    print (\"Predicted Value:\", y_pred)\n",
    "    print(\"Accuracy:\",metrics.accuracy_score(y_test, y_pred))\n",
    "    print(confusion_matrix(y_test,y_pred))\n",
    "    print(classification_report(y_test,y_pred))\n",
    "    rmse = sqrt(mean_squared_error(y_test, y_pred))\n",
    "    return(rmse)\n",
    "\n",
    "def plot_correlation_map( df ):\n",
    "    corr = df.corr()\n",
    "    _ , ax = plt.subplots( figsize =( 12 , 10 ) )\n",
    "    cmap = sns.diverging_palette( 220 , 10 , as_cmap = True )\n",
    "    _ = sns.heatmap(\n",
    "        corr, \n",
    "        cmap = cmap,\n",
    "        square=True, \n",
    "        cbar_kws={ 'shrink' : .9 }, \n",
    "        ax=ax, \n",
    "        annot = True, \n",
    "        annot_kws = { 'fontsize' : 12 }\n",
    "    )"
   ]
  },
  {
   "cell_type": "code",
   "execution_count": 7,
   "metadata": {},
   "outputs": [],
   "source": [
    "#preparing training and test data\n",
    "x=hiv_df[[\"everhivtest15\"]] \n",
    "y=hiv_df[[\"generalhealth\"]] "
   ]
  },
  {
   "cell_type": "code",
   "execution_count": 8,
   "metadata": {},
   "outputs": [
    {
     "name": "stdout",
     "output_type": "stream",
     "text": [
      "[1.]\n",
      "Predicted Value: [3. 3. 3. ... 3. 3. 3.]\n",
      "Accuracy: 0.3271144278606965\n",
      "[[  0   0 382   0   0]\n",
      " [  0   0 661   0   0]\n",
      " [  0   0 789   0   0]\n",
      " [  0   0 416   0   0]\n",
      " [  0   0 164   0   0]]\n",
      "              precision    recall  f1-score   support\n",
      "\n",
      "         1.0       0.00      0.00      0.00       382\n",
      "         2.0       0.00      0.00      0.00       661\n",
      "         3.0       0.33      1.00      0.49       789\n",
      "         4.0       0.00      0.00      0.00       416\n",
      "         5.0       0.00      0.00      0.00       164\n",
      "\n",
      "    accuracy                           0.33      2412\n",
      "   macro avg       0.07      0.20      0.10      2412\n",
      "weighted avg       0.11      0.33      0.16      2412\n",
      "\n"
     ]
    },
    {
     "name": "stderr",
     "output_type": "stream",
     "text": [
      "//anaconda3/lib/python3.7/site-packages/sklearn/metrics/classification.py:1437: UndefinedMetricWarning: Precision and F-score are ill-defined and being set to 0.0 in labels with no predicted samples.\n",
      "  'precision', 'predicted', average, warn_for)\n"
     ]
    },
    {
     "data": {
      "text/plain": [
       "1.1627510695549774"
      ]
     },
     "execution_count": 8,
     "metadata": {},
     "output_type": "execute_result"
    }
   ],
   "source": [
    "model_apply(x,y,3,1)"
   ]
  },
  {
   "cell_type": "markdown",
   "metadata": {},
   "source": [
    "**Analysing the Immunization Data**"
   ]
  },
  {
   "cell_type": "code",
   "execution_count": 9,
   "metadata": {},
   "outputs": [
    {
     "data": {
      "text/plain": [
       "cid                0\n",
       "fluvaccineshot    59\n",
       "generalhealth     68\n",
       "dtype: int64"
      ]
     },
     "execution_count": 9,
     "metadata": {},
     "output_type": "execute_result"
    }
   ],
   "source": [
    "imm_df = df[['cid','fluvaccineshot','generalhealth']]\n",
    "imm_df.isnull().sum()"
   ]
  },
  {
   "cell_type": "code",
   "execution_count": 10,
   "metadata": {},
   "outputs": [
    {
     "data": {
      "text/html": [
       "<div>\n",
       "<style scoped>\n",
       "    .dataframe tbody tr th:only-of-type {\n",
       "        vertical-align: middle;\n",
       "    }\n",
       "\n",
       "    .dataframe tbody tr th {\n",
       "        vertical-align: top;\n",
       "    }\n",
       "\n",
       "    .dataframe thead th {\n",
       "        text-align: right;\n",
       "    }\n",
       "</style>\n",
       "<table border=\"1\" class=\"dataframe\">\n",
       "  <thead>\n",
       "    <tr style=\"text-align: right;\">\n",
       "      <th></th>\n",
       "      <th>cid</th>\n",
       "      <th>fluvaccineshot</th>\n",
       "      <th>generalhealth</th>\n",
       "    </tr>\n",
       "  </thead>\n",
       "  <tbody>\n",
       "    <tr>\n",
       "      <th>count</th>\n",
       "      <td>1.004700e+04</td>\n",
       "      <td>10047.000000</td>\n",
       "      <td>10047.000000</td>\n",
       "    </tr>\n",
       "    <tr>\n",
       "      <th>mean</th>\n",
       "      <td>1.607455e+06</td>\n",
       "      <td>1.515378</td>\n",
       "      <td>2.740520</td>\n",
       "    </tr>\n",
       "    <tr>\n",
       "      <th>std</th>\n",
       "      <td>5.169004e+03</td>\n",
       "      <td>0.499788</td>\n",
       "      <td>1.140993</td>\n",
       "    </tr>\n",
       "    <tr>\n",
       "      <th>min</th>\n",
       "      <td>1.600001e+06</td>\n",
       "      <td>1.000000</td>\n",
       "      <td>1.000000</td>\n",
       "    </tr>\n",
       "    <tr>\n",
       "      <th>25%</th>\n",
       "      <td>1.602540e+06</td>\n",
       "      <td>1.000000</td>\n",
       "      <td>2.000000</td>\n",
       "    </tr>\n",
       "    <tr>\n",
       "      <th>50%</th>\n",
       "      <td>1.605086e+06</td>\n",
       "      <td>2.000000</td>\n",
       "      <td>3.000000</td>\n",
       "    </tr>\n",
       "    <tr>\n",
       "      <th>75%</th>\n",
       "      <td>1.612450e+06</td>\n",
       "      <td>2.000000</td>\n",
       "      <td>4.000000</td>\n",
       "    </tr>\n",
       "    <tr>\n",
       "      <th>max</th>\n",
       "      <td>1.614998e+06</td>\n",
       "      <td>2.000000</td>\n",
       "      <td>5.000000</td>\n",
       "    </tr>\n",
       "  </tbody>\n",
       "</table>\n",
       "</div>"
      ],
      "text/plain": [
       "                cid  fluvaccineshot  generalhealth\n",
       "count  1.004700e+04    10047.000000   10047.000000\n",
       "mean   1.607455e+06        1.515378       2.740520\n",
       "std    5.169004e+03        0.499788       1.140993\n",
       "min    1.600001e+06        1.000000       1.000000\n",
       "25%    1.602540e+06        1.000000       2.000000\n",
       "50%    1.605086e+06        2.000000       3.000000\n",
       "75%    1.612450e+06        2.000000       4.000000\n",
       "max    1.614998e+06        2.000000       5.000000"
      ]
     },
     "execution_count": 10,
     "metadata": {},
     "output_type": "execute_result"
    }
   ],
   "source": [
    "imm_df = imm_df.dropna()\n",
    "imm_df.describe()"
   ]
  },
  {
   "cell_type": "code",
   "execution_count": 11,
   "metadata": {},
   "outputs": [
    {
     "data": {
      "text/html": [
       "<div>\n",
       "<style scoped>\n",
       "    .dataframe tbody tr th:only-of-type {\n",
       "        vertical-align: middle;\n",
       "    }\n",
       "\n",
       "    .dataframe tbody tr th {\n",
       "        vertical-align: top;\n",
       "    }\n",
       "\n",
       "    .dataframe thead th {\n",
       "        text-align: right;\n",
       "    }\n",
       "</style>\n",
       "<table border=\"1\" class=\"dataframe\">\n",
       "  <thead>\n",
       "    <tr style=\"text-align: right;\">\n",
       "      <th></th>\n",
       "      <th>cid</th>\n",
       "      <th>fluvaccineshot</th>\n",
       "      <th>generalhealth</th>\n",
       "    </tr>\n",
       "  </thead>\n",
       "  <tbody>\n",
       "    <tr>\n",
       "      <th>cid</th>\n",
       "      <td>1.000000</td>\n",
       "      <td>0.122398</td>\n",
       "      <td>-0.076953</td>\n",
       "    </tr>\n",
       "    <tr>\n",
       "      <th>fluvaccineshot</th>\n",
       "      <td>0.122398</td>\n",
       "      <td>1.000000</td>\n",
       "      <td>-0.086652</td>\n",
       "    </tr>\n",
       "    <tr>\n",
       "      <th>generalhealth</th>\n",
       "      <td>-0.076953</td>\n",
       "      <td>-0.086652</td>\n",
       "      <td>1.000000</td>\n",
       "    </tr>\n",
       "  </tbody>\n",
       "</table>\n",
       "</div>"
      ],
      "text/plain": [
       "                     cid  fluvaccineshot  generalhealth\n",
       "cid             1.000000        0.122398      -0.076953\n",
       "fluvaccineshot  0.122398        1.000000      -0.086652\n",
       "generalhealth  -0.076953       -0.086652       1.000000"
      ]
     },
     "execution_count": 11,
     "metadata": {},
     "output_type": "execute_result"
    }
   ],
   "source": [
    "corr_2 = imm_df.corr()\n",
    "corr_2"
   ]
  },
  {
   "cell_type": "markdown",
   "metadata": {},
   "source": [
    "The variable fluvaccineshot (During the past 12 months, have you had a flu shot in your arm or a flu vaccine that was sprayed in your nose?) is negatively correlated with the general health and thus we can drop this feature."
   ]
  },
  {
   "cell_type": "code",
   "execution_count": 12,
   "metadata": {},
   "outputs": [],
   "source": [
    "#preparing training and test data\n",
    "x=imm_df[[\"fluvaccineshot\"]] \n",
    "y=imm_df[[\"generalhealth\"]] "
   ]
  },
  {
   "cell_type": "code",
   "execution_count": 13,
   "metadata": {},
   "outputs": [
    {
     "name": "stdout",
     "output_type": "stream",
     "text": [
      "[1.]\n",
      "Predicted Value: [3. 3. 3. ... 3. 3. 3.]\n",
      "Accuracy: 0.31727707006369427\n",
      "[[  0   0 412   0   0]\n",
      " [  0   0 654   0   0]\n",
      " [  0   0 797   0   0]\n",
      " [  0   0 462   0   0]\n",
      " [  0   0 187   0   0]]\n",
      "              precision    recall  f1-score   support\n",
      "\n",
      "         1.0       0.00      0.00      0.00       412\n",
      "         2.0       0.00      0.00      0.00       654\n",
      "         3.0       0.32      1.00      0.48       797\n",
      "         4.0       0.00      0.00      0.00       462\n",
      "         5.0       0.00      0.00      0.00       187\n",
      "\n",
      "    accuracy                           0.32      2512\n",
      "   macro avg       0.06      0.20      0.10      2512\n",
      "weighted avg       0.10      0.32      0.15      2512\n",
      "\n"
     ]
    },
    {
     "name": "stderr",
     "output_type": "stream",
     "text": [
      "//anaconda3/lib/python3.7/site-packages/sklearn/metrics/classification.py:1437: UndefinedMetricWarning: Precision and F-score are ill-defined and being set to 0.0 in labels with no predicted samples.\n",
      "  'precision', 'predicted', average, warn_for)\n"
     ]
    },
    {
     "data": {
      "text/plain": [
       "1.182408208688743"
      ]
     },
     "execution_count": 13,
     "metadata": {},
     "output_type": "execute_result"
    }
   ],
   "source": [
    "model_apply(x,y,3,1)"
   ]
  },
  {
   "cell_type": "markdown",
   "metadata": {},
   "source": [
    "**Analysing the Sexual Behavior**"
   ]
  },
  {
   "cell_type": "code",
   "execution_count": 14,
   "metadata": {},
   "outputs": [
    {
     "data": {
      "text/plain": [
       "cid                      0\n",
       "sexbehav_active15     4224\n",
       "sexuallyactive15       959\n",
       "sexpartner             959\n",
       "wsw                   7060\n",
       "wswexclusive          7041\n",
       "msm                   7370\n",
       "msmexclusive          7359\n",
       "condom15              4357\n",
       "condomusetrend        5226\n",
       "analsex               4389\n",
       "analsexcondomuse15    9697\n",
       "generalhealth           68\n",
       "dtype: int64"
      ]
     },
     "execution_count": 14,
     "metadata": {},
     "output_type": "execute_result"
    }
   ],
   "source": [
    "sex_df = df[['cid','sexbehav_active15','sexuallyactive15','sexpartner','wsw','wswexclusive','msm','msmexclusive','condom15','condomusetrend','analsex','analsexcondomuse15','generalhealth']]\n",
    "sex_df.isnull().sum()"
   ]
  },
  {
   "cell_type": "code",
   "execution_count": 15,
   "metadata": {},
   "outputs": [
    {
     "data": {
      "image/png": "[encoded data removed]",
      "text/plain": [
       "<Figure size 864x720 with 2 Axes>"
      ]
     },
     "metadata": {
      "needs_background": "light"
     },
     "output_type": "display_data"
    }
   ],
   "source": [
    "plot_correlation_map(sex_df)"
   ]
  },
  {
   "cell_type": "markdown",
   "metadata": {},
   "source": [
    "Among all the features in the Sexual Behavior, only 3 features looks useful to me. **imputed_sexuallyactive18**(Sexually active in past 12 months), **imputed_sexpartner** (Number of male and female sex partners in the past 12 months) and **pcpsexhistory** (Thinking about the last time you visited your personal doctor or health care provider, did he or she ask you any questions about your sexual history?)."
   ]
  },
  {
   "cell_type": "code",
   "execution_count": 16,
   "metadata": {},
   "outputs": [
    {
     "data": {
      "text/plain": [
       "cid                   0\n",
       "sexuallyactive15    959\n",
       "sexpartner          959\n",
       "generalhealth        68\n",
       "dtype: int64"
      ]
     },
     "execution_count": 16,
     "metadata": {},
     "output_type": "execute_result"
    }
   ],
   "source": [
    "sex_df = df[['cid','sexuallyactive15','sexpartner','generalhealth']]\n",
    "sex_df.isnull().sum()\n"
   ]
  },
  {
   "cell_type": "code",
   "execution_count": 17,
   "metadata": {},
   "outputs": [
    {
     "data": {
      "text/html": [
       "<div>\n",
       "<style scoped>\n",
       "    .dataframe tbody tr th:only-of-type {\n",
       "        vertical-align: middle;\n",
       "    }\n",
       "\n",
       "    .dataframe tbody tr th {\n",
       "        vertical-align: top;\n",
       "    }\n",
       "\n",
       "    .dataframe thead th {\n",
       "        text-align: right;\n",
       "    }\n",
       "</style>\n",
       "<table border=\"1\" class=\"dataframe\">\n",
       "  <thead>\n",
       "    <tr style=\"text-align: right;\">\n",
       "      <th></th>\n",
       "      <th>cid</th>\n",
       "      <th>sexuallyactive15</th>\n",
       "      <th>sexpartner</th>\n",
       "      <th>generalhealth</th>\n",
       "    </tr>\n",
       "  </thead>\n",
       "  <tbody>\n",
       "    <tr>\n",
       "      <th>count</th>\n",
       "      <td>9.157000e+03</td>\n",
       "      <td>9157.000000</td>\n",
       "      <td>9157.000000</td>\n",
       "      <td>9157.000000</td>\n",
       "    </tr>\n",
       "    <tr>\n",
       "      <th>mean</th>\n",
       "      <td>1.607485e+06</td>\n",
       "      <td>1.352408</td>\n",
       "      <td>1.810309</td>\n",
       "      <td>2.757235</td>\n",
       "    </tr>\n",
       "    <tr>\n",
       "      <th>std</th>\n",
       "      <td>5.166600e+03</td>\n",
       "      <td>0.477746</td>\n",
       "      <td>0.774167</td>\n",
       "      <td>1.150595</td>\n",
       "    </tr>\n",
       "    <tr>\n",
       "      <th>min</th>\n",
       "      <td>1.600001e+06</td>\n",
       "      <td>1.000000</td>\n",
       "      <td>1.000000</td>\n",
       "      <td>1.000000</td>\n",
       "    </tr>\n",
       "    <tr>\n",
       "      <th>25%</th>\n",
       "      <td>1.602555e+06</td>\n",
       "      <td>1.000000</td>\n",
       "      <td>1.000000</td>\n",
       "      <td>2.000000</td>\n",
       "    </tr>\n",
       "    <tr>\n",
       "      <th>50%</th>\n",
       "      <td>1.605119e+06</td>\n",
       "      <td>1.000000</td>\n",
       "      <td>2.000000</td>\n",
       "      <td>3.000000</td>\n",
       "    </tr>\n",
       "    <tr>\n",
       "      <th>75%</th>\n",
       "      <td>1.612473e+06</td>\n",
       "      <td>2.000000</td>\n",
       "      <td>2.000000</td>\n",
       "      <td>4.000000</td>\n",
       "    </tr>\n",
       "    <tr>\n",
       "      <th>max</th>\n",
       "      <td>1.614998e+06</td>\n",
       "      <td>2.000000</td>\n",
       "      <td>4.000000</td>\n",
       "      <td>5.000000</td>\n",
       "    </tr>\n",
       "  </tbody>\n",
       "</table>\n",
       "</div>"
      ],
      "text/plain": [
       "                cid  sexuallyactive15   sexpartner  generalhealth\n",
       "count  9.157000e+03       9157.000000  9157.000000    9157.000000\n",
       "mean   1.607485e+06          1.352408     1.810309       2.757235\n",
       "std    5.166600e+03          0.477746     0.774167       1.150595\n",
       "min    1.600001e+06          1.000000     1.000000       1.000000\n",
       "25%    1.602555e+06          1.000000     1.000000       2.000000\n",
       "50%    1.605119e+06          1.000000     2.000000       3.000000\n",
       "75%    1.612473e+06          2.000000     2.000000       4.000000\n",
       "max    1.614998e+06          2.000000     4.000000       5.000000"
      ]
     },
     "execution_count": 17,
     "metadata": {},
     "output_type": "execute_result"
    }
   ],
   "source": [
    "sex_df_f = sex_df.dropna()\n",
    "sex_df_f.describe()"
   ]
  },
  {
   "cell_type": "code",
   "execution_count": 18,
   "metadata": {},
   "outputs": [
    {
     "data": {
      "image/png": "[encoded data removed]",
      "text/plain": [
       "<Figure size 864x720 with 2 Axes>"
      ]
     },
     "metadata": {
      "needs_background": "light"
     },
     "output_type": "display_data"
    }
   ],
   "source": [
    "plot_correlation_map(sex_df)"
   ]
  },
  {
   "cell_type": "markdown",
   "metadata": {},
   "source": [
    "Let us use the above 3 features to predict the general health."
   ]
  },
  {
   "cell_type": "code",
   "execution_count": 21,
   "metadata": {},
   "outputs": [],
   "source": [
    "#preparing training and test data\n",
    "x=sex_df_f[['sexuallyactive15','sexpartner']] \n",
    "y=sex_df_f[[\"generalhealth\"]] "
   ]
  },
  {
   "cell_type": "code",
   "execution_count": 22,
   "metadata": {},
   "outputs": [
    {
     "name": "stdout",
     "output_type": "stream",
     "text": [
      "[0.88645533 0.11354467]\n",
      "Predicted Value: [3. 3. 3. ... 2. 3. 3.]\n",
      "Accuracy: 0.3174672489082969\n",
      "[[  0  29 333   0   0]\n",
      " [  0  35 560   0   0]\n",
      " [  0  40 692   0   0]\n",
      " [  0  23 386   0   0]\n",
      " [  0   4 188   0   0]]\n",
      "              precision    recall  f1-score   support\n",
      "\n",
      "         1.0       0.00      0.00      0.00       362\n",
      "         2.0       0.27      0.06      0.10       595\n",
      "         3.0       0.32      0.95      0.48       732\n",
      "         4.0       0.00      0.00      0.00       409\n",
      "         5.0       0.00      0.00      0.00       192\n",
      "\n",
      "    accuracy                           0.32      2290\n",
      "   macro avg       0.12      0.20      0.12      2290\n",
      "weighted avg       0.17      0.32      0.18      2290\n",
      "\n"
     ]
    },
    {
     "name": "stderr",
     "output_type": "stream",
     "text": [
      "//anaconda3/lib/python3.7/site-packages/sklearn/metrics/classification.py:1437: UndefinedMetricWarning: Precision and F-score are ill-defined and being set to 0.0 in labels with no predicted samples.\n",
      "  'precision', 'predicted', average, warn_for)\n"
     ]
    },
    {
     "data": {
      "text/plain": [
       "1.1870847929599873"
      ]
     },
     "execution_count": 22,
     "metadata": {},
     "output_type": "execute_result"
    }
   ],
   "source": [
    "model_apply(x,y,3,2)"
   ]
  },
  {
   "cell_type": "markdown",
   "metadata": {},
   "source": [
    "**Analysing the Cancer Screening Data**"
   ]
  },
  {
   "cell_type": "markdown",
   "metadata": {},
   "source": [
    "# Clubbing it All together"
   ]
  },
  {
   "cell_type": "code",
   "execution_count": 23,
   "metadata": {},
   "outputs": [
    {
     "data": {
      "text/plain": [
       "cid                   0\n",
       "everhivtest15       343\n",
       "fluvaccineshot       59\n",
       "sexuallyactive15    959\n",
       "sexpartner          959\n",
       "generalhealth        68\n",
       "dtype: int64"
      ]
     },
     "execution_count": 23,
     "metadata": {},
     "output_type": "execute_result"
    }
   ],
   "source": [
    "club_df = df[['cid','everhivtest15','fluvaccineshot','sexuallyactive15','sexpartner','generalhealth']]\n",
    "club_df.isnull().sum()"
   ]
  },
  {
   "cell_type": "code",
   "execution_count": 24,
   "metadata": {},
   "outputs": [
    {
     "data": {
      "text/html": [
       "<div>\n",
       "<style scoped>\n",
       "    .dataframe tbody tr th:only-of-type {\n",
       "        vertical-align: middle;\n",
       "    }\n",
       "\n",
       "    .dataframe tbody tr th {\n",
       "        vertical-align: top;\n",
       "    }\n",
       "\n",
       "    .dataframe thead th {\n",
       "        text-align: right;\n",
       "    }\n",
       "</style>\n",
       "<table border=\"1\" class=\"dataframe\">\n",
       "  <thead>\n",
       "    <tr style=\"text-align: right;\">\n",
       "      <th></th>\n",
       "      <th>cid</th>\n",
       "      <th>everhivtest15</th>\n",
       "      <th>fluvaccineshot</th>\n",
       "      <th>sexuallyactive15</th>\n",
       "      <th>sexpartner</th>\n",
       "      <th>generalhealth</th>\n",
       "    </tr>\n",
       "  </thead>\n",
       "  <tbody>\n",
       "    <tr>\n",
       "      <th>count</th>\n",
       "      <td>8.826000e+03</td>\n",
       "      <td>8826.000000</td>\n",
       "      <td>8826.000000</td>\n",
       "      <td>8826.000000</td>\n",
       "      <td>8826.000000</td>\n",
       "      <td>8826.000000</td>\n",
       "    </tr>\n",
       "    <tr>\n",
       "      <th>mean</th>\n",
       "      <td>1.607507e+06</td>\n",
       "      <td>1.353048</td>\n",
       "      <td>1.511783</td>\n",
       "      <td>1.347609</td>\n",
       "      <td>1.816678</td>\n",
       "      <td>2.753116</td>\n",
       "    </tr>\n",
       "    <tr>\n",
       "      <th>std</th>\n",
       "      <td>5.164216e+03</td>\n",
       "      <td>0.477944</td>\n",
       "      <td>0.499889</td>\n",
       "      <td>0.476238</td>\n",
       "      <td>0.774332</td>\n",
       "      <td>1.150294</td>\n",
       "    </tr>\n",
       "    <tr>\n",
       "      <th>min</th>\n",
       "      <td>1.600001e+06</td>\n",
       "      <td>1.000000</td>\n",
       "      <td>1.000000</td>\n",
       "      <td>1.000000</td>\n",
       "      <td>1.000000</td>\n",
       "      <td>1.000000</td>\n",
       "    </tr>\n",
       "    <tr>\n",
       "      <th>25%</th>\n",
       "      <td>1.602567e+06</td>\n",
       "      <td>1.000000</td>\n",
       "      <td>1.000000</td>\n",
       "      <td>1.000000</td>\n",
       "      <td>1.000000</td>\n",
       "      <td>2.000000</td>\n",
       "    </tr>\n",
       "    <tr>\n",
       "      <th>50%</th>\n",
       "      <td>1.605138e+06</td>\n",
       "      <td>1.000000</td>\n",
       "      <td>2.000000</td>\n",
       "      <td>1.000000</td>\n",
       "      <td>2.000000</td>\n",
       "      <td>3.000000</td>\n",
       "    </tr>\n",
       "    <tr>\n",
       "      <th>75%</th>\n",
       "      <td>1.612483e+06</td>\n",
       "      <td>2.000000</td>\n",
       "      <td>2.000000</td>\n",
       "      <td>2.000000</td>\n",
       "      <td>2.000000</td>\n",
       "      <td>4.000000</td>\n",
       "    </tr>\n",
       "    <tr>\n",
       "      <th>max</th>\n",
       "      <td>1.614998e+06</td>\n",
       "      <td>2.000000</td>\n",
       "      <td>2.000000</td>\n",
       "      <td>2.000000</td>\n",
       "      <td>4.000000</td>\n",
       "      <td>5.000000</td>\n",
       "    </tr>\n",
       "  </tbody>\n",
       "</table>\n",
       "</div>"
      ],
      "text/plain": [
       "                cid  everhivtest15  fluvaccineshot  sexuallyactive15  \\\n",
       "count  8.826000e+03    8826.000000     8826.000000       8826.000000   \n",
       "mean   1.607507e+06       1.353048        1.511783          1.347609   \n",
       "std    5.164216e+03       0.477944        0.499889          0.476238   \n",
       "min    1.600001e+06       1.000000        1.000000          1.000000   \n",
       "25%    1.602567e+06       1.000000        1.000000          1.000000   \n",
       "50%    1.605138e+06       1.000000        2.000000          1.000000   \n",
       "75%    1.612483e+06       2.000000        2.000000          2.000000   \n",
       "max    1.614998e+06       2.000000        2.000000          2.000000   \n",
       "\n",
       "        sexpartner  generalhealth  \n",
       "count  8826.000000    8826.000000  \n",
       "mean      1.816678       2.753116  \n",
       "std       0.774332       1.150294  \n",
       "min       1.000000       1.000000  \n",
       "25%       1.000000       2.000000  \n",
       "50%       2.000000       3.000000  \n",
       "75%       2.000000       4.000000  \n",
       "max       4.000000       5.000000  "
      ]
     },
     "execution_count": 24,
     "metadata": {},
     "output_type": "execute_result"
    }
   ],
   "source": [
    "club_df = club_df.dropna()\n",
    "club_df.describe()"
   ]
  },
  {
   "cell_type": "code",
   "execution_count": 25,
   "metadata": {},
   "outputs": [],
   "source": [
    "#preparing training and test data\n",
    "x=club_df[['everhivtest15','fluvaccineshot','sexuallyactive15','sexpartner']] \n",
    "y=club_df[[\"generalhealth\"]] "
   ]
  },
  {
   "cell_type": "code",
   "execution_count": 27,
   "metadata": {},
   "outputs": [
    {
     "name": "stdout",
     "output_type": "stream",
     "text": [
      "[0.49091801 0.24142947 0.21083298 0.05681955]\n",
      "Predicted Value: [2. 3. 4. ... 2. 3. 3.]\n",
      "Accuracy: 0.3443588581785229\n",
      "[[  0  73 269  20   0]\n",
      " [  0  95 438  46   0]\n",
      " [  0  82 584  63   0]\n",
      " [  0  38 264  81   0]\n",
      " [  0  10 105  39   0]]\n",
      "              precision    recall  f1-score   support\n",
      "\n",
      "         1.0       0.00      0.00      0.00       362\n",
      "         2.0       0.32      0.16      0.22       579\n",
      "         3.0       0.35      0.80      0.49       729\n",
      "         4.0       0.33      0.21      0.26       383\n",
      "         5.0       0.00      0.00      0.00       154\n",
      "\n",
      "    accuracy                           0.34      2207\n",
      "   macro avg       0.20      0.24      0.19      2207\n",
      "weighted avg       0.26      0.34      0.26      2207\n",
      "\n"
     ]
    },
    {
     "name": "stderr",
     "output_type": "stream",
     "text": [
      "//anaconda3/lib/python3.7/site-packages/sklearn/metrics/classification.py:1437: UndefinedMetricWarning: Precision and F-score are ill-defined and being set to 0.0 in labels with no predicted samples.\n",
      "  'precision', 'predicted', average, warn_for)\n"
     ]
    },
    {
     "data": {
      "text/plain": [
       "1.177688673499952"
      ]
     },
     "execution_count": 27,
     "metadata": {},
     "output_type": "execute_result"
    }
   ],
   "source": [
    "model_apply(x,y,3,4)"
   ]
  },
  {
   "cell_type": "markdown",
   "metadata": {},
   "source": [
    "**Correlating Number of Sex Partners with the HIV**"
   ]
  },
  {
   "cell_type": "code",
   "execution_count": 28,
   "metadata": {},
   "outputs": [
    {
     "data": {
      "text/plain": [
       "everhivtest15    343\n",
       "sexpartner       959\n",
       "dtype: int64"
      ]
     },
     "execution_count": 28,
     "metadata": {},
     "output_type": "execute_result"
    }
   ],
   "source": [
    "hiv_sp_df = df[['everhivtest15','sexpartner']]\n",
    "hiv_sp_df.isnull().sum()"
   ]
  },
  {
   "cell_type": "code",
   "execution_count": 29,
   "metadata": {},
   "outputs": [
    {
     "data": {
      "text/html": [
       "<div>\n",
       "<style scoped>\n",
       "    .dataframe tbody tr th:only-of-type {\n",
       "        vertical-align: middle;\n",
       "    }\n",
       "\n",
       "    .dataframe tbody tr th {\n",
       "        vertical-align: top;\n",
       "    }\n",
       "\n",
       "    .dataframe thead th {\n",
       "        text-align: right;\n",
       "    }\n",
       "</style>\n",
       "<table border=\"1\" class=\"dataframe\">\n",
       "  <thead>\n",
       "    <tr style=\"text-align: right;\">\n",
       "      <th></th>\n",
       "      <th>everhivtest15</th>\n",
       "      <th>sexpartner</th>\n",
       "    </tr>\n",
       "  </thead>\n",
       "  <tbody>\n",
       "    <tr>\n",
       "      <th>count</th>\n",
       "      <td>8918.000000</td>\n",
       "      <td>8918.000000</td>\n",
       "    </tr>\n",
       "    <tr>\n",
       "      <th>mean</th>\n",
       "      <td>1.353442</td>\n",
       "      <td>1.814981</td>\n",
       "    </tr>\n",
       "    <tr>\n",
       "      <th>std</th>\n",
       "      <td>0.478065</td>\n",
       "      <td>0.775358</td>\n",
       "    </tr>\n",
       "    <tr>\n",
       "      <th>min</th>\n",
       "      <td>1.000000</td>\n",
       "      <td>1.000000</td>\n",
       "    </tr>\n",
       "    <tr>\n",
       "      <th>25%</th>\n",
       "      <td>1.000000</td>\n",
       "      <td>1.000000</td>\n",
       "    </tr>\n",
       "    <tr>\n",
       "      <th>50%</th>\n",
       "      <td>1.000000</td>\n",
       "      <td>2.000000</td>\n",
       "    </tr>\n",
       "    <tr>\n",
       "      <th>75%</th>\n",
       "      <td>2.000000</td>\n",
       "      <td>2.000000</td>\n",
       "    </tr>\n",
       "    <tr>\n",
       "      <th>max</th>\n",
       "      <td>2.000000</td>\n",
       "      <td>4.000000</td>\n",
       "    </tr>\n",
       "  </tbody>\n",
       "</table>\n",
       "</div>"
      ],
      "text/plain": [
       "       everhivtest15   sexpartner\n",
       "count    8918.000000  8918.000000\n",
       "mean        1.353442     1.814981\n",
       "std         0.478065     0.775358\n",
       "min         1.000000     1.000000\n",
       "25%         1.000000     1.000000\n",
       "50%         1.000000     2.000000\n",
       "75%         2.000000     2.000000\n",
       "max         2.000000     4.000000"
      ]
     },
     "execution_count": 29,
     "metadata": {},
     "output_type": "execute_result"
    }
   ],
   "source": [
    "hiv_sp_df = hiv_sp_df.dropna()\n",
    "hiv_sp_df.describe()"
   ]
  },
  {
   "cell_type": "code",
   "execution_count": 30,
   "metadata": {},
   "outputs": [
    {
     "data": {
      "image/png": "[encoded data removed]",
      "text/plain": [
       "<Figure size 864x720 with 2 Axes>"
      ]
     },
     "metadata": {
      "needs_background": "light"
     },
     "output_type": "display_data"
    }
   ],
   "source": [
    "plot_correlation_map(hiv_sp_df)"
   ]
  },
  {
   "cell_type": "code",
   "execution_count": 32,
   "metadata": {},
   "outputs": [],
   "source": [
    "#preparing training and test data\n",
    "x=hiv_sp_df[[\"everhivtest15\"]] \n",
    "y=hiv_sp_df[[\"sexpartner\"]] "
   ]
  },
  {
   "cell_type": "code",
   "execution_count": 33,
   "metadata": {},
   "outputs": [
    {
     "name": "stdout",
     "output_type": "stream",
     "text": [
      "[1.]\n",
      "Predicted Value: [2. 2. 1. ... 1. 2. 1.]\n",
      "Accuracy: 0.5690582959641256\n",
      "[[416 378   0   0]\n",
      " [343 853   0   0]\n",
      " [ 19  85   0   0]\n",
      " [ 21 115   0   0]]\n",
      "              precision    recall  f1-score   support\n",
      "\n",
      "         1.0       0.52      0.52      0.52       794\n",
      "         2.0       0.60      0.71      0.65      1196\n",
      "         3.0       0.00      0.00      0.00       104\n",
      "         4.0       0.00      0.00      0.00       136\n",
      "\n",
      "    accuracy                           0.57      2230\n",
      "   macro avg       0.28      0.31      0.29      2230\n",
      "weighted avg       0.51      0.57      0.53      2230\n",
      "\n"
     ]
    },
    {
     "name": "stderr",
     "output_type": "stream",
     "text": [
      "//anaconda3/lib/python3.7/site-packages/sklearn/metrics/classification.py:1437: UndefinedMetricWarning: Precision and F-score are ill-defined and being set to 0.0 in labels with no predicted samples.\n",
      "  'precision', 'predicted', average, warn_for)\n"
     ]
    },
    {
     "data": {
      "text/plain": [
       "0.8285813690892366"
      ]
     },
     "execution_count": 33,
     "metadata": {},
     "output_type": "execute_result"
    }
   ],
   "source": [
    "model_apply(x,y,3,1)"
   ]
  },
  {
   "cell_type": "code",
   "execution_count": null,
   "metadata": {},
   "outputs": [],
   "source": []
  }
 ],
 "metadata": {
  "kernelspec": {
   "display_name": "Python 3",
   "language": "python",
   "name": "python3"
  },
  "language_info": {
   "codemirror_mode": {
    "name": "ipython",
    "version": 3
   },
   "file_extension": ".py",
   "mimetype": "text/x-python",
   "name": "python",
   "nbconvert_exporter": "python",
   "pygments_lexer": "ipython3",
   "version": "3.7.3"
  }
 },
 "nbformat": 4,
 "nbformat_minor": 2
}
