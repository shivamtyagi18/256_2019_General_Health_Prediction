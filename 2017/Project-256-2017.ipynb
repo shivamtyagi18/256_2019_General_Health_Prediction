{
 "cells": [
  {
   "cell_type": "code",
   "execution_count": 1,
   "metadata": {},
   "outputs": [],
   "source": [
    "import pandas as pd\n",
    "import numpy as np\n",
    "from pandas import DataFrame\n",
    "import math\n",
    "import matplotlib.pyplot as plt\n",
    "from scipy.stats import norm, entropy \n",
    "from scipy.stats import probplot\n",
    "import matplotlib.pyplot as plt\n",
    "from scipy.stats import logistic\n",
    "from sklearn.model_selection import train_test_split\n",
    "from sklearn.linear_model import LogisticRegression\n",
    "from sklearn import metrics\n",
    "from sklearn.utils import resample\n",
    "from sklearn import svm\n",
    "from sklearn.tree import DecisionTreeClassifier\n",
    "from sklearn.metrics import classification_report, confusion_matrix, roc_curve\n",
    "from scipy.spatial.distance import cosine, correlation\n",
    "import seaborn as sns\n",
    "from sklearn.decomposition import PCA\n",
    "from sklearn.preprocessing import StandardScaler\n",
    "from sklearn.decomposition import TruncatedSVD\n",
    "from sklearn.linear_model import Perceptron"
   ]
  },
  {
   "cell_type": "code",
   "execution_count": 3,
   "metadata": {},
   "outputs": [],
   "source": [
    "df  = pd.read_csv('/Users/hiteshbhatia/Downloads/chs2017_public.csv')"
   ]
  },
  {
   "cell_type": "markdown",
   "metadata": {},
   "source": [
    "**Pre Processing the Data**\n",
    "We will first proceed with doing the analysis on the HIV Testing. We will be analysing the HIV with the general health as the target variable."
   ]
  },
  {
   "cell_type": "code",
   "execution_count": 5,
   "metadata": {},
   "outputs": [
    {
     "data": {
      "text/plain": [
       "cid                0\n",
       "hiv12months17    229\n",
       "everhivtest17    305\n",
       "generalhealth     34\n",
       "dtype: int64"
      ]
     },
     "execution_count": 5,
     "metadata": {},
     "output_type": "execute_result"
    }
   ],
   "source": [
    "hiv_df = df[['cid','hiv12months17','everhivtest17','generalhealth']]\n",
    "#Checking the null values\n",
    "hiv_df.isnull().sum()"
   ]
  },
  {
   "cell_type": "code",
   "execution_count": 6,
   "metadata": {},
   "outputs": [
    {
     "data": {
      "text/html": [
       "<div>\n",
       "<style scoped>\n",
       "    .dataframe tbody tr th:only-of-type {\n",
       "        vertical-align: middle;\n",
       "    }\n",
       "\n",
       "    .dataframe tbody tr th {\n",
       "        vertical-align: top;\n",
       "    }\n",
       "\n",
       "    .dataframe thead th {\n",
       "        text-align: right;\n",
       "    }\n",
       "</style>\n",
       "<table border=\"1\" class=\"dataframe\">\n",
       "  <thead>\n",
       "    <tr style=\"text-align: right;\">\n",
       "      <th></th>\n",
       "      <th>cid</th>\n",
       "      <th>hiv12months17</th>\n",
       "      <th>everhivtest17</th>\n",
       "      <th>generalhealth</th>\n",
       "    </tr>\n",
       "  </thead>\n",
       "  <tbody>\n",
       "    <tr>\n",
       "      <th>count</th>\n",
       "      <td>9.520000e+03</td>\n",
       "      <td>9520.000000</td>\n",
       "      <td>9520.000000</td>\n",
       "      <td>9520.000000</td>\n",
       "    </tr>\n",
       "    <tr>\n",
       "      <th>mean</th>\n",
       "      <td>1.808544e+06</td>\n",
       "      <td>1.667227</td>\n",
       "      <td>1.347899</td>\n",
       "      <td>2.742542</td>\n",
       "    </tr>\n",
       "    <tr>\n",
       "      <th>std</th>\n",
       "      <td>5.563986e+03</td>\n",
       "      <td>0.471231</td>\n",
       "      <td>0.476329</td>\n",
       "      <td>1.134970</td>\n",
       "    </tr>\n",
       "    <tr>\n",
       "      <th>min</th>\n",
       "      <td>1.800001e+06</td>\n",
       "      <td>1.000000</td>\n",
       "      <td>1.000000</td>\n",
       "      <td>1.000000</td>\n",
       "    </tr>\n",
       "    <tr>\n",
       "      <th>25%</th>\n",
       "      <td>1.802524e+06</td>\n",
       "      <td>1.000000</td>\n",
       "      <td>1.000000</td>\n",
       "      <td>2.000000</td>\n",
       "    </tr>\n",
       "    <tr>\n",
       "      <th>50%</th>\n",
       "      <td>1.810954e+06</td>\n",
       "      <td>2.000000</td>\n",
       "      <td>1.000000</td>\n",
       "      <td>3.000000</td>\n",
       "    </tr>\n",
       "    <tr>\n",
       "      <th>75%</th>\n",
       "      <td>1.813429e+06</td>\n",
       "      <td>2.000000</td>\n",
       "      <td>2.000000</td>\n",
       "      <td>4.000000</td>\n",
       "    </tr>\n",
       "    <tr>\n",
       "      <th>max</th>\n",
       "      <td>1.815905e+06</td>\n",
       "      <td>2.000000</td>\n",
       "      <td>2.000000</td>\n",
       "      <td>5.000000</td>\n",
       "    </tr>\n",
       "  </tbody>\n",
       "</table>\n",
       "</div>"
      ],
      "text/plain": [
       "                cid  hiv12months17  everhivtest17  generalhealth\n",
       "count  9.520000e+03    9520.000000    9520.000000    9520.000000\n",
       "mean   1.808544e+06       1.667227       1.347899       2.742542\n",
       "std    5.563986e+03       0.471231       0.476329       1.134970\n",
       "min    1.800001e+06       1.000000       1.000000       1.000000\n",
       "25%    1.802524e+06       1.000000       1.000000       2.000000\n",
       "50%    1.810954e+06       2.000000       1.000000       3.000000\n",
       "75%    1.813429e+06       2.000000       2.000000       4.000000\n",
       "max    1.815905e+06       2.000000       2.000000       5.000000"
      ]
     },
     "execution_count": 6,
     "metadata": {},
     "output_type": "execute_result"
    }
   ],
   "source": [
    "#Dropping all the columns having the Null values\n",
    "hiv_df = hiv_df.dropna()\n",
    "hiv_df.describe()"
   ]
  },
  {
   "cell_type": "code",
   "execution_count": 7,
   "metadata": {},
   "outputs": [
    {
     "data": {
      "text/html": [
       "<div>\n",
       "<style scoped>\n",
       "    .dataframe tbody tr th:only-of-type {\n",
       "        vertical-align: middle;\n",
       "    }\n",
       "\n",
       "    .dataframe tbody tr th {\n",
       "        vertical-align: top;\n",
       "    }\n",
       "\n",
       "    .dataframe thead th {\n",
       "        text-align: right;\n",
       "    }\n",
       "</style>\n",
       "<table border=\"1\" class=\"dataframe\">\n",
       "  <thead>\n",
       "    <tr style=\"text-align: right;\">\n",
       "      <th></th>\n",
       "      <th>cid</th>\n",
       "      <th>hiv12months17</th>\n",
       "      <th>everhivtest17</th>\n",
       "      <th>generalhealth</th>\n",
       "    </tr>\n",
       "  </thead>\n",
       "  <tbody>\n",
       "    <tr>\n",
       "      <th>cid</th>\n",
       "      <td>1.000000</td>\n",
       "      <td>-0.132463</td>\n",
       "      <td>-0.171941</td>\n",
       "      <td>-0.129683</td>\n",
       "    </tr>\n",
       "    <tr>\n",
       "      <th>hiv12months17</th>\n",
       "      <td>-0.132463</td>\n",
       "      <td>1.000000</td>\n",
       "      <td>0.515830</td>\n",
       "      <td>0.007537</td>\n",
       "    </tr>\n",
       "    <tr>\n",
       "      <th>everhivtest17</th>\n",
       "      <td>-0.171941</td>\n",
       "      <td>0.515830</td>\n",
       "      <td>1.000000</td>\n",
       "      <td>0.040166</td>\n",
       "    </tr>\n",
       "    <tr>\n",
       "      <th>generalhealth</th>\n",
       "      <td>-0.129683</td>\n",
       "      <td>0.007537</td>\n",
       "      <td>0.040166</td>\n",
       "      <td>1.000000</td>\n",
       "    </tr>\n",
       "  </tbody>\n",
       "</table>\n",
       "</div>"
      ],
      "text/plain": [
       "                    cid  hiv12months17  everhivtest17  generalhealth\n",
       "cid            1.000000      -0.132463      -0.171941      -0.129683\n",
       "hiv12months17 -0.132463       1.000000       0.515830       0.007537\n",
       "everhivtest17 -0.171941       0.515830       1.000000       0.040166\n",
       "generalhealth -0.129683       0.007537       0.040166       1.000000"
      ]
     },
     "execution_count": 7,
     "metadata": {},
     "output_type": "execute_result"
    }
   ],
   "source": [
    "corr_1 = hiv_df.corr()\n",
    "corr_1"
   ]
  },
  {
   "cell_type": "markdown",
   "metadata": {},
   "source": [
    "It seems like the variable **hiv12months17** (Have you had an HIV test in the last 12 months?) is very less correlated and thus can be dropped."
   ]
  },
  {
   "cell_type": "markdown",
   "metadata": {},
   "source": [
    "# Prediction / RMSE"
   ]
  },
  {
   "cell_type": "code",
   "execution_count": 8,
   "metadata": {},
   "outputs": [],
   "source": [
    "#[1]https://scikit-learn.org/stable/modules/generated/sklearn.decomposition.TruncatedSVD.html\n",
    "#[2]https://scikit-learn.org/stable/modules/generated/sklearn.linear_model.LogisticRegression.html\n",
    "from sklearn.random_projection import sparse_random_matrix\n",
    "from sklearn.naive_bayes import GaussianNB\n",
    "from sklearn.metrics import mean_squared_error\n",
    "from math import sqrt\n",
    "\n",
    "#function for rmse calculation of model\n",
    "def model_apply(x,y,algo,n):\n",
    "    x_train, x_test, y_train, y_test = train_test_split(x,y,test_size=0.25,random_state=0)\n",
    "    scaler = StandardScaler()\n",
    "    # Fit on training set only.\n",
    "    scaler.fit(x_train)\n",
    "    # Apply transform to both the training set and the test set.\n",
    "    x_train = scaler.transform(x_train)\n",
    "    x_test = scaler.transform(x_test)\n",
    "    \n",
    "    pca = PCA(n_components=n,tol=.95)\n",
    "    pca.fit(x_test)\n",
    "    print(pca.explained_variance_ratio_) \n",
    "    \n",
    "    x_train = pca.transform(x_train)\n",
    "    x_test = pca.transform(x_test)\n",
    "    \n",
    "#     principalDf = pd.DataFrame(data = x_train\n",
    "#              , columns = ['pc1', 'pc2','pc3'])\n",
    "#     print(principalDf)\n",
    "\n",
    "    #model selection\n",
    "    if algo==1:\n",
    "        model=LogisticRegression(random_state=0, solver='lbfgs',multi_class='multinomial',max_iter=200)\n",
    "    elif algo==2:\n",
    "        model=GaussianNB()\n",
    "    elif algo==3:\n",
    "        model=DecisionTreeClassifier()\n",
    "    elif algo==4:\n",
    "        model=svm.SVC(gamma='scale')\n",
    "    elif algo==5:\n",
    "        model=Perceptron(tol=1e-3, random_state=0)\n",
    "        \n",
    "        # Train the model using the training sets\n",
    "    model.fit(x_train,y_train.values.ravel())\n",
    "\n",
    "    # Predict Output\n",
    "    y_pred = model.predict(x_test)\n",
    "    print (\"Predicted Value:\", y_pred)\n",
    "    print(\"Accuracy:\",metrics.accuracy_score(y_test, y_pred))\n",
    "    print(confusion_matrix(y_test,y_pred))\n",
    "    print(classification_report(y_test,y_pred))\n",
    "    rmse = sqrt(mean_squared_error(y_test, y_pred))\n",
    "    return(rmse)\n",
    "\n",
    "def plot_correlation_map( df ):\n",
    "    corr = df.corr()\n",
    "    _ , ax = plt.subplots( figsize =( 12 , 10 ) )\n",
    "    cmap = sns.diverging_palette( 220 , 10 , as_cmap = True )\n",
    "    _ = sns.heatmap(\n",
    "        corr, \n",
    "        cmap = cmap,\n",
    "        square=True, \n",
    "        cbar_kws={ 'shrink' : .9 }, \n",
    "        ax=ax, \n",
    "        annot = True, \n",
    "        annot_kws = { 'fontsize' : 12 }\n",
    "    )"
   ]
  },
  {
   "cell_type": "code",
   "execution_count": 10,
   "metadata": {},
   "outputs": [],
   "source": [
    "#preparing training and test data\n",
    "x=hiv_df[[\"everhivtest17\"]] \n",
    "y=hiv_df[[\"generalhealth\"]] "
   ]
  },
  {
   "cell_type": "code",
   "execution_count": 11,
   "metadata": {},
   "outputs": [
    {
     "name": "stdout",
     "output_type": "stream",
     "text": [
      "[1.]\n",
      "Predicted Value: [3. 3. 3. ... 3. 3. 3.]\n",
      "Accuracy: 0.31890756302521006\n",
      "[[  0   0 392   0   0]\n",
      " [  0   0 619   0   0]\n",
      " [  0   0 759   0   0]\n",
      " [  0   0 475   0   0]\n",
      " [  0   0 135   0   0]]\n",
      "              precision    recall  f1-score   support\n",
      "\n",
      "         1.0       0.00      0.00      0.00       392\n",
      "         2.0       0.00      0.00      0.00       619\n",
      "         3.0       0.32      1.00      0.48       759\n",
      "         4.0       0.00      0.00      0.00       475\n",
      "         5.0       0.00      0.00      0.00       135\n",
      "\n",
      "    accuracy                           0.32      2380\n",
      "   macro avg       0.06      0.20      0.10      2380\n",
      "weighted avg       0.10      0.32      0.15      2380\n",
      "\n"
     ]
    },
    {
     "name": "stderr",
     "output_type": "stream",
     "text": [
      "//anaconda3/lib/python3.7/site-packages/sklearn/metrics/classification.py:1437: UndefinedMetricWarning: Precision and F-score are ill-defined and being set to 0.0 in labels with no predicted samples.\n",
      "  'precision', 'predicted', average, warn_for)\n"
     ]
    },
    {
     "data": {
      "text/plain": [
       "1.1599043716016006"
      ]
     },
     "execution_count": 11,
     "metadata": {},
     "output_type": "execute_result"
    }
   ],
   "source": [
    "model_apply(x,y,3,1)"
   ]
  },
  {
   "cell_type": "markdown",
   "metadata": {},
   "source": [
    "**Analysing the Immunization Data**"
   ]
  },
  {
   "cell_type": "code",
   "execution_count": 14,
   "metadata": {},
   "outputs": [
    {
     "data": {
      "text/plain": [
       "cid                0\n",
       "fluvaccineshot    65\n",
       "generalhealth     34\n",
       "dtype: int64"
      ]
     },
     "execution_count": 14,
     "metadata": {},
     "output_type": "execute_result"
    }
   ],
   "source": [
    "imm_df = df[['cid','fluvaccineshot','generalhealth']]\n",
    "imm_df.isnull().sum()"
   ]
  },
  {
   "cell_type": "code",
   "execution_count": 15,
   "metadata": {},
   "outputs": [
    {
     "data": {
      "text/html": [
       "<div>\n",
       "<style scoped>\n",
       "    .dataframe tbody tr th:only-of-type {\n",
       "        vertical-align: middle;\n",
       "    }\n",
       "\n",
       "    .dataframe tbody tr th {\n",
       "        vertical-align: top;\n",
       "    }\n",
       "\n",
       "    .dataframe thead th {\n",
       "        text-align: right;\n",
       "    }\n",
       "</style>\n",
       "<table border=\"1\" class=\"dataframe\">\n",
       "  <thead>\n",
       "    <tr style=\"text-align: right;\">\n",
       "      <th></th>\n",
       "      <th>cid</th>\n",
       "      <th>fluvaccineshot</th>\n",
       "      <th>generalhealth</th>\n",
       "    </tr>\n",
       "  </thead>\n",
       "  <tbody>\n",
       "    <tr>\n",
       "      <th>count</th>\n",
       "      <td>9.906000e+03</td>\n",
       "      <td>9906.000000</td>\n",
       "      <td>9906.000000</td>\n",
       "    </tr>\n",
       "    <tr>\n",
       "      <th>mean</th>\n",
       "      <td>1.808489e+06</td>\n",
       "      <td>1.519180</td>\n",
       "      <td>2.745003</td>\n",
       "    </tr>\n",
       "    <tr>\n",
       "      <th>std</th>\n",
       "      <td>5.571799e+03</td>\n",
       "      <td>0.499657</td>\n",
       "      <td>1.136600</td>\n",
       "    </tr>\n",
       "    <tr>\n",
       "      <th>min</th>\n",
       "      <td>1.800001e+06</td>\n",
       "      <td>1.000000</td>\n",
       "      <td>1.000000</td>\n",
       "    </tr>\n",
       "    <tr>\n",
       "      <th>25%</th>\n",
       "      <td>1.802502e+06</td>\n",
       "      <td>1.000000</td>\n",
       "      <td>2.000000</td>\n",
       "    </tr>\n",
       "    <tr>\n",
       "      <th>50%</th>\n",
       "      <td>1.810904e+06</td>\n",
       "      <td>2.000000</td>\n",
       "      <td>3.000000</td>\n",
       "    </tr>\n",
       "    <tr>\n",
       "      <th>75%</th>\n",
       "      <td>1.813408e+06</td>\n",
       "      <td>2.000000</td>\n",
       "      <td>4.000000</td>\n",
       "    </tr>\n",
       "    <tr>\n",
       "      <th>max</th>\n",
       "      <td>1.815905e+06</td>\n",
       "      <td>2.000000</td>\n",
       "      <td>5.000000</td>\n",
       "    </tr>\n",
       "  </tbody>\n",
       "</table>\n",
       "</div>"
      ],
      "text/plain": [
       "                cid  fluvaccineshot  generalhealth\n",
       "count  9.906000e+03     9906.000000    9906.000000\n",
       "mean   1.808489e+06        1.519180       2.745003\n",
       "std    5.571799e+03        0.499657       1.136600\n",
       "min    1.800001e+06        1.000000       1.000000\n",
       "25%    1.802502e+06        1.000000       2.000000\n",
       "50%    1.810904e+06        2.000000       3.000000\n",
       "75%    1.813408e+06        2.000000       4.000000\n",
       "max    1.815905e+06        2.000000       5.000000"
      ]
     },
     "execution_count": 15,
     "metadata": {},
     "output_type": "execute_result"
    }
   ],
   "source": [
    "imm_df = imm_df.dropna()\n",
    "imm_df.describe()"
   ]
  },
  {
   "cell_type": "code",
   "execution_count": 16,
   "metadata": {},
   "outputs": [
    {
     "data": {
      "text/html": [
       "<div>\n",
       "<style scoped>\n",
       "    .dataframe tbody tr th:only-of-type {\n",
       "        vertical-align: middle;\n",
       "    }\n",
       "\n",
       "    .dataframe tbody tr th {\n",
       "        vertical-align: top;\n",
       "    }\n",
       "\n",
       "    .dataframe thead th {\n",
       "        text-align: right;\n",
       "    }\n",
       "</style>\n",
       "<table border=\"1\" class=\"dataframe\">\n",
       "  <thead>\n",
       "    <tr style=\"text-align: right;\">\n",
       "      <th></th>\n",
       "      <th>cid</th>\n",
       "      <th>fluvaccineshot</th>\n",
       "      <th>generalhealth</th>\n",
       "    </tr>\n",
       "  </thead>\n",
       "  <tbody>\n",
       "    <tr>\n",
       "      <th>cid</th>\n",
       "      <td>1.000000</td>\n",
       "      <td>0.120747</td>\n",
       "      <td>-0.125239</td>\n",
       "    </tr>\n",
       "    <tr>\n",
       "      <th>fluvaccineshot</th>\n",
       "      <td>0.120747</td>\n",
       "      <td>1.000000</td>\n",
       "      <td>-0.080273</td>\n",
       "    </tr>\n",
       "    <tr>\n",
       "      <th>generalhealth</th>\n",
       "      <td>-0.125239</td>\n",
       "      <td>-0.080273</td>\n",
       "      <td>1.000000</td>\n",
       "    </tr>\n",
       "  </tbody>\n",
       "</table>\n",
       "</div>"
      ],
      "text/plain": [
       "                     cid  fluvaccineshot  generalhealth\n",
       "cid             1.000000        0.120747      -0.125239\n",
       "fluvaccineshot  0.120747        1.000000      -0.080273\n",
       "generalhealth  -0.125239       -0.080273       1.000000"
      ]
     },
     "execution_count": 16,
     "metadata": {},
     "output_type": "execute_result"
    }
   ],
   "source": [
    "corr_2 = imm_df.corr()\n",
    "corr_2"
   ]
  },
  {
   "cell_type": "code",
   "execution_count": 19,
   "metadata": {},
   "outputs": [],
   "source": [
    "#preparing training and test data\n",
    "x=imm_df[[\"fluvaccineshot\"]] \n",
    "y=imm_df[[\"generalhealth\"]] "
   ]
  },
  {
   "cell_type": "code",
   "execution_count": 20,
   "metadata": {},
   "outputs": [
    {
     "name": "stdout",
     "output_type": "stream",
     "text": [
      "[1.]\n",
      "Predicted Value: [3. 3. 3. ... 3. 3. 3.]\n",
      "Accuracy: 0.31085991118288253\n",
      "[[  0   0 404   0   0]\n",
      " [  0   0 663   0   0]\n",
      " [  0   0 770   0   0]\n",
      " [  0   0 485   0   0]\n",
      " [  0   0 155   0   0]]\n",
      "              precision    recall  f1-score   support\n",
      "\n",
      "         1.0       0.00      0.00      0.00       404\n",
      "         2.0       0.00      0.00      0.00       663\n",
      "         3.0       0.31      1.00      0.47       770\n",
      "         4.0       0.00      0.00      0.00       485\n",
      "         5.0       0.00      0.00      0.00       155\n",
      "\n",
      "    accuracy                           0.31      2477\n",
      "   macro avg       0.06      0.20      0.09      2477\n",
      "weighted avg       0.10      0.31      0.15      2477\n",
      "\n"
     ]
    },
    {
     "name": "stderr",
     "output_type": "stream",
     "text": [
      "//anaconda3/lib/python3.7/site-packages/sklearn/metrics/classification.py:1437: UndefinedMetricWarning: Precision and F-score are ill-defined and being set to 0.0 in labels with no predicted samples.\n",
      "  'precision', 'predicted', average, warn_for)\n"
     ]
    },
    {
     "data": {
      "text/plain": [
       "1.1688322174389332"
      ]
     },
     "execution_count": 20,
     "metadata": {},
     "output_type": "execute_result"
    }
   ],
   "source": [
    "model_apply(x,y,3,1)"
   ]
  },
  {
   "cell_type": "markdown",
   "metadata": {},
   "source": [
    "**Analysing the Sexual Behavior**"
   ]
  },
  {
   "cell_type": "code",
   "execution_count": 24,
   "metadata": {},
   "outputs": [
    {
     "data": {
      "text/plain": [
       "cid                       0\n",
       "sexbehav_active17      4068\n",
       "sexuallyactive17        820\n",
       "imputed_sexpartner        0\n",
       "wsw                    7063\n",
       "wswexclusive           7056\n",
       "msm                    7030\n",
       "msmexclusive           7021\n",
       "condom17               4205\n",
       "condomusetrend         5121\n",
       "analsex                4227\n",
       "analsexcondomuse17     9563\n",
       "bthcntrltype17         6056\n",
       "bthcontrollastsex17    6022\n",
       "everheardofprep        4097\n",
       "everusedprep17         8462\n",
       "generalhealth            34\n",
       "dtype: int64"
      ]
     },
     "execution_count": 24,
     "metadata": {},
     "output_type": "execute_result"
    }
   ],
   "source": [
    "sex_df = df[['cid','sexbehav_active17','sexuallyactive17','imputed_sexpartner','wsw','wswexclusive','msm','msmexclusive','condom17','condomusetrend','analsex','analsexcondomuse17','bthcntrltype17','bthcontrollastsex17','everheardofprep','everusedprep17','generalhealth']]\n",
    "sex_df.isnull().sum()"
   ]
  },
  {
   "cell_type": "code",
   "execution_count": 25,
   "metadata": {},
   "outputs": [
    {
     "data": {
      "image/png": "[encoded data removed]",
      "text/plain": [
       "<Figure size 864x720 with 2 Axes>"
      ]
     },
     "metadata": {
      "needs_background": "light"
     },
     "output_type": "display_data"
    }
   ],
   "source": [
    "plot_correlation_map(sex_df)"
   ]
  },
  {
   "cell_type": "markdown",
   "metadata": {},
   "source": [
    "Among all the features in the Sexual Behavior, only 3 features looks useful to me. **imputed_sexuallyactive18**(Sexually active in past 12 months), **imputed_sexpartner** (Number of male and female sex partners in the past 12 months) and **pcpsexhistory** (Thinking about the last time you visited your personal doctor or health care provider, did he or she ask you any questions about your sexual history?)."
   ]
  },
  {
   "cell_type": "code",
   "execution_count": 26,
   "metadata": {},
   "outputs": [
    {
     "data": {
      "text/plain": [
       "cid                     0\n",
       "sexuallyactive17      820\n",
       "imputed_sexpartner      0\n",
       "generalhealth          34\n",
       "dtype: int64"
      ]
     },
     "execution_count": 26,
     "metadata": {},
     "output_type": "execute_result"
    }
   ],
   "source": [
    "sex_df = df[['cid','sexuallyactive17','imputed_sexpartner','generalhealth']]\n",
    "sex_df.isnull().sum()\n"
   ]
  },
  {
   "cell_type": "code",
   "execution_count": 27,
   "metadata": {},
   "outputs": [
    {
     "data": {
      "text/html": [
       "<div>\n",
       "<style scoped>\n",
       "    .dataframe tbody tr th:only-of-type {\n",
       "        vertical-align: middle;\n",
       "    }\n",
       "\n",
       "    .dataframe tbody tr th {\n",
       "        vertical-align: top;\n",
       "    }\n",
       "\n",
       "    .dataframe thead th {\n",
       "        text-align: right;\n",
       "    }\n",
       "</style>\n",
       "<table border=\"1\" class=\"dataframe\">\n",
       "  <thead>\n",
       "    <tr style=\"text-align: right;\">\n",
       "      <th></th>\n",
       "      <th>cid</th>\n",
       "      <th>sexuallyactive17</th>\n",
       "      <th>imputed_sexpartner</th>\n",
       "      <th>generalhealth</th>\n",
       "    </tr>\n",
       "  </thead>\n",
       "  <tbody>\n",
       "    <tr>\n",
       "      <th>count</th>\n",
       "      <td>9.155000e+03</td>\n",
       "      <td>9155.000000</td>\n",
       "      <td>9155.000000</td>\n",
       "      <td>9155.000000</td>\n",
       "    </tr>\n",
       "    <tr>\n",
       "      <th>mean</th>\n",
       "      <td>1.808534e+06</td>\n",
       "      <td>1.353140</td>\n",
       "      <td>1.823921</td>\n",
       "      <td>2.758165</td>\n",
       "    </tr>\n",
       "    <tr>\n",
       "      <th>std</th>\n",
       "      <td>5.555284e+03</td>\n",
       "      <td>0.477972</td>\n",
       "      <td>0.792978</td>\n",
       "      <td>1.139235</td>\n",
       "    </tr>\n",
       "    <tr>\n",
       "      <th>min</th>\n",
       "      <td>1.800001e+06</td>\n",
       "      <td>1.000000</td>\n",
       "      <td>1.000000</td>\n",
       "      <td>1.000000</td>\n",
       "    </tr>\n",
       "    <tr>\n",
       "      <th>25%</th>\n",
       "      <td>1.802536e+06</td>\n",
       "      <td>1.000000</td>\n",
       "      <td>1.000000</td>\n",
       "      <td>2.000000</td>\n",
       "    </tr>\n",
       "    <tr>\n",
       "      <th>50%</th>\n",
       "      <td>1.810930e+06</td>\n",
       "      <td>1.000000</td>\n",
       "      <td>2.000000</td>\n",
       "      <td>3.000000</td>\n",
       "    </tr>\n",
       "    <tr>\n",
       "      <th>75%</th>\n",
       "      <td>1.813412e+06</td>\n",
       "      <td>2.000000</td>\n",
       "      <td>2.000000</td>\n",
       "      <td>4.000000</td>\n",
       "    </tr>\n",
       "    <tr>\n",
       "      <th>max</th>\n",
       "      <td>1.815905e+06</td>\n",
       "      <td>2.000000</td>\n",
       "      <td>4.000000</td>\n",
       "      <td>5.000000</td>\n",
       "    </tr>\n",
       "  </tbody>\n",
       "</table>\n",
       "</div>"
      ],
      "text/plain": [
       "                cid  sexuallyactive17  imputed_sexpartner  generalhealth\n",
       "count  9.155000e+03       9155.000000         9155.000000    9155.000000\n",
       "mean   1.808534e+06          1.353140            1.823921       2.758165\n",
       "std    5.555284e+03          0.477972            0.792978       1.139235\n",
       "min    1.800001e+06          1.000000            1.000000       1.000000\n",
       "25%    1.802536e+06          1.000000            1.000000       2.000000\n",
       "50%    1.810930e+06          1.000000            2.000000       3.000000\n",
       "75%    1.813412e+06          2.000000            2.000000       4.000000\n",
       "max    1.815905e+06          2.000000            4.000000       5.000000"
      ]
     },
     "execution_count": 27,
     "metadata": {},
     "output_type": "execute_result"
    }
   ],
   "source": [
    "sex_df_f = sex_df.dropna()\n",
    "sex_df_f.describe()"
   ]
  },
  {
   "cell_type": "code",
   "execution_count": 28,
   "metadata": {},
   "outputs": [
    {
     "data": {
      "image/png": "[encoded data removed]",
      "text/plain": [
       "<Figure size 864x720 with 2 Axes>"
      ]
     },
     "metadata": {
      "needs_background": "light"
     },
     "output_type": "display_data"
    }
   ],
   "source": [
    "plot_correlation_map(sex_df)"
   ]
  },
  {
   "cell_type": "markdown",
   "metadata": {},
   "source": [
    "Let us use the above 3 features to predict the general health."
   ]
  },
  {
   "cell_type": "code",
   "execution_count": 29,
   "metadata": {},
   "outputs": [],
   "source": [
    "#preparing training and test data\n",
    "x=sex_df_f[['sexuallyactive17','imputed_sexpartner']] \n",
    "y=sex_df_f[[\"generalhealth\"]] "
   ]
  },
  {
   "cell_type": "code",
   "execution_count": 31,
   "metadata": {},
   "outputs": [
    {
     "name": "stdout",
     "output_type": "stream",
     "text": [
      "[0.88454331 0.11545669]\n",
      "Predicted Value: [3. 3. 2. ... 3. 3. 3.]\n",
      "Accuracy: 0.3162953254696374\n",
      "[[  0  36 320   0   0]\n",
      " [  0  52 540   0   0]\n",
      " [  0  45 672   0   0]\n",
      " [  0  17 448   0   0]\n",
      " [  0   4 155   0   0]]\n",
      "              precision    recall  f1-score   support\n",
      "\n",
      "         1.0       0.00      0.00      0.00       356\n",
      "         2.0       0.34      0.09      0.14       592\n",
      "         3.0       0.31      0.94      0.47       717\n",
      "         4.0       0.00      0.00      0.00       465\n",
      "         5.0       0.00      0.00      0.00       159\n",
      "\n",
      "    accuracy                           0.32      2289\n",
      "   macro avg       0.13      0.21      0.12      2289\n",
      "weighted avg       0.19      0.32      0.18      2289\n",
      "\n"
     ]
    },
    {
     "name": "stderr",
     "output_type": "stream",
     "text": [
      "//anaconda3/lib/python3.7/site-packages/sklearn/metrics/classification.py:1437: UndefinedMetricWarning: Precision and F-score are ill-defined and being set to 0.0 in labels with no predicted samples.\n",
      "  'precision', 'predicted', average, warn_for)\n"
     ]
    },
    {
     "data": {
      "text/plain": [
       "1.1586663217941302"
      ]
     },
     "execution_count": 31,
     "metadata": {},
     "output_type": "execute_result"
    }
   ],
   "source": [
    "model_apply(x,y,3,2)"
   ]
  },
  {
   "cell_type": "markdown",
   "metadata": {},
   "source": [
    "**Analysing the Cancer Screening Data**"
   ]
  },
  {
   "cell_type": "markdown",
   "metadata": {},
   "source": [
    "Most of the features in Cancer Screening have a huge amount of Null values, thus we skip this for our Analysis."
   ]
  },
  {
   "cell_type": "markdown",
   "metadata": {},
   "source": [
    "# Clubbing it All together"
   ]
  },
  {
   "cell_type": "code",
   "execution_count": 36,
   "metadata": {},
   "outputs": [
    {
     "data": {
      "text/plain": [
       "cid                     0\n",
       "everhivtest17         305\n",
       "sexuallyactive17      820\n",
       "imputed_sexpartner      0\n",
       "fluvaccineshot         65\n",
       "generalhealth          34\n",
       "dtype: int64"
      ]
     },
     "execution_count": 36,
     "metadata": {},
     "output_type": "execute_result"
    }
   ],
   "source": [
    "club_df = df[['cid','everhivtest17','sexuallyactive17','imputed_sexpartner','fluvaccineshot','generalhealth']]\n",
    "club_df.isnull().sum()"
   ]
  },
  {
   "cell_type": "code",
   "execution_count": 37,
   "metadata": {},
   "outputs": [
    {
     "data": {
      "text/html": [
       "<div>\n",
       "<style scoped>\n",
       "    .dataframe tbody tr th:only-of-type {\n",
       "        vertical-align: middle;\n",
       "    }\n",
       "\n",
       "    .dataframe tbody tr th {\n",
       "        vertical-align: top;\n",
       "    }\n",
       "\n",
       "    .dataframe thead th {\n",
       "        text-align: right;\n",
       "    }\n",
       "</style>\n",
       "<table border=\"1\" class=\"dataframe\">\n",
       "  <thead>\n",
       "    <tr style=\"text-align: right;\">\n",
       "      <th></th>\n",
       "      <th>cid</th>\n",
       "      <th>everhivtest17</th>\n",
       "      <th>sexuallyactive17</th>\n",
       "      <th>imputed_sexpartner</th>\n",
       "      <th>fluvaccineshot</th>\n",
       "      <th>generalhealth</th>\n",
       "    </tr>\n",
       "  </thead>\n",
       "  <tbody>\n",
       "    <tr>\n",
       "      <th>count</th>\n",
       "      <td>8.842000e+03</td>\n",
       "      <td>8842.000000</td>\n",
       "      <td>8842.000000</td>\n",
       "      <td>8842.000000</td>\n",
       "      <td>8842.000000</td>\n",
       "      <td>8842.000000</td>\n",
       "    </tr>\n",
       "    <tr>\n",
       "      <th>mean</th>\n",
       "      <td>1.808573e+06</td>\n",
       "      <td>1.337819</td>\n",
       "      <td>1.349355</td>\n",
       "      <td>1.831034</td>\n",
       "      <td>1.517191</td>\n",
       "      <td>2.757295</td>\n",
       "    </tr>\n",
       "    <tr>\n",
       "      <th>std</th>\n",
       "      <td>5.551952e+03</td>\n",
       "      <td>0.472993</td>\n",
       "      <td>0.476793</td>\n",
       "      <td>0.795841</td>\n",
       "      <td>0.499733</td>\n",
       "      <td>1.138381</td>\n",
       "    </tr>\n",
       "    <tr>\n",
       "      <th>min</th>\n",
       "      <td>1.800001e+06</td>\n",
       "      <td>1.000000</td>\n",
       "      <td>1.000000</td>\n",
       "      <td>1.000000</td>\n",
       "      <td>1.000000</td>\n",
       "      <td>1.000000</td>\n",
       "    </tr>\n",
       "    <tr>\n",
       "      <th>25%</th>\n",
       "      <td>1.802546e+06</td>\n",
       "      <td>1.000000</td>\n",
       "      <td>1.000000</td>\n",
       "      <td>1.000000</td>\n",
       "      <td>1.000000</td>\n",
       "      <td>2.000000</td>\n",
       "    </tr>\n",
       "    <tr>\n",
       "      <th>50%</th>\n",
       "      <td>1.810969e+06</td>\n",
       "      <td>1.000000</td>\n",
       "      <td>1.000000</td>\n",
       "      <td>2.000000</td>\n",
       "      <td>2.000000</td>\n",
       "      <td>3.000000</td>\n",
       "    </tr>\n",
       "    <tr>\n",
       "      <th>75%</th>\n",
       "      <td>1.813427e+06</td>\n",
       "      <td>2.000000</td>\n",
       "      <td>2.000000</td>\n",
       "      <td>2.000000</td>\n",
       "      <td>2.000000</td>\n",
       "      <td>4.000000</td>\n",
       "    </tr>\n",
       "    <tr>\n",
       "      <th>max</th>\n",
       "      <td>1.815905e+06</td>\n",
       "      <td>2.000000</td>\n",
       "      <td>2.000000</td>\n",
       "      <td>4.000000</td>\n",
       "      <td>2.000000</td>\n",
       "      <td>5.000000</td>\n",
       "    </tr>\n",
       "  </tbody>\n",
       "</table>\n",
       "</div>"
      ],
      "text/plain": [
       "                cid  everhivtest17  sexuallyactive17  imputed_sexpartner  \\\n",
       "count  8.842000e+03    8842.000000       8842.000000         8842.000000   \n",
       "mean   1.808573e+06       1.337819          1.349355            1.831034   \n",
       "std    5.551952e+03       0.472993          0.476793            0.795841   \n",
       "min    1.800001e+06       1.000000          1.000000            1.000000   \n",
       "25%    1.802546e+06       1.000000          1.000000            1.000000   \n",
       "50%    1.810969e+06       1.000000          1.000000            2.000000   \n",
       "75%    1.813427e+06       2.000000          2.000000            2.000000   \n",
       "max    1.815905e+06       2.000000          2.000000            4.000000   \n",
       "\n",
       "       fluvaccineshot  generalhealth  \n",
       "count     8842.000000    8842.000000  \n",
       "mean         1.517191       2.757295  \n",
       "std          0.499733       1.138381  \n",
       "min          1.000000       1.000000  \n",
       "25%          1.000000       2.000000  \n",
       "50%          2.000000       3.000000  \n",
       "75%          2.000000       4.000000  \n",
       "max          2.000000       5.000000  "
      ]
     },
     "execution_count": 37,
     "metadata": {},
     "output_type": "execute_result"
    }
   ],
   "source": [
    "club_df = club_df.dropna()\n",
    "club_df.describe()"
   ]
  },
  {
   "cell_type": "code",
   "execution_count": 38,
   "metadata": {},
   "outputs": [],
   "source": [
    "#preparing training and test data\n",
    "x=club_df[['everhivtest17','sexuallyactive17','imputed_sexpartner','fluvaccineshot']] \n",
    "y=club_df[[\"generalhealth\"]] "
   ]
  },
  {
   "cell_type": "code",
   "execution_count": 112,
   "metadata": {},
   "outputs": [
    {
     "name": "stdout",
     "output_type": "stream",
     "text": [
      "[0.41515044 0.23450982 0.15343305 0.13997805 0.05692863]\n",
      "Predicted Value: [3. 3. 3. ... 3. 3. 3.]\n",
      "Accuracy: 0.33648881239242684\n",
      "[[  3 106 218  13   0]\n",
      " [  7 216 373  24   0]\n",
      " [  1 192 525  49   0]\n",
      " [  1 104 308  38   0]\n",
      " [  0  25 102  19   0]]\n",
      "              precision    recall  f1-score   support\n",
      "\n",
      "         1.0       0.25      0.01      0.02       340\n",
      "         2.0       0.34      0.35      0.34       620\n",
      "         3.0       0.34      0.68      0.46       767\n",
      "         4.0       0.27      0.08      0.13       451\n",
      "         5.0       0.00      0.00      0.00       146\n",
      "\n",
      "    accuracy                           0.34      2324\n",
      "   macro avg       0.24      0.23      0.19      2324\n",
      "weighted avg       0.29      0.34      0.27      2324\n",
      "\n"
     ]
    },
    {
     "data": {
      "text/plain": [
       "1.17361263170363"
      ]
     },
     "execution_count": 112,
     "metadata": {},
     "output_type": "execute_result"
    }
   ],
   "source": [
    "model_apply(x,y,3,5)"
   ]
  },
  {
   "cell_type": "markdown",
   "metadata": {},
   "source": [
    "**Correlating Number of Sex Partners with the HIV**"
   ]
  },
  {
   "cell_type": "code",
   "execution_count": 39,
   "metadata": {},
   "outputs": [
    {
     "data": {
      "text/plain": [
       "everhivtest17         305\n",
       "imputed_sexpartner      0\n",
       "dtype: int64"
      ]
     },
     "execution_count": 39,
     "metadata": {},
     "output_type": "execute_result"
    }
   ],
   "source": [
    "hiv_sp_df = df[['everhivtest17','imputed_sexpartner']]\n",
    "hiv_sp_df.isnull().sum()"
   ]
  },
  {
   "cell_type": "code",
   "execution_count": 40,
   "metadata": {},
   "outputs": [
    {
     "data": {
      "text/html": [
       "<div>\n",
       "<style scoped>\n",
       "    .dataframe tbody tr th:only-of-type {\n",
       "        vertical-align: middle;\n",
       "    }\n",
       "\n",
       "    .dataframe tbody tr th {\n",
       "        vertical-align: top;\n",
       "    }\n",
       "\n",
       "    .dataframe thead th {\n",
       "        text-align: right;\n",
       "    }\n",
       "</style>\n",
       "<table border=\"1\" class=\"dataframe\">\n",
       "  <thead>\n",
       "    <tr style=\"text-align: right;\">\n",
       "      <th></th>\n",
       "      <th>everhivtest17</th>\n",
       "      <th>imputed_sexpartner</th>\n",
       "    </tr>\n",
       "  </thead>\n",
       "  <tbody>\n",
       "    <tr>\n",
       "      <th>count</th>\n",
       "      <td>9700.000000</td>\n",
       "      <td>9700.000000</td>\n",
       "    </tr>\n",
       "    <tr>\n",
       "      <th>mean</th>\n",
       "      <td>1.349072</td>\n",
       "      <td>1.825361</td>\n",
       "    </tr>\n",
       "    <tr>\n",
       "      <th>std</th>\n",
       "      <td>0.476701</td>\n",
       "      <td>0.791891</td>\n",
       "    </tr>\n",
       "    <tr>\n",
       "      <th>min</th>\n",
       "      <td>1.000000</td>\n",
       "      <td>1.000000</td>\n",
       "    </tr>\n",
       "    <tr>\n",
       "      <th>25%</th>\n",
       "      <td>1.000000</td>\n",
       "      <td>1.000000</td>\n",
       "    </tr>\n",
       "    <tr>\n",
       "      <th>50%</th>\n",
       "      <td>1.000000</td>\n",
       "      <td>2.000000</td>\n",
       "    </tr>\n",
       "    <tr>\n",
       "      <th>75%</th>\n",
       "      <td>2.000000</td>\n",
       "      <td>2.000000</td>\n",
       "    </tr>\n",
       "    <tr>\n",
       "      <th>max</th>\n",
       "      <td>2.000000</td>\n",
       "      <td>4.000000</td>\n",
       "    </tr>\n",
       "  </tbody>\n",
       "</table>\n",
       "</div>"
      ],
      "text/plain": [
       "       everhivtest17  imputed_sexpartner\n",
       "count    9700.000000         9700.000000\n",
       "mean        1.349072            1.825361\n",
       "std         0.476701            0.791891\n",
       "min         1.000000            1.000000\n",
       "25%         1.000000            1.000000\n",
       "50%         1.000000            2.000000\n",
       "75%         2.000000            2.000000\n",
       "max         2.000000            4.000000"
      ]
     },
     "execution_count": 40,
     "metadata": {},
     "output_type": "execute_result"
    }
   ],
   "source": [
    "hiv_sp_df = hiv_sp_df.dropna()\n",
    "hiv_sp_df.describe()"
   ]
  },
  {
   "cell_type": "code",
   "execution_count": 41,
   "metadata": {},
   "outputs": [
    {
     "data": {
      "image/png": "[encoded data removed]",
      "text/plain": [
       "<Figure size 864x720 with 2 Axes>"
      ]
     },
     "metadata": {
      "needs_background": "light"
     },
     "output_type": "display_data"
    }
   ],
   "source": [
    "plot_correlation_map(hiv_sp_df)"
   ]
  },
  {
   "cell_type": "code",
   "execution_count": 43,
   "metadata": {},
   "outputs": [],
   "source": [
    "#preparing training and test data\n",
    "x=hiv_sp_df[[\"everhivtest17\"]] \n",
    "y=hiv_sp_df[[\"imputed_sexpartner\"]] "
   ]
  },
  {
   "cell_type": "code",
   "execution_count": 117,
   "metadata": {},
   "outputs": [
    {
     "name": "stdout",
     "output_type": "stream",
     "text": [
      "[1.]\n",
      "Predicted Value: [2. 2. 1. ... 2. 1. 2.]\n",
      "Accuracy: 0.5249278945199836\n",
      "[[445 468   0   0]\n",
      " [333 829   0   0]\n",
      " [ 35 101   0   0]\n",
      " [ 60 156   0   0]]\n",
      "              precision    recall  f1-score   support\n",
      "\n",
      "         1.0       0.51      0.49      0.50       913\n",
      "         2.0       0.53      0.71      0.61      1162\n",
      "         3.0       0.00      0.00      0.00       136\n",
      "         4.0       0.00      0.00      0.00       216\n",
      "\n",
      "    accuracy                           0.52      2427\n",
      "   macro avg       0.26      0.30      0.28      2427\n",
      "weighted avg       0.45      0.52      0.48      2427\n",
      "\n"
     ]
    },
    {
     "data": {
      "text/plain": [
       "0.9533840147191706"
      ]
     },
     "execution_count": 117,
     "metadata": {},
     "output_type": "execute_result"
    }
   ],
   "source": [
    "model_apply(x,y,3,1)"
   ]
  },
  {
   "cell_type": "code",
   "execution_count": null,
   "metadata": {},
   "outputs": [],
   "source": []
  }
 ],
 "metadata": {
  "kernelspec": {
   "display_name": "Python 3",
   "language": "python",
   "name": "python3"
  },
  "language_info": {
   "codemirror_mode": {
    "name": "ipython",
    "version": 3
   },
   "file_extension": ".py",
   "mimetype": "text/x-python",
   "name": "python",
   "nbconvert_exporter": "python",
   "pygments_lexer": "ipython3",
   "version": "3.7.3"
  }
 },
 "nbformat": 4,
 "nbformat_minor": 2
}
