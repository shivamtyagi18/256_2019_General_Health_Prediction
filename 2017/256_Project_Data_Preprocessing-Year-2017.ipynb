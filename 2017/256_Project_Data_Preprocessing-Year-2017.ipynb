{
 "cells": [
  {
   "cell_type": "code",
   "execution_count": 2,
   "metadata": {},
   "outputs": [],
   "source": [
    "# from pyspark import SparkContext \n",
    "# from pyspark.sql import SQLContext \n",
    "# import pandas as pd\n",
    "# import numpy as np\n",
    "# from pandas import DataFrame\n",
    "# sc = SparkContext.getOrCreate()\n",
    "# sqlc=SQLContext(sc)\n",
    "\n",
    "import math\n",
    "import matplotlib.pyplot as plt\n",
    "from scipy.stats import norm, entropy \n",
    "from scipy.stats import probplot\n",
    "import matplotlib.pyplot as plt\n",
    "from scipy.stats import logistic\n",
    "from sklearn.model_selection import train_test_split\n",
    "from sklearn.linear_model import LogisticRegression\n",
    "from sklearn import metrics\n",
    "from sklearn.utils import resample\n",
    "from sklearn import svm\n",
    "from sklearn.tree import DecisionTreeClassifier\n",
    "from sklearn.metrics import classification_report, confusion_matrix, roc_curve\n",
    "from scipy.spatial.distance import cosine, correlation\n",
    "import seaborn as sns\n",
    "from sklearn.linear_model import Perceptron\n",
    "from sklearn.decomposition import PCA\n",
    "from sklearn.preprocessing import StandardScaler"
   ]
  },
  {
   "cell_type": "code",
   "execution_count": 3,
   "metadata": {},
   "outputs": [],
   "source": [
    "#reading csv file data in a dataframe\n",
    "#[1]https://stackoverflow.com/questions/46311133/creating-dynamic-data-frames-in-python?rq=1\n",
    "df_names=['df07','df08','df09','df10','df11','df12','df13','df14','df15','df16','df17','df18']\n",
    "years=['2007','2008','2009','2010','2011','2012','2013','2014','2015','2016','2017','2018']\n",
    "d = {}\n",
    "for name,i in zip(df_names,years):\n",
    "    d[name] = pd.DataFrame()\n",
    "    d[name]=pd.read_csv('data-csv/chs'+str(i)+'_public.csv')    \n"
   ]
  },
  {
   "cell_type": "code",
   "execution_count": 4,
   "metadata": {},
   "outputs": [
    {
     "data": {
      "text/html": [
       "<div>\n",
       "<style scoped>\n",
       "    .dataframe tbody tr th:only-of-type {\n",
       "        vertical-align: middle;\n",
       "    }\n",
       "\n",
       "    .dataframe tbody tr th {\n",
       "        vertical-align: top;\n",
       "    }\n",
       "\n",
       "    .dataframe thead th {\n",
       "        text-align: right;\n",
       "    }\n",
       "</style>\n",
       "<table border=\"1\" class=\"dataframe\">\n",
       "  <thead>\n",
       "    <tr style=\"text-align: right;\">\n",
       "      <th></th>\n",
       "      <th>qxvers</th>\n",
       "      <th>mood63</th>\n",
       "      <th>mood64</th>\n",
       "      <th>mood54</th>\n",
       "      <th>mood55</th>\n",
       "      <th>mood56</th>\n",
       "      <th>mood57</th>\n",
       "      <th>mood58</th>\n",
       "      <th>mood59</th>\n",
       "      <th>mood61</th>\n",
       "      <th>...</th>\n",
       "      <th>condomusetrend</th>\n",
       "      <th>drinker</th>\n",
       "      <th>daysalc30</th>\n",
       "      <th>averagedrink17</th>\n",
       "      <th>heavydrink17</th>\n",
       "      <th>bingenew</th>\n",
       "      <th>reasontravel3_q1</th>\n",
       "      <th>bthcntrltype17</th>\n",
       "      <th>hhsize</th>\n",
       "      <th>child</th>\n",
       "    </tr>\n",
       "  </thead>\n",
       "  <tbody>\n",
       "    <tr>\n",
       "      <td>0</td>\n",
       "      <td>2</td>\n",
       "      <td>1.0</td>\n",
       "      <td>1.0</td>\n",
       "      <td>1.0</td>\n",
       "      <td>1.0</td>\n",
       "      <td>1.0</td>\n",
       "      <td>1.0</td>\n",
       "      <td>1.0</td>\n",
       "      <td>1.0</td>\n",
       "      <td>NaN</td>\n",
       "      <td>...</td>\n",
       "      <td>NaN</td>\n",
       "      <td>2.0</td>\n",
       "      <td>0.0</td>\n",
       "      <td>0.000000</td>\n",
       "      <td>2.0</td>\n",
       "      <td>2.0</td>\n",
       "      <td>NaN</td>\n",
       "      <td>1.0</td>\n",
       "      <td>7</td>\n",
       "      <td>1.0</td>\n",
       "    </tr>\n",
       "    <tr>\n",
       "      <td>1</td>\n",
       "      <td>1</td>\n",
       "      <td>NaN</td>\n",
       "      <td>3.0</td>\n",
       "      <td>1.0</td>\n",
       "      <td>2.0</td>\n",
       "      <td>1.0</td>\n",
       "      <td>3.0</td>\n",
       "      <td>NaN</td>\n",
       "      <td>1.0</td>\n",
       "      <td>NaN</td>\n",
       "      <td>...</td>\n",
       "      <td>2.0</td>\n",
       "      <td>1.0</td>\n",
       "      <td>1.0</td>\n",
       "      <td>0.033333</td>\n",
       "      <td>2.0</td>\n",
       "      <td>2.0</td>\n",
       "      <td>NaN</td>\n",
       "      <td>NaN</td>\n",
       "      <td>4</td>\n",
       "      <td>1.0</td>\n",
       "    </tr>\n",
       "    <tr>\n",
       "      <td>2</td>\n",
       "      <td>1</td>\n",
       "      <td>1.0</td>\n",
       "      <td>2.0</td>\n",
       "      <td>2.0</td>\n",
       "      <td>2.0</td>\n",
       "      <td>1.0</td>\n",
       "      <td>2.0</td>\n",
       "      <td>1.0</td>\n",
       "      <td>1.0</td>\n",
       "      <td>NaN</td>\n",
       "      <td>...</td>\n",
       "      <td>NaN</td>\n",
       "      <td>2.0</td>\n",
       "      <td>0.0</td>\n",
       "      <td>0.000000</td>\n",
       "      <td>2.0</td>\n",
       "      <td>2.0</td>\n",
       "      <td>NaN</td>\n",
       "      <td>NaN</td>\n",
       "      <td>2</td>\n",
       "      <td>2.0</td>\n",
       "    </tr>\n",
       "    <tr>\n",
       "      <td>3</td>\n",
       "      <td>1</td>\n",
       "      <td>1.0</td>\n",
       "      <td>1.0</td>\n",
       "      <td>4.0</td>\n",
       "      <td>4.0</td>\n",
       "      <td>1.0</td>\n",
       "      <td>1.0</td>\n",
       "      <td>2.0</td>\n",
       "      <td>1.0</td>\n",
       "      <td>NaN</td>\n",
       "      <td>...</td>\n",
       "      <td>NaN</td>\n",
       "      <td>1.0</td>\n",
       "      <td>1.0</td>\n",
       "      <td>0.033333</td>\n",
       "      <td>2.0</td>\n",
       "      <td>2.0</td>\n",
       "      <td>NaN</td>\n",
       "      <td>NaN</td>\n",
       "      <td>2</td>\n",
       "      <td>NaN</td>\n",
       "    </tr>\n",
       "    <tr>\n",
       "      <td>4</td>\n",
       "      <td>1</td>\n",
       "      <td>1.0</td>\n",
       "      <td>1.0</td>\n",
       "      <td>1.0</td>\n",
       "      <td>1.0</td>\n",
       "      <td>1.0</td>\n",
       "      <td>1.0</td>\n",
       "      <td>1.0</td>\n",
       "      <td>1.0</td>\n",
       "      <td>NaN</td>\n",
       "      <td>...</td>\n",
       "      <td>NaN</td>\n",
       "      <td>2.0</td>\n",
       "      <td>0.0</td>\n",
       "      <td>0.000000</td>\n",
       "      <td>2.0</td>\n",
       "      <td>2.0</td>\n",
       "      <td>NaN</td>\n",
       "      <td>NaN</td>\n",
       "      <td>1</td>\n",
       "      <td>2.0</td>\n",
       "    </tr>\n",
       "  </tbody>\n",
       "</table>\n",
       "<p>5 rows × 133 columns</p>\n",
       "</div>"
      ],
      "text/plain": [
       "   qxvers  mood63  mood64  mood54  mood55  mood56  mood57  mood58  mood59  \\\n",
       "0       2     1.0     1.0     1.0     1.0     1.0     1.0     1.0     1.0   \n",
       "1       1     NaN     3.0     1.0     2.0     1.0     3.0     NaN     1.0   \n",
       "2       1     1.0     2.0     2.0     2.0     1.0     2.0     1.0     1.0   \n",
       "3       1     1.0     1.0     4.0     4.0     1.0     1.0     2.0     1.0   \n",
       "4       1     1.0     1.0     1.0     1.0     1.0     1.0     1.0     1.0   \n",
       "\n",
       "   mood61  ...  condomusetrend  drinker  daysalc30  averagedrink17  \\\n",
       "0     NaN  ...             NaN      2.0        0.0        0.000000   \n",
       "1     NaN  ...             2.0      1.0        1.0        0.033333   \n",
       "2     NaN  ...             NaN      2.0        0.0        0.000000   \n",
       "3     NaN  ...             NaN      1.0        1.0        0.033333   \n",
       "4     NaN  ...             NaN      2.0        0.0        0.000000   \n",
       "\n",
       "   heavydrink17  bingenew  reasontravel3_q1  bthcntrltype17  hhsize  child  \n",
       "0           2.0       2.0               NaN             1.0       7    1.0  \n",
       "1           2.0       2.0               NaN             NaN       4    1.0  \n",
       "2           2.0       2.0               NaN             NaN       2    2.0  \n",
       "3           2.0       2.0               NaN             NaN       2    NaN  \n",
       "4           2.0       2.0               NaN             NaN       1    2.0  \n",
       "\n",
       "[5 rows x 133 columns]"
      ]
     },
     "execution_count": 4,
     "metadata": {},
     "output_type": "execute_result"
    }
   ],
   "source": [
    "# df=df18.copy()\n",
    "df=d['df17']\n",
    "df.head()"
   ]
  },
  {
   "cell_type": "code",
   "execution_count": 5,
   "metadata": {},
   "outputs": [
    {
     "data": {
      "text/plain": [
       "133"
      ]
     },
     "execution_count": 5,
     "metadata": {},
     "output_type": "execute_result"
    }
   ],
   "source": [
    "#number of features\n",
    "len(df.columns)"
   ]
  },
  {
   "cell_type": "code",
   "execution_count": 6,
   "metadata": {},
   "outputs": [
    {
     "data": {
      "text/plain": [
       "Index(['qxvers', 'mood63', 'mood64', 'mood54', 'mood55', 'mood56', 'mood57',\n",
       "       'mood58', 'mood59', 'mood61',\n",
       "       ...\n",
       "       'condomusetrend', 'drinker', 'daysalc30', 'averagedrink17',\n",
       "       'heavydrink17', 'bingenew', 'reasontravel3_q1', 'bthcntrltype17',\n",
       "       'hhsize', 'child'],\n",
       "      dtype='object', length=133)"
      ]
     },
     "execution_count": 6,
     "metadata": {},
     "output_type": "execute_result"
    }
   ],
   "source": [
    "df.columns"
   ]
  },
  {
   "cell_type": "code",
   "execution_count": 7,
   "metadata": {},
   "outputs": [
    {
     "data": {
      "text/plain": [
       "10005"
      ]
     },
     "execution_count": 7,
     "metadata": {},
     "output_type": "execute_result"
    }
   ],
   "source": [
    "#number of rows\n",
    "len(df[\"qxvers\"])"
   ]
  },
  {
   "cell_type": "code",
   "execution_count": 8,
   "metadata": {},
   "outputs": [
    {
     "data": {
      "text/plain": [
       "qxvers                 0\n",
       "mood63               182\n",
       "mood64               105\n",
       "mood54               121\n",
       "mood55               145\n",
       "                    ... \n",
       "bingenew             132\n",
       "reasontravel3_q1    9246\n",
       "bthcntrltype17      6056\n",
       "hhsize                 0\n",
       "child                 45\n",
       "Length: 133, dtype: int64"
      ]
     },
     "execution_count": 8,
     "metadata": {},
     "output_type": "execute_result"
    }
   ],
   "source": [
    "df.isnull().sum()"
   ]
  },
  {
   "cell_type": "markdown",
   "metadata": {},
   "source": [
    "qxvers-Questionnaire version\n",
    "nutrition46-cupsof fruit\n",
    "nutrition47-cups of vegetable"
   ]
  },
  {
   "cell_type": "markdown",
   "metadata": {},
   "source": [
    "# Steps followed for analysis\n",
    "#process NA values\n",
    "#find correlation between target and source variables and perform dimensionality reduction\n",
    "#divide data into training and test sets\n",
    "#apply regression\n",
    "#reduce parameters depending upon correlartion\n",
    "#apply regression again and compare models"
   ]
  },
  {
   "cell_type": "code",
   "execution_count": 9,
   "metadata": {},
   "outputs": [],
   "source": [
    "#correlation function\n",
    "#[1]https://towardsdatascience.com/better-heatmaps-and-correlation-matrix-plots-in-python-41445d0f2bec\n",
    "#[2]https://seaborn.pydata.org/examples/many_pairwise_correlations.html\n",
    "def draw_corr(corr_var):\n",
    "    # Generate a mask for the upper triangle\n",
    "    mask = np.zeros_like(corr_var, dtype=np.bool)\n",
    "    mask[np.triu_indices_from(mask)] = True\n",
    "    ax = sns.heatmap(\n",
    "        corr_var, \n",
    "        vmin=-1, vmax=1, center=0,\n",
    "        cmap=sns.diverging_palette(20, 220, n=200),\n",
    "        square=True,\n",
    "        mask=mask,\n",
    "#         annot=True\n",
    "    )\n",
    "    ax.set_xticklabels(\n",
    "        ax.get_xticklabels(),\n",
    "        rotation=45,\n",
    "        horizontalalignment='right'\n",
    "    );"
   ]
  },
  {
   "cell_type": "markdown",
   "metadata": {},
   "source": [
    "# Checking correlation between physical activity data"
   ]
  },
  {
   "cell_type": "code",
   "execution_count": 10,
   "metadata": {},
   "outputs": [],
   "source": [
    "df_train_physical=df[[\"cid\",\"exercise17\",\"cyclingfreq\",\"cycling17\",\"generalhealth\"]]"
   ]
  },
  {
   "cell_type": "code",
   "execution_count": 11,
   "metadata": {},
   "outputs": [
    {
     "data": {
      "text/plain": [
       "cid               0\n",
       "exercise17        5\n",
       "cyclingfreq      21\n",
       "cycling17        21\n",
       "generalhealth    34\n",
       "dtype: int64"
      ]
     },
     "execution_count": 11,
     "metadata": {},
     "output_type": "execute_result"
    }
   ],
   "source": [
    "df_train_physical.isnull().sum()"
   ]
  },
  {
   "cell_type": "code",
   "execution_count": 12,
   "metadata": {
    "scrolled": true
   },
   "outputs": [
    {
     "data": {
      "text/html": [
       "<div>\n",
       "<style scoped>\n",
       "    .dataframe tbody tr th:only-of-type {\n",
       "        vertical-align: middle;\n",
       "    }\n",
       "\n",
       "    .dataframe tbody tr th {\n",
       "        vertical-align: top;\n",
       "    }\n",
       "\n",
       "    .dataframe thead th {\n",
       "        text-align: right;\n",
       "    }\n",
       "</style>\n",
       "<table border=\"1\" class=\"dataframe\">\n",
       "  <thead>\n",
       "    <tr style=\"text-align: right;\">\n",
       "      <th></th>\n",
       "      <th>cid</th>\n",
       "      <th>exercise17</th>\n",
       "      <th>cyclingfreq</th>\n",
       "      <th>cycling17</th>\n",
       "      <th>generalhealth</th>\n",
       "    </tr>\n",
       "  </thead>\n",
       "  <tbody>\n",
       "    <tr>\n",
       "      <td>0</td>\n",
       "      <td>1800001</td>\n",
       "      <td>1.0</td>\n",
       "      <td>3.0</td>\n",
       "      <td>2.0</td>\n",
       "      <td>3.0</td>\n",
       "    </tr>\n",
       "    <tr>\n",
       "      <td>1</td>\n",
       "      <td>1800002</td>\n",
       "      <td>2.0</td>\n",
       "      <td>5.0</td>\n",
       "      <td>5.0</td>\n",
       "      <td>4.0</td>\n",
       "    </tr>\n",
       "    <tr>\n",
       "      <td>2</td>\n",
       "      <td>1800003</td>\n",
       "      <td>2.0</td>\n",
       "      <td>5.0</td>\n",
       "      <td>5.0</td>\n",
       "      <td>4.0</td>\n",
       "    </tr>\n",
       "    <tr>\n",
       "      <td>3</td>\n",
       "      <td>1800004</td>\n",
       "      <td>1.0</td>\n",
       "      <td>5.0</td>\n",
       "      <td>5.0</td>\n",
       "      <td>3.0</td>\n",
       "    </tr>\n",
       "    <tr>\n",
       "      <td>4</td>\n",
       "      <td>1800005</td>\n",
       "      <td>2.0</td>\n",
       "      <td>5.0</td>\n",
       "      <td>5.0</td>\n",
       "      <td>3.0</td>\n",
       "    </tr>\n",
       "  </tbody>\n",
       "</table>\n",
       "</div>"
      ],
      "text/plain": [
       "       cid  exercise17  cyclingfreq  cycling17  generalhealth\n",
       "0  1800001         1.0          3.0        2.0            3.0\n",
       "1  1800002         2.0          5.0        5.0            4.0\n",
       "2  1800003         2.0          5.0        5.0            4.0\n",
       "3  1800004         1.0          5.0        5.0            3.0\n",
       "4  1800005         2.0          5.0        5.0            3.0"
      ]
     },
     "execution_count": 12,
     "metadata": {},
     "output_type": "execute_result"
    }
   ],
   "source": [
    "#since imputed_PA08_3R_q1 has 5000+ values as N/A we will drop this column\n",
    "df_train_physical=df_train_physical[[\"cid\",\"exercise17\",\"cyclingfreq\",\"cycling17\",\"generalhealth\"]]\n",
    "df_train_physical.head()"
   ]
  },
  {
   "cell_type": "code",
   "execution_count": 13,
   "metadata": {},
   "outputs": [
    {
     "data": {
      "text/html": [
       "<div>\n",
       "<style scoped>\n",
       "    .dataframe tbody tr th:only-of-type {\n",
       "        vertical-align: middle;\n",
       "    }\n",
       "\n",
       "    .dataframe tbody tr th {\n",
       "        vertical-align: top;\n",
       "    }\n",
       "\n",
       "    .dataframe thead th {\n",
       "        text-align: right;\n",
       "    }\n",
       "</style>\n",
       "<table border=\"1\" class=\"dataframe\">\n",
       "  <thead>\n",
       "    <tr style=\"text-align: right;\">\n",
       "      <th></th>\n",
       "      <th>cid</th>\n",
       "      <th>exercise17</th>\n",
       "      <th>cyclingfreq</th>\n",
       "      <th>cycling17</th>\n",
       "      <th>generalhealth</th>\n",
       "    </tr>\n",
       "  </thead>\n",
       "  <tbody>\n",
       "    <tr>\n",
       "      <td>0</td>\n",
       "      <td>1800001</td>\n",
       "      <td>1.0</td>\n",
       "      <td>3.0</td>\n",
       "      <td>2.0</td>\n",
       "      <td>3.0</td>\n",
       "    </tr>\n",
       "    <tr>\n",
       "      <td>1</td>\n",
       "      <td>1800002</td>\n",
       "      <td>2.0</td>\n",
       "      <td>5.0</td>\n",
       "      <td>5.0</td>\n",
       "      <td>4.0</td>\n",
       "    </tr>\n",
       "    <tr>\n",
       "      <td>2</td>\n",
       "      <td>1800003</td>\n",
       "      <td>2.0</td>\n",
       "      <td>5.0</td>\n",
       "      <td>5.0</td>\n",
       "      <td>4.0</td>\n",
       "    </tr>\n",
       "    <tr>\n",
       "      <td>3</td>\n",
       "      <td>1800004</td>\n",
       "      <td>1.0</td>\n",
       "      <td>5.0</td>\n",
       "      <td>5.0</td>\n",
       "      <td>3.0</td>\n",
       "    </tr>\n",
       "    <tr>\n",
       "      <td>4</td>\n",
       "      <td>1800005</td>\n",
       "      <td>2.0</td>\n",
       "      <td>5.0</td>\n",
       "      <td>5.0</td>\n",
       "      <td>3.0</td>\n",
       "    </tr>\n",
       "  </tbody>\n",
       "</table>\n",
       "</div>"
      ],
      "text/plain": [
       "       cid  exercise17  cyclingfreq  cycling17  generalhealth\n",
       "0  1800001         1.0          3.0        2.0            3.0\n",
       "1  1800002         2.0          5.0        5.0            4.0\n",
       "2  1800003         2.0          5.0        5.0            4.0\n",
       "3  1800004         1.0          5.0        5.0            3.0\n",
       "4  1800005         2.0          5.0        5.0            3.0"
      ]
     },
     "execution_count": 13,
     "metadata": {},
     "output_type": "execute_result"
    }
   ],
   "source": [
    "#dropping NaN values\n",
    "df_train_physical=df_train_physical.dropna()\n",
    "df_train_physical.head()"
   ]
  },
  {
   "cell_type": "code",
   "execution_count": 14,
   "metadata": {},
   "outputs": [
    {
     "data": {
      "text/html": [
       "<div>\n",
       "<style scoped>\n",
       "    .dataframe tbody tr th:only-of-type {\n",
       "        vertical-align: middle;\n",
       "    }\n",
       "\n",
       "    .dataframe tbody tr th {\n",
       "        vertical-align: top;\n",
       "    }\n",
       "\n",
       "    .dataframe thead th {\n",
       "        text-align: right;\n",
       "    }\n",
       "</style>\n",
       "<table border=\"1\" class=\"dataframe\">\n",
       "  <thead>\n",
       "    <tr style=\"text-align: right;\">\n",
       "      <th></th>\n",
       "      <th>cid</th>\n",
       "      <th>exercise17</th>\n",
       "      <th>cyclingfreq</th>\n",
       "      <th>cycling17</th>\n",
       "      <th>generalhealth</th>\n",
       "    </tr>\n",
       "  </thead>\n",
       "  <tbody>\n",
       "    <tr>\n",
       "      <td>cid</td>\n",
       "      <td>1.000000</td>\n",
       "      <td>-0.046785</td>\n",
       "      <td>-0.145870</td>\n",
       "      <td>-0.147426</td>\n",
       "      <td>-0.125651</td>\n",
       "    </tr>\n",
       "    <tr>\n",
       "      <td>exercise17</td>\n",
       "      <td>-0.046785</td>\n",
       "      <td>1.000000</td>\n",
       "      <td>0.151944</td>\n",
       "      <td>0.148449</td>\n",
       "      <td>0.208027</td>\n",
       "    </tr>\n",
       "    <tr>\n",
       "      <td>cyclingfreq</td>\n",
       "      <td>-0.145870</td>\n",
       "      <td>0.151944</td>\n",
       "      <td>1.000000</td>\n",
       "      <td>0.952796</td>\n",
       "      <td>0.192472</td>\n",
       "    </tr>\n",
       "    <tr>\n",
       "      <td>cycling17</td>\n",
       "      <td>-0.147426</td>\n",
       "      <td>0.148449</td>\n",
       "      <td>0.952796</td>\n",
       "      <td>1.000000</td>\n",
       "      <td>0.185225</td>\n",
       "    </tr>\n",
       "    <tr>\n",
       "      <td>generalhealth</td>\n",
       "      <td>-0.125651</td>\n",
       "      <td>0.208027</td>\n",
       "      <td>0.192472</td>\n",
       "      <td>0.185225</td>\n",
       "      <td>1.000000</td>\n",
       "    </tr>\n",
       "  </tbody>\n",
       "</table>\n",
       "</div>"
      ],
      "text/plain": [
       "                    cid  exercise17  cyclingfreq  cycling17  generalhealth\n",
       "cid            1.000000   -0.046785    -0.145870  -0.147426      -0.125651\n",
       "exercise17    -0.046785    1.000000     0.151944   0.148449       0.208027\n",
       "cyclingfreq   -0.145870    0.151944     1.000000   0.952796       0.192472\n",
       "cycling17     -0.147426    0.148449     0.952796   1.000000       0.185225\n",
       "generalhealth -0.125651    0.208027     0.192472   0.185225       1.000000"
      ]
     },
     "execution_count": 14,
     "metadata": {},
     "output_type": "execute_result"
    }
   ],
   "source": [
    "#correlation\n",
    "#[1]https://towardsdatascience.com/better-heatmaps-and-correlation-matrix-plots-in-python-41445d0f2bec\n",
    "corr_1 = df_train_physical.corr()\n",
    "corr_1"
   ]
  },
  {
   "cell_type": "code",
   "execution_count": 15,
   "metadata": {},
   "outputs": [
    {
     "data": {
      "image/png": "[encoded data removed]",
      "text/plain": [
       "<Figure size 432x288 with 2 Axes>"
      ]
     },
     "metadata": {
      "needs_background": "light"
     },
     "output_type": "display_data"
    }
   ],
   "source": [
    "ax = sns.heatmap(\n",
    "    corr_1, \n",
    "    vmin=-1, vmax=1, center=0,\n",
    "    cmap=sns.diverging_palette(20, 220, n=200),\n",
    "    square=True\n",
    ")\n",
    "ax.set_xticklabels(\n",
    "    ax.get_xticklabels(),\n",
    "    rotation=45,\n",
    "    horizontalalignment='right'\n",
    ");"
   ]
  },
  {
   "cell_type": "markdown",
   "metadata": {},
   "source": [
    "#we see that cyclingfreq and cycling17 are highly correlated, so we can remove one of them. We remove cycling18 as it is less relevent out of the two for our analysis"
   ]
  },
  {
   "cell_type": "code",
   "execution_count": 16,
   "metadata": {},
   "outputs": [
    {
     "data": {
      "text/html": [
       "<div>\n",
       "<style scoped>\n",
       "    .dataframe tbody tr th:only-of-type {\n",
       "        vertical-align: middle;\n",
       "    }\n",
       "\n",
       "    .dataframe tbody tr th {\n",
       "        vertical-align: top;\n",
       "    }\n",
       "\n",
       "    .dataframe thead th {\n",
       "        text-align: right;\n",
       "    }\n",
       "</style>\n",
       "<table border=\"1\" class=\"dataframe\">\n",
       "  <thead>\n",
       "    <tr style=\"text-align: right;\">\n",
       "      <th></th>\n",
       "      <th>cid</th>\n",
       "      <th>exercise17</th>\n",
       "      <th>cyclingfreq</th>\n",
       "      <th>generalhealth</th>\n",
       "    </tr>\n",
       "  </thead>\n",
       "  <tbody>\n",
       "    <tr>\n",
       "      <td>0</td>\n",
       "      <td>1800001</td>\n",
       "      <td>1.0</td>\n",
       "      <td>3.0</td>\n",
       "      <td>3.0</td>\n",
       "    </tr>\n",
       "    <tr>\n",
       "      <td>1</td>\n",
       "      <td>1800002</td>\n",
       "      <td>2.0</td>\n",
       "      <td>5.0</td>\n",
       "      <td>4.0</td>\n",
       "    </tr>\n",
       "    <tr>\n",
       "      <td>2</td>\n",
       "      <td>1800003</td>\n",
       "      <td>2.0</td>\n",
       "      <td>5.0</td>\n",
       "      <td>4.0</td>\n",
       "    </tr>\n",
       "    <tr>\n",
       "      <td>3</td>\n",
       "      <td>1800004</td>\n",
       "      <td>1.0</td>\n",
       "      <td>5.0</td>\n",
       "      <td>3.0</td>\n",
       "    </tr>\n",
       "    <tr>\n",
       "      <td>4</td>\n",
       "      <td>1800005</td>\n",
       "      <td>2.0</td>\n",
       "      <td>5.0</td>\n",
       "      <td>3.0</td>\n",
       "    </tr>\n",
       "  </tbody>\n",
       "</table>\n",
       "</div>"
      ],
      "text/plain": [
       "       cid  exercise17  cyclingfreq  generalhealth\n",
       "0  1800001         1.0          3.0            3.0\n",
       "1  1800002         2.0          5.0            4.0\n",
       "2  1800003         2.0          5.0            4.0\n",
       "3  1800004         1.0          5.0            3.0\n",
       "4  1800005         2.0          5.0            3.0"
      ]
     },
     "execution_count": 16,
     "metadata": {},
     "output_type": "execute_result"
    }
   ],
   "source": [
    "df_train_physical=df_train_physical[[\"cid\",\"exercise17\",\"cyclingfreq\",\"generalhealth\"]]\n",
    "df_train_physical.head()"
   ]
  },
  {
   "cell_type": "code",
   "execution_count": 17,
   "metadata": {},
   "outputs": [
    {
     "name": "stdout",
     "output_type": "stream",
     "text": [
      "               exercise17  cyclingfreq  generalhealth\n",
      "exercise17       1.000000     0.151944       0.208027\n",
      "cyclingfreq      0.151944     1.000000       0.192472\n",
      "generalhealth    0.208027     0.192472       1.000000\n"
     ]
    },
    {
     "data": {
      "image/png": "[encoded data removed]",
      "text/plain": [
       "<Figure size 432x288 with 2 Axes>"
      ]
     },
     "metadata": {
      "needs_background": "light"
     },
     "output_type": "display_data"
    }
   ],
   "source": [
    "corr_2 = df_train_physical[[\"exercise17\",\"cyclingfreq\",\"generalhealth\"]].corr()\n",
    "draw_corr(corr_2)\n",
    "print(corr_2)\n",
    "#All have positive correlation. exercise18 is most correlated to general health"
   ]
  },
  {
   "cell_type": "markdown",
   "metadata": {},
   "source": [
    "# Checking correlation between Nutrition data"
   ]
  },
  {
   "cell_type": "code",
   "execution_count": 18,
   "metadata": {},
   "outputs": [
    {
     "name": "stdout",
     "output_type": "stream",
     "text": [
      "   nutrition46  nutrition47  fruitveg17  nsodaperday17  avgsodaperday17  \\\n",
      "0          1.0          1.0         2.0       0.142857              2.0   \n",
      "1          1.0          1.0         2.0       0.033058              2.0   \n",
      "2          1.0          1.0         2.0       0.000000              1.0   \n",
      "3          0.0          0.0         1.0       0.066116              2.0   \n",
      "4          0.0          1.0         2.0       0.033058              2.0   \n",
      "\n",
      "   twoplussoda  nsugardrinkperday17  avgsugarperday17  nsodasugarperday17  \\\n",
      "0          2.0             0.000000               1.0            0.142857   \n",
      "1          2.0             0.000000               1.0            0.033058   \n",
      "2          2.0             1.000000               3.0            1.000000   \n",
      "3          2.0             0.033058               2.0            0.099174   \n",
      "4          2.0             1.000000               3.0            1.033058   \n",
      "\n",
      "   avgsodasugarperday17  ssb  generalhealth  \n",
      "0                   2.0  2.0            3.0  \n",
      "1                   2.0  2.0            4.0  \n",
      "2                   3.0  1.0            4.0  \n",
      "3                   2.0  2.0            3.0  \n",
      "4                   4.0  1.0            3.0  \n"
     ]
    },
    {
     "data": {
      "text/plain": [
       "nutrition46             134\n",
       "nutrition47             171\n",
       "fruitveg17              254\n",
       "nsodaperday17            65\n",
       "avgsodaperday17          65\n",
       "twoplussoda              65\n",
       "nsugardrinkperday17     101\n",
       "avgsugarperday17        101\n",
       "nsodasugarperday17       83\n",
       "avgsodasugarperday17     83\n",
       "ssb                      83\n",
       "generalhealth            34\n",
       "dtype: int64"
      ]
     },
     "execution_count": 18,
     "metadata": {},
     "output_type": "execute_result"
    }
   ],
   "source": [
    "df_train_nutrition = df[[\"nutrition46\",\"nutrition47\",\"fruitveg17\",\n",
    "                         \"nsodaperday17\",\"avgsodaperday17\",\"twoplussoda\",\n",
    "                         \"nsugardrinkperday17\",\"avgsugarperday17\",\"nsodasugarperday17\",\n",
    "                         \"avgsodasugarperday17\",\"ssb\",\n",
    "                         \"generalhealth\"]]\n",
    "print(df_train_nutrition.head())\n",
    "df_train_nutrition.isnull().sum()\n"
   ]
  },
  {
   "cell_type": "code",
   "execution_count": 19,
   "metadata": {},
   "outputs": [
    {
     "data": {
      "text/plain": [
       "avgsugarperday17      generalhealth       0.002275\n",
       "generalhealth         avgsugarperday17    0.002275\n",
       "                      avgsodaperday17     0.003586\n",
       "avgsodaperday17       generalhealth       0.003586\n",
       "avgsodasugarperday17  generalhealth       0.008651\n",
       "                                            ...   \n",
       "nsodaperday17         nsodaperday17       1.000000\n",
       "fruitveg17            fruitveg17          1.000000\n",
       "nutrition47           nutrition47         1.000000\n",
       "ssb                   ssb                 1.000000\n",
       "generalhealth         generalhealth       1.000000\n",
       "Length: 144, dtype: float64"
      ]
     },
     "execution_count": 19,
     "metadata": {},
     "output_type": "execute_result"
    },
    {
     "data": {
      "image/png": "[encoded data removed]",
      "text/plain": [
       "<Figure size 432x288 with 2 Axes>"
      ]
     },
     "metadata": {
      "needs_background": "light"
     },
     "output_type": "display_data"
    }
   ],
   "source": [
    "#[1]https://stackoverflow.com/questions/17778394/list-highest-correlation-pairs-from-a-large-correlation-matrix-in-pandas\n",
    "\n",
    "df_train_nutrition=df_train_nutrition.dropna()\n",
    "corr_3 = df_train_nutrition.corr().abs()\n",
    "draw_corr(corr_3)\n",
    "\n",
    "corr_3.unstack().sort_values(kind=\"quicksort\")\n"
   ]
  },
  {
   "cell_type": "raw",
   "metadata": {},
   "source": [
    "Top most correlated columns are:\n",
    "\n",
    "#avgsodasugarperday18  avgsugarperday18        0.791910\n",
    "\n",
    "#nsodasugarperday18    #nsugardrinkperday18     0.795683\n",
    "\n",
    "#nsodaperday18         #twoplussoda             0.801386\n",
    "\n",
    "#nsodaperday18         #nsodasugarperday18      0.804585\n",
    "\n",
    "#nsugardrinkperday18   avgsugarperday18        0.816938\n",
    "\n",
    "ssb                   #avgsodasugarperday18    0.897011\n",
    "\n",
    "We observed that ssb, avgsugarperday18 and avgsodaperday18, avgsugarperday18 and ssb will encompass most of the variables. So we eliminated other corelated features. This makes sense as all these features talk about tye number of soda or other sweetned drink an individual drinks in a day. Also fruitveg17 is correlated to nutrition46 and nutrition47, thus we can eliminate fruitveg17 and keep nutrition46 and nutrion47 features.\n",
    "\n",
    "# - eliminated features\n"
   ]
  },
  {
   "cell_type": "code",
   "execution_count": 20,
   "metadata": {},
   "outputs": [
    {
     "data": {
      "text/plain": [
       "avgsugarperday17  generalhealth       0.002275\n",
       "generalhealth     avgsugarperday17    0.002275\n",
       "avgsodaperday17   generalhealth       0.003586\n",
       "generalhealth     avgsodaperday17     0.003586\n",
       "ssb               generalhealth       0.039407\n",
       "generalhealth     ssb                 0.039407\n",
       "avgsugarperday17  nutrition46         0.089620\n",
       "nutrition46       avgsugarperday17    0.089620\n",
       "ssb               nutrition46         0.106992\n",
       "nutrition46       ssb                 0.106992\n",
       "nutrition47       ssb                 0.110719\n",
       "ssb               nutrition47         0.110719\n",
       "nutrition47       avgsugarperday17    0.112929\n",
       "avgsugarperday17  nutrition47         0.112929\n",
       "nutrition46       avgsodaperday17     0.114011\n",
       "avgsodaperday17   nutrition46         0.114011\n",
       "nutrition47       avgsodaperday17     0.118229\n",
       "avgsodaperday17   nutrition47         0.118229\n",
       "generalhealth     nutrition46         0.120746\n",
       "nutrition46       generalhealth       0.120746\n",
       "generalhealth     nutrition47         0.150984\n",
       "nutrition47       generalhealth       0.150984\n",
       "                  nutrition46         0.311608\n",
       "nutrition46       nutrition47         0.311608\n",
       "avgsodaperday17   avgsugarperday17    0.322108\n",
       "avgsugarperday17  avgsodaperday17     0.322108\n",
       "ssb               avgsodaperday17     0.601755\n",
       "avgsodaperday17   ssb                 0.601755\n",
       "avgsugarperday17  ssb                 0.687188\n",
       "ssb               avgsugarperday17    0.687188\n",
       "nutrition46       nutrition46         1.000000\n",
       "avgsugarperday17  avgsugarperday17    1.000000\n",
       "avgsodaperday17   avgsodaperday17     1.000000\n",
       "nutrition47       nutrition47         1.000000\n",
       "ssb               ssb                 1.000000\n",
       "generalhealth     generalhealth       1.000000\n",
       "dtype: float64"
      ]
     },
     "execution_count": 20,
     "metadata": {},
     "output_type": "execute_result"
    },
    {
     "data": {
      "image/png": "[encoded data removed]",
      "text/plain": [
       "<Figure size 432x288 with 2 Axes>"
      ]
     },
     "metadata": {
      "needs_background": "light"
     },
     "output_type": "display_data"
    }
   ],
   "source": [
    "# features dropped pertaining to high correlation with other features :  \n",
    "df_train_nutrition = df_train_nutrition[[\"nutrition46\",\"nutrition47\"\n",
    "                        ,\"avgsodaperday17\"\n",
    "                        ,\"avgsugarperday17\"\n",
    "                         ,\"ssb\"\n",
    "                         ,\"generalhealth\"]]\n",
    "\n",
    "#finding correlation in remaining features\n",
    "corr_nutrition = df_train_nutrition.corr().abs()\n",
    "draw_corr(corr_nutrition)\n",
    "corr_nutrition.unstack().sort_values(kind=\"quicksort\")\n"
   ]
  },
  {
   "cell_type": "markdown",
   "metadata": {},
   "source": [
    "#Next most correlated columns after deleting the previous coulmns:\n",
    "\n",
    "nutrition47       fruitveg18          0.597664\n",
    "fruitveg18        nutrition46         0.624137\n",
    "avgsodaperday18   ssb                 0.626788\n",
    "\n",
    "ssb               avgsugarperday18   -0.687271\n",
    "\n",
    "ssb is correlated to both avgsodaperday18 and avgsugarperday18. We will keep ssb as it combines both soda and other drinks consumed by an individual. Also nutrition47 and fruitveg18 are correlated. Lets keep them for now as corelation is not very strong."
   ]
  },
  {
   "cell_type": "code",
   "execution_count": 159,
   "metadata": {},
   "outputs": [],
   "source": [
    "# features dropped pertaining to high correlation with other features :  \n",
    "df_train_nutrition = df_train_nutrition[[\"nutrition46\",\"nutrition47\"\n",
    "                         ,\"ssb\"\n",
    "                         ,\"generalhealth\"]]"
   ]
  },
  {
   "cell_type": "markdown",
   "metadata": {},
   "source": [
    "# Making prediction and checking rmse"
   ]
  },
  {
   "cell_type": "code",
   "execution_count": 21,
   "metadata": {},
   "outputs": [],
   "source": [
    "#[1]https://scikit-learn.org/stable/modules/generated/sklearn.decomposition.TruncatedSVD.html\n",
    "#[2]https://scikit-learn.org/stable/modules/generated/sklearn.linear_model.LogisticRegression.html\n",
    "#[3]https://towardsdatascience.com/pca-using-python-scikit-learn-e653f8989e60\n",
    "#[4]https://scikit-learn.org/stable/modules/generated/sklearn.decomposition.PCA.html\n",
    "\n",
    "from sklearn.decomposition import TruncatedSVD\n",
    "from sklearn.random_projection import sparse_random_matrix\n",
    "from sklearn.naive_bayes import GaussianNB\n",
    "from sklearn.metrics import mean_squared_error\n",
    "from math import sqrt\n",
    "\n",
    "#function for rmse calculation of model\n",
    "def model_apply(x,y,algo,n):\n",
    "    x_train, x_test, y_train, y_test = train_test_split(x,y,test_size=0.25,random_state=0)\n",
    "    scaler = StandardScaler()\n",
    "    # Fit on training set only.\n",
    "    scaler.fit(x_train)\n",
    "    # Apply transform to both the training set and the test set.\n",
    "    x_train = scaler.transform(x_train)\n",
    "    x_test = scaler.transform(x_test)\n",
    "    \n",
    "    pca = PCA(n_components=n,tol=.95)\n",
    "    pca.fit(x_test)\n",
    "    print(pca.explained_variance_ratio_) \n",
    "    \n",
    "    x_train = pca.transform(x_train)\n",
    "    x_test = pca.transform(x_test)\n",
    "    \n",
    "#     principalDf = pd.DataFrame(data = x_train\n",
    "#              , columns = ['pc1', 'pc2','pc3'])\n",
    "#     print(principalDf)\n",
    "\n",
    "    #model selection\n",
    "    if algo==1:\n",
    "        model=LogisticRegression(random_state=0, solver='lbfgs',multi_class='multinomial',max_iter=200)\n",
    "    elif algo==2:\n",
    "        model=GaussianNB()\n",
    "    elif algo==3:\n",
    "        model=DecisionTreeClassifier()\n",
    "    elif algo==4:\n",
    "        model=svm.SVC(gamma='scale')\n",
    "    elif algo==5:\n",
    "        model=Perceptron(tol=1e-3, random_state=0)\n",
    "        \n",
    "        # Train the model using the training sets\n",
    "    model.fit(x_train,y_train.values.ravel())\n",
    "\n",
    "    # Predict Output\n",
    "    y_pred = model.predict(x_test)\n",
    "    print (\"Predicted Value:\", y_pred)\n",
    "    print(\"Accuracy:\",metrics.accuracy_score(y_test, y_pred))\n",
    "    print(confusion_matrix(y_test,y_pred))\n",
    "    print(classification_report(y_test,y_pred))\n",
    "    rmse = sqrt(mean_squared_error(y_test, y_pred))\n",
    "    return(rmse)"
   ]
  },
  {
   "cell_type": "markdown",
   "metadata": {},
   "source": [
    "# Physical Activity vs General Health"
   ]
  },
  {
   "cell_type": "code",
   "execution_count": 22,
   "metadata": {},
   "outputs": [],
   "source": [
    "#preparing training and test data\n",
    "x=df_train_physical[[\"exercise17\",\"cyclingfreq\"]] #source feature\n",
    "y=df_train_physical[[\"generalhealth\"]] #target feature\n",
    "# algo=LogisticRegression(random_state=0, solver='lbfgs',multi_class='multinomial') #rmse=1.1085\n",
    "# model = GaussianNB() #rmse=1.28"
   ]
  },
  {
   "cell_type": "code",
   "execution_count": 31,
   "metadata": {},
   "outputs": [
    {
     "name": "stdout",
     "output_type": "stream",
     "text": [
      "[0.58630123 0.41369877]\n",
      "Predicted Value: [2. 3. 4. ... 3. 3. 2.]\n",
      "Accuracy: 0.32971451548049857\n",
      "[[  0 105 254   5   0]\n",
      " [  0 155 516   9   0]\n",
      " [  0 124 648  14   0]\n",
      " [  0  47 447  17   0]\n",
      " [  0   7 126  13   0]]\n",
      "              precision    recall  f1-score   support\n",
      "\n",
      "         1.0       0.00      0.00      0.00       364\n",
      "         2.0       0.35      0.23      0.28       680\n",
      "         3.0       0.33      0.82      0.47       786\n",
      "         4.0       0.29      0.03      0.06       511\n",
      "         5.0       0.00      0.00      0.00       146\n",
      "\n",
      "    accuracy                           0.33      2487\n",
      "   macro avg       0.19      0.22      0.16      2487\n",
      "weighted avg       0.26      0.33      0.24      2487\n",
      "\n"
     ]
    },
    {
     "name": "stderr",
     "output_type": "stream",
     "text": [
      "/usr/local/lib/python3.7/site-packages/sklearn/metrics/classification.py:1437: UndefinedMetricWarning: Precision and F-score are ill-defined and being set to 0.0 in labels with no predicted samples.\n",
      "  'precision', 'predicted', average, warn_for)\n"
     ]
    },
    {
     "data": {
      "text/plain": [
       "1.1112250310183447"
      ]
     },
     "execution_count": 31,
     "metadata": {},
     "output_type": "execute_result"
    }
   ],
   "source": [
    "model_apply(x,y,3,2)"
   ]
  },
  {
   "cell_type": "markdown",
   "metadata": {},
   "source": [
    "# Nutrition vs General Health"
   ]
  },
  {
   "cell_type": "code",
   "execution_count": 47,
   "metadata": {},
   "outputs": [
    {
     "name": "stdout",
     "output_type": "stream",
     "text": [
      "[0.44593437 0.32665567 0.22740996]\n",
      "Predicted Value: [3. 2. 3. ... 3. 3. 2.]\n",
      "Accuracy: 0.3087806908031627\n",
      "[[  4 171 230   1   0]\n",
      " [  8 225 421   0   0]\n",
      " [  4 195 512   0   0]\n",
      " [  3  99 367   1   0]\n",
      " [  2  28 132   0   0]]\n",
      "              precision    recall  f1-score   support\n",
      "\n",
      "         1.0       0.19      0.01      0.02       406\n",
      "         2.0       0.31      0.34      0.33       654\n",
      "         3.0       0.31      0.72      0.43       711\n",
      "         4.0       0.50      0.00      0.00       470\n",
      "         5.0       0.00      0.00      0.00       162\n",
      "\n",
      "    accuracy                           0.31      2403\n",
      "   macro avg       0.26      0.22      0.16      2403\n",
      "weighted avg       0.31      0.31      0.22      2403\n",
      "\n"
     ]
    },
    {
     "name": "stderr",
     "output_type": "stream",
     "text": [
      "/usr/local/lib/python3.7/site-packages/sklearn/metrics/classification.py:1437: UndefinedMetricWarning: Precision and F-score are ill-defined and being set to 0.0 in labels with no predicted samples.\n",
      "  'precision', 'predicted', average, warn_for)\n"
     ]
    },
    {
     "data": {
      "text/plain": [
       "1.179305536349643"
      ]
     },
     "execution_count": 47,
     "metadata": {},
     "output_type": "execute_result"
    }
   ],
   "source": [
    "#preparing training and test data\n",
    "x=df_train_nutrition[[\"nutrition46\",\"nutrition47\",\"ssb\"]] #source feature\n",
    "y=df_train_nutrition[[\"generalhealth\"]] #target feature\n",
    "# algo=LogisticRegression(random_state=0, solver='lbfgs',multi_class='multinomial') #rmse=1.1.1635\n",
    "# model = GaussianNB() #rmse=1.28\n",
    "model_apply(x,y,3,3)"
   ]
  },
  {
   "cell_type": "markdown",
   "metadata": {},
   "source": [
    "# Checking correlation between CardioVascular Health data"
   ]
  },
  {
   "cell_type": "code",
   "execution_count": 48,
   "metadata": {},
   "outputs": [
    {
     "name": "stdout",
     "output_type": "stream",
     "text": [
      "   toldhighbp17  toldprescription17  takingmeds17  generalhealth\n",
      "0           2.0                 NaN           NaN            3.0\n",
      "1           2.0                 NaN           NaN            4.0\n",
      "2           1.0                 1.0           1.0            4.0\n",
      "3           2.0                 NaN           NaN            3.0\n",
      "4           1.0                 2.0           NaN            3.0\n"
     ]
    },
    {
     "data": {
      "text/plain": [
       "toldhighbp17            34\n",
       "toldprescription17    6524\n",
       "takingmeds17          6901\n",
       "generalhealth           34\n",
       "dtype: int64"
      ]
     },
     "execution_count": 48,
     "metadata": {},
     "output_type": "execute_result"
    }
   ],
   "source": [
    "df_train_cardio=df[[\"toldhighbp17\",\"toldprescription17\",\"takingmeds17\",\"generalhealth\"]]\n",
    "print(df_train_cardio.head())\n",
    "df_train_cardio.isnull().sum()"
   ]
  },
  {
   "cell_type": "markdown",
   "metadata": {},
   "source": [
    "toldprescription18 and takingmeds18 has high NA values so we have to drop them from dataset"
   ]
  },
  {
   "cell_type": "code",
   "execution_count": 49,
   "metadata": {},
   "outputs": [
    {
     "name": "stdout",
     "output_type": "stream",
     "text": [
      "   toldhighbp17  generalhealth\n",
      "0           2.0            3.0\n",
      "1           2.0            4.0\n",
      "2           1.0            4.0\n",
      "3           2.0            3.0\n",
      "4           1.0            3.0\n"
     ]
    },
    {
     "data": {
      "text/plain": [
       "toldhighbp17     34\n",
       "generalhealth    34\n",
       "dtype: int64"
      ]
     },
     "execution_count": 49,
     "metadata": {},
     "output_type": "execute_result"
    }
   ],
   "source": [
    "df_train_cardio=df[[\"toldhighbp17\",\"generalhealth\"]]\n",
    "print(df_train_cardio.head())\n",
    "df_train_cardio.isnull().sum()"
   ]
  },
  {
   "cell_type": "code",
   "execution_count": 50,
   "metadata": {},
   "outputs": [
    {
     "data": {
      "text/plain": [
       "toldhighbp17   generalhealth    0.316189\n",
       "generalhealth  toldhighbp17     0.316189\n",
       "toldhighbp17   toldhighbp17     1.000000\n",
       "generalhealth  generalhealth    1.000000\n",
       "dtype: float64"
      ]
     },
     "execution_count": 50,
     "metadata": {},
     "output_type": "execute_result"
    },
    {
     "data": {
      "image/png": "[encoded data removed]",
      "text/plain": [
       "<Figure size 432x288 with 2 Axes>"
      ]
     },
     "metadata": {
      "needs_background": "light"
     },
     "output_type": "display_data"
    }
   ],
   "source": [
    "df_train_cardio=df_train_cardio.dropna()\n",
    "corr_cardio = df_train_cardio.corr().abs()\n",
    "draw_corr(corr_cardio)\n",
    "corr_cardio.unstack().sort_values(kind=\"quicksort\")"
   ]
  },
  {
   "cell_type": "markdown",
   "metadata": {},
   "source": [
    "# Cardio vs General Health\n"
   ]
  },
  {
   "cell_type": "code",
   "execution_count": 54,
   "metadata": {},
   "outputs": [
    {
     "name": "stdout",
     "output_type": "stream",
     "text": [
      "[1.]\n",
      "Predicted Value: [3. 2. 2. ... 2. 2. 3.]\n",
      "Accuracy: 0.30824949698189136\n",
      "[[  0 355  73   0   0]\n",
      " [  0 490 148   0   0]\n",
      " [  0 504 276   0   0]\n",
      " [  0 224 259   0   0]\n",
      " [  0  47 109   0   0]]\n",
      "              precision    recall  f1-score   support\n",
      "\n",
      "         1.0       0.00      0.00      0.00       428\n",
      "         2.0       0.30      0.77      0.43       638\n",
      "         3.0       0.32      0.35      0.34       780\n",
      "         4.0       0.00      0.00      0.00       483\n",
      "         5.0       0.00      0.00      0.00       156\n",
      "\n",
      "    accuracy                           0.31      2485\n",
      "   macro avg       0.12      0.22      0.15      2485\n",
      "weighted avg       0.18      0.31      0.22      2485\n",
      "\n"
     ]
    },
    {
     "name": "stderr",
     "output_type": "stream",
     "text": [
      "/usr/local/lib/python3.7/site-packages/sklearn/metrics/classification.py:1437: UndefinedMetricWarning: Precision and F-score are ill-defined and being set to 0.0 in labels with no predicted samples.\n",
      "  'precision', 'predicted', average, warn_for)\n"
     ]
    },
    {
     "data": {
      "text/plain": [
       "1.1546424533902373"
      ]
     },
     "execution_count": 54,
     "metadata": {},
     "output_type": "execute_result"
    }
   ],
   "source": [
    "df_train_cardio=df_train_cardio[[\"toldhighbp17\",\"generalhealth\"]]\n",
    "df_train_cardio=df_train_cardio.dropna()\n",
    "#preparing training and test data\n",
    "x=df_train_cardio[[\"toldhighbp17\"]] #source feature\n",
    "y=df_train_cardio[[\"generalhealth\"]] #target feature\n",
    "# algo=LogisticRegression(random_state=0, solver='lbfgs',multi_class='multinomial') #rmse=1.15\n",
    "# model = GaussianNB() #rmse=1.28\n",
    "model_apply(x,y,3,1)"
   ]
  },
  {
   "cell_type": "markdown",
   "metadata": {},
   "source": [
    "# Checking correlation between Diabetes data"
   ]
  },
  {
   "cell_type": "code",
   "execution_count": 55,
   "metadata": {},
   "outputs": [
    {
     "name": "stdout",
     "output_type": "stream",
     "text": [
      "   diabetes17  generalhealth\n",
      "0         2.0            3.0\n",
      "1         2.0            4.0\n",
      "2         2.0            4.0\n",
      "3         2.0            3.0\n",
      "4         2.0            3.0\n"
     ]
    },
    {
     "data": {
      "text/plain": [
       "diabetes17       19\n",
       "generalhealth    34\n",
       "dtype: int64"
      ]
     },
     "execution_count": 55,
     "metadata": {},
     "output_type": "execute_result"
    }
   ],
   "source": [
    "df_train_diabetes=df[[\"diabetes17\",\"generalhealth\"]]\n",
    "print(df_train_diabetes.head())\n",
    "df_train_diabetes.isnull().sum()"
   ]
  },
  {
   "cell_type": "markdown",
   "metadata": {},
   "source": [
    "Since only one column is there is no need to check correlation here.\n",
    "\n",
    "# Diabetes vs General Health "
   ]
  },
  {
   "cell_type": "code",
   "execution_count": 58,
   "metadata": {},
   "outputs": [
    {
     "name": "stdout",
     "output_type": "stream",
     "text": [
      "[1.]\n",
      "Predicted Value: [3. 3. 3. ... 3. 3. 3.]\n",
      "Accuracy: 0.33038585209003213\n",
      "[[  0   0 399  19   0]\n",
      " [  0   0 610  42   0]\n",
      " [  0   0 684  90   0]\n",
      " [  0   0 351 138   0]\n",
      " [  0   0  91  64   0]]\n",
      "              precision    recall  f1-score   support\n",
      "\n",
      "         1.0       0.00      0.00      0.00       418\n",
      "         2.0       0.00      0.00      0.00       652\n",
      "         3.0       0.32      0.88      0.47       774\n",
      "         4.0       0.39      0.28      0.33       489\n",
      "         5.0       0.00      0.00      0.00       155\n",
      "\n",
      "    accuracy                           0.33      2488\n",
      "   macro avg       0.14      0.23      0.16      2488\n",
      "weighted avg       0.18      0.33      0.21      2488\n",
      "\n"
     ]
    },
    {
     "name": "stderr",
     "output_type": "stream",
     "text": [
      "/usr/local/lib/python3.7/site-packages/sklearn/metrics/classification.py:1437: UndefinedMetricWarning: Precision and F-score are ill-defined and being set to 0.0 in labels with no predicted samples.\n",
      "  'precision', 'predicted', average, warn_for)\n"
     ]
    },
    {
     "data": {
      "text/plain": [
       "1.1714036431464812"
      ]
     },
     "execution_count": 58,
     "metadata": {},
     "output_type": "execute_result"
    }
   ],
   "source": [
    "df_train_diabetes=df_train_diabetes[[\"diabetes17\",\"generalhealth\"]]\n",
    "df_train_diabetes=df_train_diabetes.dropna()\n",
    "#preparing training and test data\n",
    "x=df_train_diabetes[[\"diabetes17\"]] #source feature\n",
    "y=df_train_diabetes[[\"generalhealth\"]] #target feature\n",
    "# algo=LogisticRegression(random_state=0, solver='lbfgs',multi_class='multinomial') #rmse=1.1714\n",
    "# algo=svm.SVC(gamma='scale') #emse=1.1714\n",
    "# algo = GaussianNB() #rmse=1.2356\n",
    "# algo=DecisionTreeClassifier() #rmse=1.1714\n",
    "model_apply(x,y,3,1)"
   ]
  },
  {
   "cell_type": "markdown",
   "metadata": {},
   "source": [
    "# Clubbing the different parameters"
   ]
  },
  {
   "cell_type": "code",
   "execution_count": 59,
   "metadata": {},
   "outputs": [
    {
     "name": "stdout",
     "output_type": "stream",
     "text": [
      "       cid  exercise17  cyclingfreq  nutrition46  nutrition47  ssb  \\\n",
      "0  1800001         1.0          3.0          1.0          1.0  2.0   \n",
      "1  1800002         2.0          5.0          1.0          1.0  2.0   \n",
      "2  1800003         2.0          5.0          1.0          1.0  1.0   \n",
      "3  1800004         1.0          5.0          0.0          0.0  2.0   \n",
      "4  1800005         2.0          5.0          0.0          1.0  1.0   \n",
      "\n",
      "   diabetes17  toldhighbp17  generalhealth  \n",
      "0         2.0           2.0            3.0  \n",
      "1         2.0           2.0            4.0  \n",
      "2         2.0           1.0            4.0  \n",
      "3         2.0           2.0            3.0  \n",
      "4         2.0           1.0            3.0  \n"
     ]
    },
    {
     "data": {
      "text/plain": [
       "cid                0\n",
       "exercise17         5\n",
       "cyclingfreq       21\n",
       "nutrition46      134\n",
       "nutrition47      171\n",
       "ssb               83\n",
       "diabetes17        19\n",
       "toldhighbp17      34\n",
       "generalhealth     34\n",
       "dtype: int64"
      ]
     },
     "execution_count": 59,
     "metadata": {},
     "output_type": "execute_result"
    }
   ],
   "source": [
    "#df_train_physical[[\"exercise17\",\"cyclingfreq\",\"generalhealth\"]]\n",
    "#df_train_diabetes[[\"diabetes17\",\"generalhealth\"]]\n",
    "#df_train_cardio[[\"toldhighbp17\",\"generalhealth\"]]\n",
    "#df_train_nutrition[[\"nutrition46\",\"nutrition47\",\"ssb\"]]\n",
    "df_clubbed=df[[\"cid\",\"exercise17\",\"cyclingfreq\",\"nutrition46\",\"nutrition47\",\"ssb\",\n",
    "              \"diabetes17\",\"toldhighbp17\",\"generalhealth\"]]\n",
    "print(df_clubbed.head())\n",
    "df_clubbed.isnull().sum()"
   ]
  },
  {
   "cell_type": "code",
   "execution_count": 145,
   "metadata": {},
   "outputs": [
    {
     "name": "stdout",
     "output_type": "stream",
     "text": [
      "[0.24669636 0.19843716 0.14674366 0.13256473]\n",
      "Predicted Value: [3. 3. 3. ... 3. 2. 3.]\n",
      "Accuracy: 0.3717735220649459\n",
      "[[  6 224 140  14   0]\n",
      " [  7 331 316  32   0]\n",
      " [  1 219 442  78   1]\n",
      " [  0  82 254 112   2]\n",
      " [  0  15  50  74   2]]\n",
      "              precision    recall  f1-score   support\n",
      "\n",
      "         1.0       0.43      0.02      0.03       384\n",
      "         2.0       0.38      0.48      0.43       686\n",
      "         3.0       0.37      0.60      0.45       741\n",
      "         4.0       0.36      0.25      0.29       450\n",
      "         5.0       0.40      0.01      0.03       141\n",
      "\n",
      "    accuracy                           0.37      2402\n",
      "   macro avg       0.39      0.27      0.25      2402\n",
      "weighted avg       0.38      0.37      0.32      2402\n",
      "\n"
     ]
    },
    {
     "data": {
      "text/plain": [
       "1.052137905183408"
      ]
     },
     "execution_count": 145,
     "metadata": {},
     "output_type": "execute_result"
    }
   ],
   "source": [
    "df_clubbed=df_clubbed.dropna()\n",
    "#preparing training and test data\n",
    "x=df_clubbed.drop(columns=[\"cid\",\"generalhealth\"]) #source feature\n",
    "y=df_clubbed[[\"generalhealth\"]] #target feature\n",
    "algo=LogisticRegression(random_state=0, solver='lbfgs',multi_class='multinomial') #rmse=1.10462\n",
    "# algo=svm.SVC(gamma='scale') #emse=1.1607\n",
    "# algo = GaussianNB() #rmse=1.2136\n",
    "# algo=DecisionTreeClassifier() #rmse=1.4525\n",
    "model_apply(x,y,1,4)"
   ]
  },
  {
   "cell_type": "markdown",
   "metadata": {},
   "source": [
    "# Physical Activity vs Cardio Health"
   ]
  },
  {
   "cell_type": "code",
   "execution_count": 89,
   "metadata": {},
   "outputs": [
    {
     "name": "stdout",
     "output_type": "stream",
     "text": [
      "[0.58330164]\n",
      "Predicted Value: [2. 2. 2. ... 2. 2. 2.]\n",
      "Accuracy: 0.6727726894254787\n",
      "[[  33  775]\n",
      " [  11 1583]]\n",
      "              precision    recall  f1-score   support\n",
      "\n",
      "         1.0       0.75      0.04      0.08       808\n",
      "         2.0       0.67      0.99      0.80      1594\n",
      "\n",
      "    accuracy                           0.67      2402\n",
      "   macro avg       0.71      0.52      0.44      2402\n",
      "weighted avg       0.70      0.67      0.56      2402\n",
      "\n"
     ]
    },
    {
     "data": {
      "text/plain": [
       "0.5720378576410142"
      ]
     },
     "execution_count": 89,
     "metadata": {},
     "output_type": "execute_result"
    }
   ],
   "source": [
    "#preparing training and test data\n",
    "x=df_clubbed[[\"exercise17\",\"cyclingfreq\"]] #source feature\n",
    "y=df_clubbed[[\"toldhighbp17\"]] #target feature\n",
    "algo=LogisticRegression(random_state=0, solver='lbfgs',multi_class='multinomial') #rmse=0.5800\n",
    "# algo=svm.SVC(gamma='scale') #emse=1.1806\n",
    "# algo = GaussianNB() #rmse=1.2156\n",
    "# algo=DecisionTreeClassifier() #rmse=1.4330\n",
    "model_apply(x,y,3,1)"
   ]
  },
  {
   "cell_type": "markdown",
   "metadata": {},
   "source": [
    "# Nutrition vs Cardio Health"
   ]
  },
  {
   "cell_type": "code",
   "execution_count": 97,
   "metadata": {},
   "outputs": [
    {
     "name": "stdout",
     "output_type": "stream",
     "text": [
      "[0.51975227 0.30847363]\n",
      "Predicted Value: [2. 2. 2. ... 2. 2. 2.]\n",
      "Accuracy: 0.6598667776852623\n",
      "[[   8  800]\n",
      " [  17 1577]]\n",
      "              precision    recall  f1-score   support\n",
      "\n",
      "         1.0       0.32      0.01      0.02       808\n",
      "         2.0       0.66      0.99      0.79      1594\n",
      "\n",
      "    accuracy                           0.66      2402\n",
      "   macro avg       0.49      0.50      0.41      2402\n",
      "weighted avg       0.55      0.66      0.53      2402\n",
      "\n"
     ]
    },
    {
     "data": {
      "text/plain": [
       "0.583209415488757"
      ]
     },
     "execution_count": 97,
     "metadata": {},
     "output_type": "execute_result"
    }
   ],
   "source": [
    "#preparing training and test data\n",
    "x=df_clubbed[[\"nutrition46\",\"nutrition47\",\"ssb\"]] #source feature\n",
    "y=df_clubbed[[\"toldhighbp17\"]] #target feature\n",
    "algo=LogisticRegression(random_state=0, solver='lbfgs',multi_class='multinomial') #rmse=0.5800\n",
    "# algo=svm.SVC(gamma='scale') #emse=1.1806\n",
    "# algo = GaussianNB() #rmse=1.2156\n",
    "# algo=DecisionTreeClassifier() #rmse=1.4330\n",
    "model_apply(x,y,3,2)"
   ]
  },
  {
   "cell_type": "markdown",
   "metadata": {},
   "source": [
    "# Physical vs Diabetes"
   ]
  },
  {
   "cell_type": "code",
   "execution_count": 101,
   "metadata": {},
   "outputs": [
    {
     "name": "stdout",
     "output_type": "stream",
     "text": [
      "[0.58330164 0.41669836]\n",
      "Predicted Value: [2. 2. 2. ... 2. 2. 2.]\n",
      "Accuracy: 0.8613655287260616\n",
      "[[   0  333]\n",
      " [   0 2069]]\n",
      "              precision    recall  f1-score   support\n",
      "\n",
      "         1.0       0.00      0.00      0.00       333\n",
      "         2.0       0.86      1.00      0.93      2069\n",
      "\n",
      "    accuracy                           0.86      2402\n",
      "   macro avg       0.43      0.50      0.46      2402\n",
      "weighted avg       0.74      0.86      0.80      2402\n",
      "\n"
     ]
    },
    {
     "name": "stderr",
     "output_type": "stream",
     "text": [
      "/usr/local/lib/python3.7/site-packages/sklearn/metrics/classification.py:1437: UndefinedMetricWarning: Precision and F-score are ill-defined and being set to 0.0 in labels with no predicted samples.\n",
      "  'precision', 'predicted', average, warn_for)\n"
     ]
    },
    {
     "data": {
      "text/plain": [
       "0.3723365027417247"
      ]
     },
     "execution_count": 101,
     "metadata": {},
     "output_type": "execute_result"
    }
   ],
   "source": [
    "#preparing training and test data\n",
    "x=df_clubbed[[\"exercise17\",\"cyclingfreq\"]] #source feature\n",
    "y=df_clubbed[[\"diabetes17\"]] #target feature\n",
    "algo=LogisticRegression(random_state=0, solver='lbfgs',multi_class='multinomial') #rmse=0.3723\n",
    "# algo=svm.SVC(gamma='scale') #emse=1.1806\n",
    "# algo = GaussianNB() #rmse=1.2156\n",
    "# algo=DecisionTreeClassifier() #rmse=1.4330\n",
    "model_apply(x,y,3,2)"
   ]
  },
  {
   "cell_type": "markdown",
   "metadata": {},
   "source": [
    "# Nutrition vs Diabetes"
   ]
  },
  {
   "cell_type": "code",
   "execution_count": 105,
   "metadata": {},
   "outputs": [
    {
     "name": "stdout",
     "output_type": "stream",
     "text": [
      "[0.51975227]\n",
      "Predicted Value: [2. 2. 2. ... 2. 2. 2.]\n",
      "Accuracy: 0.8592839300582847\n",
      "[[   0  333]\n",
      " [   5 2064]]\n",
      "              precision    recall  f1-score   support\n",
      "\n",
      "         1.0       0.00      0.00      0.00       333\n",
      "         2.0       0.86      1.00      0.92      2069\n",
      "\n",
      "    accuracy                           0.86      2402\n",
      "   macro avg       0.43      0.50      0.46      2402\n",
      "weighted avg       0.74      0.86      0.80      2402\n",
      "\n"
     ]
    },
    {
     "data": {
      "text/plain": [
       "0.3751214069360948"
      ]
     },
     "execution_count": 105,
     "metadata": {},
     "output_type": "execute_result"
    }
   ],
   "source": [
    "#preparing training and test data\n",
    "x=df_clubbed[[\"nutrition46\",\"nutrition47\",\"ssb\"]] #source feature\n",
    "y=df_clubbed[[\"diabetes17\"]] #target feature\n",
    "algo=LogisticRegression(random_state=0, solver='lbfgs',multi_class='multinomial') #rmse=0.3723\n",
    "# algo=svm.SVC(gamma='scale') #emse=1.1806\n",
    "# algo = GaussianNB() #rmse=1.2156\n",
    "# algo=DecisionTreeClassifier() #rmse=1.4330\n",
    "model_apply(x,y,3,1)"
   ]
  },
  {
   "cell_type": "markdown",
   "metadata": {},
   "source": [
    "We observed that most of the Diabetes predictions are of class 2. Probably there is an imbalace of class in test data. Let us check.\n",
    "\n",
    "# Resampling Diabetese Dataset"
   ]
  },
  {
   "cell_type": "code",
   "execution_count": 106,
   "metadata": {},
   "outputs": [
    {
     "data": {
      "text/plain": [
       "2.0    8212\n",
       "1.0    1393\n",
       "Name: diabetes17, dtype: int64"
      ]
     },
     "execution_count": 106,
     "metadata": {},
     "output_type": "execute_result"
    }
   ],
   "source": [
    "#[1]https://elitedatascience.com/imbalanced-classes\n",
    "df_clubbed[\"diabetes17\"].value_counts()"
   ]
  },
  {
   "cell_type": "markdown",
   "metadata": {},
   "source": [
    "As we can see that class 2 has more samples than class 1 which shows that data is impbalanced and fovours class 2. Upsampling the class 1 data :"
   ]
  },
  {
   "cell_type": "markdown",
   "metadata": {},
   "source": [
    "# Up Sampling"
   ]
  },
  {
   "cell_type": "code",
   "execution_count": 107,
   "metadata": {},
   "outputs": [
    {
     "data": {
      "text/plain": [
       "1.0    8212\n",
       "2.0    8212\n",
       "Name: diabetes17, dtype: int64"
      ]
     },
     "execution_count": 107,
     "metadata": {},
     "output_type": "execute_result"
    }
   ],
   "source": [
    "from sklearn.utils import resample\n",
    "# Separate majority and minority classes\n",
    "df_majority = df_clubbed[df_clubbed.diabetes17==2]\n",
    "df_minority = df_clubbed[df_clubbed.diabetes17==1]\n",
    " \n",
    "# Upsample minority class\n",
    "df_minority_upsampled = resample(df_minority, \n",
    "                                 replace=True,     # sample with replacement\n",
    "                                 n_samples=8212,    # to match majority class\n",
    "                                 random_state=123) # reproducible results\n",
    " \n",
    "# Combine majority class with upsampled minority class\n",
    "df_upsampled = pd.concat([df_majority, df_minority_upsampled])\n",
    " \n",
    "# Display new class counts\n",
    "df_upsampled.diabetes17.value_counts()"
   ]
  },
  {
   "cell_type": "markdown",
   "metadata": {},
   "source": [
    "# Nutrition vs Diabetes again after upsampling"
   ]
  },
  {
   "cell_type": "code",
   "execution_count": 113,
   "metadata": {},
   "outputs": [
    {
     "name": "stdout",
     "output_type": "stream",
     "text": [
      "[0.46540266]\n",
      "Predicted Value: [1. 2. 1. ... 1. 2. 2.]\n",
      "Accuracy: 0.5864588407208963\n",
      "[[1275  820]\n",
      " [ 878 1133]]\n",
      "              precision    recall  f1-score   support\n",
      "\n",
      "         1.0       0.59      0.61      0.60      2095\n",
      "         2.0       0.58      0.56      0.57      2011\n",
      "\n",
      "    accuracy                           0.59      4106\n",
      "   macro avg       0.59      0.59      0.59      4106\n",
      "weighted avg       0.59      0.59      0.59      4106\n",
      "\n"
     ]
    },
    {
     "data": {
      "text/plain": [
       "0.6430716595210084"
      ]
     },
     "execution_count": 113,
     "metadata": {},
     "output_type": "execute_result"
    }
   ],
   "source": [
    "#preparing training and test data\n",
    "x=df_upsampled[[\"nutrition46\",\"nutrition47\",\"ssb\"]] #source feature\n",
    "y=df_upsampled[[\"diabetes17\"]] #target feature\n",
    "algo=LogisticRegression(random_state=0, solver='lbfgs',multi_class='multinomial') #rmse=0.6438\n",
    "# algo=svm.SVC(gamma='scale') #emse=1.1806\n",
    "# algo = GaussianNB() #rmse=1.2156\n",
    "# algo=DecisionTreeClassifier() #rmse=1.4330\n",
    "model_apply(x,y,3,1)"
   ]
  },
  {
   "cell_type": "markdown",
   "metadata": {},
   "source": [
    "# Physical Activity vs Diabetes after upsampling"
   ]
  },
  {
   "cell_type": "code",
   "execution_count": 119,
   "metadata": {},
   "outputs": [
    {
     "name": "stdout",
     "output_type": "stream",
     "text": [
      "[0.56081638]\n",
      "Predicted Value: [1. 2. 2. ... 1. 1. 1.]\n",
      "Accuracy: 0.5686799805163176\n",
      "[[1906  189]\n",
      " [1582  429]]\n",
      "              precision    recall  f1-score   support\n",
      "\n",
      "         1.0       0.55      0.91      0.68      2095\n",
      "         2.0       0.69      0.21      0.33      2011\n",
      "\n",
      "    accuracy                           0.57      4106\n",
      "   macro avg       0.62      0.56      0.50      4106\n",
      "weighted avg       0.62      0.57      0.51      4106\n",
      "\n"
     ]
    },
    {
     "data": {
      "text/plain": [
       "0.6567495865881321"
      ]
     },
     "execution_count": 119,
     "metadata": {},
     "output_type": "execute_result"
    }
   ],
   "source": [
    "#preparing training and test data\n",
    "x=df_upsampled[[\"exercise17\",\"cyclingfreq\"]] #source feature\n",
    "y=df_upsampled[[\"diabetes17\"]] #target feature\n",
    "algo=LogisticRegression(random_state=0, solver='lbfgs',multi_class='multinomial') #rmse=0.3937\n",
    "# algo=svm.SVC(gamma='scale') #emse=1.1806\n",
    "# algo = GaussianNB() #rmse=1.2156\n",
    "# algo=DecisionTreeClassifier() #rmse=1.4330\n",
    "model_apply(x,y,3,1)"
   ]
  },
  {
   "cell_type": "markdown",
   "metadata": {},
   "source": [
    "# Down Sampling"
   ]
  },
  {
   "cell_type": "code",
   "execution_count": 120,
   "metadata": {},
   "outputs": [
    {
     "data": {
      "text/plain": [
       "1.0    1393\n",
       "2.0    1393\n",
       "Name: diabetes17, dtype: int64"
      ]
     },
     "execution_count": 120,
     "metadata": {},
     "output_type": "execute_result"
    }
   ],
   "source": [
    "#Down Sampling\n",
    "df_majority = df_clubbed[df_clubbed.diabetes17==2]\n",
    "df_minority = df_clubbed[df_clubbed.diabetes17==1]\n",
    " \n",
    "# Downsample majority class\n",
    "df_majority_downsampled = resample(df_majority, \n",
    "                                 replace=False,    # sample without replacement\n",
    "                                 n_samples=1393,     # to match minority class\n",
    "                                 random_state=123) # reproducible results\n",
    " \n",
    "# Combine minority class with downsampled majority class\n",
    "df_downsampled = pd.concat([df_majority_downsampled, df_minority])\n",
    " \n",
    "# Display new class counts\n",
    "df_downsampled.diabetes17.value_counts()"
   ]
  },
  {
   "cell_type": "markdown",
   "metadata": {},
   "source": [
    "# Nutrition vs Diabetes again after down sampling"
   ]
  },
  {
   "cell_type": "code",
   "execution_count": 131,
   "metadata": {},
   "outputs": [
    {
     "name": "stdout",
     "output_type": "stream",
     "text": [
      "[0.46545593 0.37306958]\n",
      "Predicted Value: [1. 1. 2. 1. 1. 1. 2. 1. 2. 1. 1. 2. 2. 2. 2. 2. 1. 1. 2. 1. 1. 2. 2. 1.\n",
      " 1. 2. 1. 2. 1. 1. 1. 1. 1. 2. 1. 1. 2. 1. 1. 1. 1. 2. 2. 2. 1. 2. 1. 1.\n",
      " 2. 1. 2. 1. 1. 1. 2. 2. 2. 2. 1. 2. 2. 2. 1. 1. 1. 2. 2. 1. 1. 1. 2. 1.\n",
      " 1. 1. 1. 2. 1. 2. 2. 2. 2. 2. 2. 2. 1. 2. 2. 2. 2. 2. 2. 2. 2. 2. 1. 2.\n",
      " 2. 2. 1. 1. 2. 1. 1. 2. 1. 1. 2. 1. 2. 2. 1. 1. 2. 2. 1. 1. 1. 1. 1. 2.\n",
      " 2. 2. 2. 1. 1. 1. 2. 2. 1. 2. 1. 1. 2. 2. 1. 2. 1. 2. 1. 2. 2. 2. 1. 1.\n",
      " 1. 1. 1. 1. 1. 2. 1. 2. 1. 2. 2. 1. 2. 1. 2. 1. 1. 2. 2. 2. 1. 2. 2. 1.\n",
      " 2. 1. 2. 2. 2. 2. 1. 1. 2. 1. 2. 2. 2. 1. 1. 1. 1. 1. 1. 1. 1. 2. 1. 2.\n",
      " 2. 2. 1. 2. 1. 1. 1. 1. 1. 1. 1. 2. 1. 2. 1. 1. 2. 1. 1. 1. 2. 1. 1. 2.\n",
      " 2. 2. 2. 1. 1. 1. 2. 1. 2. 2. 1. 1. 1. 1. 2. 2. 1. 1. 1. 2. 1. 2. 1. 2.\n",
      " 2. 1. 2. 2. 1. 1. 2. 1. 2. 1. 1. 1. 1. 2. 1. 2. 1. 2. 1. 1. 1. 2. 1. 1.\n",
      " 2. 1. 1. 1. 1. 1. 2. 2. 2. 2. 1. 1. 1. 1. 1. 1. 2. 1. 1. 2. 1. 2. 2. 1.\n",
      " 2. 1. 2. 2. 1. 2. 2. 1. 1. 2. 2. 2. 1. 1. 1. 1. 2. 2. 2. 2. 2. 1. 1. 2.\n",
      " 2. 1. 1. 1. 1. 1. 2. 2. 1. 1. 1. 2. 2. 1. 2. 1. 2. 1. 2. 1. 2. 2. 2. 1.\n",
      " 1. 1. 2. 1. 2. 1. 2. 1. 1. 1. 1. 2. 1. 2. 1. 2. 1. 1. 1. 1. 1. 2. 2. 2.\n",
      " 2. 2. 2. 1. 1. 1. 2. 2. 2. 1. 1. 2. 2. 2. 1. 2. 1. 1. 2. 1. 2. 1. 1. 2.\n",
      " 1. 2. 1. 2. 1. 1. 1. 1. 1. 1. 1. 1. 1. 2. 2. 1. 2. 1. 1. 1. 2. 2. 2. 2.\n",
      " 1. 1. 1. 1. 2. 2. 1. 2. 2. 2. 2. 2. 1. 2. 2. 1. 2. 1. 2. 2. 1. 2. 2. 1.\n",
      " 1. 1. 1. 1. 1. 1. 1. 1. 1. 1. 1. 1. 1. 1. 2. 1. 1. 1. 1. 1. 2. 2. 2. 2.\n",
      " 1. 1. 1. 1. 2. 2. 2. 2. 1. 1. 2. 1. 1. 1. 1. 1. 1. 2. 1. 2. 2. 2. 1. 1.\n",
      " 2. 2. 1. 1. 1. 1. 1. 1. 2. 1. 1. 1. 1. 2. 2. 1. 1. 2. 1. 2. 1. 1. 1. 1.\n",
      " 1. 1. 1. 2. 1. 1. 2. 1. 1. 2. 1. 1. 1. 1. 1. 1. 1. 2. 1. 2. 2. 2. 1. 1.\n",
      " 1. 1. 1. 1. 2. 2. 1. 1. 1. 2. 2. 2. 2. 1. 2. 2. 2. 2. 1. 1. 2. 1. 1. 1.\n",
      " 2. 2. 1. 1. 1. 2. 1. 1. 2. 2. 2. 1. 1. 1. 2. 2. 1. 2. 2. 2. 2. 1. 1. 1.\n",
      " 1. 2. 2. 1. 1. 2. 2. 2. 1. 2. 2. 2. 2. 1. 2. 2. 1. 2. 2. 1. 1. 2. 2. 1.\n",
      " 2. 1. 2. 2. 2. 1. 1. 2. 1. 2. 1. 1. 1. 1. 1. 2. 2. 2. 1. 1. 2. 1. 1. 1.\n",
      " 2. 1. 1. 2. 2. 1. 1. 1. 1. 2. 1. 1. 2. 1. 2. 2. 2. 1. 1. 2. 2. 1. 1. 2.\n",
      " 1. 2. 1. 1. 2. 2. 1. 1. 1. 1. 2. 2. 2. 2. 1. 2. 1. 1. 1. 1. 2. 1. 1. 2.\n",
      " 2. 2. 1. 1. 1. 1. 1. 2. 1. 1. 1. 1. 1. 1. 1. 1. 2. 1. 1. 2. 2. 2. 2. 1.\n",
      " 2.]\n",
      "Accuracy: 0.5710186513629842\n",
      "[[216 125]\n",
      " [174 182]]\n",
      "              precision    recall  f1-score   support\n",
      "\n",
      "         1.0       0.55      0.63      0.59       341\n",
      "         2.0       0.59      0.51      0.55       356\n",
      "\n",
      "    accuracy                           0.57       697\n",
      "   macro avg       0.57      0.57      0.57       697\n",
      "weighted avg       0.57      0.57      0.57       697\n",
      "\n"
     ]
    },
    {
     "data": {
      "text/plain": [
       "0.6549666775012418"
      ]
     },
     "execution_count": 131,
     "metadata": {},
     "output_type": "execute_result"
    }
   ],
   "source": [
    "#preparing training and test data\n",
    "x=df_downsampled[[\"nutrition46\",\"nutrition47\",\"ssb\"]] #source feature\n",
    "y=df_downsampled[[\"diabetes17\"]] #target feature\n",
    "algo=LogisticRegression(random_state=0, solver='lbfgs',multi_class='multinomial') #rmse=0.3937\n",
    "# algo=svm.SVC(gamma='scale') #emse=1.1806\n",
    "# algo = GaussianNB() #rmse=1.2156\n",
    "# algo=DecisionTreeClassifier() #rmse=1.4330\n",
    "model_apply(x,y,3,2)"
   ]
  },
  {
   "cell_type": "markdown",
   "metadata": {},
   "source": [
    "# Physical Activity vs Diabetes after down sampling"
   ]
  },
  {
   "cell_type": "code",
   "execution_count": 133,
   "metadata": {},
   "outputs": [
    {
     "name": "stdout",
     "output_type": "stream",
     "text": [
      "[0.57960066]\n",
      "Predicted Value: [1. 2. 2. 2. 2. 1. 1. 1. 1. 2. 1. 2. 1. 1. 2. 2. 2. 2. 2. 2. 2. 1. 2. 2.\n",
      " 2. 1. 2. 2. 2. 1. 2. 2. 2. 2. 1. 2. 1. 2. 2. 2. 1. 2. 2. 2. 1. 2. 1. 2.\n",
      " 2. 1. 1. 2. 1. 2. 2. 2. 2. 2. 2. 2. 2. 2. 1. 1. 2. 2. 1. 2. 1. 1. 2. 2.\n",
      " 1. 2. 2. 2. 2. 2. 2. 2. 1. 2. 1. 2. 2. 2. 2. 1. 2. 1. 1. 2. 2. 1. 2. 2.\n",
      " 2. 2. 1. 2. 2. 1. 2. 2. 1. 2. 2. 2. 2. 1. 2. 2. 2. 2. 2. 1. 2. 2. 2. 2.\n",
      " 1. 1. 2. 2. 1. 2. 2. 2. 2. 2. 2. 2. 2. 1. 2. 2. 2. 2. 2. 2. 2. 2. 2. 1.\n",
      " 2. 2. 2. 2. 2. 2. 2. 2. 2. 2. 1. 1. 2. 2. 2. 1. 2. 1. 2. 1. 2. 2. 2. 1.\n",
      " 1. 1. 2. 2. 2. 2. 2. 2. 2. 2. 2. 2. 2. 1. 1. 2. 2. 2. 1. 2. 2. 2. 1. 2.\n",
      " 2. 2. 1. 2. 2. 2. 1. 1. 1. 2. 2. 2. 2. 2. 1. 2. 1. 1. 2. 2. 1. 2. 2. 2.\n",
      " 2. 1. 1. 1. 2. 2. 1. 2. 2. 2. 1. 2. 1. 1. 2. 2. 2. 1. 2. 2. 1. 2. 2. 1.\n",
      " 1. 2. 1. 2. 2. 1. 1. 1. 2. 1. 2. 2. 1. 2. 2. 2. 2. 1. 2. 2. 2. 1. 2. 2.\n",
      " 2. 1. 1. 2. 2. 1. 2. 1. 2. 2. 2. 1. 1. 1. 2. 2. 2. 2. 2. 2. 2. 1. 2. 2.\n",
      " 1. 1. 1. 1. 2. 2. 1. 2. 2. 2. 2. 1. 2. 2. 2. 2. 2. 2. 1. 1. 2. 2. 1. 2.\n",
      " 2. 2. 2. 2. 2. 2. 1. 2. 2. 2. 2. 1. 2. 2. 2. 1. 2. 2. 2. 2. 2. 1. 2. 2.\n",
      " 2. 1. 1. 1. 2. 2. 2. 1. 1. 2. 1. 2. 1. 1. 2. 2. 1. 1. 2. 1. 1. 2. 1. 2.\n",
      " 2. 2. 2. 2. 2. 1. 2. 2. 1. 2. 2. 2. 2. 2. 2. 2. 2. 1. 2. 2. 2. 2. 2. 2.\n",
      " 1. 2. 2. 2. 2. 1. 1. 1. 1. 2. 1. 2. 2. 2. 2. 1. 1. 1. 2. 2. 2. 2. 2. 2.\n",
      " 2. 1. 2. 2. 2. 2. 1. 1. 2. 1. 2. 2. 2. 2. 2. 1. 1. 2. 1. 2. 2. 2. 1. 2.\n",
      " 2. 2. 1. 1. 2. 2. 2. 1. 2. 2. 2. 2. 2. 2. 1. 2. 1. 2. 2. 2. 2. 2. 2. 2.\n",
      " 2. 1. 2. 2. 2. 2. 2. 2. 2. 2. 2. 2. 2. 2. 2. 1. 2. 2. 1. 2. 2. 2. 2. 2.\n",
      " 2. 2. 2. 2. 1. 2. 1. 1. 1. 1. 2. 2. 2. 2. 1. 2. 1. 2. 1. 2. 2. 2. 2. 2.\n",
      " 2. 2. 2. 2. 2. 2. 2. 2. 2. 2. 2. 1. 1. 1. 2. 2. 2. 1. 2. 1. 2. 2. 1. 2.\n",
      " 1. 2. 2. 2. 1. 2. 2. 2. 2. 2. 2. 2. 2. 2. 2. 2. 1. 2. 1. 1. 2. 2. 2. 2.\n",
      " 2. 2. 1. 2. 1. 1. 2. 2. 1. 2. 1. 2. 2. 2. 2. 2. 1. 2. 2. 2. 2. 1. 1. 1.\n",
      " 1. 2. 2. 2. 1. 1. 1. 2. 2. 2. 2. 2. 2. 1. 1. 2. 2. 2. 2. 2. 2. 2. 2. 2.\n",
      " 2. 2. 2. 1. 2. 2. 2. 2. 2. 2. 1. 1. 2. 1. 2. 2. 2. 1. 2. 2. 2. 2. 1. 2.\n",
      " 2. 2. 2. 2. 2. 1. 2. 2. 1. 2. 1. 2. 2. 1. 2. 2. 2. 2. 1. 1. 1. 1. 2. 2.\n",
      " 2. 2. 1. 2. 2. 2. 1. 2. 2. 2. 2. 2. 2. 2. 2. 2. 2. 2. 2. 2. 1. 1. 2. 2.\n",
      " 2. 2. 2. 2. 2. 2. 2. 1. 1. 2. 2. 2. 1. 1. 2. 2. 2. 1. 2. 1. 2. 2. 2. 1.\n",
      " 1.]\n",
      "Accuracy: 0.5509325681492109\n",
      "[[115 226]\n",
      " [ 87 269]]\n",
      "              precision    recall  f1-score   support\n",
      "\n",
      "         1.0       0.57      0.34      0.42       341\n",
      "         2.0       0.54      0.76      0.63       356\n",
      "\n",
      "    accuracy                           0.55       697\n",
      "   macro avg       0.56      0.55      0.53       697\n",
      "weighted avg       0.56      0.55      0.53       697\n",
      "\n"
     ]
    },
    {
     "data": {
      "text/plain": [
       "0.6701249374935909"
      ]
     },
     "execution_count": 133,
     "metadata": {},
     "output_type": "execute_result"
    }
   ],
   "source": [
    "#preparing training and test data\n",
    "x=df_downsampled[[\"exercise17\",\"cyclingfreq\"]] #source feature\n",
    "y=df_downsampled[[\"diabetes17\"]] #target feature\n",
    "algo=LogisticRegression(random_state=0, solver='lbfgs',multi_class='multinomial') #rmse=0.3937\n",
    "# algo=svm.SVC(gamma='scale') #emse=1.1806\n",
    "# algo = GaussianNB() #rmse=1.2156\n",
    "# algo=DecisionTreeClassifier() #rmse=1.4330\n",
    "model_apply(x,y,1,1)"
   ]
  },
  {
   "cell_type": "markdown",
   "metadata": {},
   "source": [
    "After both Up and Down sampling the rmse is near about remains 0.66"
   ]
  },
  {
   "cell_type": "markdown",
   "metadata": {},
   "source": [
    "# Marital Status vs Cardio Vascular Health"
   ]
  },
  {
   "cell_type": "code",
   "execution_count": 134,
   "metadata": {},
   "outputs": [],
   "source": [
    "df_martial=df[[\"maritalstatus17\",\"toldhighbp17\",\"generalhealth\"]]\n",
    "df_martial=df_martial.dropna()"
   ]
  },
  {
   "cell_type": "code",
   "execution_count": 136,
   "metadata": {},
   "outputs": [
    {
     "name": "stdout",
     "output_type": "stream",
     "text": [
      "[1.]\n",
      "Predicted Value: [2. 1. 2. ... 2. 2. 2.]\n",
      "Accuracy: 0.6753141467369275\n",
      "[[ 148  738]\n",
      " [  63 1518]]\n",
      "              precision    recall  f1-score   support\n",
      "\n",
      "         1.0       0.70      0.17      0.27       886\n",
      "         2.0       0.67      0.96      0.79      1581\n",
      "\n",
      "    accuracy                           0.68      2467\n",
      "   macro avg       0.69      0.56      0.53      2467\n",
      "weighted avg       0.68      0.68      0.60      2467\n",
      "\n"
     ]
    },
    {
     "data": {
      "text/plain": [
       "0.5698121210215455"
      ]
     },
     "execution_count": 136,
     "metadata": {},
     "output_type": "execute_result"
    }
   ],
   "source": [
    "#preparing training and test data\n",
    "x=df_martial[[\"maritalstatus17\"]] #source feature\n",
    "y=df_martial[[\"toldhighbp17\"]] #target feature\n",
    "algo=LogisticRegression(random_state=0, solver='lbfgs',multi_class='multinomial') #rmse=0.3937\n",
    "# algo=svm.SVC(gamma='scale') #emse=1.1806\n",
    "# algo = GaussianNB() #rmse=1.2156\n",
    "# algo=DecisionTreeClassifier() #rmse=1.4330\n",
    "model_apply(x,y,3,1)"
   ]
  },
  {
   "cell_type": "markdown",
   "metadata": {},
   "source": [
    "# Marital Status vs General Health Status"
   ]
  },
  {
   "cell_type": "code",
   "execution_count": 138,
   "metadata": {},
   "outputs": [
    {
     "name": "stdout",
     "output_type": "stream",
     "text": [
      "[1.]\n",
      "Predicted Value: [2. 4. 3. ... 3. 3. 3.]\n",
      "Accuracy: 0.3003648155654641\n",
      "[[  0 128 255  13   0]\n",
      " [  0 235 387  40   0]\n",
      " [  0 251 443  64   0]\n",
      " [  0 102 322  63   0]\n",
      " [  0  32 101  31   0]]\n",
      "              precision    recall  f1-score   support\n",
      "\n",
      "         1.0       0.00      0.00      0.00       396\n",
      "         2.0       0.31      0.35      0.33       662\n",
      "         3.0       0.29      0.58      0.39       758\n",
      "         4.0       0.30      0.13      0.18       487\n",
      "         5.0       0.00      0.00      0.00       164\n",
      "\n",
      "    accuracy                           0.30      2467\n",
      "   macro avg       0.18      0.21      0.18      2467\n",
      "weighted avg       0.23      0.30      0.25      2467\n",
      "\n"
     ]
    },
    {
     "name": "stderr",
     "output_type": "stream",
     "text": [
      "/usr/local/lib/python3.7/site-packages/sklearn/metrics/classification.py:1437: UndefinedMetricWarning: Precision and F-score are ill-defined and being set to 0.0 in labels with no predicted samples.\n",
      "  'precision', 'predicted', average, warn_for)\n"
     ]
    },
    {
     "data": {
      "text/plain": [
       "1.2046390535304077"
      ]
     },
     "execution_count": 138,
     "metadata": {},
     "output_type": "execute_result"
    }
   ],
   "source": [
    "#preparing training and test data\n",
    "x=df_martial[[\"maritalstatus17\"]] #source feature\n",
    "y=df_martial[[\"generalhealth\"]] #target feature\n",
    "algo=LogisticRegression(random_state=0, solver='lbfgs',multi_class='multinomial') \n",
    "# algo=svm.SVC(gamma='scale') #emse=1.1806\n",
    "# algo = GaussianNB() #rmse=1.2156\n",
    "# algo=DecisionTreeClassifier() #rmse=1.4330\n",
    "model_apply(x,y,3,1)"
   ]
  },
  {
   "cell_type": "code",
   "execution_count": null,
   "metadata": {},
   "outputs": [],
   "source": []
  }
 ],
 "metadata": {
  "kernelspec": {
   "display_name": "Python 3",
   "language": "python",
   "name": "python3"
  },
  "language_info": {
   "codemirror_mode": {
    "name": "ipython",
    "version": 3
   },
   "file_extension": ".py",
   "mimetype": "text/x-python",
   "name": "python",
   "nbconvert_exporter": "python",
   "pygments_lexer": "ipython3",
   "version": "3.7.5"
  }
 },
 "nbformat": 4,
 "nbformat_minor": 2
}
