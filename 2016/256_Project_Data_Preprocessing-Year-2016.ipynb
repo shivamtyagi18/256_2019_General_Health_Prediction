{
 "cells": [
  {
   "cell_type": "code",
   "execution_count": 2,
   "metadata": {},
   "outputs": [],
   "source": [
    "# from pyspark import SparkContext \n",
    "# from pyspark.sql import SQLContext \n",
    "# import pandas as pd\n",
    "# import numpy as np\n",
    "# from pandas import DataFrame\n",
    "# sc = SparkContext.getOrCreate()\n",
    "# sqlc=SQLContext(sc)\n",
    "\n",
    "import math\n",
    "import matplotlib.pyplot as plt\n",
    "from scipy.stats import norm, entropy \n",
    "from scipy.stats import probplot\n",
    "import matplotlib.pyplot as plt\n",
    "from scipy.stats import logistic\n",
    "from sklearn.model_selection import train_test_split\n",
    "from sklearn.linear_model import LogisticRegression\n",
    "from sklearn import metrics\n",
    "from sklearn.utils import resample\n",
    "from sklearn import svm\n",
    "from sklearn.tree import DecisionTreeClassifier\n",
    "from sklearn.metrics import classification_report, confusion_matrix, roc_curve\n",
    "from scipy.spatial.distance import cosine, correlation\n",
    "import seaborn as sns\n",
    "from sklearn.decomposition import PCA\n",
    "from sklearn.preprocessing import StandardScaler\n",
    "from sklearn.decomposition import TruncatedSVD\n",
    "from sklearn.linear_model import Perceptron"
   ]
  },
  {
   "cell_type": "code",
   "execution_count": 3,
   "metadata": {},
   "outputs": [],
   "source": [
    "#reading csv file data in a dataframe\n",
    "#[1]https://stackoverflow.com/questions/46311133/creating-dynamic-data-frames-in-python?rq=1\n",
    "df_names=['df07','df08','df09','df10','df11','df12','df13','df14','df15','df16','df17','df18']\n",
    "years=['2007','2008','2009','2010','2011','2012','2013','2014','2015','2016','2017','2018']\n",
    "d = {}\n",
    "for name,i in zip(df_names,years):\n",
    "    d[name] = pd.DataFrame()\n",
    "    d[name]=pd.read_csv('data-csv/chs'+str(i)+'_public.csv')    \n"
   ]
  },
  {
   "cell_type": "code",
   "execution_count": 4,
   "metadata": {},
   "outputs": [
    {
     "data": {
      "text/html": [
       "<div>\n",
       "<style scoped>\n",
       "    .dataframe tbody tr th:only-of-type {\n",
       "        vertical-align: middle;\n",
       "    }\n",
       "\n",
       "    .dataframe tbody tr th {\n",
       "        vertical-align: top;\n",
       "    }\n",
       "\n",
       "    .dataframe thead th {\n",
       "        text-align: right;\n",
       "    }\n",
       "</style>\n",
       "<table border=\"1\" class=\"dataframe\">\n",
       "  <thead>\n",
       "    <tr style=\"text-align: right;\">\n",
       "      <th></th>\n",
       "      <th>mood63</th>\n",
       "      <th>mood64</th>\n",
       "      <th>mood54</th>\n",
       "      <th>mood55</th>\n",
       "      <th>mood56</th>\n",
       "      <th>mood57</th>\n",
       "      <th>mood58</th>\n",
       "      <th>mood59</th>\n",
       "      <th>mood60</th>\n",
       "      <th>mood61</th>\n",
       "      <th>...</th>\n",
       "      <th>drivefreq</th>\n",
       "      <th>drivefreq_all</th>\n",
       "      <th>drivefreq3_all</th>\n",
       "      <th>everspeed</th>\n",
       "      <th>speedfreq</th>\n",
       "      <th>strata</th>\n",
       "      <th>hhsize</th>\n",
       "      <th>child</th>\n",
       "      <th>otherbcnotcondom2</th>\n",
       "      <th>bthcntrltype</th>\n",
       "    </tr>\n",
       "  </thead>\n",
       "  <tbody>\n",
       "    <tr>\n",
       "      <td>0</td>\n",
       "      <td>3.0</td>\n",
       "      <td>1.0</td>\n",
       "      <td>1.0</td>\n",
       "      <td>1.0</td>\n",
       "      <td>1.0</td>\n",
       "      <td>1.0</td>\n",
       "      <td>1.0</td>\n",
       "      <td>1.0</td>\n",
       "      <td>NaN</td>\n",
       "      <td>NaN</td>\n",
       "      <td>...</td>\n",
       "      <td>3.0</td>\n",
       "      <td>4.0</td>\n",
       "      <td>2.0</td>\n",
       "      <td>1.0</td>\n",
       "      <td>2.0</td>\n",
       "      <td>13</td>\n",
       "      <td>1</td>\n",
       "      <td>2.0</td>\n",
       "      <td>NaN</td>\n",
       "      <td>NaN</td>\n",
       "    </tr>\n",
       "    <tr>\n",
       "      <td>1</td>\n",
       "      <td>3.0</td>\n",
       "      <td>2.0</td>\n",
       "      <td>4.0</td>\n",
       "      <td>3.0</td>\n",
       "      <td>3.0</td>\n",
       "      <td>3.0</td>\n",
       "      <td>3.0</td>\n",
       "      <td>2.0</td>\n",
       "      <td>2.0</td>\n",
       "      <td>1.0</td>\n",
       "      <td>...</td>\n",
       "      <td>NaN</td>\n",
       "      <td>1.0</td>\n",
       "      <td>1.0</td>\n",
       "      <td>NaN</td>\n",
       "      <td>NaN</td>\n",
       "      <td>11</td>\n",
       "      <td>2</td>\n",
       "      <td>2.0</td>\n",
       "      <td>NaN</td>\n",
       "      <td>NaN</td>\n",
       "    </tr>\n",
       "    <tr>\n",
       "      <td>2</td>\n",
       "      <td>1.0</td>\n",
       "      <td>1.0</td>\n",
       "      <td>1.0</td>\n",
       "      <td>1.0</td>\n",
       "      <td>1.0</td>\n",
       "      <td>1.0</td>\n",
       "      <td>1.0</td>\n",
       "      <td>1.0</td>\n",
       "      <td>NaN</td>\n",
       "      <td>NaN</td>\n",
       "      <td>...</td>\n",
       "      <td>NaN</td>\n",
       "      <td>1.0</td>\n",
       "      <td>1.0</td>\n",
       "      <td>NaN</td>\n",
       "      <td>NaN</td>\n",
       "      <td>5</td>\n",
       "      <td>3</td>\n",
       "      <td>2.0</td>\n",
       "      <td>NaN</td>\n",
       "      <td>NaN</td>\n",
       "    </tr>\n",
       "    <tr>\n",
       "      <td>3</td>\n",
       "      <td>1.0</td>\n",
       "      <td>1.0</td>\n",
       "      <td>2.0</td>\n",
       "      <td>2.0</td>\n",
       "      <td>2.0</td>\n",
       "      <td>2.0</td>\n",
       "      <td>1.0</td>\n",
       "      <td>1.0</td>\n",
       "      <td>NaN</td>\n",
       "      <td>NaN</td>\n",
       "      <td>...</td>\n",
       "      <td>NaN</td>\n",
       "      <td>1.0</td>\n",
       "      <td>1.0</td>\n",
       "      <td>NaN</td>\n",
       "      <td>NaN</td>\n",
       "      <td>15</td>\n",
       "      <td>1</td>\n",
       "      <td>2.0</td>\n",
       "      <td>NaN</td>\n",
       "      <td>NaN</td>\n",
       "    </tr>\n",
       "    <tr>\n",
       "      <td>4</td>\n",
       "      <td>1.0</td>\n",
       "      <td>1.0</td>\n",
       "      <td>1.0</td>\n",
       "      <td>2.0</td>\n",
       "      <td>1.0</td>\n",
       "      <td>1.0</td>\n",
       "      <td>1.0</td>\n",
       "      <td>1.0</td>\n",
       "      <td>NaN</td>\n",
       "      <td>NaN</td>\n",
       "      <td>...</td>\n",
       "      <td>NaN</td>\n",
       "      <td>1.0</td>\n",
       "      <td>1.0</td>\n",
       "      <td>NaN</td>\n",
       "      <td>NaN</td>\n",
       "      <td>6</td>\n",
       "      <td>4</td>\n",
       "      <td>1.0</td>\n",
       "      <td>2.0</td>\n",
       "      <td>1.0</td>\n",
       "    </tr>\n",
       "  </tbody>\n",
       "</table>\n",
       "<p>5 rows × 147 columns</p>\n",
       "</div>"
      ],
      "text/plain": [
       "   mood63  mood64  mood54  mood55  mood56  mood57  mood58  mood59  mood60  \\\n",
       "0     3.0     1.0     1.0     1.0     1.0     1.0     1.0     1.0     NaN   \n",
       "1     3.0     2.0     4.0     3.0     3.0     3.0     3.0     2.0     2.0   \n",
       "2     1.0     1.0     1.0     1.0     1.0     1.0     1.0     1.0     NaN   \n",
       "3     1.0     1.0     2.0     2.0     2.0     2.0     1.0     1.0     NaN   \n",
       "4     1.0     1.0     1.0     2.0     1.0     1.0     1.0     1.0     NaN   \n",
       "\n",
       "   mood61  ...  drivefreq  drivefreq_all  drivefreq3_all  everspeed  \\\n",
       "0     NaN  ...        3.0            4.0             2.0        1.0   \n",
       "1     1.0  ...        NaN            1.0             1.0        NaN   \n",
       "2     NaN  ...        NaN            1.0             1.0        NaN   \n",
       "3     NaN  ...        NaN            1.0             1.0        NaN   \n",
       "4     NaN  ...        NaN            1.0             1.0        NaN   \n",
       "\n",
       "   speedfreq  strata  hhsize  child  otherbcnotcondom2  bthcntrltype  \n",
       "0        2.0      13       1    2.0                NaN           NaN  \n",
       "1        NaN      11       2    2.0                NaN           NaN  \n",
       "2        NaN       5       3    2.0                NaN           NaN  \n",
       "3        NaN      15       1    2.0                NaN           NaN  \n",
       "4        NaN       6       4    1.0                2.0           1.0  \n",
       "\n",
       "[5 rows x 147 columns]"
      ]
     },
     "execution_count": 4,
     "metadata": {},
     "output_type": "execute_result"
    }
   ],
   "source": [
    "# df=df18.copy()\n",
    "df=d['df16']\n",
    "df.head()"
   ]
  },
  {
   "cell_type": "code",
   "execution_count": 5,
   "metadata": {},
   "outputs": [
    {
     "data": {
      "text/plain": [
       "147"
      ]
     },
     "execution_count": 5,
     "metadata": {},
     "output_type": "execute_result"
    }
   ],
   "source": [
    "#number of features\n",
    "len(df.columns)"
   ]
  },
  {
   "cell_type": "code",
   "execution_count": 6,
   "metadata": {},
   "outputs": [
    {
     "data": {
      "text/plain": [
       "Index(['mood63', 'mood64', 'mood54', 'mood55', 'mood56', 'mood57', 'mood58',\n",
       "       'mood59', 'mood60', 'mood61',\n",
       "       ...\n",
       "       'drivefreq', 'drivefreq_all', 'drivefreq3_all', 'everspeed',\n",
       "       'speedfreq', 'strata', 'hhsize', 'child', 'otherbcnotcondom2',\n",
       "       'bthcntrltype'],\n",
       "      dtype='object', length=147)"
      ]
     },
     "execution_count": 6,
     "metadata": {},
     "output_type": "execute_result"
    }
   ],
   "source": [
    "df.columns"
   ]
  },
  {
   "cell_type": "code",
   "execution_count": 7,
   "metadata": {},
   "outputs": [
    {
     "data": {
      "text/plain": [
       "10000"
      ]
     },
     "execution_count": 7,
     "metadata": {},
     "output_type": "execute_result"
    }
   ],
   "source": [
    "#number of rows\n",
    "len(df[\"mood63\"])"
   ]
  },
  {
   "cell_type": "code",
   "execution_count": 8,
   "metadata": {},
   "outputs": [
    {
     "data": {
      "text/plain": [
       "mood63                215\n",
       "mood64                131\n",
       "mood54                129\n",
       "mood55                143\n",
       "mood56                110\n",
       "                     ... \n",
       "strata                  0\n",
       "hhsize                  0\n",
       "child                  48\n",
       "otherbcnotcondom2    6259\n",
       "bthcntrltype         6272\n",
       "Length: 147, dtype: int64"
      ]
     },
     "execution_count": 8,
     "metadata": {},
     "output_type": "execute_result"
    }
   ],
   "source": [
    "df.isnull().sum()"
   ]
  },
  {
   "cell_type": "markdown",
   "metadata": {},
   "source": [
    "qxvers-Questionnaire version\n",
    "nutrition46-cupsof fruit\n",
    "nutrition47-cups of vegetable"
   ]
  },
  {
   "cell_type": "markdown",
   "metadata": {},
   "source": [
    "# Steps followed for analysis\n",
    "#process NA values\n",
    "#find correlation between target and source variables and perform dimensionality reduction\n",
    "#divide data into training and test sets\n",
    "#apply regression\n",
    "#reduce parameters depending upon correlartion\n",
    "#apply regression again and compare models"
   ]
  },
  {
   "cell_type": "code",
   "execution_count": 9,
   "metadata": {},
   "outputs": [],
   "source": [
    "#correlation function\n",
    "#[1]https://towardsdatascience.com/better-heatmaps-and-correlation-matrix-plots-in-python-41445d0f2bec\n",
    "#[2]https://seaborn.pydata.org/examples/many_pairwise_correlations.html\n",
    "def draw_corr(corr_var):\n",
    "    # Generate a mask for the upper triangle\n",
    "    mask = np.zeros_like(corr_var, dtype=np.bool)\n",
    "    mask[np.triu_indices_from(mask)] = True\n",
    "    ax = sns.heatmap(\n",
    "        corr_var, \n",
    "        vmin=-1, vmax=1, center=0,\n",
    "        cmap=sns.diverging_palette(20, 220, n=200),\n",
    "        square=True,\n",
    "        mask=mask,\n",
    "#         annot=True\n",
    "    )\n",
    "    ax.set_xticklabels(\n",
    "        ax.get_xticklabels(),\n",
    "        rotation=45,\n",
    "        horizontalalignment='right'\n",
    "    );"
   ]
  },
  {
   "cell_type": "markdown",
   "metadata": {},
   "source": [
    "# Checking correlation between physical activity data"
   ]
  },
  {
   "cell_type": "code",
   "execution_count": 10,
   "metadata": {},
   "outputs": [],
   "source": [
    "df_train_physical=df[[\"cid\",\"exercise16\",\"generalhealth\"]]"
   ]
  },
  {
   "cell_type": "code",
   "execution_count": 11,
   "metadata": {},
   "outputs": [
    {
     "data": {
      "text/plain": [
       "cid               0\n",
       "exercise16       19\n",
       "generalhealth    89\n",
       "dtype: int64"
      ]
     },
     "execution_count": 11,
     "metadata": {},
     "output_type": "execute_result"
    }
   ],
   "source": [
    "df_train_physical.isnull().sum()"
   ]
  },
  {
   "cell_type": "code",
   "execution_count": 12,
   "metadata": {
    "scrolled": true
   },
   "outputs": [],
   "source": [
    "# #since imputed_PA08_3R_q1 has 5000+ values as N/A we will drop this column\n",
    "# df_train_physical=df_train_physical[[\"cid\",\"exercise116\",\"cyclingfreq\",\"cycling17\",\"generalhealth\"]]\n",
    "# df_train_physical.head()"
   ]
  },
  {
   "cell_type": "code",
   "execution_count": 13,
   "metadata": {},
   "outputs": [
    {
     "data": {
      "text/html": [
       "<div>\n",
       "<style scoped>\n",
       "    .dataframe tbody tr th:only-of-type {\n",
       "        vertical-align: middle;\n",
       "    }\n",
       "\n",
       "    .dataframe tbody tr th {\n",
       "        vertical-align: top;\n",
       "    }\n",
       "\n",
       "    .dataframe thead th {\n",
       "        text-align: right;\n",
       "    }\n",
       "</style>\n",
       "<table border=\"1\" class=\"dataframe\">\n",
       "  <thead>\n",
       "    <tr style=\"text-align: right;\">\n",
       "      <th></th>\n",
       "      <th>cid</th>\n",
       "      <th>exercise16</th>\n",
       "      <th>generalhealth</th>\n",
       "    </tr>\n",
       "  </thead>\n",
       "  <tbody>\n",
       "    <tr>\n",
       "      <td>0</td>\n",
       "      <td>1700001</td>\n",
       "      <td>2.0</td>\n",
       "      <td>2.0</td>\n",
       "    </tr>\n",
       "    <tr>\n",
       "      <td>1</td>\n",
       "      <td>1700002</td>\n",
       "      <td>1.0</td>\n",
       "      <td>5.0</td>\n",
       "    </tr>\n",
       "    <tr>\n",
       "      <td>2</td>\n",
       "      <td>1700003</td>\n",
       "      <td>1.0</td>\n",
       "      <td>1.0</td>\n",
       "    </tr>\n",
       "    <tr>\n",
       "      <td>3</td>\n",
       "      <td>1700004</td>\n",
       "      <td>2.0</td>\n",
       "      <td>3.0</td>\n",
       "    </tr>\n",
       "    <tr>\n",
       "      <td>4</td>\n",
       "      <td>1700005</td>\n",
       "      <td>1.0</td>\n",
       "      <td>1.0</td>\n",
       "    </tr>\n",
       "  </tbody>\n",
       "</table>\n",
       "</div>"
      ],
      "text/plain": [
       "       cid  exercise16  generalhealth\n",
       "0  1700001         2.0            2.0\n",
       "1  1700002         1.0            5.0\n",
       "2  1700003         1.0            1.0\n",
       "3  1700004         2.0            3.0\n",
       "4  1700005         1.0            1.0"
      ]
     },
     "execution_count": 13,
     "metadata": {},
     "output_type": "execute_result"
    }
   ],
   "source": [
    "#dropping NaN values\n",
    "df_train_physical=df_train_physical.dropna()\n",
    "df_train_physical.head()"
   ]
  },
  {
   "cell_type": "code",
   "execution_count": 14,
   "metadata": {},
   "outputs": [
    {
     "data": {
      "text/html": [
       "<div>\n",
       "<style scoped>\n",
       "    .dataframe tbody tr th:only-of-type {\n",
       "        vertical-align: middle;\n",
       "    }\n",
       "\n",
       "    .dataframe tbody tr th {\n",
       "        vertical-align: top;\n",
       "    }\n",
       "\n",
       "    .dataframe thead th {\n",
       "        text-align: right;\n",
       "    }\n",
       "</style>\n",
       "<table border=\"1\" class=\"dataframe\">\n",
       "  <thead>\n",
       "    <tr style=\"text-align: right;\">\n",
       "      <th></th>\n",
       "      <th>cid</th>\n",
       "      <th>exercise16</th>\n",
       "      <th>generalhealth</th>\n",
       "    </tr>\n",
       "  </thead>\n",
       "  <tbody>\n",
       "    <tr>\n",
       "      <td>cid</td>\n",
       "      <td>1.000000</td>\n",
       "      <td>-0.031687</td>\n",
       "      <td>-0.090365</td>\n",
       "    </tr>\n",
       "    <tr>\n",
       "      <td>exercise16</td>\n",
       "      <td>-0.031687</td>\n",
       "      <td>1.000000</td>\n",
       "      <td>0.209173</td>\n",
       "    </tr>\n",
       "    <tr>\n",
       "      <td>generalhealth</td>\n",
       "      <td>-0.090365</td>\n",
       "      <td>0.209173</td>\n",
       "      <td>1.000000</td>\n",
       "    </tr>\n",
       "  </tbody>\n",
       "</table>\n",
       "</div>"
      ],
      "text/plain": [
       "                    cid  exercise16  generalhealth\n",
       "cid            1.000000   -0.031687      -0.090365\n",
       "exercise16    -0.031687    1.000000       0.209173\n",
       "generalhealth -0.090365    0.209173       1.000000"
      ]
     },
     "execution_count": 14,
     "metadata": {},
     "output_type": "execute_result"
    }
   ],
   "source": [
    "#correlation\n",
    "#[1]https://towardsdatascience.com/better-heatmaps-and-correlation-matrix-plots-in-python-41445d0f2bec\n",
    "corr_1 = df_train_physical.corr()\n",
    "corr_1"
   ]
  },
  {
   "cell_type": "code",
   "execution_count": 15,
   "metadata": {},
   "outputs": [
    {
     "data": {
      "image/png": "[encoded data removed]",
      "text/plain": [
       "<Figure size 432x288 with 2 Axes>"
      ]
     },
     "metadata": {
      "needs_background": "light"
     },
     "output_type": "display_data"
    }
   ],
   "source": [
    "ax = sns.heatmap(\n",
    "    corr_1, \n",
    "    vmin=-1, vmax=1, center=0,\n",
    "    cmap=sns.diverging_palette(20, 220, n=200),\n",
    "    square=True\n",
    ")\n",
    "ax.set_xticklabels(\n",
    "    ax.get_xticklabels(),\n",
    "    rotation=45,\n",
    "    horizontalalignment='right'\n",
    ");"
   ]
  },
  {
   "cell_type": "markdown",
   "metadata": {},
   "source": [
    "#we see that there is not much correlation among variables"
   ]
  },
  {
   "cell_type": "code",
   "execution_count": 16,
   "metadata": {},
   "outputs": [],
   "source": [
    "# df_train_physical=df_train_physical[[\"cid\",\"exercise17\",\"cyclingfreq\",\"generalhealth\"]]\n",
    "# df_train_physical.head()"
   ]
  },
  {
   "cell_type": "code",
   "execution_count": 17,
   "metadata": {},
   "outputs": [],
   "source": [
    "# corr_2 = df_train_physical[[\"exercise17\",\"cyclingfreq\",\"generalhealth\"]].corr()\n",
    "# draw_corr(corr_2)\n",
    "# print(corr_2)\n",
    "# #All have positive correlation. exercise18 is most correlated to general health"
   ]
  },
  {
   "cell_type": "markdown",
   "metadata": {},
   "source": [
    "# Checking correlation between Nutrition data"
   ]
  },
  {
   "cell_type": "code",
   "execution_count": 18,
   "metadata": {},
   "outputs": [
    {
     "name": "stdout",
     "output_type": "stream",
     "text": [
      "   fruitveg  nsodaperday16  avgsodaperday16  twoplussoda  nsugardrinkperday16  \\\n",
      "0       2.0            0.0              1.0          2.0             0.000000   \n",
      "1       2.0            0.0              1.0          2.0             0.000000   \n",
      "2       2.0            0.0              1.0          2.0             0.099174   \n",
      "3       2.0            0.0              1.0          2.0             0.000000   \n",
      "4       2.0            0.0              1.0          2.0             0.000000   \n",
      "\n",
      "   avgsugarperday16  nsodasugarperday16  ssb  generalhealth  \n",
      "0               1.0            0.000000  2.0            2.0  \n",
      "1               1.0            0.000000  2.0            5.0  \n",
      "2               2.0            0.099174  2.0            1.0  \n",
      "3               1.0            0.000000  2.0            3.0  \n",
      "4               1.0            0.000000  2.0            1.0  \n"
     ]
    },
    {
     "data": {
      "text/plain": [
       "fruitveg               256\n",
       "nsodaperday16           64\n",
       "avgsodaperday16         64\n",
       "twoplussoda             64\n",
       "nsugardrinkperday16     85\n",
       "avgsugarperday16        85\n",
       "nsodasugarperday16      90\n",
       "ssb                     90\n",
       "generalhealth           89\n",
       "dtype: int64"
      ]
     },
     "execution_count": 18,
     "metadata": {},
     "output_type": "execute_result"
    }
   ],
   "source": [
    "df_train_nutrition = df[[\"fruitveg\",\n",
    "                         \"nsodaperday16\",\"avgsodaperday16\",\"twoplussoda\",\n",
    "                         \"nsugardrinkperday16\",\"avgsugarperday16\",\"nsodasugarperday16\",\n",
    "                         \"ssb\",\n",
    "                         \"generalhealth\"]]\n",
    "print(df_train_nutrition.head())\n",
    "df_train_nutrition.isnull().sum()\n"
   ]
  },
  {
   "cell_type": "code",
   "execution_count": 19,
   "metadata": {},
   "outputs": [
    {
     "data": {
      "text/plain": [
       "nsodaperday16     generalhealth       0.002369\n",
       "generalhealth     nsodaperday16       0.002369\n",
       "                  avgsugarperday16    0.002841\n",
       "avgsugarperday16  generalhealth       0.002841\n",
       "twoplussoda       generalhealth       0.004716\n",
       "                                        ...   \n",
       "                  twoplussoda         1.000000\n",
       "avgsodaperday16   avgsodaperday16     1.000000\n",
       "nsodaperday16     nsodaperday16       1.000000\n",
       "ssb               ssb                 1.000000\n",
       "generalhealth     generalhealth       1.000000\n",
       "Length: 81, dtype: float64"
      ]
     },
     "execution_count": 19,
     "metadata": {},
     "output_type": "execute_result"
    },
    {
     "data": {
      "image/png": "[encoded data removed]",
      "text/plain": [
       "<Figure size 432x288 with 2 Axes>"
      ]
     },
     "metadata": {
      "needs_background": "light"
     },
     "output_type": "display_data"
    }
   ],
   "source": [
    "#[1]https://stackoverflow.com/questions/17778394/list-highest-correlation-pairs-from-a-large-correlation-matrix-in-pandas\n",
    "\n",
    "df_train_nutrition=df_train_nutrition.dropna()\n",
    "corr_3 = df_train_nutrition.corr().abs()\n",
    "draw_corr(corr_3)\n",
    "\n",
    "corr_3.unstack().sort_values(kind=\"quicksort\")\n"
   ]
  },
  {
   "cell_type": "raw",
   "metadata": {},
   "source": [
    "Top most correlated columns are:\n",
    "\n",
    "ssb                  avgsugarperday16       0.694780\n",
    "\n",
    "nsodasugarperday16   ssb                    0.696780\n",
    "\n",
    "avgsodaperday16      twoplussoda            0.701575\n",
    "\n",
    "avgsodaperday16      nsodaperday16          0.770412\n",
    "\n",
    "avgsugarperday16     nsugardrinkperday16    0.775078\n",
    "\n",
    "nsodaperday16        nsodasugarperday16     0.777965\n",
    "\n",
    "twoplussoda          nsodaperday16          0.815360\n",
    "\n",
    "nsugardrinkperday16  nsodasugarperday16     0.820678\n",
    "\n",
    "\n",
    "Eliminating highly correlated features\n",
    "\n",
    "# - eliminated features\n"
   ]
  },
  {
   "cell_type": "code",
   "execution_count": 20,
   "metadata": {},
   "outputs": [
    {
     "data": {
      "text/plain": [
       "generalhealth       avgsugarperday16      0.002841\n",
       "avgsugarperday16    generalhealth         0.002841\n",
       "generalhealth       nsodasugarperday16    0.018288\n",
       "nsodasugarperday16  generalhealth         0.018288\n",
       "generalhealth       avgsodaperday16       0.028963\n",
       "avgsodaperday16     generalhealth         0.028963\n",
       "ssb                 generalhealth         0.031958\n",
       "generalhealth       ssb                   0.031958\n",
       "avgsodaperday16     avgsugarperday16      0.328768\n",
       "avgsugarperday16    avgsodaperday16       0.328768\n",
       "ssb                 avgsodaperday16       0.604296\n",
       "avgsodaperday16     ssb                   0.604296\n",
       "nsodasugarperday16  avgsodaperday16       0.624161\n",
       "avgsodaperday16     nsodasugarperday16    0.624161\n",
       "avgsugarperday16    nsodasugarperday16    0.655347\n",
       "nsodasugarperday16  avgsugarperday16      0.655347\n",
       "ssb                 avgsugarperday16      0.694780\n",
       "avgsugarperday16    ssb                   0.694780\n",
       "ssb                 nsodasugarperday16    0.696780\n",
       "nsodasugarperday16  ssb                   0.696780\n",
       "                    nsodasugarperday16    1.000000\n",
       "avgsugarperday16    avgsugarperday16      1.000000\n",
       "avgsodaperday16     avgsodaperday16       1.000000\n",
       "ssb                 ssb                   1.000000\n",
       "generalhealth       generalhealth         1.000000\n",
       "dtype: float64"
      ]
     },
     "execution_count": 20,
     "metadata": {},
     "output_type": "execute_result"
    },
    {
     "data": {
      "image/png": "[encoded data removed]",
      "text/plain": [
       "<Figure size 432x288 with 2 Axes>"
      ]
     },
     "metadata": {
      "needs_background": "light"
     },
     "output_type": "display_data"
    }
   ],
   "source": [
    "# features dropped pertaining to high correlation with other features :  \n",
    "df_train_nutrition = df_train_nutrition[[\"nsodasugarperday16\",\n",
    "                        \"avgsodaperday16\"\n",
    "                        ,\"avgsugarperday16\"\n",
    "                         ,\"ssb\"\n",
    "                         ,\"generalhealth\"]]\n",
    "\n",
    "#finding correlation in remaining features\n",
    "corr_nutrition = df_train_nutrition.corr().abs()\n",
    "draw_corr(corr_nutrition)\n",
    "corr_nutrition.unstack().sort_values(kind=\"quicksort\")\n"
   ]
  },
  {
   "cell_type": "markdown",
   "metadata": {},
   "source": [
    "#Next most correlated columns after deleting the previous coulmns:\n",
    "\n",
    "nutrition47       fruitveg18          0.597664\n",
    "fruitveg18        nutrition46         0.624137\n",
    "avgsodaperday18   ssb                 0.626788\n",
    "\n",
    "ssb               avgsugarperday18   -0.687271\n",
    "\n",
    "ssb is correlated to both avgsodaperday18 and avgsugarperday18. We will keep ssb as it combines both soda and other drinks consumed by an individual. Also nutrition47 and fruitveg18 are correlated. Lets keep them for now as corelation is not very strong."
   ]
  },
  {
   "cell_type": "code",
   "execution_count": 21,
   "metadata": {},
   "outputs": [],
   "source": [
    "# features dropped pertaining to high correlation with other features :  \n",
    "df_train_nutrition = df_train_nutrition[[\n",
    "                         \"ssb\"\n",
    "                         ,\"generalhealth\"]]"
   ]
  },
  {
   "cell_type": "markdown",
   "metadata": {},
   "source": [
    "# Making prediction and checking rmse"
   ]
  },
  {
   "cell_type": "code",
   "execution_count": 22,
   "metadata": {},
   "outputs": [],
   "source": [
    "#[1]https://scikit-learn.org/stable/modules/generated/sklearn.decomposition.TruncatedSVD.html\n",
    "#[2]https://scikit-learn.org/stable/modules/generated/sklearn.linear_model.LogisticRegression.html\n",
    "#[3]https://towardsdatascience.com/pca-using-python-scikit-learn-e653f8989e60\n",
    "#[4]https://scikit-learn.org/stable/modules/generated/sklearn.decomposition.PCA.html\n",
    "\n",
    "from sklearn.decomposition import TruncatedSVD\n",
    "from sklearn.random_projection import sparse_random_matrix\n",
    "from sklearn.naive_bayes import GaussianNB\n",
    "from sklearn.metrics import mean_squared_error\n",
    "from math import sqrt\n",
    "\n",
    "#function for rmse calculation of model\n",
    "def model_apply(x,y,algo,n):\n",
    "    x_train, x_test, y_train, y_test = train_test_split(x,y,test_size=0.25,random_state=0)\n",
    "    scaler = StandardScaler()\n",
    "    # Fit on training set only.\n",
    "    scaler.fit(x_train)\n",
    "    # Apply transform to both the training set and the test set.\n",
    "    x_train = scaler.transform(x_train)\n",
    "    x_test = scaler.transform(x_test)\n",
    "    \n",
    "    pca = PCA(n_components=n,tol=.95)\n",
    "    pca.fit(x_test)\n",
    "    print(pca.explained_variance_ratio_) \n",
    "    \n",
    "    x_train = pca.transform(x_train)\n",
    "    x_test = pca.transform(x_test)\n",
    "    \n",
    "#     principalDf = pd.DataFrame(data = x_train\n",
    "#              , columns = ['pc1', 'pc2','pc3'])\n",
    "#     print(principalDf)\n",
    "\n",
    "    #model selection\n",
    "    if algo==1:\n",
    "        model=LogisticRegression(random_state=0, solver='lbfgs',multi_class='multinomial',max_iter=200)\n",
    "    elif algo==2:\n",
    "        model=GaussianNB()\n",
    "    elif algo==3:\n",
    "        model=DecisionTreeClassifier()\n",
    "    elif algo==4:\n",
    "        model=svm.SVC(gamma='scale')\n",
    "    elif algo==5:\n",
    "        model=Perceptron(tol=1e-3, random_state=0)\n",
    "        \n",
    "        # Train the model using the training sets\n",
    "    model.fit(x_train,y_train.values.ravel())\n",
    "\n",
    "    # Predict Output\n",
    "    y_pred = model.predict(x_test)\n",
    "    print (\"Predicted Value:\", y_pred)\n",
    "    print(\"Accuracy:\",metrics.accuracy_score(y_test, y_pred))\n",
    "    print(confusion_matrix(y_test,y_pred))\n",
    "    print(classification_report(y_test,y_pred))\n",
    "    rmse = sqrt(mean_squared_error(y_test, y_pred))\n",
    "    return(rmse)"
   ]
  },
  {
   "cell_type": "markdown",
   "metadata": {},
   "source": [
    "# Physical Activity vs General Health"
   ]
  },
  {
   "cell_type": "code",
   "execution_count": 23,
   "metadata": {},
   "outputs": [],
   "source": [
    "#preparing training and test data\n",
    "x=df_train_physical[[\"exercise16\"]] #source feature\n",
    "y=df_train_physical[[\"generalhealth\"]] #target feature\n",
    "algo=LogisticRegression(random_state=0, solver='lbfgs',multi_class='multinomial') #rmse=1.1660\n",
    "# model = GaussianNB() #rmse=1.28"
   ]
  },
  {
   "cell_type": "code",
   "execution_count": 25,
   "metadata": {},
   "outputs": [
    {
     "name": "stdout",
     "output_type": "stream",
     "text": [
      "[1.]\n",
      "Predicted Value: [3. 3. 3. ... 3. 3. 3.]\n",
      "Accuracy: 0.3234937323089365\n",
      "[[  0   0 405   0   0]\n",
      " [  0   0 639   0   0]\n",
      " [  0   0 800   0   0]\n",
      " [  0   0 471   0   0]\n",
      " [  0   0 158   0   0]]\n",
      "              precision    recall  f1-score   support\n",
      "\n",
      "         1.0       0.00      0.00      0.00       405\n",
      "         2.0       0.00      0.00      0.00       639\n",
      "         3.0       0.32      1.00      0.49       800\n",
      "         4.0       0.00      0.00      0.00       471\n",
      "         5.0       0.00      0.00      0.00       158\n",
      "\n",
      "    accuracy                           0.32      2473\n",
      "   macro avg       0.06      0.20      0.10      2473\n",
      "weighted avg       0.10      0.32      0.16      2473\n",
      "\n"
     ]
    },
    {
     "name": "stderr",
     "output_type": "stream",
     "text": [
      "/usr/local/lib/python3.7/site-packages/sklearn/metrics/classification.py:1437: UndefinedMetricWarning: Precision and F-score are ill-defined and being set to 0.0 in labels with no predicted samples.\n",
      "  'precision', 'predicted', average, warn_for)\n"
     ]
    },
    {
     "data": {
      "text/plain": [
       "1.1659684429813295"
      ]
     },
     "execution_count": 25,
     "metadata": {},
     "output_type": "execute_result"
    }
   ],
   "source": [
    "model_apply(x,y,3,1)"
   ]
  },
  {
   "cell_type": "markdown",
   "metadata": {},
   "source": [
    "# Nutrition vs General Health"
   ]
  },
  {
   "cell_type": "code",
   "execution_count": 27,
   "metadata": {},
   "outputs": [
    {
     "name": "stdout",
     "output_type": "stream",
     "text": [
      "[1.]\n",
      "Predicted Value: [3. 3. 3. ... 3. 3. 3.]\n",
      "Accuracy: 0.3192291579388354\n",
      "[[  0   0 363   0   0]\n",
      " [  0   0 623   0   0]\n",
      " [  0   0 762   0   0]\n",
      " [  0   0 466   0   0]\n",
      " [  0   0 173   0   0]]\n",
      "              precision    recall  f1-score   support\n",
      "\n",
      "         1.0       0.00      0.00      0.00       363\n",
      "         2.0       0.00      0.00      0.00       623\n",
      "         3.0       0.32      1.00      0.48       762\n",
      "         4.0       0.00      0.00      0.00       466\n",
      "         5.0       0.00      0.00      0.00       173\n",
      "\n",
      "    accuracy                           0.32      2387\n",
      "   macro avg       0.06      0.20      0.10      2387\n",
      "weighted avg       0.10      0.32      0.15      2387\n",
      "\n"
     ]
    },
    {
     "name": "stderr",
     "output_type": "stream",
     "text": [
      "/usr/local/lib/python3.7/site-packages/sklearn/metrics/classification.py:1437: UndefinedMetricWarning: Precision and F-score are ill-defined and being set to 0.0 in labels with no predicted samples.\n",
      "  'precision', 'predicted', average, warn_for)\n"
     ]
    },
    {
     "data": {
      "text/plain": [
       "1.163795417491671"
      ]
     },
     "execution_count": 27,
     "metadata": {},
     "output_type": "execute_result"
    }
   ],
   "source": [
    "#preparing training and test data\n",
    "x=df_train_nutrition[[\"ssb\"]] #source feature\n",
    "y=df_train_nutrition[[\"generalhealth\"]] #target feature\n",
    "algo=LogisticRegression(random_state=0, solver='lbfgs',multi_class='multinomial') #rmse=1.16379\n",
    "# model = GaussianNB() #rmse=1.28\n",
    "model_apply(x,y,3,1)"
   ]
  },
  {
   "cell_type": "markdown",
   "metadata": {},
   "source": [
    "# Checking correlation between CardioVascular Health data"
   ]
  },
  {
   "cell_type": "code",
   "execution_count": 28,
   "metadata": {},
   "outputs": [
    {
     "name": "stdout",
     "output_type": "stream",
     "text": [
      "   toldhighbp16  toldprescription16  takingmeds16  generalhealth\n",
      "0           1.0                 1.0           1.0            2.0\n",
      "1           1.0                 1.0           1.0            5.0\n",
      "2           2.0                 NaN           NaN            1.0\n",
      "3           1.0                 1.0           1.0            3.0\n",
      "4           1.0                 1.0           1.0            1.0\n"
     ]
    },
    {
     "data": {
      "text/plain": [
       "toldhighbp16            36\n",
       "toldprescription16    6486\n",
       "takingmeds16          6820\n",
       "generalhealth           89\n",
       "dtype: int64"
      ]
     },
     "execution_count": 28,
     "metadata": {},
     "output_type": "execute_result"
    }
   ],
   "source": [
    "df_train_cardio=df[[\"toldhighbp16\",\"toldprescription16\",\"takingmeds16\",\"generalhealth\"]]\n",
    "print(df_train_cardio.head())\n",
    "df_train_cardio.isnull().sum()"
   ]
  },
  {
   "cell_type": "markdown",
   "metadata": {},
   "source": [
    "toldprescription16 and takingmeds16 has high NA values so we have to drop them from dataset"
   ]
  },
  {
   "cell_type": "code",
   "execution_count": 29,
   "metadata": {},
   "outputs": [
    {
     "name": "stdout",
     "output_type": "stream",
     "text": [
      "   toldhighbp16  generalhealth\n",
      "0           1.0            2.0\n",
      "1           1.0            5.0\n",
      "2           2.0            1.0\n",
      "3           1.0            3.0\n",
      "4           1.0            1.0\n"
     ]
    },
    {
     "data": {
      "text/plain": [
       "toldhighbp16     36\n",
       "generalhealth    89\n",
       "dtype: int64"
      ]
     },
     "execution_count": 29,
     "metadata": {},
     "output_type": "execute_result"
    }
   ],
   "source": [
    "df_train_cardio=df[[\"toldhighbp16\",\"generalhealth\"]]\n",
    "print(df_train_cardio.head())\n",
    "df_train_cardio.isnull().sum()"
   ]
  },
  {
   "cell_type": "code",
   "execution_count": 30,
   "metadata": {},
   "outputs": [
    {
     "data": {
      "text/plain": [
       "toldhighbp16   generalhealth    0.32247\n",
       "generalhealth  toldhighbp16     0.32247\n",
       "toldhighbp16   toldhighbp16     1.00000\n",
       "generalhealth  generalhealth    1.00000\n",
       "dtype: float64"
      ]
     },
     "execution_count": 30,
     "metadata": {},
     "output_type": "execute_result"
    },
    {
     "data": {
      "image/png": "[encoded data removed]",
      "text/plain": [
       "<Figure size 432x288 with 2 Axes>"
      ]
     },
     "metadata": {
      "needs_background": "light"
     },
     "output_type": "display_data"
    }
   ],
   "source": [
    "df_train_cardio=df_train_cardio.dropna()\n",
    "corr_cardio = df_train_cardio.corr().abs()\n",
    "draw_corr(corr_cardio)\n",
    "corr_cardio.unstack().sort_values(kind=\"quicksort\")"
   ]
  },
  {
   "cell_type": "markdown",
   "metadata": {},
   "source": [
    "# Cardio vs General Health\n"
   ]
  },
  {
   "cell_type": "code",
   "execution_count": 32,
   "metadata": {},
   "outputs": [
    {
     "name": "stdout",
     "output_type": "stream",
     "text": [
      "[1.]\n",
      "Predicted Value: [3. 3. 3. ... 3. 3. 3.]\n",
      "Accuracy: 0.3230769230769231\n",
      "[[  0   0 399   0   0]\n",
      " [  0   0 631   0   0]\n",
      " [  0   0 798   0   0]\n",
      " [  0   0 445   0   0]\n",
      " [  0   0 197   0   0]]\n",
      "              precision    recall  f1-score   support\n",
      "\n",
      "         1.0       0.00      0.00      0.00       399\n",
      "         2.0       0.00      0.00      0.00       631\n",
      "         3.0       0.32      1.00      0.49       798\n",
      "         4.0       0.00      0.00      0.00       445\n",
      "         5.0       0.00      0.00      0.00       197\n",
      "\n",
      "    accuracy                           0.32      2470\n",
      "   macro avg       0.06      0.20      0.10      2470\n",
      "weighted avg       0.10      0.32      0.16      2470\n",
      "\n"
     ]
    },
    {
     "name": "stderr",
     "output_type": "stream",
     "text": [
      "/usr/local/lib/python3.7/site-packages/sklearn/metrics/classification.py:1437: UndefinedMetricWarning: Precision and F-score are ill-defined and being set to 0.0 in labels with no predicted samples.\n",
      "  'precision', 'predicted', average, warn_for)\n"
     ]
    },
    {
     "data": {
      "text/plain": [
       "1.1835580748738908"
      ]
     },
     "execution_count": 32,
     "metadata": {},
     "output_type": "execute_result"
    }
   ],
   "source": [
    "df_train_cardio=df_train_cardio[[\"toldhighbp16\",\"generalhealth\"]]\n",
    "df_train_cardio=df_train_cardio.dropna()\n",
    "#preparing training and test data\n",
    "x=df_train_cardio[[\"toldhighbp16\"]] #source feature\n",
    "y=df_train_cardio[[\"generalhealth\"]] #target feature\n",
    "algo=LogisticRegression(random_state=0, solver='lbfgs',multi_class='multinomial') #rmse=1.1836\n",
    "# model = GaussianNB() #rmse=1.28\n",
    "model_apply(x,y,3,1)"
   ]
  },
  {
   "cell_type": "markdown",
   "metadata": {},
   "source": [
    "# Checking correlation between Diabetes data"
   ]
  },
  {
   "cell_type": "code",
   "execution_count": 33,
   "metadata": {},
   "outputs": [
    {
     "name": "stdout",
     "output_type": "stream",
     "text": [
      "   diabetes16  generalhealth\n",
      "0         1.0            2.0\n",
      "1         2.0            5.0\n",
      "2         2.0            1.0\n",
      "3         1.0            3.0\n",
      "4         2.0            1.0\n"
     ]
    },
    {
     "data": {
      "text/plain": [
       "diabetes16       34\n",
       "generalhealth    89\n",
       "dtype: int64"
      ]
     },
     "execution_count": 33,
     "metadata": {},
     "output_type": "execute_result"
    }
   ],
   "source": [
    "df_train_diabetes=df[[\"diabetes16\",\"generalhealth\"]]\n",
    "print(df_train_diabetes.head())\n",
    "df_train_diabetes.isnull().sum()"
   ]
  },
  {
   "cell_type": "markdown",
   "metadata": {},
   "source": [
    "Since only one column is there is no need to check correlation here.\n",
    "\n",
    "# Diabetes vs General Health "
   ]
  },
  {
   "cell_type": "code",
   "execution_count": 35,
   "metadata": {},
   "outputs": [
    {
     "name": "stdout",
     "output_type": "stream",
     "text": [
      "[1.]\n",
      "Predicted Value: [4. 3. 4. ... 3. 3. 4.]\n",
      "Accuracy: 0.3129554655870445\n",
      "[[  0   0 384  16   0]\n",
      " [  0   0 617  40   0]\n",
      " [  0   0 649 113   0]\n",
      " [  0   0 345 124   0]\n",
      " [  0   0 117  65   0]]\n",
      "              precision    recall  f1-score   support\n",
      "\n",
      "         1.0       0.00      0.00      0.00       400\n",
      "         2.0       0.00      0.00      0.00       657\n",
      "         3.0       0.31      0.85      0.45       762\n",
      "         4.0       0.35      0.26      0.30       469\n",
      "         5.0       0.00      0.00      0.00       182\n",
      "\n",
      "    accuracy                           0.31      2470\n",
      "   macro avg       0.13      0.22      0.15      2470\n",
      "weighted avg       0.16      0.31      0.20      2470\n",
      "\n"
     ]
    },
    {
     "name": "stderr",
     "output_type": "stream",
     "text": [
      "/usr/local/lib/python3.7/site-packages/sklearn/metrics/classification.py:1437: UndefinedMetricWarning: Precision and F-score are ill-defined and being set to 0.0 in labels with no predicted samples.\n",
      "  'precision', 'predicted', average, warn_for)\n"
     ]
    },
    {
     "data": {
      "text/plain": [
       "1.1815038793859496"
      ]
     },
     "execution_count": 35,
     "metadata": {},
     "output_type": "execute_result"
    }
   ],
   "source": [
    "df_train_diabetes=df_train_diabetes[[\"diabetes16\",\"generalhealth\"]]\n",
    "df_train_diabetes=df_train_diabetes.dropna()\n",
    "#preparing training and test data\n",
    "x=df_train_diabetes[[\"diabetes16\"]] #source feature\n",
    "y=df_train_diabetes[[\"generalhealth\"]] #target feature\n",
    "# algo=LogisticRegression(random_state=0, solver='lbfgs',multi_class='multinomial') #rmse=1.1815\n",
    "# algo=svm.SVC(gamma='scale') #emse=1.1714\n",
    "# algo = GaussianNB() #rmse=1.2356\n",
    "algo=DecisionTreeClassifier() #rmse=1.1714\n",
    "model_apply(x,y,3,1)"
   ]
  },
  {
   "cell_type": "markdown",
   "metadata": {},
   "source": [
    "# Clubbing the different parameters"
   ]
  },
  {
   "cell_type": "code",
   "execution_count": 50,
   "metadata": {},
   "outputs": [
    {
     "name": "stdout",
     "output_type": "stream",
     "text": [
      "       cid  exercise16  ssb  diabetes16  toldhighbp16  generalhealth\n",
      "0  1700001         2.0  2.0         1.0           1.0            2.0\n",
      "1  1700002         1.0  2.0         2.0           1.0            5.0\n",
      "2  1700003         1.0  2.0         2.0           2.0            1.0\n",
      "3  1700004         2.0  2.0         1.0           1.0            3.0\n",
      "4  1700005         1.0  2.0         2.0           1.0            1.0\n"
     ]
    },
    {
     "data": {
      "text/plain": [
       "cid               0\n",
       "exercise16       19\n",
       "ssb              90\n",
       "diabetes16       34\n",
       "toldhighbp16     36\n",
       "generalhealth    89\n",
       "dtype: int64"
      ]
     },
     "execution_count": 50,
     "metadata": {},
     "output_type": "execute_result"
    }
   ],
   "source": [
    "#df_train_physical[[\"exercise17\",\"cyclingfreq\",\"generalhealth\"]]\n",
    "#df_train_diabetes[[\"diabetes17\",\"generalhealth\"]]\n",
    "#df_train_cardio[[\"toldhighbp17\",\"generalhealth\"]]\n",
    "#df_train_nutrition[[\"nutrition46\",\"nutrition47\",\"ssb\"]]\n",
    "df_clubbed=df[[\"cid\",\"exercise16\",\"ssb\",\n",
    "              \"diabetes16\",\"toldhighbp16\",\"generalhealth\"]]\n",
    "print(df_clubbed.head())\n",
    "df_clubbed.isnull().sum()"
   ]
  },
  {
   "cell_type": "code",
   "execution_count": 93,
   "metadata": {},
   "outputs": [
    {
     "name": "stdout",
     "output_type": "stream",
     "text": [
      "[0.33918907 0.27288066 0.2184046 ]\n",
      "Predicted Value: [3. 3. 2. ... 3. 3. 3.]\n",
      "Accuracy: 0.34372436423297786\n",
      "[[  0 246 149   8   0]\n",
      " [  0 300 287  32   0]\n",
      " [  0 236 454  91   0]\n",
      " [  0  80 268  84   0]\n",
      " [  0  18 103  82   0]]\n",
      "              precision    recall  f1-score   support\n",
      "\n",
      "         1.0       0.00      0.00      0.00       403\n",
      "         2.0       0.34      0.48      0.40       619\n",
      "         3.0       0.36      0.58      0.44       781\n",
      "         4.0       0.28      0.19      0.23       432\n",
      "         5.0       0.00      0.00      0.00       203\n",
      "\n",
      "    accuracy                           0.34      2438\n",
      "   macro avg       0.20      0.25      0.22      2438\n",
      "weighted avg       0.25      0.34      0.28      2438\n",
      "\n"
     ]
    },
    {
     "name": "stderr",
     "output_type": "stream",
     "text": [
      "/usr/local/lib/python3.7/site-packages/sklearn/metrics/classification.py:1437: UndefinedMetricWarning: Precision and F-score are ill-defined and being set to 0.0 in labels with no predicted samples.\n",
      "  'precision', 'predicted', average, warn_for)\n"
     ]
    },
    {
     "data": {
      "text/plain": [
       "1.0906418247196132"
      ]
     },
     "execution_count": 93,
     "metadata": {},
     "output_type": "execute_result"
    }
   ],
   "source": [
    "df_clubbed=df_clubbed.dropna()\n",
    "#preparing training and test data\n",
    "x=df_clubbed.drop(columns=[\"cid\",\"generalhealth\"]) #source feature\n",
    "y=df_clubbed[[\"generalhealth\"]] #target feature\n",
    "algo=LogisticRegression(random_state=0, solver='lbfgs',multi_class='multinomial') #rmse=1.1939\n",
    "# algo=svm.SVC(gamma='scale') #emse=1.1607\n",
    "# algo = GaussianNB() #rmse=1.2136\n",
    "# algo=DecisionTreeClassifier() #rmse=1.4525\n",
    "model_apply(x,y,1,3)"
   ]
  },
  {
   "cell_type": "markdown",
   "metadata": {},
   "source": [
    "# Physical Activity vs Cardio Health"
   ]
  },
  {
   "cell_type": "code",
   "execution_count": 64,
   "metadata": {},
   "outputs": [
    {
     "name": "stdout",
     "output_type": "stream",
     "text": [
      "[1.]\n",
      "Predicted Value: [2. 2. 2. ... 2. 2. 2.]\n",
      "Accuracy: 0.6484823625922888\n",
      "[[   0  857]\n",
      " [   0 1581]]\n",
      "              precision    recall  f1-score   support\n",
      "\n",
      "         1.0       0.00      0.00      0.00       857\n",
      "         2.0       0.65      1.00      0.79      1581\n",
      "\n",
      "    accuracy                           0.65      2438\n",
      "   macro avg       0.32      0.50      0.39      2438\n",
      "weighted avg       0.42      0.65      0.51      2438\n",
      "\n"
     ]
    },
    {
     "name": "stderr",
     "output_type": "stream",
     "text": [
      "/usr/local/lib/python3.7/site-packages/sklearn/metrics/classification.py:1437: UndefinedMetricWarning: Precision and F-score are ill-defined and being set to 0.0 in labels with no predicted samples.\n",
      "  'precision', 'predicted', average, warn_for)\n"
     ]
    },
    {
     "data": {
      "text/plain": [
       "0.5928892286150181"
      ]
     },
     "execution_count": 64,
     "metadata": {},
     "output_type": "execute_result"
    }
   ],
   "source": [
    "#preparing training and test data\n",
    "x=df_clubbed[[\"exercise16\"]] #source feature\n",
    "y=df_clubbed[[\"toldhighbp16\"]] #target feature\n",
    "algo=LogisticRegression(random_state=0, solver='lbfgs',multi_class='multinomial') #rmse=0.5929\n",
    "# algo=svm.SVC(gamma='scale') #emse=1.1806\n",
    "# algo = GaussianNB() #rmse=1.2156\n",
    "# algo=DecisionTreeClassifier() #rmse=1.4330\n",
    "model_apply(x,y,3,1)"
   ]
  },
  {
   "cell_type": "markdown",
   "metadata": {},
   "source": [
    "# Nutrition vs Cardio Health"
   ]
  },
  {
   "cell_type": "code",
   "execution_count": 66,
   "metadata": {},
   "outputs": [
    {
     "name": "stdout",
     "output_type": "stream",
     "text": [
      "[1.]\n",
      "Predicted Value: [2. 2. 2. ... 2. 2. 2.]\n",
      "Accuracy: 0.6484823625922888\n",
      "[[   0  857]\n",
      " [   0 1581]]\n",
      "              precision    recall  f1-score   support\n",
      "\n",
      "         1.0       0.00      0.00      0.00       857\n",
      "         2.0       0.65      1.00      0.79      1581\n",
      "\n",
      "    accuracy                           0.65      2438\n",
      "   macro avg       0.32      0.50      0.39      2438\n",
      "weighted avg       0.42      0.65      0.51      2438\n",
      "\n"
     ]
    },
    {
     "name": "stderr",
     "output_type": "stream",
     "text": [
      "/usr/local/lib/python3.7/site-packages/sklearn/metrics/classification.py:1437: UndefinedMetricWarning: Precision and F-score are ill-defined and being set to 0.0 in labels with no predicted samples.\n",
      "  'precision', 'predicted', average, warn_for)\n"
     ]
    },
    {
     "data": {
      "text/plain": [
       "0.5928892286150181"
      ]
     },
     "execution_count": 66,
     "metadata": {},
     "output_type": "execute_result"
    }
   ],
   "source": [
    "#preparing training and test data\n",
    "x=df_clubbed[[\"ssb\"]] #source feature\n",
    "y=df_clubbed[[\"toldhighbp16\"]] #target feature\n",
    "algo=LogisticRegression(random_state=0, solver='lbfgs',multi_class='multinomial') #rmse=0.5929\n",
    "# algo=svm.SVC(gamma='scale') #emse=1.1806\n",
    "# algo = GaussianNB() #rmse=1.2156\n",
    "# algo=DecisionTreeClassifier() #rmse=1.4330\n",
    "model_apply(x,y,3,1)"
   ]
  },
  {
   "cell_type": "markdown",
   "metadata": {},
   "source": [
    "# Physical vs Diabetes"
   ]
  },
  {
   "cell_type": "code",
   "execution_count": 69,
   "metadata": {},
   "outputs": [
    {
     "name": "stdout",
     "output_type": "stream",
     "text": [
      "[1.]\n",
      "Predicted Value: [2. 2. 2. ... 2. 2. 2.]\n",
      "Accuracy: 0.8482362592288761\n",
      "[[   0  370]\n",
      " [   0 2068]]\n",
      "              precision    recall  f1-score   support\n",
      "\n",
      "         1.0       0.00      0.00      0.00       370\n",
      "         2.0       0.85      1.00      0.92      2068\n",
      "\n",
      "    accuracy                           0.85      2438\n",
      "   macro avg       0.42      0.50      0.46      2438\n",
      "weighted avg       0.72      0.85      0.78      2438\n",
      "\n"
     ]
    },
    {
     "name": "stderr",
     "output_type": "stream",
     "text": [
      "/usr/local/lib/python3.7/site-packages/sklearn/metrics/classification.py:1437: UndefinedMetricWarning: Precision and F-score are ill-defined and being set to 0.0 in labels with no predicted samples.\n",
      "  'precision', 'predicted', average, warn_for)\n"
     ]
    },
    {
     "data": {
      "text/plain": [
       "0.38956865989337985"
      ]
     },
     "execution_count": 69,
     "metadata": {},
     "output_type": "execute_result"
    }
   ],
   "source": [
    "#preparing training and test data\n",
    "x=df_clubbed[[\"exercise16\"]] #source feature\n",
    "y=df_clubbed[[\"diabetes16\"]] #target feature\n",
    "algo=LogisticRegression(random_state=0, solver='lbfgs',multi_class='multinomial') #rmse=0.3900\n",
    "# algo=svm.SVC(gamma='scale') #emse=1.1806\n",
    "# algo = GaussianNB() #rmse=1.2156\n",
    "# algo=DecisionTreeClassifier() #rmse=1.4330\n",
    "model_apply(x,y,1,1)"
   ]
  },
  {
   "cell_type": "markdown",
   "metadata": {},
   "source": [
    "# Nutrition vs Diabetes"
   ]
  },
  {
   "cell_type": "code",
   "execution_count": 71,
   "metadata": {},
   "outputs": [
    {
     "name": "stdout",
     "output_type": "stream",
     "text": [
      "[1.]\n",
      "Predicted Value: [2. 2. 2. ... 2. 2. 2.]\n",
      "Accuracy: 0.8482362592288761\n",
      "[[   0  370]\n",
      " [   0 2068]]\n",
      "              precision    recall  f1-score   support\n",
      "\n",
      "         1.0       0.00      0.00      0.00       370\n",
      "         2.0       0.85      1.00      0.92      2068\n",
      "\n",
      "    accuracy                           0.85      2438\n",
      "   macro avg       0.42      0.50      0.46      2438\n",
      "weighted avg       0.72      0.85      0.78      2438\n",
      "\n"
     ]
    },
    {
     "name": "stderr",
     "output_type": "stream",
     "text": [
      "/usr/local/lib/python3.7/site-packages/sklearn/metrics/classification.py:1437: UndefinedMetricWarning: Precision and F-score are ill-defined and being set to 0.0 in labels with no predicted samples.\n",
      "  'precision', 'predicted', average, warn_for)\n"
     ]
    },
    {
     "data": {
      "text/plain": [
       "0.38956865989337985"
      ]
     },
     "execution_count": 71,
     "metadata": {},
     "output_type": "execute_result"
    }
   ],
   "source": [
    "#preparing training and test data\n",
    "x=df_clubbed[[\"ssb\"]] #source feature\n",
    "y=df_clubbed[[\"diabetes16\"]] #target feature\n",
    "algo=LogisticRegression(random_state=0, solver='lbfgs',multi_class='multinomial') #rmse=0.3900\n",
    "# algo=svm.SVC(gamma='scale') #emse=1.1806\n",
    "# algo = GaussianNB() #rmse=1.2156\n",
    "# algo=DecisionTreeClassifier() #rmse=1.4330\n",
    "model_apply(x,y,3,1)"
   ]
  },
  {
   "cell_type": "markdown",
   "metadata": {},
   "source": [
    "We observed that most of the Diabetes predictions are of class 2. Probably there is an imbalace of class in test data. Let us check.\n",
    "\n",
    "# Resampling Diabetese Dataset"
   ]
  },
  {
   "cell_type": "code",
   "execution_count": 72,
   "metadata": {},
   "outputs": [
    {
     "data": {
      "text/plain": [
       "2.0    8313\n",
       "1.0    1439\n",
       "Name: diabetes16, dtype: int64"
      ]
     },
     "execution_count": 72,
     "metadata": {},
     "output_type": "execute_result"
    }
   ],
   "source": [
    "#[1]https://elitedatascience.com/imbalanced-classes\n",
    "df_clubbed[\"diabetes16\"].value_counts()"
   ]
  },
  {
   "cell_type": "markdown",
   "metadata": {},
   "source": [
    "As we can see that class 2 has more samples than class 1 which shows that data is impbalanced and fovours class 2. Upsampling the class 1 data :"
   ]
  },
  {
   "cell_type": "markdown",
   "metadata": {},
   "source": [
    "# Up Sampling"
   ]
  },
  {
   "cell_type": "code",
   "execution_count": 73,
   "metadata": {},
   "outputs": [
    {
     "data": {
      "text/plain": [
       "1.0    8313\n",
       "2.0    8313\n",
       "Name: diabetes16, dtype: int64"
      ]
     },
     "execution_count": 73,
     "metadata": {},
     "output_type": "execute_result"
    }
   ],
   "source": [
    "from sklearn.utils import resample\n",
    "# Separate majority and minority classes\n",
    "df_majority = df_clubbed[df_clubbed.diabetes16==2]\n",
    "df_minority = df_clubbed[df_clubbed.diabetes16==1]\n",
    " \n",
    "# Upsample minority class\n",
    "df_minority_upsampled = resample(df_minority, \n",
    "                                 replace=True,     # sample with replacement\n",
    "                                 n_samples=8313,    # to match majority class\n",
    "                                 random_state=123) # reproducible results\n",
    " \n",
    "# Combine majority class with upsampled minority class\n",
    "df_upsampled = pd.concat([df_majority, df_minority_upsampled])\n",
    " \n",
    "# Display new class counts\n",
    "df_upsampled.diabetes16.value_counts()"
   ]
  },
  {
   "cell_type": "markdown",
   "metadata": {},
   "source": [
    "# Nutrition vs Diabetes again after upsampling"
   ]
  },
  {
   "cell_type": "code",
   "execution_count": 75,
   "metadata": {},
   "outputs": [
    {
     "name": "stdout",
     "output_type": "stream",
     "text": [
      "[1.]\n",
      "Predicted Value: [1. 1. 1. ... 1. 2. 1.]\n",
      "Accuracy: 0.5383690161173923\n",
      "[[1792  309]\n",
      " [1610  446]]\n",
      "              precision    recall  f1-score   support\n",
      "\n",
      "         1.0       0.53      0.85      0.65      2101\n",
      "         2.0       0.59      0.22      0.32      2056\n",
      "\n",
      "    accuracy                           0.54      4157\n",
      "   macro avg       0.56      0.53      0.48      4157\n",
      "weighted avg       0.56      0.54      0.49      4157\n",
      "\n"
     ]
    },
    {
     "data": {
      "text/plain": [
       "0.6794343116759762"
      ]
     },
     "execution_count": 75,
     "metadata": {},
     "output_type": "execute_result"
    }
   ],
   "source": [
    "#preparing training and test data\n",
    "x=df_upsampled[[\"ssb\"]] #source feature\n",
    "y=df_upsampled[[\"diabetes16\"]] #target feature\n",
    "algo=LogisticRegression(random_state=0, solver='lbfgs',multi_class='multinomial') #rmse=0.6794\n",
    "# algo=svm.SVC(gamma='scale') #emse=1.1806\n",
    "# algo = GaussianNB() #rmse=1.2156\n",
    "# algo=DecisionTreeClassifier() #rmse=1.4330\n",
    "model_apply(x,y,3,1)"
   ]
  },
  {
   "cell_type": "markdown",
   "metadata": {},
   "source": [
    "# Physical Activity vs Diabetes after upsampling"
   ]
  },
  {
   "cell_type": "code",
   "execution_count": 77,
   "metadata": {},
   "outputs": [
    {
     "name": "stdout",
     "output_type": "stream",
     "text": [
      "[1.]\n",
      "Predicted Value: [2. 2. 2. ... 1. 2. 2.]\n",
      "Accuracy: 0.5431801780129901\n",
      "[[ 768 1333]\n",
      " [ 566 1490]]\n",
      "              precision    recall  f1-score   support\n",
      "\n",
      "         1.0       0.58      0.37      0.45      2101\n",
      "         2.0       0.53      0.72      0.61      2056\n",
      "\n",
      "    accuracy                           0.54      4157\n",
      "   macro avg       0.55      0.55      0.53      4157\n",
      "weighted avg       0.55      0.54      0.53      4157\n",
      "\n"
     ]
    },
    {
     "data": {
      "text/plain": [
       "0.6758844738466847"
      ]
     },
     "execution_count": 77,
     "metadata": {},
     "output_type": "execute_result"
    }
   ],
   "source": [
    "#preparing training and test data\n",
    "x=df_upsampled[[\"exercise16\"]] #source feature\n",
    "y=df_upsampled[[\"diabetes16\"]] #target feature\n",
    "algo=LogisticRegression(random_state=0, solver='lbfgs',multi_class='multinomial') #rmse=0.6759\n",
    "# algo=svm.SVC(gamma='scale') #emse=1.1806\n",
    "# algo = GaussianNB() #rmse=1.2156\n",
    "# algo=DecisionTreeClassifier() #rmse=1.4330\n",
    "model_apply(x,y,3,1)"
   ]
  },
  {
   "cell_type": "markdown",
   "metadata": {},
   "source": [
    "# Down Sampling"
   ]
  },
  {
   "cell_type": "code",
   "execution_count": 78,
   "metadata": {},
   "outputs": [
    {
     "data": {
      "text/plain": [
       "2.0    1493\n",
       "1.0    1439\n",
       "Name: diabetes16, dtype: int64"
      ]
     },
     "execution_count": 78,
     "metadata": {},
     "output_type": "execute_result"
    }
   ],
   "source": [
    "#Down Sampling\n",
    "df_majority = df_clubbed[df_clubbed.diabetes16==2]\n",
    "df_minority = df_clubbed[df_clubbed.diabetes16==1]\n",
    " \n",
    "# Downsample majority class\n",
    "df_majority_downsampled = resample(df_majority, \n",
    "                                 replace=False,    # sample without replacement\n",
    "                                 n_samples=1493,     # to match minority class\n",
    "                                 random_state=123) # reproducible results\n",
    " \n",
    "# Combine minority class with downsampled majority class\n",
    "df_downsampled = pd.concat([df_majority_downsampled, df_minority])\n",
    " \n",
    "# Display new class counts\n",
    "df_downsampled.diabetes16.value_counts()"
   ]
  },
  {
   "cell_type": "markdown",
   "metadata": {},
   "source": [
    "# Nutrition vs Diabetes again after down sampling"
   ]
  },
  {
   "cell_type": "code",
   "execution_count": 80,
   "metadata": {},
   "outputs": [
    {
     "name": "stdout",
     "output_type": "stream",
     "text": [
      "[1.]\n",
      "Predicted Value: [1. 1. 1. 1. 1. 2. 1. 1. 2. 1. 2. 1. 1. 2. 1. 2. 1. 2. 2. 1. 1. 1. 1. 1.\n",
      " 1. 1. 1. 1. 1. 1. 1. 1. 2. 1. 2. 1. 1. 1. 2. 1. 1. 1. 2. 1. 1. 1. 1. 2.\n",
      " 1. 1. 1. 1. 1. 1. 2. 1. 2. 1. 1. 2. 1. 1. 1. 2. 1. 1. 1. 1. 1. 1. 1. 1.\n",
      " 1. 1. 1. 2. 1. 1. 1. 1. 1. 1. 1. 1. 1. 1. 1. 1. 1. 1. 1. 1. 1. 1. 1. 2.\n",
      " 1. 1. 1. 1. 1. 1. 1. 2. 1. 1. 1. 1. 1. 1. 1. 1. 1. 1. 1. 1. 2. 2. 1. 1.\n",
      " 1. 1. 1. 1. 1. 1. 1. 1. 1. 1. 1. 1. 1. 1. 1. 2. 1. 1. 1. 1. 1. 1. 1. 1.\n",
      " 1. 1. 1. 1. 2. 1. 1. 1. 1. 1. 1. 1. 1. 1. 1. 1. 1. 1. 1. 1. 1. 1. 1. 1.\n",
      " 1. 1. 1. 1. 1. 1. 1. 1. 2. 1. 1. 1. 1. 1. 2. 2. 1. 1. 1. 2. 1. 1. 1. 1.\n",
      " 1. 1. 1. 1. 1. 1. 1. 1. 1. 2. 2. 1. 1. 1. 1. 1. 1. 1. 1. 1. 1. 1. 2. 1.\n",
      " 2. 1. 1. 1. 1. 1. 1. 1. 1. 2. 2. 1. 2. 2. 1. 1. 2. 1. 1. 1. 1. 1. 2. 1.\n",
      " 1. 1. 2. 1. 2. 1. 1. 1. 2. 1. 2. 2. 1. 1. 1. 1. 1. 1. 1. 1. 2. 1. 1. 1.\n",
      " 1. 1. 1. 1. 1. 1. 1. 1. 2. 1. 1. 1. 1. 1. 1. 2. 1. 1. 1. 1. 2. 1. 1. 1.\n",
      " 1. 1. 1. 1. 1. 1. 1. 2. 1. 1. 1. 1. 1. 2. 2. 1. 1. 1. 1. 2. 1. 1. 2. 1.\n",
      " 2. 1. 1. 1. 1. 1. 1. 1. 1. 1. 1. 2. 1. 2. 1. 1. 2. 1. 1. 1. 1. 1. 1. 1.\n",
      " 1. 2. 2. 2. 1. 2. 1. 1. 1. 1. 1. 1. 1. 1. 1. 1. 2. 2. 1. 1. 1. 1. 2. 1.\n",
      " 1. 1. 1. 1. 1. 1. 1. 1. 1. 2. 2. 1. 1. 1. 1. 1. 1. 1. 1. 2. 2. 1. 1. 1.\n",
      " 1. 1. 1. 1. 2. 1. 2. 1. 1. 2. 1. 2. 1. 2. 1. 1. 2. 1. 1. 1. 1. 1. 1. 1.\n",
      " 1. 1. 2. 2. 2. 1. 1. 1. 1. 2. 1. 1. 1. 1. 1. 1. 1. 2. 1. 1. 1. 1. 2. 2.\n",
      " 1. 1. 2. 2. 1. 1. 1. 1. 1. 2. 1. 1. 1. 1. 1. 1. 1. 2. 1. 1. 1. 1. 1. 1.\n",
      " 1. 1. 1. 1. 1. 1. 1. 1. 1. 2. 1. 1. 1. 2. 2. 2. 1. 1. 1. 1. 1. 1. 1. 1.\n",
      " 1. 1. 2. 1. 1. 2. 2. 1. 1. 2. 1. 2. 1. 1. 1. 1. 1. 1. 2. 1. 1. 1. 1. 1.\n",
      " 1. 2. 1. 1. 2. 1. 1. 1. 1. 1. 1. 1. 2. 1. 1. 2. 2. 2. 1. 1. 1. 1. 1. 1.\n",
      " 2. 1. 1. 1. 1. 1. 1. 1. 1. 1. 1. 1. 1. 1. 1. 2. 2. 1. 1. 1. 1. 1. 1. 1.\n",
      " 1. 1. 1. 1. 2. 1. 1. 2. 1. 1. 1. 1. 1. 1. 1. 1. 2. 1. 2. 1. 1. 1. 1. 1.\n",
      " 1. 1. 1. 1. 1. 1. 1. 2. 1. 1. 1. 1. 1. 2. 1. 1. 1. 1. 1. 1. 2. 1. 1. 1.\n",
      " 1. 1. 1. 1. 1. 1. 1. 2. 1. 1. 2. 1. 2. 2. 1. 2. 1. 1. 2. 1. 1. 1. 2. 1.\n",
      " 1. 2. 1. 1. 1. 1. 1. 1. 1. 1. 1. 2. 2. 1. 2. 1. 1. 1. 1. 2. 1. 1. 2. 1.\n",
      " 1. 1. 1. 1. 1. 1. 1. 1. 2. 1. 1. 2. 1. 1. 1. 1. 1. 2. 1. 1. 1. 1. 2. 1.\n",
      " 1. 1. 2. 1. 1. 1. 1. 2. 2. 1. 1. 1. 1. 1. 1. 2. 1. 1. 2. 1. 1. 1. 1. 2.\n",
      " 1. 1. 1. 1. 2. 1. 1. 1. 1. 1. 1. 1. 1. 1. 2. 1. 1. 1. 1. 1. 1. 1. 2. 1.\n",
      " 2. 1. 1. 1. 1. 1. 2. 2. 1. 1. 1. 2. 2.]\n",
      "Accuracy: 0.5061391541609823\n",
      "[[288  57]\n",
      " [305  83]]\n",
      "              precision    recall  f1-score   support\n",
      "\n",
      "         1.0       0.49      0.83      0.61       345\n",
      "         2.0       0.59      0.21      0.31       388\n",
      "\n",
      "    accuracy                           0.51       733\n",
      "   macro avg       0.54      0.52      0.46       733\n",
      "weighted avg       0.54      0.51      0.46       733\n",
      "\n"
     ]
    },
    {
     "data": {
      "text/plain": [
       "0.7027523360608755"
      ]
     },
     "execution_count": 80,
     "metadata": {},
     "output_type": "execute_result"
    }
   ],
   "source": [
    "#preparing training and test data\n",
    "x=df_downsampled[[\"ssb\"]] #source feature\n",
    "y=df_downsampled[[\"diabetes16\"]] #target feature\n",
    "algo=LogisticRegression(random_state=0, solver='lbfgs',multi_class='multinomial') #rmse=0.7028\n",
    "# algo=svm.SVC(gamma='scale') #emse=1.1806\n",
    "# algo = GaussianNB() #rmse=1.2156\n",
    "# algo=DecisionTreeClassifier() #rmse=1.4330\n",
    "model_apply(x,y,3,1)"
   ]
  },
  {
   "cell_type": "markdown",
   "metadata": {},
   "source": [
    "# Physical Activity vs Diabetes after down sampling"
   ]
  },
  {
   "cell_type": "code",
   "execution_count": 82,
   "metadata": {},
   "outputs": [
    {
     "name": "stdout",
     "output_type": "stream",
     "text": [
      "[1.]\n",
      "Predicted Value: [1. 2. 1. 2. 2. 1. 2. 1. 1. 2. 2. 2. 2. 2. 2. 2. 2. 2. 1. 2. 2. 2. 1. 2.\n",
      " 1. 2. 2. 2. 2. 2. 1. 2. 2. 1. 2. 1. 1. 2. 2. 2. 1. 2. 2. 2. 2. 1. 2. 2.\n",
      " 2. 1. 2. 2. 1. 1. 2. 1. 2. 2. 2. 2. 2. 2. 1. 1. 2. 2. 2. 2. 1. 2. 1. 2.\n",
      " 2. 2. 1. 1. 1. 2. 1. 2. 2. 2. 2. 1. 1. 1. 2. 1. 1. 1. 1. 1. 2. 2. 1. 1.\n",
      " 2. 2. 2. 1. 2. 2. 2. 1. 2. 2. 2. 2. 1. 1. 2. 2. 2. 2. 2. 2. 2. 2. 2. 2.\n",
      " 2. 2. 1. 2. 1. 2. 1. 2. 1. 2. 2. 1. 2. 2. 1. 2. 2. 2. 2. 2. 2. 2. 1. 2.\n",
      " 2. 2. 2. 2. 1. 2. 2. 2. 2. 1. 1. 1. 2. 1. 2. 2. 2. 2. 2. 2. 1. 2. 1. 2.\n",
      " 1. 1. 2. 1. 2. 1. 2. 2. 2. 2. 2. 2. 2. 2. 1. 2. 1. 2. 1. 1. 2. 2. 1. 2.\n",
      " 2. 2. 2. 2. 2. 2. 2. 1. 1. 2. 1. 2. 2. 2. 2. 2. 2. 2. 2. 2. 1. 2. 2. 1.\n",
      " 2. 2. 2. 2. 2. 1. 2. 2. 1. 2. 2. 2. 1. 2. 2. 1. 2. 2. 2. 1. 2. 1. 2. 2.\n",
      " 2. 1. 2. 2. 1. 1. 2. 1. 2. 2. 2. 1. 2. 1. 2. 2. 2. 2. 2. 1. 2. 1. 2. 2.\n",
      " 1. 1. 2. 1. 1. 1. 2. 2. 2. 1. 1. 1. 2. 1. 2. 2. 2. 2. 1. 1. 2. 2. 2. 2.\n",
      " 2. 1. 2. 2. 2. 2. 2. 2. 2. 2. 1. 1. 2. 2. 1. 2. 2. 2. 1. 2. 2. 2. 1. 2.\n",
      " 2. 1. 2. 2. 2. 1. 2. 2. 1. 2. 2. 2. 2. 2. 2. 1. 2. 2. 2. 1. 2. 2. 1. 2.\n",
      " 2. 2. 1. 2. 2. 1. 2. 1. 2. 1. 1. 1. 2. 1. 2. 2. 2. 1. 1. 2. 2. 1. 2. 2.\n",
      " 1. 1. 2. 1. 2. 2. 2. 1. 2. 1. 2. 1. 2. 1. 1. 1. 1. 2. 2. 2. 2. 1. 2. 2.\n",
      " 1. 2. 2. 2. 2. 2. 2. 2. 2. 2. 1. 2. 2. 2. 2. 2. 1. 2. 2. 1. 1. 2. 1. 2.\n",
      " 2. 1. 2. 1. 1. 1. 2. 1. 2. 2. 2. 2. 1. 2. 2. 2. 1. 2. 2. 2. 2. 1. 1. 2.\n",
      " 2. 1. 2. 1. 1. 2. 1. 1. 2. 1. 1. 1. 2. 1. 2. 2. 2. 1. 1. 2. 2. 1. 2. 2.\n",
      " 1. 2. 2. 2. 1. 2. 2. 2. 2. 2. 2. 1. 2. 1. 2. 2. 1. 2. 2. 2. 2. 1. 2. 1.\n",
      " 1. 2. 2. 2. 2. 1. 2. 2. 2. 1. 2. 1. 2. 2. 2. 1. 2. 1. 1. 2. 2. 2. 2. 2.\n",
      " 1. 2. 2. 1. 2. 2. 2. 2. 2. 2. 2. 1. 1. 2. 2. 2. 2. 1. 2. 1. 2. 1. 2. 2.\n",
      " 1. 2. 1. 2. 2. 2. 2. 2. 1. 1. 1. 2. 2. 1. 1. 2. 1. 2. 2. 2. 2. 2. 2. 2.\n",
      " 2. 2. 2. 2. 2. 2. 2. 1. 2. 1. 2. 2. 1. 1. 1. 1. 1. 2. 1. 2. 2. 2. 2. 2.\n",
      " 2. 2. 2. 2. 2. 2. 2. 2. 2. 1. 1. 1. 2. 2. 2. 2. 1. 2. 2. 2. 1. 2. 1. 2.\n",
      " 1. 2. 2. 2. 2. 1. 1. 1. 2. 2. 1. 2. 2. 2. 1. 1. 1. 1. 1. 2. 2. 2. 2. 1.\n",
      " 1. 2. 2. 2. 2. 2. 2. 1. 2. 1. 1. 2. 2. 2. 1. 2. 2. 1. 2. 1. 2. 2. 1. 2.\n",
      " 2. 1. 2. 2. 1. 2. 1. 2. 2. 2. 2. 1. 2. 2. 2. 2. 2. 2. 2. 1. 1. 2. 2. 2.\n",
      " 2. 2. 1. 2. 1. 2. 2. 2. 1. 1. 2. 1. 1. 1. 1. 2. 2. 1. 2. 2. 2. 1. 1. 1.\n",
      " 1. 1. 2. 2. 2. 2. 1. 2. 2. 2. 2. 2. 2. 1. 2. 2. 2. 1. 2. 2. 2. 1. 2. 2.\n",
      " 2. 2. 2. 2. 2. 2. 2. 2. 2. 2. 2. 2. 2.]\n",
      "Accuracy: 0.5798090040927695\n",
      "[[138 207]\n",
      " [101 287]]\n",
      "              precision    recall  f1-score   support\n",
      "\n",
      "         1.0       0.58      0.40      0.47       345\n",
      "         2.0       0.58      0.74      0.65       388\n",
      "\n",
      "    accuracy                           0.58       733\n",
      "   macro avg       0.58      0.57      0.56       733\n",
      "weighted avg       0.58      0.58      0.57       733\n",
      "\n"
     ]
    },
    {
     "data": {
      "text/plain": [
       "0.6482214096334913"
      ]
     },
     "execution_count": 82,
     "metadata": {},
     "output_type": "execute_result"
    }
   ],
   "source": [
    "#preparing training and test data\n",
    "x=df_downsampled[[\"exercise16\"]] #source feature\n",
    "y=df_downsampled[[\"diabetes16\"]] #target feature\n",
    "algo=LogisticRegression(random_state=0, solver='lbfgs',multi_class='multinomial') #rmse=0.6482\n",
    "# algo=svm.SVC(gamma='scale') #emse=1.1806\n",
    "# algo = GaussianNB() #rmse=1.2156\n",
    "# algo=DecisionTreeClassifier() #rmse=1.4330\n",
    "model_apply(x,y,3,1)"
   ]
  },
  {
   "cell_type": "markdown",
   "metadata": {},
   "source": [
    "After both Up and Down sampling the rmse is near about remains 0.66"
   ]
  },
  {
   "cell_type": "markdown",
   "metadata": {},
   "source": [
    "# Marital Status vs Cardio Vascular Health"
   ]
  },
  {
   "cell_type": "code",
   "execution_count": 83,
   "metadata": {},
   "outputs": [],
   "source": [
    "df_martial=df[[\"maritalstatus16\",\"toldhighbp16\",\"generalhealth\"]]\n",
    "df_martial=df_martial.dropna()"
   ]
  },
  {
   "cell_type": "code",
   "execution_count": 84,
   "metadata": {},
   "outputs": [
    {
     "name": "stdout",
     "output_type": "stream",
     "text": [
      "[1.]\n",
      "Predicted Value: [2. 2. 2. ... 2. 2. 2.]\n",
      "Accuracy: 0.6578086672117743\n",
      "[[   0  837]\n",
      " [   0 1609]]\n",
      "              precision    recall  f1-score   support\n",
      "\n",
      "         1.0       0.00      0.00      0.00       837\n",
      "         2.0       0.66      1.00      0.79      1609\n",
      "\n",
      "    accuracy                           0.66      2446\n",
      "   macro avg       0.33      0.50      0.40      2446\n",
      "weighted avg       0.43      0.66      0.52      2446\n",
      "\n"
     ]
    },
    {
     "name": "stderr",
     "output_type": "stream",
     "text": [
      "/usr/local/lib/python3.7/site-packages/sklearn/metrics/classification.py:1437: UndefinedMetricWarning: Precision and F-score are ill-defined and being set to 0.0 in labels with no predicted samples.\n",
      "  'precision', 'predicted', average, warn_for)\n"
     ]
    },
    {
     "data": {
      "text/plain": [
       "0.584971223897574"
      ]
     },
     "execution_count": 84,
     "metadata": {},
     "output_type": "execute_result"
    }
   ],
   "source": [
    "#preparing training and test data\n",
    "x=df_martial[[\"maritalstatus16\"]] #source feature\n",
    "y=df_martial[[\"toldhighbp16\"]] #target feature\n",
    "algo=LogisticRegression(random_state=0, solver='lbfgs',multi_class='multinomial') #rmse=0.3937\n",
    "# algo=svm.SVC(gamma='scale') #emse=1.1806\n",
    "# algo = GaussianNB() #rmse=1.2156\n",
    "# algo=DecisionTreeClassifier() #rmse=1.4330\n",
    "model_apply(x,y,1,1)"
   ]
  },
  {
   "cell_type": "markdown",
   "metadata": {},
   "source": [
    "# Marital Status vs General Health Status"
   ]
  },
  {
   "cell_type": "code",
   "execution_count": 86,
   "metadata": {},
   "outputs": [
    {
     "name": "stdout",
     "output_type": "stream",
     "text": [
      "[1.]\n",
      "Predicted Value: [3. 3. 3. ... 3. 3. 3.]\n",
      "Accuracy: 0.3250204415372036\n",
      "[[  0   0 407   0   0]\n",
      " [  0   0 626   0   0]\n",
      " [  0   0 795   0   0]\n",
      " [  0   0 436   0   0]\n",
      " [  0   0 182   0   0]]\n",
      "              precision    recall  f1-score   support\n",
      "\n",
      "         1.0       0.00      0.00      0.00       407\n",
      "         2.0       0.00      0.00      0.00       626\n",
      "         3.0       0.33      1.00      0.49       795\n",
      "         4.0       0.00      0.00      0.00       436\n",
      "         5.0       0.00      0.00      0.00       182\n",
      "\n",
      "    accuracy                           0.33      2446\n",
      "   macro avg       0.07      0.20      0.10      2446\n",
      "weighted avg       0.11      0.33      0.16      2446\n",
      "\n"
     ]
    },
    {
     "name": "stderr",
     "output_type": "stream",
     "text": [
      "/usr/local/lib/python3.7/site-packages/sklearn/metrics/classification.py:1437: UndefinedMetricWarning: Precision and F-score are ill-defined and being set to 0.0 in labels with no predicted samples.\n",
      "  'precision', 'predicted', average, warn_for)\n"
     ]
    },
    {
     "data": {
      "text/plain": [
       "1.1821097593869783"
      ]
     },
     "execution_count": 86,
     "metadata": {},
     "output_type": "execute_result"
    }
   ],
   "source": [
    "#preparing training and test data\n",
    "x=df_martial[[\"maritalstatus16\"]] #source feature\n",
    "y=df_martial[[\"generalhealth\"]] #target feature\n",
    "algo=LogisticRegression(random_state=0, solver='lbfgs',multi_class='multinomial') #rmse=0.3937\n",
    "# algo=svm.SVC(gamma='scale') #emse=1.1806\n",
    "# algo = GaussianNB() #rmse=1.2156\n",
    "# algo=DecisionTreeClassifier() #rmse=1.4330\n",
    "model_apply(x,y,3,1)"
   ]
  },
  {
   "cell_type": "code",
   "execution_count": null,
   "metadata": {},
   "outputs": [],
   "source": []
  }
 ],
 "metadata": {
  "kernelspec": {
   "display_name": "Python 3",
   "language": "python",
   "name": "python3"
  },
  "language_info": {
   "codemirror_mode": {
    "name": "ipython",
    "version": 3
   },
   "file_extension": ".py",
   "mimetype": "text/x-python",
   "name": "python",
   "nbconvert_exporter": "python",
   "pygments_lexer": "ipython3",
   "version": "3.7.5"
  }
 },
 "nbformat": 4,
 "nbformat_minor": 2
}
